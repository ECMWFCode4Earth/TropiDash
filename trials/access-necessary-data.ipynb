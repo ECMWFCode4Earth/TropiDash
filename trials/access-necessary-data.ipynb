{
 "cells": [
  {
   "cell_type": "markdown",
   "id": "4041402a-1c6b-4914-837b-a69c2fbd1f69",
   "metadata": {},
   "source": [
    "# Access to ECMWF data\n",
    "\n",
    "This notebook is a collection of functions and tools to access the necessary data used in TropiDash \\\n",
    "Access ECMWF Open Data: https://www.ecmwf.int/en/forecasts/datasets/open-data \\\n",
    "Forecasted variables can be accessed through `ecwmf.opendata`"
   ]
  },
  {
   "cell_type": "markdown",
   "id": "86162f2e-466c-400b-b355-6dc37898f29e",
   "metadata": {},
   "source": [
    "## Setup"
   ]
  },
  {
   "cell_type": "code",
   "execution_count": 2,
   "id": "b6ca436d-8aad-46c4-a3c0-a356bea58471",
   "metadata": {
    "tags": []
   },
   "outputs": [],
   "source": [
    "import datetime\n",
    "import eccodes\n",
    "from ecmwf.opendata import Client\n",
    "import os\n",
    "import numpy as np\n",
    "import pandas as pd\n",
    "import pdbufr\n",
    "import pygrib\n",
    "import requests\n",
    "import rioxarray as rxr\n",
    "import xarray as xr"
   ]
  },
  {
   "cell_type": "markdown",
   "id": "d01a472c-c371-4c88-97ee-1a29f51b1494",
   "metadata": {},
   "source": [
    "The user will select the timestep from the widget, so date/time and step needed to retrieve ecmwf data will have to be provided as variables. Below I'm setting them as tool variables. Date and time can be provided in different styles: https://github.com/ecmwf/ecmwf-opendata/tree/main#date-and-time"
   ]
  },
  {
   "cell_type": "code",
   "execution_count": 3,
   "id": "7594d74c-2dd1-488b-b598-2d6fd293462b",
   "metadata": {
    "tags": []
   },
   "outputs": [],
   "source": [
    "# Tool variables\n",
    "date = '2023-07-30'\n",
    "time = 0 #available times: 0, 6, 12, 18\n",
    "step = 48 #hours"
   ]
  },
  {
   "cell_type": "markdown",
   "id": "7bad5085-06df-48d0-af7b-9b4f36bfc945",
   "metadata": {},
   "source": [
    "## 0. General retrieval process using ecmwf.opendata"
   ]
  },
  {
   "cell_type": "markdown",
   "id": "11bfc00e-f615-4db0-a1c1-c7d04cc8cc43",
   "metadata": {},
   "source": [
    "```python\n",
    "client = Client(source=\"ecmwf\")\n",
    "\n",
    "request = {\n",
    "    \"time\": ,\n",
    "    \"stream\": ,\n",
    "    \"type\": , #type of data, default is fc\n",
    "    \"step\": ,\n",
    "    \"date\": ,\n",
    "    \"param\": , #meteorological parameters. multiple parameters can be specified in a list.\n",
    "}\n",
    "\n",
    "client.retrieve(request = request, target = \"\") #takes request as input and will retrieve the corresponding data from the server and write them in the user's target file\n",
    "client.download(request = request, target = \"\") #will download the whole data files from the server, ignoring keywords like param, levelist or number\n",
    "client.latest(request = request, target = \"\")   #returns the date of the most recent matching forecast without downloading the data\n",
    "```"
   ]
  },
  {
   "cell_type": "markdown",
   "id": "1af8059c-51c2-4554-99aa-ad4a5f13aa50",
   "metadata": {},
   "source": [
    "To obtain data to be used in the dashboard, it will have to be retrieved through `Client.retrieve`, then uploaded in the dashboard."
   ]
  },
  {
   "cell_type": "markdown",
   "id": "c6f3f3ed-c64f-4eb9-ac38-0173333035cc",
   "metadata": {},
   "source": [
    "More info on request parameters: https://github.com/ecmwf/ecmwf-opendata/tree/main#request-keywords \\\n",
    "List of available parameters: https://github.com/ecmwf/ecmwf-opendata/tree/main#parameters-and-levels"
   ]
  },
  {
   "cell_type": "markdown",
   "id": "8c08f07c-21b1-4fb2-858f-f96de32d9abe",
   "metadata": {},
   "source": [
    "Tutoral on GRIB files: https://confluence.ecmwf.int/display/CKB/How+to+plot+GRIB+files+with+Python+and+matplotlib \\"
   ]
  },
  {
   "cell_type": "markdown",
   "id": "2b25c95a-a07f-4f04-bc38-322d34296245",
   "metadata": {},
   "source": [
    "## 1. Cyclone characteristics\n",
    "Tutorial on the access to cyclone characteristics data: TropiDash/notebooks-examples-trials/Inspect_tc_bufr_data.ipynb"
   ]
  },
  {
   "cell_type": "code",
   "execution_count": 25,
   "id": "bbed66d1-a5a0-4d16-a567-506df05f75c4",
   "metadata": {
    "tags": []
   },
   "outputs": [
    {
     "data": {
      "application/vnd.jupyter.widget-view+json": {
       "model_id": "",
       "version_major": 2,
       "version_minor": 0
      },
      "text/plain": [
       "20230727000000-240h-enfo-tf.bufr:   0%|          | 0.00/535k [00:00<?, ?B/s]"
      ]
     },
     "metadata": {},
     "output_type": "display_data"
    },
    {
     "data": {
      "text/plain": [
       "<ecmwf.opendata.client.Result at 0x157a5ec50>"
      ]
     },
     "execution_count": 25,
     "metadata": {},
     "output_type": "execute_result"
    }
   ],
   "source": [
    "# Download the Tropical Cyclone tracks from ECMWF's 00UTC ENS forecast\n",
    "client = Client(source = \"ecmwf\")\n",
    "client.retrieve(\n",
    "    time=0,\n",
    "    stream=\"enfo\",\n",
    "    type=\"tf\",\n",
    "    step=240,\n",
    "    target=\"track_data/ens_tracks.bufr\",\n",
    ")"
   ]
  },
  {
   "cell_type": "code",
   "execution_count": null,
   "id": "593a507e-470a-4c98-8d1a-b93cc8eb5a40",
   "metadata": {
    "tags": []
   },
   "outputs": [],
   "source": [
    "# Import bufr file of the TC tracks\n",
    "df_tracks = pdbufr.read_bufr(\"track_data/ens_tracks.bufr\",\n",
    "    columns=(\"stormIdentifier\", \"ensembleMemberNumber\", \"latitude\", \"longitude\",\n",
    "             \"pressureReducedToMeanSeaLevel\",))\n",
    "storms = df_tracks.stormIdentifier.unique()\n",
    "storms.head()"
   ]
  },
  {
   "cell_type": "code",
   "execution_count": 3,
   "id": "5a05b431-67c6-4d56-b467-fe55ec2dfdc5",
   "metadata": {},
   "outputs": [],
   "source": [
    "# Cyclone temporal horizon definition\n",
    "# For DOKSURI forecast of the 25th July we have 41 snapshot with 6h step\n",
    "start_dte = datetime(2023, 7, 25)\n",
    "end_dte = datetime(2023, 8, 4)\n",
    "step = timedelta(hours=6)\n",
    "time_steps = pd.date_range(start_dte, end_dte, freq=step)"
   ]
  },
  {
   "cell_type": "code",
   "execution_count": 4,
   "id": "9674894c-71c2-4d77-9a63-a9fe1e69129e",
   "metadata": {
    "tags": []
   },
   "outputs": [],
   "source": [
    "# Save all ensemble members track in a list called locations\n",
    "locations = []\n",
    "tracks_len = []\n",
    "tracks_date = []\n",
    "for m in members:\n",
    "    dft = df[df.ensembleMemberNumber == m]\n",
    "    dft_noNaN = dft.dropna()\n",
    "    lat = dft_noNaN.latitude.values\n",
    "    lon = dft_noNaN.longitude.values\n",
    "    locs = [[lat[i], lon[i]] for i in range(len(lat))]\n",
    "    track_len = len(locs)\n",
    "    date_range = time_steps[:track_len]\n",
    "    locations.append(locs)\n",
    "    tracks_len.append(track_len)\n",
    "    tracks_date.append(date_range)"
   ]
  },
  {
   "cell_type": "markdown",
   "id": "4c922ae0-cfcb-461d-80a2-b979ea6ffe19",
   "metadata": {},
   "source": [
    "## 2. Atmosphere and ocean characteristics\n",
    "From ECMWF opendata, only forecasted data can be retrieved, not observed data"
   ]
  },
  {
   "cell_type": "code",
   "execution_count": 27,
   "id": "a285c9d0-f191-4741-a0dd-92fbd413ebf2",
   "metadata": {},
   "outputs": [
    {
     "data": {
      "application/vnd.jupyter.widget-view+json": {
       "model_id": "",
       "version_major": 2,
       "version_minor": 0
      },
      "text/plain": [
       "20230730000000-48h-oper-fc.grib2:   0%|          | 0.00/5.11M [00:00<?, ?B/s]"
      ]
     },
     "metadata": {},
     "output_type": "display_data"
    },
    {
     "data": {
      "text/plain": [
       "<ecmwf.opendata.client.Result at 0x27f5faf0430>"
      ]
     },
     "execution_count": 27,
     "metadata": {},
     "output_type": "execute_result"
    }
   ],
   "source": [
    "# Variable: Wind speed\n",
    "# Download from ECMWF open data\n",
    "request = {\n",
    "    \"time\": time,\n",
    "    # \"stream\": \"fc\", #HRES\n",
    "    \"type\": \"fc\",\n",
    "    \"step\": step,\n",
    "    # \"date\": date,\n",
    "    \"param\": [\"u\", \"v\"],\n",
    "}\n",
    "\n",
    "client = Client(source = \"ecmwf\")\n",
    "client.retrieve(request = request, target = \"test_data_access/wind.grib2\")"
   ]
  },
  {
   "cell_type": "markdown",
   "id": "7a374015",
   "metadata": {},
   "source": [
    "### pygrib\n",
    "Opening a GRIB with pygrib results in a list of \"messages\" accessible throught the .select module \\\n",
    "PyGRIB documentation: https://jswhit.github.io/pygrib/api.html#example-usage"
   ]
  },
  {
   "cell_type": "code",
   "execution_count": 8,
   "id": "3f1a2e3d-11ed-4900-b4b7-16f15d9aef11",
   "metadata": {
    "tags": []
   },
   "outputs": [
    {
     "data": {
      "text/plain": [
       "1:V component of wind:m s**-1 (instant):regular_ll:isobaricInhPa:level 30000 Pa:fcst time 48 hrs:from 202307300000"
      ]
     },
     "execution_count": 8,
     "metadata": {},
     "output_type": "execute_result"
    }
   ],
   "source": [
    "grbs = pygrib.open(\"test_data_access/wind.grib2\")\n",
    "grbs.select()[0]"
   ]
  },
  {
   "cell_type": "code",
   "execution_count": 36,
   "id": "702eb098-3db8-463c-afa5-73f62bd5008a",
   "metadata": {},
   "outputs": [],
   "source": [
    "# for grb in grbs:\n",
    "#     print(grb)"
   ]
  },
  {
   "cell_type": "markdown",
   "id": "ee3cb7ca",
   "metadata": {},
   "source": [
    "### xarray\n",
    "Tutorial on opening GRIB files with xarray: https://docs.xarray.dev/en/stable/examples/ERA5-GRIB-example.html"
   ]
  },
  {
   "cell_type": "code",
   "execution_count": null,
   "id": "7486689b",
   "metadata": {},
   "outputs": [],
   "source": [
    "# paste here code developed by Laura"
   ]
  },
  {
   "cell_type": "markdown",
   "id": "1d79a256-d7ea-4b79-b4b2-8844261bcd11",
   "metadata": {},
   "source": [
    "### Ocean variables"
   ]
  },
  {
   "cell_type": "code",
   "execution_count": null,
   "id": "2012744f-79c7-4f03-914d-b80634253536",
   "metadata": {},
   "outputs": [],
   "source": [
    "stream = \"wave\" #ocean characteristics"
   ]
  },
  {
   "cell_type": "markdown",
   "id": "05146bb6-e0ec-4be4-bda6-30f83e204619",
   "metadata": {},
   "source": [
    "## 3. Impact variables\n",
    "Variables needed:\n",
    "- Population density\n",
    "- Coastal areas prone to risk of flooding\n",
    "- Watches and warning/risk layer\n",
    "- High seas regions"
   ]
  },
  {
   "cell_type": "markdown",
   "id": "5b1deebf-0ef5-40d8-805a-ce152dcca26e",
   "metadata": {},
   "source": [
    "### Population density\n",
    "WorldPop API: https://www.worldpop.org/sdi/introapi/, advanced: https://www.worldpop.org/sdi/advancedapi/ \\\n",
    "Neither work to download raster files for the population density. I've used this package to be able to download the .tiff files: https://github.com/wpgp/wpgpDownloadPy \\\n",
    "World Bank total population by country: https://data.worldbank.org/indicator/SP.POP.TOTL\n"
   ]
  },
  {
   "cell_type": "code",
   "execution_count": 3,
   "id": "5df5632a",
   "metadata": {},
   "outputs": [
    {
     "name": "stdout",
     "output_type": "stream",
     "text": [
      "The current manifest file is either missing or outdated. It is advised to fetch the most recent from the FTP.\n",
      " You can do this by running: \n",
      ">>> from wpgpDownload.utils.convenience_functions import refresh_csv\n",
      ">>> refresh_csv()\n",
      "No. of countries:  143\n",
      "No. of countries with info on population:  140\n",
      "No. of countries:  177\n",
      "No. of countries with info on population:  174\n"
     ]
    }
   ],
   "source": [
    "#load the list of ISO codes available\n",
    "from wpgpDownload.utils.wpcsv import ISO_LIST\n",
    "#Load countries with cyclone hazard > 0\n",
    "cntr1 = pd.read_csv(\"QGIS/countries-affected-cyclones.csv\")\n",
    "print(\"No. of countries: \", cntr1.iso3.dropna().count())\n",
    "print(\"No. of countries with info on population: \", cntr1.iso3.dropna().isin(ISO_LIST).sum())\n",
    "#Load countries with coastal hazard > 0\n",
    "cntr2 = pd.read_csv(\"QGIS/countries-affected-coastalhaz.csv\")\n",
    "print(\"No. of countries: \", cntr2.iso3.dropna().count())\n",
    "print(\"No. of countries with info on population: \", cntr2.iso3.dropna().isin(ISO_LIST).sum())"
   ]
  },
  {
   "cell_type": "code",
   "execution_count": 4,
   "id": "0bdc7874",
   "metadata": {},
   "outputs": [
    {
     "name": "stdout",
     "output_type": "stream",
     "text": [
      "62\n",
      "29\n"
     ]
    }
   ],
   "source": [
    "#get a unique list of countries dropping the duplicates\n",
    "print(sum(~cntr2.iso3.isin(cntr1.iso3)))\n",
    "print(sum(~cntr1.iso3.isin(cntr2.iso3)))\n",
    "cntr = cntr1.copy()\n",
    "cntr = pd.concat([cntr, cntr2.loc[~cntr2.iso3.isin(cntr1.iso3),:]])\n",
    "cntr.reset_index(drop = True, inplace=True)\n",
    "cntr = cntr.loc[cntr.iso3.isin(ISO_LIST), :].reset_index()"
   ]
  },
  {
   "cell_type": "code",
   "execution_count": 7,
   "id": "2bea8adf",
   "metadata": {},
   "outputs": [
    {
     "ename": "timeout",
     "evalue": "timed out",
     "output_type": "error",
     "traceback": [
      "\u001b[1;31m---------------------------------------------------------------------------\u001b[0m",
      "\u001b[1;31mtimeout\u001b[0m                                   Traceback (most recent call last)",
      "Cell \u001b[1;32mIn[7], line 9\u001b[0m\n\u001b[0;32m      7\u001b[0m \u001b[39mfor\u001b[39;00m iso \u001b[39min\u001b[39;00m cntr\u001b[39m.\u001b[39miso3[\u001b[39m57\u001b[39m:]:\n\u001b[0;32m      8\u001b[0m     products \u001b[39m=\u001b[39m Product(iso) \u001b[39m#get a list of all available products\u001b[39;00m\n\u001b[1;32m----> 9\u001b[0m     dl(ISO \u001b[39m=\u001b[39;49m iso, out_folder \u001b[39m=\u001b[39;49m \u001b[39m\"\u001b[39;49m\u001b[39mD:/repos/TropiDash/locale\u001b[39;49m\u001b[39m\"\u001b[39;49m, prod_name \u001b[39m=\u001b[39;49m [\u001b[39mlist\u001b[39;49m(products\u001b[39m.\u001b[39;49mproducts\u001b[39m.\u001b[39;49mitems())[\u001b[39m-\u001b[39;49m\u001b[39m1\u001b[39;49m][\u001b[39m1\u001b[39;49m]\u001b[39m.\u001b[39;49mdataset_name])\n",
      "File \u001b[1;32mc:\\Users\\paolo\\anaconda3\\lib\\site-packages\\wpgpDownload\\utils\\convenience_functions.py:92\u001b[0m, in \u001b[0;36mdownload_country_covariates\u001b[1;34m(ISO, out_folder, prod_name)\u001b[0m\n\u001b[0;32m     89\u001b[0m     p_out\u001b[39m.\u001b[39mmkdir(parents\u001b[39m=\u001b[39m\u001b[39mTrue\u001b[39;00m)\n\u001b[0;32m     91\u001b[0m \u001b[39mfor\u001b[39;00m e \u001b[39min\u001b[39;00m download_list:\n\u001b[1;32m---> 92\u001b[0m     _ftp\u001b[39m.\u001b[39;49mdownload(e\u001b[39m.\u001b[39;49mpath, out_folder)\n",
      "File \u001b[1;32mc:\\Users\\paolo\\anaconda3\\lib\\site-packages\\wpgpDownload\\utils\\dl.py:122\u001b[0m, in \u001b[0;36mwpFtp.download\u001b[1;34m(self, from_ftp_absolute_path, to_local_absolute_path, progress_bar, callback)\u001b[0m\n\u001b[0;32m    119\u001b[0m                 callback(data)\n\u001b[0;32m    121\u001b[0m         \u001b[39m# retrbinary does not allow canceling.\u001b[39;00m\n\u001b[1;32m--> 122\u001b[0m         \u001b[39mself\u001b[39;49m\u001b[39m.\u001b[39;49mftp\u001b[39m.\u001b[39;49mretrbinary(\u001b[39m'\u001b[39;49m\u001b[39mRETR \u001b[39;49m\u001b[39m'\u001b[39;49m \u001b[39m+\u001b[39;49m p_ftp\u001b[39m.\u001b[39;49mas_posix(), __callback)\n\u001b[0;32m    124\u001b[0m \u001b[39mreturn\u001b[39;00m p_local\n",
      "File \u001b[1;32mc:\\Users\\paolo\\anaconda3\\lib\\ftplib.py:438\u001b[0m, in \u001b[0;36mFTP.retrbinary\u001b[1;34m(self, cmd, callback, blocksize, rest)\u001b[0m\n\u001b[0;32m    436\u001b[0m \u001b[39mwith\u001b[39;00m \u001b[39mself\u001b[39m\u001b[39m.\u001b[39mtransfercmd(cmd, rest) \u001b[39mas\u001b[39;00m conn:\n\u001b[0;32m    437\u001b[0m     \u001b[39mwhile\u001b[39;00m \u001b[39m1\u001b[39m:\n\u001b[1;32m--> 438\u001b[0m         data \u001b[39m=\u001b[39m conn\u001b[39m.\u001b[39;49mrecv(blocksize)\n\u001b[0;32m    439\u001b[0m         \u001b[39mif\u001b[39;00m \u001b[39mnot\u001b[39;00m data:\n\u001b[0;32m    440\u001b[0m             \u001b[39mbreak\u001b[39;00m\n",
      "\u001b[1;31mtimeout\u001b[0m: timed out"
     ]
    }
   ],
   "source": [
    "#download population raster grids for each country in the list\n",
    "from wpgpDownload.utils.wpcsv import Product\n",
    "from wpgpDownload.utils.convenience_functions import download_country_covariates as dl\n",
    "\n",
    "#it takes loooooots of time. more than 30 GB of data. I'm downloading it in my external hard drive, then\n",
    "#i'll try to resample them and upload a unique raster layer in our github folder. let's see!\n",
    "for iso in cntr.iso3[57:]:\n",
    "    products = Product(iso) #get a list of all available products for that country\n",
    "    dl(ISO = iso, out_folder = \"D:/repos/TropiDash/locale\", prod_name = [list(products.products.items())[-1][1].dataset_name]) #download the last product available"
   ]
  },
  {
   "cell_type": "code",
   "execution_count": null,
   "id": "56f297f5",
   "metadata": {},
   "outputs": [],
   "source": [
    "#check if australia has been correctly downloaded"
   ]
  },
  {
   "cell_type": "code",
   "execution_count": 8,
   "id": "c982f9c5",
   "metadata": {},
   "outputs": [
    {
     "data": {
      "text/plain": [
       "'RUS'"
      ]
     },
     "execution_count": 8,
     "metadata": {},
     "output_type": "execute_result"
    }
   ],
   "source": [
    "iso #the code timed out downloading Russia, stopped at 15.6 GB"
   ]
  },
  {
   "cell_type": "code",
   "execution_count": 5,
   "id": "b0b81adc",
   "metadata": {},
   "outputs": [
    {
     "data": {
      "text/plain": [
       "57    RUS\n",
       "Name: iso3, dtype: object"
      ]
     },
     "execution_count": 5,
     "metadata": {},
     "output_type": "execute_result"
    }
   ],
   "source": [
    "cntr.iso3[cntr.iso3 == \"RUS\"]"
   ]
  },
  {
   "cell_type": "code",
   "execution_count": 6,
   "id": "9e27eeff",
   "metadata": {},
   "outputs": [
    {
     "data": {
      "text/plain": [
       "57     RUS\n",
       "58     ZWE\n",
       "59     SGP\n",
       "60     MMR\n",
       "61     MUS\n",
       "      ... \n",
       "196    SDN\n",
       "197    NLD\n",
       "198    ALB\n",
       "199    FRO\n",
       "200    MRT\n",
       "Name: iso3, Length: 144, dtype: object"
      ]
     },
     "execution_count": 6,
     "metadata": {},
     "output_type": "execute_result"
    }
   ],
   "source": [
    "cntr.iso3[57:]"
   ]
  },
  {
   "cell_type": "code",
   "execution_count": 15,
   "id": "14270426",
   "metadata": {},
   "outputs": [
    {
     "data": {
      "text/plain": [
       "'AUS'"
      ]
     },
     "execution_count": 15,
     "metadata": {},
     "output_type": "execute_result"
    }
   ],
   "source": [
    "iso"
   ]
  },
  {
   "cell_type": "markdown",
   "id": "5011889f",
   "metadata": {},
   "source": [
    "### Hazard layer"
   ]
  },
  {
   "cell_type": "markdown",
   "id": "19462dd7",
   "metadata": {},
   "source": [
    "#### WorldRiskIndex\n",
    "WorldRiskIndex 2022: https://data.humdata.org/dataset/1efb6ee7-051a-440f-a2cf-e652fecccf73"
   ]
  },
  {
   "cell_type": "code",
   "execution_count": 18,
   "id": "08dc7c88",
   "metadata": {},
   "outputs": [],
   "source": [
    "def dwnl_riskidx():\n",
    "    \"\"\"\n",
    "    Downloads the World Risk Index for 2022\n",
    "\n",
    "    Data source: https://data.humdata.org/dataset/1efb6ee7-051a-440f-a2cf-e652fecccf73\n",
    "    \"\"\"\n",
    "    links = {\n",
    "         \"meta\": \"https://data.humdata.org/dataset/1efb6ee7-051a-440f-a2cf-e652fecccf73/resource/9ab4cdc6-9682-45a6-8314-db5e0d49e7a7/download/worldriskindex-meta.xlsx\",\n",
    "         \"data\": \"https://data.humdata.org/dataset/1efb6ee7-051a-440f-a2cf-e652fecccf73/resource/1b47b40c-f746-427c-bbf8-8caa157e03da/download/worldriskindex-2022.csv\",\n",
    "         \"trend\": \"https://data.humdata.org/dataset/1efb6ee7-051a-440f-a2cf-e652fecccf73/resource/9ae68502-6011-4276-a99d-118bb2826323/download/worldriskindex-trend.csv\"\n",
    "    }\n",
    "    for id in links:\n",
    "        f = requests.get(links[id])\n",
    "        if id == \"meta\":\n",
    "             fformat = \"xlsx\"\n",
    "        else:\n",
    "             fformat = \"csv\"\n",
    "        with open(f\"data/impacts/worldriskindex22_{id}.{fformat}\", \"wb\") as file:\n",
    "                file.write(f.content)\n",
    "        print(id, \" downloaded\")\n",
    "\n",
    "def load_riskidx():\n",
    "     \"\"\"\n",
    "     to do:\n",
    "     - load the data\n",
    "     - extract useful data\n",
    "     \"\"\"\n",
    "     pass"
   ]
  },
  {
   "cell_type": "code",
   "execution_count": 17,
   "id": "fac31125",
   "metadata": {},
   "outputs": [
    {
     "name": "stdout",
     "output_type": "stream",
     "text": [
      "meta  downloaded\n",
      "data  downloaded\n",
      "trend  downloaded\n"
     ]
    }
   ],
   "source": [
    "dwnl_riskidx()"
   ]
  },
  {
   "cell_type": "markdown",
   "id": "57bbcabe",
   "metadata": {},
   "source": [
    "#### Cyclone hazard map\n",
    "Global Cyclone Hazard: https://datacatalog.worldbank.org/search/dataset/0038577/Global-cyclone-hazard"
   ]
  },
  {
   "cell_type": "code",
   "execution_count": 3,
   "id": "7cd028f9",
   "metadata": {},
   "outputs": [],
   "source": [
    "def dwnl_cyclonehaz(rp):\n",
    "    \"\"\"\n",
    "    Downloads cyclone hazard raster maps from The World Bank Data Catalog service\n",
    "    by providing the hazard return period\n",
    "\n",
    "    rp: str\n",
    "        Return period.\n",
    "        Can be one of the following: 50yr, 100yr, 250yr, 500yr, 1000yr.\n",
    "    \n",
    "    Data source: https://datacatalog.worldbank.org/search/dataset/0038577/Global-cyclone-hazard\n",
    "    \"\"\"\n",
    "    links = {\n",
    "            \"50yr\": \"https://www.geonode-gfdrrlab.org/uploaded/layers/2019/02/26/viento_mundo_tr50_int1_Ai5zJup.tif\",\n",
    "            \"100yr\": \"https://www.geonode-gfdrrlab.org/uploaded/layers/2019/02/26/viento_mundo_tr100_int1_afg5XsL.tif\",\n",
    "            \"250yr\": \"https://www.geonode-gfdrrlab.org/uploaded/layers/2019/02/26/viento_mundo_tr250_int1.tif\",\n",
    "            \"500yr\": \"https://www.geonode-gfdrrlab.org/uploaded/layers/2019/02/26/viento_mundo_tr500_int1.tif\",\n",
    "            \"1000yr\": \"https://www.geonode-gfdrrlab.org/uploaded/layers/2019/02/26/viento_mundo_tr1000_int1.tif\",\n",
    "            }\n",
    "    tif = requests.get(links[rp])\n",
    "    with open(f\"data/impacts/cyclonehaz_{rp}.tif\", \"wb\") as tiffile:\n",
    "            tiffile.write(tif.content)\n",
    "            print(\"Download complete\")\n",
    "\n",
    "def load_cyclonehaz(rp):\n",
    "    \"\"\"\n",
    "    Loads coastal hazard raster maps downloaded through dwnl_coastalhaz\n",
    "    by providing the return period\n",
    "\n",
    "    rp: str\n",
    "        Return period.\n",
    "        Can be one of the following: 50yr, 100yr, 250yr, 500yr, 1000yr.\n",
    "    \"\"\"\n",
    "    path = f\"data/impacts/cyclonehaz_{rp}.tif\"\n",
    "    f = rxr.open_rasterio(path)\n",
    "    return(f)"
   ]
  },
  {
   "cell_type": "code",
   "execution_count": 4,
   "id": "b6baf101",
   "metadata": {},
   "outputs": [
    {
     "name": "stdout",
     "output_type": "stream",
     "text": [
      "Download complete\n",
      "Download complete\n"
     ]
    }
   ],
   "source": [
    "dwnl_cyclonehaz(\"50yr\")\n",
    "dwnl_cyclonehaz(\"1000yr\")"
   ]
  },
  {
   "cell_type": "code",
   "execution_count": 46,
   "id": "8cdbd4e4",
   "metadata": {},
   "outputs": [],
   "source": [
    "f = load_cyclonehaz(\"50yr\")"
   ]
  },
  {
   "cell_type": "code",
   "execution_count": 28,
   "id": "a97a2f09",
   "metadata": {},
   "outputs": [
    {
     "data": {
      "image/png": "[encoded data removed]",
      "text/plain": [
       "<Figure size 640x480 with 2 Axes>"
      ]
     },
     "metadata": {},
     "output_type": "display_data"
    }
   ],
   "source": [
    "f.plot()\n",
    "f.close()"
   ]
  },
  {
   "cell_type": "markdown",
   "id": "200b7b3a",
   "metadata": {},
   "source": [
    "#### Coastal flood hazard map\n",
    "Worl Bank Data Catalog \"Global Coastal Flood Hazard\": https://datacatalog.worldbank.org/search/dataset/0038579/Global-coastal-flood-hazard \\\n",
    "Article: https://www.nature.com/articles/ncomms11969"
   ]
  },
  {
   "cell_type": "code",
   "execution_count": null,
   "id": "4f47ab79",
   "metadata": {},
   "outputs": [],
   "source": [
    "def dwnl_coastalhaz(rp):\n",
    "    \"\"\"\n",
    "    Downloads coastal hazard raster maps from The World Bank Data Catalog service\n",
    "    by providing the hazard return period\n",
    "    \n",
    "    rp: str\n",
    "        Return period.\n",
    "        Can be one of the following: 5yr, 10yr, 50yr, 100yr, 250yr, 500yr, 1000yr.\n",
    "\n",
    "    Data source: https://datacatalog.worldbank.org/search/dataset/0038579/Global-coastal-flood-hazard\n",
    "    \"\"\"\n",
    "    links = {\n",
    "            \"5yr\": \"https://www.geonode-gfdrrlab.org/uploaded/layers/2019/10/16/ss_muis_rp0005m.tif\",\n",
    "            \"10yr\": \"https://www.geonode-gfdrrlab.org/uploaded/layers/2019/10/16/ss_muis_rp0010m.tif\",\n",
    "            \"50yr\": \"https://www.geonode-gfdrrlab.org/uploaded/layers/2019/10/16/ss_muis_rp0050m.tif\",\n",
    "            \"100yr\": \"https://www.geonode-gfdrrlab.org/uploaded/layers/2019/10/16/ss_muis_rp0100m.tif\",\n",
    "            \"250yr\": \"https://www.geonode-gfdrrlab.org/uploaded/layers/2019/10/16/ss_muis_rp0250m.tif\",\n",
    "            \"500yr\": \"https://www.geonode-gfdrrlab.org/uploaded/layers/2019/10/16/ss_muis_rp0500m.tif\",\n",
    "            \"1000yr\": \"https://www.geonode-gfdrrlab.org/uploaded/layers/2019/10/16/ss_muis_rp1000m.tif\",\n",
    "            }\n",
    "    tif = requests.get(links[rp])\n",
    "    with open(f\"data/impacts/coastalhaz_{rp}.tif\", \"wb\") as tiffile:\n",
    "            tiffile.write(tif.content)\n",
    "            #need to compress the tif file when downloading it\n",
    "            print(\"Download complete\")\n",
    "\n",
    "def load_coastalhaz(rp):\n",
    "    \"\"\"\n",
    "    Loads coastal hazard raster maps downloaded through dwnl_coastalhaz\n",
    "    by providing the return period\n",
    "    \n",
    "    rp: str\n",
    "        Return period.\n",
    "        Can be one of the following: 5yr, 10yr, 50yr, 100yr, 250yr, 500yr, 1000yr.\n",
    "    \"\"\"\n",
    "    path = f\"data/impacts/coastalhaz_{rp}.tif\"\n",
    "    f = rxr.open_rasterio(path)\n",
    "    return(f)"
   ]
  },
  {
   "cell_type": "code",
   "execution_count": null,
   "id": "d2a651f7",
   "metadata": {},
   "outputs": [
    {
     "name": "stdout",
     "output_type": "stream",
     "text": [
      "Download complete\n"
     ]
    }
   ],
   "source": [
    "#Download the 1000yr coastal hazard raster map\n",
    "dwnl_coastalhaz(\"1000yr\")"
   ]
  },
  {
   "cell_type": "code",
   "execution_count": null,
   "id": "f09705dc",
   "metadata": {},
   "outputs": [
    {
     "name": "stdout",
     "output_type": "stream",
     "text": [
      "<xarray.DataArray (band: 1, y: 16744, x: 43200)>\n",
      "[723340800 values with dtype=float32]\n",
      "Coordinates:\n",
      "  * band         (band) int32 1\n",
      "  * x            (x) float64 -180.0 -180.0 -180.0 -180.0 ... 180.0 180.0 180.0\n",
      "  * y            (y) float64 83.62 83.61 83.6 83.6 ... -55.88 -55.89 -55.9 -55.9\n",
      "    spatial_ref  int32 0\n",
      "Attributes:\n",
      "    AREA_OR_POINT:  Area\n",
      "    DataType:       Generic\n",
      "    _FillValue:     0.0\n",
      "    scale_factor:   1.0\n",
      "    add_offset:     0.0\n"
     ]
    }
   ],
   "source": [
    "#Load the 1000yr coastal hazard raster map\n",
    "f = load_coastalhaz(\"1000yr\")\n",
    "\n",
    "print(f)\n",
    "# f.plot()\n",
    "#heavy to plot! \n",
    "#Unable to allocate 690. MiB for an array with shape (16744, 43200) and data type bool\n",
    "#need to compress the file when downloading it or before plotting, making the user able\n",
    "# to choose if compress it or not\n",
    "f.close()"
   ]
  },
  {
   "cell_type": "markdown",
   "id": "46ec35c9",
   "metadata": {},
   "source": [
    "## Additional data"
   ]
  },
  {
   "cell_type": "markdown",
   "id": "c57190d7",
   "metadata": {},
   "source": [
    "### Additional hazards\n",
    "World Bank Global Tsunami Hazard: https://datacatalog.worldbank.org/search/dataset/0040783/Global-tsunami-hazard \\\n",
    "Global Flood Exposure by country: https://datacatalog.worldbank.org/search/dataset/0062763/Global-Flood-Exposure--Gridded-exposure-headcounts-by-country \\\n",
    "Global Earthquake Hazard: https://datacatalog.worldbank.org/search/dataset/0038576/Global-earthquake-hazard \\\n",
    "Global drought hazard: https://datacatalog.worldbank.org/search/dataset/0038582/Global-drought-hazard \\"
   ]
  },
  {
   "cell_type": "markdown",
   "id": "2985273c",
   "metadata": {},
   "source": [
    "#### WWSI forecasted weather conditions (only in cities)\n",
    "Guidelines on downloading forecast and climatological information from the WWIS website: https://worldweather.wmo.int/en/dataguide.html. By accessing \"https://worldweather.wmo.int/en/json/[City ID]_en.json\", the forecast for that city is provided for the next 5/7 days in a JSON format explained here: https://worldweather.wmo.int/en/json/WWIS_json_schema_v2.json. Below an example on retrieving forecasts"
   ]
  },
  {
   "cell_type": "code",
   "execution_count": null,
   "id": "c5715f73",
   "metadata": {},
   "outputs": [
    {
     "data": {
      "text/html": [
       "<div>\n",
       "<style scoped>\n",
       "    .dataframe tbody tr th:only-of-type {\n",
       "        vertical-align: middle;\n",
       "    }\n",
       "\n",
       "    .dataframe tbody tr th {\n",
       "        vertical-align: top;\n",
       "    }\n",
       "\n",
       "    .dataframe thead th {\n",
       "        text-align: right;\n",
       "    }\n",
       "</style>\n",
       "<table border=\"1\" class=\"dataframe\">\n",
       "  <thead>\n",
       "    <tr style=\"text-align: right;\">\n",
       "      <th></th>\n",
       "      <th>Country</th>\n",
       "      <th>City</th>\n",
       "      <th>CityId</th>\n",
       "    </tr>\n",
       "  </thead>\n",
       "  <tbody>\n",
       "    <tr>\n",
       "      <th>0</th>\n",
       "      <td>Afghanistan</td>\n",
       "      <td>Herat</td>\n",
       "      <td>1183.0</td>\n",
       "    </tr>\n",
       "    <tr>\n",
       "      <th>1</th>\n",
       "      <td>Afghanistan</td>\n",
       "      <td>Kabul</td>\n",
       "      <td>219.0</td>\n",
       "    </tr>\n",
       "    <tr>\n",
       "      <th>2</th>\n",
       "      <td>Algeria</td>\n",
       "      <td>Algiers</td>\n",
       "      <td>242.0</td>\n",
       "    </tr>\n",
       "    <tr>\n",
       "      <th>3</th>\n",
       "      <td>Algeria</td>\n",
       "      <td>Annaba</td>\n",
       "      <td>1434.0</td>\n",
       "    </tr>\n",
       "    <tr>\n",
       "      <th>4</th>\n",
       "      <td>Algeria</td>\n",
       "      <td>Bechar</td>\n",
       "      <td>1435.0</td>\n",
       "    </tr>\n",
       "  </tbody>\n",
       "</table>\n",
       "</div>"
      ],
      "text/plain": [
       "       Country     City  CityId\n",
       "0  Afghanistan    Herat  1183.0\n",
       "1  Afghanistan    Kabul   219.0\n",
       "2      Algeria  Algiers   242.0\n",
       "3      Algeria   Annaba  1434.0\n",
       "4      Algeria   Bechar  1435.0"
      ]
     },
     "metadata": {},
     "output_type": "display_data"
    }
   ],
   "source": [
    "#list of country codes\n",
    "pd.read_csv(\"https://worldweather.wmo.int/en/json/full_city_list.txt\", sep = \";\").head()"
   ]
  },
  {
   "cell_type": "code",
   "execution_count": null,
   "id": "a466c1f4",
   "metadata": {},
   "outputs": [
    {
     "name": "stdout",
     "output_type": "stream",
     "text": [
      "{'city': {'lang': 'en', 'cityName': 'Algiers', 'cityLatitude': '36.700000000', 'cityLongitude': '3.220000000', 'cityId': 242, 'isCapital': True, 'stationName': 'Algiers', 'tourismURL': '', 'tourismBoardName': '', 'isDep': False, 'timeZone': '+0100', 'isDST': 'N', 'member': {'memId': 122, 'memName': 'Algeria', 'shortMemName': '', 'url': 'www.meteo.dz', 'orgName': 'National Meteorological Office', 'logo': 'algeria_logo.png', 'ra': 1}, 'forecast': {'issueDate': '2023-08-19 00:00:00', 'timeZone': 'Local', 'forecastDay': [{'forecastDate': '2023-08-20', 'wxdesc': '', 'weather': 'Sunny', 'minTemp': '22', 'maxTemp': '33', 'minTempF': '72', 'maxTempF': '91', 'weatherIcon': 2402}, {'forecastDate': '2023-08-21', 'wxdesc': '', 'weather': 'Sunny', 'minTemp': '21', 'maxTemp': '32', 'minTempF': '70', 'maxTempF': '90', 'weatherIcon': 2402}, {'forecastDate': '2023-08-22', 'wxdesc': '', 'weather': 'Sunny', 'minTemp': '22', 'maxTemp': '33', 'minTempF': '72', 'maxTempF': '91', 'weatherIcon': 2402}]}, 'climate': {'raintype': 'PPT', 'raindef': '0.1', 'rainunit': 'mm', 'datab': 1976, 'datae': 2005, 'tempb': '', 'tempe': '', 'rdayb': '', 'rdaye': '', 'rainfallb': '', 'rainfalle': '', 'climatefromclino': '', 'climateMonth': [{'month': 1, 'maxTemp': '16.7', 'minTemp': '5.5', 'meanTemp': None, 'maxTempF': '62.1', 'minTempF': '41.9', 'meanTempF': None, 'raindays': '11.4', 'rainfall': '81.4', 'climateFromMemDate': '2007-01-27'}, {'month': 2, 'maxTemp': '17.4', 'minTemp': '5.9', 'meanTemp': None, 'maxTempF': '63.3', 'minTempF': '42.6', 'meanTempF': None, 'raindays': '10.6', 'rainfall': '72.7', 'climateFromMemDate': '2007-01-27'}, {'month': 3, 'maxTemp': '19.2', 'minTemp': '7.1', 'meanTemp': None, 'maxTempF': '66.6', 'minTempF': '44.8', 'meanTempF': None, 'raindays': '9.7', 'rainfall': '55.0', 'climateFromMemDate': '2007-01-27'}, {'month': 4, 'maxTemp': '20.9', 'minTemp': '8.8', 'meanTemp': None, 'maxTempF': '69.6', 'minTempF': '47.8', 'meanTempF': None, 'raindays': '9.1', 'rainfall': '58.4', 'climateFromMemDate': '2007-01-27'}, {'month': 5, 'maxTemp': '23.9', 'minTemp': '12.3', 'meanTemp': None, 'maxTempF': '75.0', 'minTempF': '54.1', 'meanTempF': None, 'raindays': '7.3', 'rainfall': '41.9', 'climateFromMemDate': '2007-01-27'}, {'month': 6, 'maxTemp': '28.2', 'minTemp': '16.1', 'meanTemp': None, 'maxTempF': '82.8', 'minTempF': '61.0', 'meanTempF': None, 'raindays': '2.5', 'rainfall': '8.5', 'climateFromMemDate': '2007-01-27'}, {'month': 7, 'maxTemp': '31.2', 'minTemp': '18.9', 'meanTemp': None, 'maxTempF': '88.2', 'minTempF': '66.0', 'meanTempF': None, 'raindays': '1.5', 'rainfall': '4.5', 'climateFromMemDate': '2007-01-27'}, {'month': 8, 'maxTemp': '32.2', 'minTemp': '19.8', 'meanTemp': None, 'maxTempF': '90.0', 'minTempF': '67.6', 'meanTempF': None, 'raindays': '2.5', 'rainfall': '8.2', 'climateFromMemDate': '2007-01-27'}, {'month': 9, 'maxTemp': '29.6', 'minTemp': '17.6', 'meanTemp': None, 'maxTempF': '85.3', 'minTempF': '63.7', 'meanTempF': None, 'raindays': '5.3', 'rainfall': '28.3', 'climateFromMemDate': '2007-01-27'}, {'month': 10, 'maxTemp': '25.9', 'minTemp': '14.2', 'meanTemp': None, 'maxTempF': '78.6', 'minTempF': '57.6', 'meanTempF': None, 'raindays': '8.6\\n', 'rainfall': '58.8', 'climateFromMemDate': '2007-01-27'}, {'month': 11, 'maxTemp': '20.8', 'minTemp': '9.8', 'meanTemp': None, 'maxTempF': '69.4', 'minTempF': '49.6', 'meanTempF': None, 'raindays': '11.1\\n', 'rainfall': '89.6', 'climateFromMemDate': '2007-01-27'}, {'month': 12, 'maxTemp': '17.9', 'minTemp': '7.2', 'meanTemp': None, 'maxTempF': '64.2', 'minTempF': '45.0', 'meanTempF': None, 'raindays': '12.1\\n', 'rainfall': '91.0', 'climateFromMemDate': '2007-01-27'}]}}}\n"
     ]
    }
   ],
   "source": [
    "import json\n",
    "from urllib.request import urlopen\n",
    "response = urlopen(\"https://worldweather.wmo.int/en/json/242_en.json\") #Algeri\n",
    "data = json.load(response)\n",
    "print(data)"
   ]
  }
 ],
 "metadata": {
  "kernelspec": {
   "display_name": "Python 3 (ipykernel)",
   "language": "python",
   "name": "python3"
  },
  "language_info": {
   "codemirror_mode": {
    "name": "ipython",
    "version": 3
   },
   "file_extension": ".py",
   "mimetype": "text/x-python",
   "name": "python",
   "nbconvert_exporter": "python",
   "pygments_lexer": "ipython3",
   "version": "3.11.4"
  }
 },
 "nbformat": 4,
 "nbformat_minor": 5
}
