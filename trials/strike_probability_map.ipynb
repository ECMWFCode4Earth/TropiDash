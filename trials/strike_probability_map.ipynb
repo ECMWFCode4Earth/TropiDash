{
 "cells": [
  {
   "cell_type": "code",
   "execution_count": 9,
   "id": "c44474bd-54c7-45e3-9849-3ade02a02056",
   "metadata": {
    "tags": []
   },
   "outputs": [],
   "source": [
    "import argparse\n",
    "import pickle\n",
    "import re\n",
    "from datetime import datetime, timedelta\n",
    "from itertools import chain, tee\n",
    "from os import environ, makedirs, path\n",
    "from localtileserver import get_leaflet_tile_layer, TileClient\n",
    "\n",
    "import eccodes\n",
    "import pdbufr\n",
    "import numpy as np\n",
    "import pandas as pd\n",
    "import xarray as xr\n",
    "import branca.colormap as bc\n",
    "import rasterio\n",
    "import rioxarray\n",
    "import ipyleaflet\n",
    "from scipy.optimize import root_scalar\n",
    "from scipy.spatial import KDTree\n",
    "from matplotlib import pyplot\n",
    "\n",
    "from tracks_utils import *\n",
    "\n",
    "import warnings\n",
    "warnings.filterwarnings(\"ignore\")"
   ]
  },
  {
   "cell_type": "code",
   "execution_count": 2,
   "id": "9c66fa75-0fad-4ce5-a42d-f2c847f8b879",
   "metadata": {
    "tags": []
   },
   "outputs": [
    {
     "name": "stdout",
     "output_type": "stream",
     "text": [
      "['06L' '08L' '10L']\n"
     ]
    }
   ],
   "source": [
    "# Creating storm dataframe\n",
    "df_storms = create_storms_df()\n",
    "print(df_storms.stormIdentifier.unique())\n",
    "df_storm = df_storms[df_storms.stormIdentifier == '10L']"
   ]
  },
  {
   "cell_type": "code",
   "execution_count": 3,
   "id": "11b07368-3665-4fad-8402-f6cba2a1b7a2",
   "metadata": {
    "tags": []
   },
   "outputs": [],
   "source": [
    "# Compute strike probability map and save it in raster file\n",
    "strike_map_xr, tif_path = strike_probability_map(df_storm)"
   ]
  },
  {
   "cell_type": "code",
   "execution_count": 4,
   "id": "0dd67de2-5493-4019-91e4-d5fd332be27a",
   "metadata": {
    "tags": []
   },
   "outputs": [],
   "source": [
    "client = TileClient(tif_path)"
   ]
  },
  {
   "cell_type": "code",
   "execution_count": 5,
   "id": "6ac34870-e162-4f82-b0e1-f8fa60d8faac",
   "metadata": {
    "tags": []
   },
   "outputs": [],
   "source": [
    "def make_palette_dict(pal):\n",
    "    perc = [\"0-10%\", \"11-20%\", \"21-30%\", \"31-40%\", \"41-50%\", \"51-60%\", \"61-70%\", \"71-80%\", \"81-90%\", \"91-100%\"]\n",
    "    dictionary = {perc[0]:pal[0], perc[1]:pal[1], perc[2]:pal[2], perc[3]:pal[3], perc[4]:pal[4], perc[5]:pal[5], perc[6]:pal[6], perc[7]:pal[7], perc[8]:pal[8], perc[9]:pal[9]}\n",
    "    return dictionary"
   ]
  },
  {
   "cell_type": "code",
   "execution_count": 23,
   "id": "2fdffe99-02f8-4f97-bd30-928436c17845",
   "metadata": {
    "tags": []
   },
   "outputs": [],
   "source": [
    "palette = [\"#c4ff70\", \"#6ae24c\", \"#2a9134\", \"#137547\", \"#054a29\", \"#2397d1\", \"#557ff3\", \"#143cdc\", \"#3910b4\", \"#1e0063\"]\n",
    "palette_dict = make_palette_dict(palette)\n",
    "t = get_leaflet_tile_layer(client, name = \"Strike Probability Map\", opacity = 0.8, palette = palette, nodata=0.0)"
   ]
  },
  {
   "cell_type": "code",
   "execution_count": 24,
   "id": "cc4b3647-9e43-4d06-8eb5-7eeb51f2dde3",
   "metadata": {
    "tags": []
   },
   "outputs": [],
   "source": [
    "# Create the legend control\n",
    "# legend_control = ipyleaflet.LegendControl(palette_dict, name=\"Strike Probability\", position=\"topright\")"
   ]
  },
  {
   "cell_type": "code",
   "execution_count": 25,
   "id": "132532da-a366-47eb-bd3c-648a7f8b3494",
   "metadata": {
    "tags": []
   },
   "outputs": [],
   "source": [
    "m = ipyleaflet.Map(center=(df_storm.latitude.iloc[0], df_storm.longitude.iloc[0]), zoom=3)\n",
    "m.add_layer(t)\n",
    "m.add_control(ipyleaflet.LayersControl())\n",
    "m.add_control(ipyleaflet.FullScreenControl())\n",
    "# m.add_control(legend_control)"
   ]
  },
  {
   "cell_type": "code",
   "execution_count": 26,
   "id": "c6d6d955-f9d4-40a0-b7e3-0a38cde7b344",
   "metadata": {},
   "outputs": [
    {
     "name": "stdout",
     "output_type": "stream",
     "text": [
      "0.0\n",
      "100.0\n",
      "0.00 100.00\n"
     ]
    },
    {
     "data": {
      "application/vnd.jupyter.widget-view+json": {
       "model_id": "9d049bc0514843c6a52b7e09857e47ff",
       "version_major": 2,
       "version_minor": 0
      },
      "text/plain": [
       "Map(center=[31.6, -65.4], controls=(ZoomControl(options=['position', 'zoom_in_text', 'zoom_in_title', 'zoom_ou…"
      ]
     },
     "metadata": {},
     "output_type": "display_data"
    }
   ],
   "source": [
    "with rasterio.open(tif_path) as r:\n",
    "    minv = \"%.2f\" % round(r.read(1).ravel().min(), 1)\n",
    "    maxv = \"%.2f\" % round(r.read(1).ravel().max(), 1)\n",
    "    \n",
    "cmap_control = ipyleaflet.ColormapControl(\n",
    "                                caption = \"Strike probability\",\n",
    "                                colormap = bc.StepColormap(palette),\n",
    "                                value_min = float(minv),\n",
    "                                value_max = float(maxv),\n",
    "                                position = 'topright',\n",
    "                                transparent_bg = True\n",
    "                                )\n",
    "m.add(cmap_control)\n",
    "display(m)"
   ]
  },
  {
   "cell_type": "markdown",
   "id": "43d4e26a",
   "metadata": {},
   "source": [
    "Below: code to add the colormap\\\n",
    "r: rasterio.open(tif_path)\\\n",
    "bc: branca.colormap\\\n",
    "palette: will work with the palette list you already created"
   ]
  },
  {
   "cell_type": "code",
   "execution_count": null,
   "id": "962ecd60",
   "metadata": {},
   "outputs": [],
   "source": [
    "minv = \"%.2f\" % round(r.read(1).ravel().min(), 1)\n",
    "maxv = \"%.2f\" % round(r.read(1).ravel().max(), 1)\n",
    "cmap_control = ColormapControl(\n",
    "                                caption = \"Strike prob ....\",\n",
    "                                colormap = bc.StepColormap(palette),\n",
    "                                value_min = float(minv),\n",
    "                                value_max = float(maxv),\n",
    "                                position = 'topright',\n",
    "                                transparent_bg = True\n",
    "                                )\n",
    "m.add(cmap_control)\n",
    "r.close() #close the raster dataset once plotted"
   ]
  },
  {
   "cell_type": "code",
   "execution_count": 9,
   "id": "3fd1c494-69a9-4847-9e0a-6a1b05e91d4b",
   "metadata": {},
   "outputs": [],
   "source": [
    "# Palette pink-yellow-orange-red\n",
    "# [\"#f7edf0\", \"#f4cbc6\", \"#f4afab\", \"#f4eea9\", \"#f4f482\", \"#f79d65\", \"#f4845f\", \"#f27059\", \"#f25c54\", \"#88292f\"]"
   ]
  },
  {
   "cell_type": "code",
   "execution_count": 10,
   "id": "e2a9594f-6fa3-48a5-8114-6a2a0d5a1a5b",
   "metadata": {},
   "outputs": [],
   "source": [
    "# Palette green to blue\n",
    "# [\"#c4ff70\", \"#6ae24c\", \"#2a9134\", \"#137547\", \"#054a29\", \"#2397d1\", \"#557ff3\", \"#143cdc\", \"#3910b4\", \"#1e0063\"]"
   ]
  }
 ],
 "metadata": {
  "kernelspec": {
   "display_name": "Python 3 (ipykernel)",
   "language": "python",
   "name": "python3"
  },
  "language_info": {
   "codemirror_mode": {
    "name": "ipython",
    "version": 3
   },
   "file_extension": ".py",
   "mimetype": "text/x-python",
   "name": "python",
   "nbconvert_exporter": "python",
   "pygments_lexer": "ipython3",
   "version": "3.11.5"
  }
 },
 "nbformat": 4,
 "nbformat_minor": 5
}
