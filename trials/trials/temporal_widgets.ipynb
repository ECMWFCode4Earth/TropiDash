{
 "cells": [
  {
   "cell_type": "code",
   "execution_count": 1,
   "metadata": {},
   "outputs": [],
   "source": [
    "from ipyleaflet import Map, WMSLayer, basemaps\n",
    "\n",
    "from ipywidgets import interact\n",
    "import ipywidgets as widgets\n",
    "\n",
    "from datetime import datetime, timedelta\n",
    "import pandas as pd"
   ]
  },
  {
   "cell_type": "code",
   "execution_count": 2,
   "metadata": {},
   "outputs": [],
   "source": [
    "## TEMPORAL HORIZON RANGE SLIDEBAR WITH DATES ##\n",
    "start_dte = datetime(2023, 6, 1)\n",
    "end_dte = datetime(2023, 6, 10)\n",
    "step = timedelta(hours=3)\n",
    "time_steps = pd.date_range(start_dte, end_dte, freq=step)\n",
    "\n",
    "options = [(time_step.strftime('%d/%m %H'), time_step) for time_step in time_steps]\n",
    "index = (0, len(options)-1)\n",
    "\n",
    "temporal_horizon_slider = widgets.SelectionRangeSlider(\n",
    "    options=options,\n",
    "    index=index,\n",
    "    # description='Temporal Horizon:',\n",
    "    description='Define horizon:',\n",
    "    orientation='horizontal',\n",
    "    layout={'width': '500px'},\n",
    "    disabled=False,\n",
    ")\n",
    "\n",
    "# Increase the size of the descprition box of the slider and other styles\n",
    "temporal_horizon_slider.style.description_width = '115px'\n",
    "temporal_horizon_slider.style.handle_color = 'orange'\n",
    "\n",
    "def print_date_range(date_range):\n",
    "    start, end = date_range\n",
    "    s = start.strftime('%d %b %Y %H:%M')\n",
    "    e = end.strftime('%d %b %Y %H:%M')\n",
    "    print(f'Temporal horizon: {s} - {e}')"
   ]
  },
  {
   "cell_type": "code",
   "execution_count": 3,
   "metadata": {},
   "outputs": [],
   "source": [
    "## TEMPORAL SLIDEBAR TO SELECT SNAPSHOT##\n",
    "# Function to convert datetime to integer\n",
    "def datetime_to_int(dt):\n",
    "    return int((dt - start_dte).total_seconds() // step.total_seconds())\n",
    "\n",
    "# Function to convert interger to datetime\n",
    "def int_to_datetime(ts):\n",
    "    return start_dte + ts * step\n",
    "\n",
    "timestep_slider=widgets.IntSlider(min=0, max=datetime_to_int(end_dte), step=1, value=0, description='Timestep:')\n",
    "    \n",
    "def print_timestep(dt):\n",
    "    date = int_to_datetime(dt)\n",
    "    print('Selected timestep: ', date.strftime('%d %b %Y %H:%M'))"
   ]
  },
  {
   "cell_type": "code",
   "execution_count": 4,
   "metadata": {
    "tags": []
   },
   "outputs": [
    {
     "data": {
      "application/vnd.jupyter.widget-view+json": {
       "model_id": "aa5379be0a2c430ea639756f7af17381",
       "version_major": 2,
       "version_minor": 0
      },
      "text/plain": [
       "interactive(children=(SelectionRangeSlider(description='Define horizon:', index=(0, 72), layout=Layout(width='…"
      ]
     },
     "metadata": {},
     "output_type": "display_data"
    },
    {
     "data": {
      "application/vnd.jupyter.widget-view+json": {
       "model_id": "24ca11da2ac245199e078359ce22abeb",
       "version_major": 2,
       "version_minor": 0
      },
      "text/plain": [
       "interactive(children=(IntSlider(value=0, description='Timestep:', max=72), Output()), _dom_classes=('widget-in…"
      ]
     },
     "metadata": {},
     "output_type": "display_data"
    }
   ],
   "source": [
    "def update_snapshot_slider(change):\n",
    "    start, end = temporal_horizon_slider.value\n",
    "    timestep_slider.value = datetime_to_int(start.to_pydatetime())\n",
    "    timestep_slider.min = datetime_to_int(start.to_pydatetime())\n",
    "    timestep_slider.max = datetime_to_int(end.to_pydatetime())\n",
    "    \n",
    "temporal_horizon_slider.observe(update_snapshot_slider, names='value')\n",
    "\n",
    "widgets.VBox([temporal_horizon_slider, timestep_slider])\n",
    "widgets.interact(\n",
    "        print_date_range,\n",
    "        date_range=temporal_horizon_slider\n",
    "    );\n",
    "widgets.interact(\n",
    "    print_timestep,\n",
    "    dt=timestep_slider\n",
    ");"
   ]
  },
  {
   "cell_type": "code",
   "execution_count": 5,
   "metadata": {},
   "outputs": [
    {
     "data": {
      "application/vnd.jupyter.widget-view+json": {
       "model_id": "3dda93efb89a4b77a87fe7fa6290c6cf",
       "version_major": 2,
       "version_minor": 0
      },
      "text/plain": [
       "VBox(children=(SelectionRangeSlider(description='Range:', index=(25, 75), options=(0, 1, 2, 3, 4, 5, 6, 7, 8, …"
      ]
     },
     "execution_count": 5,
     "metadata": {},
     "output_type": "execute_result"
    }
   ],
   "source": [
    "import ipywidgets as widgets\n",
    "\n",
    "# Define the SelectionRangeSlider for the range of values\n",
    "range_slider = widgets.SelectionRangeSlider(\n",
    "    options=list(range(0, 101)),  # Example range from 0 to 100\n",
    "    index=(25, 75),               # Initial selected range\n",
    "    description='Range:',\n",
    "    orientation='horizontal'\n",
    ")\n",
    "\n",
    "# Define the IntSlider that will be updated based on the SelectionRangeSlider\n",
    "int_slider = widgets.IntSlider(\n",
    "    min=0, \n",
    "    max=100, \n",
    "    step=1,\n",
    "    value=25,  # Initial value (start of the range)\n",
    "    description='Value:'\n",
    ")\n",
    "\n",
    "# Function to update the IntSlider based on the SelectionRangeSlider\n",
    "def update_int_slider(change):\n",
    "    start, end = range_slider.value\n",
    "    int_slider.value = start\n",
    "    int_slider.min = start\n",
    "    int_slider.max = end\n",
    "\n",
    "# Observe changes in the SelectionRangeSlider and update the IntSlider accordingly\n",
    "range_slider.observe(update_int_slider, names='value')\n",
    "\n",
    "# Display the widgets\n",
    "widgets.VBox([range_slider, int_slider])"
   ]
  },
  {
   "cell_type": "code",
   "execution_count": 6,
   "metadata": {},
   "outputs": [
    {
     "data": {
      "application/vnd.jupyter.widget-view+json": {
       "model_id": "da77c8df09434023b9ae42d333fdd578",
       "version_major": 2,
       "version_minor": 0
      },
      "text/plain": [
       "VBox(children=(FloatSlider(value=7.5, description='Input:', max=10.0, min=5.0), HTML(value='56.25', descriptio…"
      ]
     },
     "execution_count": 6,
     "metadata": {},
     "output_type": "execute_result"
    }
   ],
   "source": [
    "# The observe command makes you link widgets with a function/variable\n",
    "slider = widgets.FloatSlider(\n",
    "    value=7.5,\n",
    "    min=5.0,\n",
    "    max=10.0,\n",
    "    step=0.1,\n",
    "    description='Input:',\n",
    ")\n",
    "# Create non-editable text area to display square of value\n",
    "square_display = widgets.HTML(description=\"Square: \", value='{}'.format(slider.value**2))\n",
    "\n",
    "# Create function to update square_display's value when slider changes\n",
    "def update_square_display(change):\n",
    "    square_display.value = '{}'.format(change.new**2)\n",
    "    \n",
    "slider.observe(update_square_display, names='value')\n",
    "\n",
    "# Put them in a vertical box\n",
    "widgets.VBox([slider, square_display])"
   ]
  }
 ],
 "metadata": {
  "kernelspec": {
   "display_name": "Python 3 (ipykernel)",
   "language": "python",
   "name": "python3"
  },
  "language_info": {
   "codemirror_mode": {
    "name": "ipython",
    "version": 3
   },
   "file_extension": ".py",
   "mimetype": "text/x-python",
   "name": "python",
   "nbconvert_exporter": "python",
   "pygments_lexer": "ipython3",
   "version": "3.11.4"
  }
 },
 "nbformat": 4,
 "nbformat_minor": 4
}
