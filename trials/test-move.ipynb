{
 "cells": [
  {
   "cell_type": "code",
   "execution_count": 2,
   "id": "2a1b50b3-b54f-4a86-9ee2-40fe8dd426a2",
   "metadata": {
    "tags": []
   },
   "outputs": [
    {
     "data": {
      "application/vnd.jupyter.widget-view+json": {
       "model_id": "4752628242f44cf8ac385347b5042bb2",
       "version_major": 2,
       "version_minor": 0
      },
      "text/plain": [
       "Map(center=[25.9, -20.400000000000006], controls=(ZoomControl(options=['position', 'zoom_in_text', 'zoom_in_ti…"
      ]
     },
     "metadata": {},
     "output_type": "display_data"
    }
   ],
   "source": [
    "import ipyleaflet\n",
    "from ipyleaflet import Map, Marker, AwesomeIcon\n",
    "import random\n",
    "\n",
    "initial_latlon = (25.9, -70.4)\n",
    "#\n",
    "# Function to handle marker click event\n",
    "def handle_move(marker):\n",
    "    def change_colour_icon(event, **kwargs):\n",
    "        print(f\"Marker clicked: {marker.name}\")\n",
    "        print(\"Marker Location:\", kwargs.get(\"location\"))\n",
    "        location = kwargs.get(\"location\")\n",
    "        print(f\"new location : {location}\")\n",
    "        marker.tooltip  = f\"new location : {location}\"\n",
    "        colour = random.choice(['red', \"green\", \"blue\", \"pink\"])\n",
    "        print(f\"new colour : {colour}\")\n",
    "        marker.icon= AwesomeIcon(marker_color=colour)\n",
    "        marker.name=colour\n",
    "\n",
    "    return change_colour_icon\n",
    "\n",
    "\n",
    "def create_map(initial_latlon):\n",
    "    m = Map(\n",
    "        center=[initial_latlon[0], initial_latlon[1]+50],\n",
    "        basemap=ipyleaflet.basemaps.OpenStreetMap.France,\n",
    "        zoom = 2,\n",
    "    )\n",
    "        \n",
    "    marker = Marker(location=initial_latlon, draggable=True, name = 'position', icon = AwesomeIcon(marker_color=\"green\") )\n",
    "\n",
    "    # Add the markers to the map\n",
    "    m.add_layer(marker)\n",
    "\n",
    "\n",
    "    # Attach click event listeners to each marker\n",
    "    marker.on_move(handle_move(marker))\n",
    "    return m\n",
    "\n",
    "\n",
    "# Display the map\n",
    "create_map(initial_latlon)"
   ]
  },
  {
   "cell_type": "code",
   "execution_count": null,
   "id": "c5cea606-1702-477b-97ae-92cf7c620243",
   "metadata": {},
   "outputs": [],
   "source": []
  },
  {
   "cell_type": "code",
   "execution_count": null,
   "id": "c3042b9f-c3bc-43da-b961-c23f0fe01ad9",
   "metadata": {},
   "outputs": [],
   "source": []
  }
 ],
 "metadata": {
  "kernelspec": {
   "display_name": "Python 3 (ipykernel)",
   "language": "python",
   "name": "python3"
  },
  "language_info": {
   "codemirror_mode": {
    "name": "ipython",
    "version": 3
   },
   "file_extension": ".py",
   "mimetype": "text/x-python",
   "name": "python",
   "nbconvert_exporter": "python",
   "pygments_lexer": "ipython3",
   "version": "3.9.17"
  }
 },
 "nbformat": 4,
 "nbformat_minor": 5
}
