{
 "cells": [
  {
   "cell_type": "markdown",
   "id": "d9b8da47-647e-4f34-a421-192e1ab4d041",
   "metadata": {},
   "source": [
    "# Section 2 - Atmospheric data visualization\n",
    "\n",
    "This section shows atmospheric variables downloaded from"
   ]
  },
  {
   "cell_type": "markdown",
   "id": "c596549e-f026-4d3e-ab74-d3bd897dd26e",
   "metadata": {},
   "source": [
    "## Necessary packages"
   ]
  },
  {
   "cell_type": "code",
   "execution_count": 1,
   "id": "20203681",
   "metadata": {
    "tags": []
   },
   "outputs": [],
   "source": [
    "import ipywidgets as widgets\n",
    "from IPython.display import display"
   ]
  },
  {
   "cell_type": "code",
   "execution_count": 2,
   "id": "476b4fb8",
   "metadata": {},
   "outputs": [],
   "source": [
    "# import utilities functions\n",
    "import os\n",
    "cwd = os.getcwd()\n",
    "cwd = '//'.join(cwd.split('//')[:-1])\n",
    "import os\n",
    "import sys\n",
    "sys.path.insert(1, os.path.join(cwd, 'TropiDash'))\n",
    "\n",
    "from utils_atm import *"
   ]
  },
  {
   "cell_type": "code",
   "execution_count": 3,
   "id": "8ae46534",
   "metadata": {},
   "outputs": [],
   "source": [
    "# parameters to be imported from main widget\n",
    "stdate = 0\n",
    "# stdate = start_date_forecast.value # output from date selection widget\n",
    "\n",
    "initial_lat_lon = (38, -90) #first cyclone position\n",
    "final_lat_lon = (60, 90) #last cyclone position"
   ]
  },
  {
   "cell_type": "code",
   "execution_count": 4,
   "id": "22dbed00",
   "metadata": {},
   "outputs": [],
   "source": [
    "# variable initialization\n",
    "# variables to visualize\n",
    "variables = ['msl', 'skt', 'tp','wind', '10fgg25'] #list of variables to visualize\n",
    "\n",
    "# get mean coordinates to center the plot\n",
    "mean_lat = (initial_lat_lon[0] - final_lat_lon[0])/2\n",
    "mean_lon = (initial_lat_lon[1] - final_lat_lon[1])/2\n",
    "\n",
    "coord = (mean_lat, mean_lon)\n",
    "\n",
    "#steps to download\n",
    "cyclone_days = 2\n",
    "windprobsteps = [f\"{12 * i}-{ 12 * i + 24}\" for i in range(2*cyclone_days-1)]\n",
    "windprobsteps.insert(0, \"0-24\")\n",
    "stepsdict = {\n",
    "               \"base\": list(np.arange(12, 240, 12)[0:2*cyclone_days]),\n",
    "               \"10fgg25\": windprobsteps\n",
    "            }"
   ]
  },
  {
   "cell_type": "markdown",
   "id": "91826c75",
   "metadata": {},
   "source": [
    "## To be updated when the starting date is changed"
   ]
  },
  {
   "cell_type": "code",
   "execution_count": 5,
   "id": "a6427317-5a93-4194-9b11-b5b3c72bd35e",
   "metadata": {},
   "outputs": [],
   "source": [
    "# Download\n",
    "fnames = dwnl_atmdata_step(variables, stepsdict, stdate);\n",
    "# Load\n",
    "vardict = load_atmdata(variables, fnames)"
   ]
  },
  {
   "cell_type": "markdown",
   "id": "4502eb62",
   "metadata": {},
   "source": [
    "## Plot and widget"
   ]
  },
  {
   "cell_type": "code",
   "execution_count": 6,
   "id": "fd4801b7-60fc-47d4-815a-3698df6838ac",
   "metadata": {},
   "outputs": [],
   "source": [
    "# widget to select forecast step\n",
    "vec_forecast = [f\"{x}h from selected date\" for x in stepsdict[\"base\"]]\n",
    "widget_sel_forecast = widgets.Dropdown(options = vec_forecast, description = 'Forecast')"
   ]
  },
  {
   "cell_type": "code",
   "execution_count": 7,
   "id": "853aa6bb-ca5b-46fd-9fd7-9bbf8e47d464",
   "metadata": {},
   "outputs": [
    {
     "data": {
      "application/vnd.jupyter.widget-view+json": {
       "model_id": "a96e29d1b41e46f98d922f9df81bf08b",
       "version_major": 2,
       "version_minor": 0
      },
      "text/plain": [
       "interactive(children=(Dropdown(description='Forecast', options=('12h from selected date', '24h from selected d…"
      ]
     },
     "execution_count": 7,
     "metadata": {},
     "output_type": "execute_result"
    }
   ],
   "source": [
    "# launch the interactive plot\n",
    "widgets.interactive(plot_atmdata_step, \n",
    "                    step = widget_sel_forecast,\n",
    "                    vardict = widgets.fixed(vardict),\n",
    "                    coord =  widgets.fixed(coord), \n",
    "                    stepsdict =  widgets.fixed(stepsdict))"
   ]
  },
  {
   "cell_type": "code",
   "execution_count": null,
   "id": "f88cc639-c721-4db7-b93e-1b7b6958173e",
   "metadata": {},
   "outputs": [],
   "source": [
    "## find the issue"
   ]
  },
  {
   "cell_type": "code",
   "execution_count": 1,
   "id": "8e663f1f-b8cb-4978-8d3c-523568cb6fa1",
   "metadata": {},
   "outputs": [],
   "source": [
    "import branca.colormap as bc\n",
    "import cfgrib\n",
    "from datetime import datetime, timedelta\n",
    "from ecmwf.opendata import Client\n",
    "from ipyleaflet import Map, ColormapControl, LayersControl, basemaps\n",
    "from ipyleaflet.velocity import Velocity\n",
    "from IPython.display import display\n",
    "from localtileserver import get_leaflet_tile_layer, TileClient\n",
    "import matplotlib as mpl\n",
    "import matplotlib.pyplot as plt\n",
    "import numpy as np\n",
    "import os\n",
    "import pandas as pd\n",
    "import rasterio\n",
    "import rioxarray as rxr\n",
    "import xarray as xr"
   ]
  },
  {
   "cell_type": "code",
   "execution_count": 2,
   "id": "0a1ebb78-cdaf-4b98-ae7d-65a4ff36f9d1",
   "metadata": {},
   "outputs": [],
   "source": [
    "r = \"C:/repos/TropiDash/tutorials/data/atm/10fgg25_20230907_time0_step0-24_enfo_ep.tiff\""
   ]
  },
  {
   "cell_type": "code",
   "execution_count": 4,
   "id": "4da79030-d008-426e-9571-ecc9988875b5",
   "metadata": {},
   "outputs": [
    {
     "data": {
      "application/vnd.jupyter.widget-view+json": {
       "model_id": "97b6abeba3b54407bc029dd7efc65b3b",
       "version_major": 2,
       "version_minor": 0
      },
      "text/plain": [
       "Map(center=[0, 0], controls=(ZoomControl(options=['position', 'zoom_in_text', 'zoom_in_title', 'zoom_out_text'…"
      ]
     },
     "execution_count": 4,
     "metadata": {},
     "output_type": "execute_result"
    }
   ],
   "source": [
    "var = \"tp\"\n",
    "namedict = {\n",
    "        \"msl\": \"Mean sea level pressure [kPa]\",\n",
    "        \"skt\": \"Skin temperature [°C]\",\n",
    "        \"tp\": \"Total Precipitation [m]\",\n",
    "        \"10fgg25\": \"Probability of 10 metre wind gust of at least 25 m/s [%]\",\n",
    "        \"wind\": \"10 metre wind component [m/s]\",\n",
    "    }\n",
    "m = Map(basemap = basemaps.Esri.WorldTopoMap, center = (0,0), zoom = 3)\n",
    "client = TileClient(r)\n",
    "t = get_leaflet_tile_layer(client, name = namedict[var], opacity = 0.7, projection = \"EPSG:4326\")\n",
    "m.add_layer(t)\n",
    "with rasterio.open(r) as raster:\n",
    "    minv = \"%.2f\" % round(raster.read(1).ravel().min(), 1)\n",
    "    maxv = \"%.2f\" % round(raster.read(1).ravel().max(), 1)\n",
    "# add colorbar\n",
    "cmap_control = ColormapControl(\n",
    "                                caption = namedict[var],\n",
    "                                # colormap = bc.StepColormap(palette),\n",
    "                                value_min = float(minv),\n",
    "                                value_max = float(maxv),\n",
    "                                position = 'topright',\n",
    "                                transparent_bg = True\n",
    "                                )\n",
    "m.add(cmap_control)\n",
    "m"
   ]
  },
  {
   "cell_type": "code",
   "execution_count": null,
   "id": "bab7dca7-e9d9-4c7e-8b2d-39016b235e15",
   "metadata": {},
   "outputs": [],
   "source": []
  }
 ],
 "metadata": {
  "kernelspec": {
   "display_name": "Python 3 (ipykernel)",
   "language": "python",
   "name": "python3"
  },
  "language_info": {
   "codemirror_mode": {
    "name": "ipython",
    "version": 3
   },
   "file_extension": ".py",
   "mimetype": "text/x-python",
   "name": "python",
   "nbconvert_exporter": "python",
   "pygments_lexer": "ipython3",
   "version": "3.11.4"
  }
 },
 "nbformat": 4,
 "nbformat_minor": 5
}
