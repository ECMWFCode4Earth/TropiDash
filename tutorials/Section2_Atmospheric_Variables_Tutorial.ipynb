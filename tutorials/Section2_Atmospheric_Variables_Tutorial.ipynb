{
 "cells": [
  {
   "cell_type": "markdown",
   "id": "d9b8da47-647e-4f34-a421-192e1ab4d041",
   "metadata": {},
   "source": [
    "# Section 2 - Atmospheric data visualization\n",
    "\n",
    "This Secton's goal is to provide the user the possibility to visualize forecasts of atmospheric variables related to cyclone formation and forecasting. The variables are plotted at user-selected time steps ahead from the user-selected date."
   ]
  },
  {
   "cell_type": "markdown",
   "id": "c596549e-f026-4d3e-ab74-d3bd897dd26e",
   "metadata": {},
   "source": [
    "## Necessary packages"
   ]
  },
  {
   "cell_type": "code",
   "execution_count": 1,
   "id": "20203681",
   "metadata": {
    "tags": []
   },
   "outputs": [],
   "source": [
    "from datetime import datetime\n",
    "import ipywidgets as widgets\n",
    "from IPython.display import display\n",
    "\n",
    "import warnings\n",
    "warnings.filterwarnings(\"ignore\")"
   ]
  },
  {
   "cell_type": "code",
   "execution_count": 2,
   "id": "476b4fb8",
   "metadata": {},
   "outputs": [],
   "source": [
    "# import utilities functions\n",
    "import os\n",
    "import sys\n",
    "cwd = os.getcwd()\n",
    "cwd = os.path.sep.join(cwd.split(os.path.sep)[:-1])\n",
    "sys.path.insert(1, os.path.join(cwd, 'TropiDash'))\n",
    "\n",
    "from utils_atm import *"
   ]
  },
  {
   "cell_type": "code",
   "execution_count": 3,
   "id": "8ae46534",
   "metadata": {},
   "outputs": [],
   "source": [
    "# parameters to be imported from main widget\n",
    "stdate = 0 #today\n",
    "# stdate = datetime(2024, 2, 7, 0, 0) # define the variable as a datetime if you want to specify a date\n",
    "\n",
    "initial_lat_lon = (38, -90) #first cyclone position\n",
    "final_lat_lon = (60, 90) #last cyclone position"
   ]
  },
  {
   "cell_type": "code",
   "execution_count": 4,
   "id": "22dbed00",
   "metadata": {},
   "outputs": [],
   "source": [
    "# variable initialization\n",
    "# variables to visualize\n",
    "variables = ['msl', 'skt', 'tp','wind', '10fgg25'] #list of variables to visualize\n",
    "\n",
    "# get mean coordinates to center the plot\n",
    "mean_lat = (initial_lat_lon[0] - final_lat_lon[0])/2\n",
    "mean_lon = (initial_lat_lon[1] - final_lat_lon[1])/2\n",
    "\n",
    "coord = (mean_lat, mean_lon)\n",
    "\n",
    "#steps to download\n",
    "cyclone_days = 2\n",
    "windprobsteps = [f\"{12 * i}-{ 12 * i + 24}\" for i in range(2*cyclone_days-1)]\n",
    "windprobsteps.insert(0, \"0-24\")\n",
    "stepsdict = {\n",
    "               \"base\": list(np.arange(12, 240, 12)[0:2*cyclone_days]),\n",
    "               \"10fgg25\": windprobsteps\n",
    "            }"
   ]
  },
  {
   "cell_type": "markdown",
   "id": "91826c75",
   "metadata": {},
   "source": [
    "## To be updated when the starting date is changed"
   ]
  },
  {
   "cell_type": "code",
   "execution_count": 5,
   "id": "a6427317-5a93-4194-9b11-b5b3c72bd35e",
   "metadata": {},
   "outputs": [
    {
     "name": "stdout",
     "output_type": "stream",
     "text": [
      "Today's forecast not available, downloaded yesterday's forecast: 29/Mar/2024\n",
      "Today's forecast not available, downloaded yesterday's forecast: 29/Mar/2024\n",
      "Today's forecast not available, downloaded yesterday's forecast: 29/Mar/2024\n",
      "Today's forecast not available, downloaded yesterday's forecast: 29/Mar/2024\n",
      "Today's forecast not available, downloaded yesterday's forecast: 29/Mar/2024\n"
     ]
    }
   ],
   "source": [
    "# Download\n",
    "fnames = dwnl_atmdata(variables, stepsdict, stdate);\n",
    "# Load\n",
    "vardict = load_atmdata(variables, fnames)"
   ]
  },
  {
   "cell_type": "markdown",
   "id": "4502eb62",
   "metadata": {},
   "source": [
    "## Plot and widget"
   ]
  },
  {
   "cell_type": "code",
   "execution_count": 6,
   "id": "fd4801b7-60fc-47d4-815a-3698df6838ac",
   "metadata": {},
   "outputs": [],
   "source": [
    "# widget to select forecast step\n",
    "vec_forecast = [f\"{x}h from selected date\" for x in stepsdict[\"base\"]]\n",
    "widget_sel_forecast = widgets.Dropdown(options = vec_forecast, description = 'Forecast')"
   ]
  },
  {
   "cell_type": "code",
   "execution_count": 7,
   "id": "853aa6bb-ca5b-46fd-9fd7-9bbf8e47d464",
   "metadata": {},
   "outputs": [
    {
     "data": {
      "application/vnd.jupyter.widget-view+json": {
       "model_id": "4fe25210586e4ff8b7dc0be21a53fdc9",
       "version_major": 2,
       "version_minor": 0
      },
      "text/plain": [
       "interactive(children=(Dropdown(description='Forecast', options=('12h from selected date', '24h from selected d…"
      ]
     },
     "execution_count": 7,
     "metadata": {},
     "output_type": "execute_result"
    }
   ],
   "source": [
    "# launch the interactive plot\n",
    "widgets.interactive(plot_atmdata_step, \n",
    "                    step = widget_sel_forecast,\n",
    "                    vardict = widgets.fixed(vardict),\n",
    "                    coord =  widgets.fixed(coord), \n",
    "                    stepsdict =  widgets.fixed(stepsdict))"
   ]
  }
 ],
 "metadata": {
  "kernelspec": {
   "display_name": "Python 3 (ipykernel)",
   "language": "python",
   "name": "python3"
  },
  "language_info": {
   "codemirror_mode": {
    "name": "ipython",
    "version": 3
   },
   "file_extension": ".py",
   "mimetype": "text/x-python",
   "name": "python",
   "nbconvert_exporter": "python",
   "pygments_lexer": "ipython3",
   "version": "3.11.5"
  }
 },
 "nbformat": 4,
 "nbformat_minor": 5
}
