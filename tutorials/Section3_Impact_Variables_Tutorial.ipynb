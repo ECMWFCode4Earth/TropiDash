{
 "cells": [
  {
   "cell_type": "markdown",
   "metadata": {},
   "source": [
    "## Section 3: Impacts"
   ]
  },
  {
   "cell_type": "markdown",
   "metadata": {},
   "source": [
    "## Notes on the population layer\n",
    "\n",
    "The population layer data is not downloaded directly from the dashboard as it would take too much time (> 800 MB). So, it was already downloaded and resampled through the code explained in `tutorials\\X1_Download-population-data.ipynb`."
   ]
  },
  {
   "cell_type": "markdown",
   "metadata": {},
   "source": [
    "## Setup"
   ]
  },
  {
   "cell_type": "code",
   "execution_count": 1,
   "metadata": {
    "tags": []
   },
   "outputs": [],
   "source": [
    "#Necessary packages\n",
    "import ipywidgets as widgets\n",
    "from IPython.display import display"
   ]
  },
  {
   "cell_type": "code",
   "execution_count": 2,
   "metadata": {},
   "outputs": [],
   "source": [
    "# import utilities functions\n",
    "import os\n",
    "cwd = os.getcwd()\n",
    "cwd = '\\\\'.join(cwd.split('\\\\')[:-1])\n",
    "\n",
    "import sys\n",
    "sys.path.insert(1, os.path.join(cwd, 'TropiDash'))\n",
    "\n",
    "from utils_impacts import *"
   ]
  },
  {
   "cell_type": "code",
   "execution_count": 3,
   "metadata": {},
   "outputs": [],
   "source": [
    "# parameters to be imported from the main widget\n",
    "initial_lat_lon = (38, -90) #first cyclone position\n",
    "final_lat_lon = (60, 90) #last cyclone position"
   ]
  },
  {
   "cell_type": "code",
   "execution_count": 4,
   "metadata": {},
   "outputs": [],
   "source": [
    "# variable initialization\n",
    "\n",
    "# get mean coordinates to center the plot\n",
    "mean_lat = (initial_lat_lon[0] - final_lat_lon[0])/2\n",
    "mean_lon = (initial_lat_lon[1] - final_lat_lon[1])/2\n",
    "\n",
    "coord = (mean_lat, mean_lon)"
   ]
  },
  {
   "cell_type": "markdown",
   "metadata": {},
   "source": [
    "## Impacts plot\n",
    "\n",
    "In a unique ipyleaflet, the following layers are plotted:\n",
    "- Coastal Hazard\n",
    "- Cyclone Hazard\n",
    "- Population\n",
    "- World Risk Index: from the data of the World Risk Index, retrieves and plots the expositions to coastal floodings, tsunamis and sea level rise of each country"
   ]
  },
  {
   "cell_type": "code",
   "execution_count": 5,
   "metadata": {},
   "outputs": [],
   "source": [
    "# widgets for return period selection\n",
    "vec_rp_coh = [\"5yr\", \"10yr\", \"50yr\", \"100yr\", \"250yr\", \"500yr\", \"1000yr\"]\n",
    "widget_sel_rp_coh = widgets.Dropdown(options = vec_rp_coh, description = 'Return Period Coastal Hazard')\n",
    "widget_sel_rp_coh.style.description_width = \"180px\"\n",
    "\n",
    "vec_rp_cyh = [\"50yr\", \"100yr\", \"250yr\", \"500yr\", \"1000yr\"]\n",
    "widget_sel_rp_cyh = widgets.Dropdown(options = vec_rp_cyh, description = 'Return Period Cyclone Hazard')\n",
    "widget_sel_rp_cyh.style.description_width = \"180px\""
   ]
  },
  {
   "cell_type": "code",
   "execution_count": 7,
   "metadata": {},
   "outputs": [
    {
     "data": {
      "application/vnd.jupyter.widget-view+json": {
       "model_id": "42c494e285a4449ca87762267c953723",
       "version_major": 2,
       "version_minor": 0
      },
      "text/plain": [
       "interactive(children=(Dropdown(description='Return Period Coastal Hazard', options=('5yr', '10yr', '50yr', '10…"
      ]
     },
     "execution_count": 7,
     "metadata": {},
     "output_type": "execute_result"
    }
   ],
   "source": [
    "widgets.interactive(impacts_plot, rp_coh = widget_sel_rp_coh, rp_cyh = widget_sel_rp_cyh, coord = widgets.fixed(coord))"
   ]
  },
  {
   "cell_type": "code",
   "execution_count": null,
   "metadata": {},
   "outputs": [],
   "source": []
  }
 ],
 "metadata": {
  "kernelspec": {
   "display_name": "Python 3 (ipykernel)",
   "language": "python",
   "name": "python3"
  },
  "language_info": {
   "codemirror_mode": {
    "name": "ipython",
    "version": 3
   },
   "file_extension": ".py",
   "mimetype": "text/x-python",
   "name": "python",
   "nbconvert_exporter": "python",
   "pygments_lexer": "ipython3",
   "version": "3.11.4"
  }
 },
 "nbformat": 4,
 "nbformat_minor": 4
}
