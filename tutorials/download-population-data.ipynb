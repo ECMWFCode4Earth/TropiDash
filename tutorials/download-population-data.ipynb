{
 "cells": [
  {
   "cell_type": "markdown",
   "id": "91227a2d-b9cf-4b3d-aa11-0b3ade352c3c",
   "metadata": {},
   "source": [
    "# Download population for every country in the world\n",
    "Data source: https://www.worldpop.org/datacatalog/"
   ]
  },
  {
   "cell_type": "code",
   "execution_count": 3,
   "id": "32ccf246-08f9-4245-aafc-a15d6fa3d0a2",
   "metadata": {},
   "outputs": [],
   "source": [
    "import pandas as pd\n",
    "import requests\n",
    "import time\n",
    "# from wpgpDownload.utils.wpcsv import ISO_LIST\n",
    "# from wpgpDownload.utils.wpcsv import Product\n",
    "# from wpgpDownload.utils.convenience_functions import download_country_covariates as dl\n",
    "# from wpgpDownload.utils.convenience_functions import refresh_csv\n",
    "# refresh_csv()"
   ]
  },
  {
   "cell_type": "markdown",
   "id": "ba32383b",
   "metadata": {
    "tags": []
   },
   "source": [
    "## Global dataset\n",
    "From https://hub.worldpop.org/geodata/summary?id=24777, download the Unconstrained global mosaics 2000-2020. Estimated total number of people per grid-cell. The dataset is available to download in Geotiff format at a resolution of 30 arc (approximately 1km at the equator). The projection is Geographic Coordinate System, WGS84. The units are number of people per pixel. The mapping approach is Random Forest-based dasymetric redistribution."
   ]
  },
  {
   "cell_type": "code",
   "execution_count": 1,
   "id": "f0d9823e",
   "metadata": {},
   "outputs": [],
   "source": [
    "tif = requests.get(\"https://data.worldpop.org/GIS/Population/Global_2000_2020/2020/0_Mosaicked/ppp_2020_1km_Aggregated.tif\")\n",
    "with open(f\"globalmosaicspop.tif\", \"wb\") as tiffile:\n",
    "        tiffile.write(tif.content)\n",
    "        print(\"Download complete\")"
   ]
  },
  {
   "cell_type": "code",
   "execution_count": null,
   "id": "30ee3191",
   "metadata": {},
   "outputs": [],
   "source": [
    "#Operations in QGIS"
   ]
  },
  {
   "cell_type": "code",
   "execution_count": 5,
   "id": "e67e7dd5",
   "metadata": {},
   "outputs": [],
   "source": [
    "import rasterio\n",
    "import numpy as np"
   ]
  },
  {
   "cell_type": "code",
   "execution_count": 6,
   "id": "317ed4ec",
   "metadata": {},
   "outputs": [
    {
     "ename": "TypeError",
     "evalue": "data/impacts/ppp_2020_1km_Aggregated_resampled_10km_sum_clipped_3402na.tif: No such file or directory",
     "output_type": "error",
     "traceback": [
      "\u001b[1;31m---------------------------------------------------------------------------\u001b[0m",
      "\u001b[1;31mCPLE_OpenFailedError\u001b[0m                      Traceback (most recent call last)",
      "File \u001b[1;32mrasterio\\_base.pyx:69\u001b[0m, in \u001b[0;36mrasterio._base.get_dataset_driver\u001b[1;34m()\u001b[0m\n",
      "File \u001b[1;32mrasterio\\_err.pyx:221\u001b[0m, in \u001b[0;36mrasterio._err.exc_wrap_pointer\u001b[1;34m()\u001b[0m\n",
      "\u001b[1;31mCPLE_OpenFailedError\u001b[0m: data/impacts/ppp_2020_1km_Aggregated_resampled_10km_sum_clipped_3402na.tif: No such file or directory",
      "\nDuring handling of the above exception, another exception occurred:\n",
      "\u001b[1;31mTypeError\u001b[0m                                 Traceback (most recent call last)",
      "\u001b[1;32mc:\\repos\\TropiDash\\tutorials\\download-population-data.ipynb Cell 7\u001b[0m line \u001b[0;36m1\n\u001b[0;32m     <a href='vscode-notebook-cell:/c%3A/repos/TropiDash/tutorials/download-population-data.ipynb#W5sZmlsZQ%3D%3D?line=12'>13</a>\u001b[0m output_file \u001b[39m=\u001b[39m \u001b[39m\"\u001b[39m\u001b[39mdata/impacts/ppp_2020_1km_Aggregated_resampled_10km_sum_clipped_3402na_fix.tif\u001b[39m\u001b[39m\"\u001b[39m\n\u001b[0;32m     <a href='vscode-notebook-cell:/c%3A/repos/TropiDash/tutorials/download-population-data.ipynb#W5sZmlsZQ%3D%3D?line=13'>14</a>\u001b[0m no_data_value\u001b[39m=\u001b[39m\u001b[39m999999999.0\u001b[39m\n\u001b[1;32m---> <a href='vscode-notebook-cell:/c%3A/repos/TropiDash/tutorials/download-population-data.ipynb#W5sZmlsZQ%3D%3D?line=14'>15</a>\u001b[0m fix_no_data_value(input_file, output_file,no_data_value)\n",
      "\u001b[1;32mc:\\repos\\TropiDash\\tutorials\\download-population-data.ipynb Cell 7\u001b[0m line \u001b[0;36m3\n\u001b[0;32m      <a href='vscode-notebook-cell:/c%3A/repos/TropiDash/tutorials/download-population-data.ipynb#W5sZmlsZQ%3D%3D?line=1'>2</a>\u001b[0m \u001b[39mdef\u001b[39;00m \u001b[39mfix_no_data_value\u001b[39m(input_file, output_file, no_data_value\u001b[39m=\u001b[39m\u001b[39m0\u001b[39m):\n\u001b[1;32m----> <a href='vscode-notebook-cell:/c%3A/repos/TropiDash/tutorials/download-population-data.ipynb#W5sZmlsZQ%3D%3D?line=2'>3</a>\u001b[0m     \u001b[39mwith\u001b[39;00m rasterio\u001b[39m.\u001b[39;49mopen(input_file, \u001b[39m\"\u001b[39;49m\u001b[39mr+\u001b[39;49m\u001b[39m\"\u001b[39;49m) \u001b[39mas\u001b[39;00m src:\n\u001b[0;32m      <a href='vscode-notebook-cell:/c%3A/repos/TropiDash/tutorials/download-population-data.ipynb#W5sZmlsZQ%3D%3D?line=3'>4</a>\u001b[0m         src\u001b[39m.\u001b[39mnodata \u001b[39m=\u001b[39m no_data_value\n\u001b[0;32m      <a href='vscode-notebook-cell:/c%3A/repos/TropiDash/tutorials/download-population-data.ipynb#W5sZmlsZQ%3D%3D?line=4'>5</a>\u001b[0m         \u001b[39mwith\u001b[39;00m rasterio\u001b[39m.\u001b[39mopen(output_file, \u001b[39m'\u001b[39m\u001b[39mw\u001b[39m\u001b[39m'\u001b[39m,  \u001b[39m*\u001b[39m\u001b[39m*\u001b[39msrc\u001b[39m.\u001b[39mprofile) \u001b[39mas\u001b[39;00m dst:\n",
      "File \u001b[1;32mc:\\repos\\TropiDash\\tdashenv\\Lib\\site-packages\\rasterio\\env.py:451\u001b[0m, in \u001b[0;36mensure_env_with_credentials.<locals>.wrapper\u001b[1;34m(*args, **kwds)\u001b[0m\n\u001b[0;32m    448\u001b[0m     session \u001b[39m=\u001b[39m DummySession()\n\u001b[0;32m    450\u001b[0m \u001b[39mwith\u001b[39;00m env_ctor(session\u001b[39m=\u001b[39msession):\n\u001b[1;32m--> 451\u001b[0m     \u001b[39mreturn\u001b[39;00m f(\u001b[39m*\u001b[39;49margs, \u001b[39m*\u001b[39;49m\u001b[39m*\u001b[39;49mkwds)\n",
      "File \u001b[1;32mc:\\repos\\TropiDash\\tdashenv\\Lib\\site-packages\\rasterio\\__init__.py:321\u001b[0m, in \u001b[0;36mopen\u001b[1;34m(fp, mode, driver, width, height, count, crs, transform, dtype, nodata, sharing, **kwargs)\u001b[0m\n\u001b[0;32m    319\u001b[0m     dataset \u001b[39m=\u001b[39m DatasetReader(path, driver\u001b[39m=\u001b[39mdriver, sharing\u001b[39m=\u001b[39msharing, \u001b[39m*\u001b[39m\u001b[39m*\u001b[39mkwargs)\n\u001b[0;32m    320\u001b[0m \u001b[39melif\u001b[39;00m mode \u001b[39m==\u001b[39m \u001b[39m\"\u001b[39m\u001b[39mr+\u001b[39m\u001b[39m\"\u001b[39m:\n\u001b[1;32m--> 321\u001b[0m     dataset \u001b[39m=\u001b[39m get_writer_for_path(path, driver\u001b[39m=\u001b[39;49mdriver)(\n\u001b[0;32m    322\u001b[0m         path, mode, driver\u001b[39m=\u001b[39mdriver, sharing\u001b[39m=\u001b[39msharing, \u001b[39m*\u001b[39m\u001b[39m*\u001b[39mkwargs\n\u001b[0;32m    323\u001b[0m     )\n\u001b[0;32m    324\u001b[0m \u001b[39melif\u001b[39;00m mode\u001b[39m.\u001b[39mstartswith(\u001b[39m\"\u001b[39m\u001b[39mw\u001b[39m\u001b[39m\"\u001b[39m):\n\u001b[0;32m    325\u001b[0m     \u001b[39mif\u001b[39;00m \u001b[39mnot\u001b[39;00m driver:\n",
      "File \u001b[1;32mc:\\repos\\TropiDash\\tdashenv\\Lib\\site-packages\\rasterio\\io.py:299\u001b[0m, in \u001b[0;36mget_writer_for_path\u001b[1;34m(path, driver)\u001b[0m\n\u001b[0;32m    297\u001b[0m \u001b[39m\u001b[39m\u001b[39m\"\"\"Return the writer class appropriate for the existing dataset.\"\"\"\u001b[39;00m\n\u001b[0;32m    298\u001b[0m \u001b[39mif\u001b[39;00m \u001b[39mnot\u001b[39;00m driver:\n\u001b[1;32m--> 299\u001b[0m     driver \u001b[39m=\u001b[39m get_dataset_driver(path)\n\u001b[0;32m    300\u001b[0m \u001b[39mreturn\u001b[39;00m get_writer_for_driver(driver)\n",
      "File \u001b[1;32mrasterio\\_base.pyx:74\u001b[0m, in \u001b[0;36mrasterio._base.get_dataset_driver\u001b[1;34m()\u001b[0m\n",
      "\u001b[1;31mTypeError\u001b[0m: data/impacts/ppp_2020_1km_Aggregated_resampled_10km_sum_clipped_3402na.tif: No such file or directory"
     ]
    }
   ],
   "source": [
    "#fix of nodata values\n",
    "def fix_no_data_value(input_file, output_file, no_data_value=0):\n",
    "    with rasterio.open(input_file, \"r+\") as src:\n",
    "        src.nodata = no_data_value\n",
    "        with rasterio.open(output_file, 'w',  **src.profile) as dst:\n",
    "            for i in range(1, src.count + 1):\n",
    "                band = src.read(i)\n",
    "                band = np.where(band==no_data_value,no_data_value,band)\n",
    "                band[np.isnan(band)] = no_data_value\n",
    "                dst.write(band,i)\n",
    "\n",
    "input_file = \"data/impacts/ppp_2020_1km_Aggregated_resampled_10km_sum_clipped_3402na.tif\"\n",
    "output_file = \"data/impacts/ppp_2020_1km_Aggregated_resampled_10km_sum_clipped_3402na_fix.tif\"\n",
    "no_data_value=999999999.0\n",
    "fix_no_data_value(input_file, output_file,no_data_value)"
   ]
  },
  {
   "cell_type": "markdown",
   "id": "6ad88377",
   "metadata": {},
   "source": [
    "## Single countries data"
   ]
  },
  {
   "cell_type": "markdown",
   "id": "1feb3380",
   "metadata": {},
   "source": [
    "The cell below will perform the download of all the countrie' population counts from WorldPop dataframe. If you want to download a subset of the list, find the countries iso code and perform one of the two cells below the next. The whole dataset will weight approx. 75 GB."
   ]
  },
  {
   "cell_type": "code",
   "execution_count": 1,
   "id": "2bea8adf",
   "metadata": {},
   "outputs": [],
   "source": [
    "# #download population raster grids for each country in the list\n",
    "\n",
    "for iso in ISO_LIST:\n",
    "    products = Product(iso) #get a list of all available products for that country\n",
    "    for x in list(products.products.items()):\n",
    "        if x[1].dataset_name == \"ppp_2020\":\n",
    "            print(\"Downloading \", iso, \" ppp_2020 ...\")\n",
    "            start_time = time.time()\n",
    "            dl(ISO = iso, out_folder = \"C:/Users/user/Desktop/countries\", prod_name = \"ppp_2020\")\n",
    "            print(iso, \" complete - \", round(time.time()-start_time, 2), \"s\")"
   ]
  },
  {
   "cell_type": "code",
   "execution_count": 2,
   "id": "6d91420b",
   "metadata": {},
   "outputs": [],
   "source": [
    "#download population raster grids for each country in the list\n",
    "\n",
    "isolist = pd.Series(ISO_LIST)\n",
    "isolist = isolist[~isolist.isin([\"ITA\"])] # this will download every country except Italy\n",
    "isolist.reset_index(drop = True, inplace = True)\n",
    "\n",
    "for iso in isolist:\n",
    "    products = Product(iso)\n",
    "    for x in list(products.products.items()):\n",
    "        if x[1].dataset_name == \"ppp_2020\":\n",
    "            print(\"Downloading \", iso, \" ppp_2020 ...\")\n",
    "            start_time = time.time()\n",
    "            dl(ISO = iso, out_folder = \"C:/Users/user/Desktop/countries\", prod_name = \"ppp_2020\")\n",
    "            print(iso, \" complete - \", round(time.time()-start_time, 2), \"s\")"
   ]
  },
  {
   "cell_type": "code",
   "execution_count": 3,
   "id": "32f13340-9654-4831-abe2-0130cc63c9c0",
   "metadata": {},
   "outputs": [
    {
     "name": "stdout",
     "output_type": "stream",
     "text": [
      "Downloading  AUS  ppp_2020 ...\n",
      "AUS  complete -  1055.8 s\n"
     ]
    }
   ],
   "source": [
    "for iso in [\"AUS\"]: #this will only download Australia\n",
    "    products = Product(iso)\n",
    "    for x in list(products.products.items()):\n",
    "        if x[1].dataset_name == \"ppp_2020\":\n",
    "            print(\"Downloading \", iso, \" ppp_2020 ...\")\n",
    "            start_time = time.time()\n",
    "            dl(ISO = iso, out_folder = \"C:/Users/user/Desktop/countries\", prod_name = \"ppp_2020\")\n",
    "            print(iso, \" complete - \", round(time.time()-start_time, 2), \"s\")"
   ]
  }
 ],
 "metadata": {
  "kernelspec": {
   "display_name": "Python 3 (ipykernel)",
   "language": "python",
   "name": "python3"
  },
  "language_info": {
   "codemirror_mode": {
    "name": "ipython",
    "version": 3
   },
   "file_extension": ".py",
   "mimetype": "text/x-python",
   "name": "python",
   "nbconvert_exporter": "python",
   "pygments_lexer": "ipython3",
   "version": "3.11.4"
  }
 },
 "nbformat": 4,
 "nbformat_minor": 5
}
