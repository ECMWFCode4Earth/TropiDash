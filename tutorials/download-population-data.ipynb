{
 "cells": [
  {
   "cell_type": "markdown",
   "id": "91227a2d-b9cf-4b3d-aa11-0b3ade352c3c",
   "metadata": {},
   "source": [
    "# Download population for every country in the world\n",
    "Data source: https://www.worldpop.org/datacatalog/"
   ]
  },
  {
   "cell_type": "code",
   "execution_count": 2,
   "id": "32ccf246-08f9-4245-aafc-a15d6fa3d0a2",
   "metadata": {},
   "outputs": [],
   "source": [
    "import pandas as pd\n",
    "import requests\n",
    "import time\n",
    "from wpgpDownload.utils.wpcsv import ISO_LIST\n",
    "from wpgpDownload.utils.wpcsv import Product\n",
    "from wpgpDownload.utils.convenience_functions import download_country_covariates as dl\n",
    "from wpgpDownload.utils.convenience_functions import refresh_csv\n",
    "refresh_csv()"
   ]
  },
  {
   "cell_type": "markdown",
   "id": "ba32383b",
   "metadata": {},
   "source": [
    "## Global dataset"
   ]
  },
  {
   "cell_type": "code",
   "execution_count": null,
   "id": "f0d9823e",
   "metadata": {},
   "outputs": [],
   "source": [
    "# https://hub.worldpop.org/geodata/summary?id=24777"
   ]
  },
  {
   "cell_type": "markdown",
   "id": "6ad88377",
   "metadata": {},
   "source": [
    "## Single countries data"
   ]
  },
  {
   "cell_type": "markdown",
   "id": "1feb3380",
   "metadata": {},
   "source": [
    "The cell below will perform the download of all the countrie' population counts from WorldPop dataframe. If you want to download a subset of the list, find the countries iso code and perform one of the two cells below the next. The whole dataset will weight approx. 75 GB."
   ]
  },
  {
   "cell_type": "code",
   "execution_count": 1,
   "id": "2bea8adf",
   "metadata": {},
   "outputs": [],
   "source": [
    "# #download population raster grids for each country in the list\n",
    "\n",
    "for iso in ISO_LIST:\n",
    "    products = Product(iso) #get a list of all available products for that country\n",
    "    for x in list(products.products.items()):\n",
    "        if x[1].dataset_name == \"ppp_2020\":\n",
    "            print(\"Downloading \", iso, \" ppp_2020 ...\")\n",
    "            start_time = time.time()\n",
    "            dl(ISO = iso, out_folder = \"C:/Users/user/Desktop/countries\", prod_name = \"ppp_2020\")\n",
    "            print(iso, \" complete - \", round(time.time()-start_time, 2), \"s\")"
   ]
  },
  {
   "cell_type": "code",
   "execution_count": 2,
   "id": "6d91420b",
   "metadata": {},
   "outputs": [],
   "source": [
    "#download population raster grids for each country in the list\n",
    "\n",
    "isolist = pd.Series(ISO_LIST)\n",
    "isolist = isolist[~isolist.isin([\"ITA\"])] # this will download every country except Italy\n",
    "isolist.reset_index(drop = True, inplace = True)\n",
    "\n",
    "for iso in isolist:\n",
    "    products = Product(iso)\n",
    "    for x in list(products.products.items()):\n",
    "        if x[1].dataset_name == \"ppp_2020\":\n",
    "            print(\"Downloading \", iso, \" ppp_2020 ...\")\n",
    "            start_time = time.time()\n",
    "            dl(ISO = iso, out_folder = \"C:/Users/user/Desktop/countries\", prod_name = \"ppp_2020\")\n",
    "            print(iso, \" complete - \", round(time.time()-start_time, 2), \"s\")"
   ]
  },
  {
   "cell_type": "code",
   "execution_count": 3,
   "id": "32f13340-9654-4831-abe2-0130cc63c9c0",
   "metadata": {},
   "outputs": [
    {
     "name": "stdout",
     "output_type": "stream",
     "text": [
      "Downloading  AUS  ppp_2020 ...\n",
      "AUS  complete -  1055.8 s\n"
     ]
    }
   ],
   "source": [
    "for iso in [\"AUS\"]: #this will only download Australia\n",
    "    products = Product(iso)\n",
    "    for x in list(products.products.items()):\n",
    "        if x[1].dataset_name == \"ppp_2020\":\n",
    "            print(\"Downloading \", iso, \" ppp_2020 ...\")\n",
    "            start_time = time.time()\n",
    "            dl(ISO = iso, out_folder = \"C:/Users/user/Desktop/countries\", prod_name = \"ppp_2020\")\n",
    "            print(iso, \" complete - \", round(time.time()-start_time, 2), \"s\")"
   ]
  }
 ],
 "metadata": {
  "kernelspec": {
   "display_name": "Python 3 (ipykernel)",
   "language": "python",
   "name": "python3"
  },
  "language_info": {
   "codemirror_mode": {
    "name": "ipython",
    "version": 3
   },
   "file_extension": ".py",
   "mimetype": "text/x-python",
   "name": "python",
   "nbconvert_exporter": "python",
   "pygments_lexer": "ipython3",
   "version": "3.11.4"
  }
 },
 "nbformat": 4,
 "nbformat_minor": 5
}
