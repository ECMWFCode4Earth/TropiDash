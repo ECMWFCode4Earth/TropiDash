{
 "cells": [
  {
   "cell_type": "markdown",
   "metadata": {},
   "source": [
    "# Tropical Cyclone Tracks and Characteristics Notebook Tutorial\n",
    "\n",
    "This tutorial aims at giving a better idea abouth the operations streamflow behind the visualization of data in the first section of **TropiDash**. This section focuses on displaying information regarding the cyclone tracks and their spatial characteristics. More in particular the data available for consultation are:\n",
    "\n",
    "1. Ensemble tracks forecast of the cyclone\n",
    "2. Average forecast track of the cyclone \n",
    "3. Observed track of the cyclone\n",
    "4. Strike Probability Map\n",
    "\n",
    "As example for the tutorial we adopted the forecast of cyclone **LEE** on **September 7, 2023**. "
   ]
  },
  {
   "cell_type": "markdown",
   "metadata": {},
   "source": [
    "## Libraries Import"
   ]
  },
  {
   "cell_type": "code",
   "execution_count": null,
   "metadata": {},
   "outputs": [],
   "source": [
    "import os\n",
    "import pdbufr\n",
    "import math\n",
    "import ipyleaflet\n",
    "import rasterio\n",
    "import requests\n",
    "import pandas as pd\n",
    "import numpy as np\n",
    "import xarray as xr\n",
    "import ipywidgets as widgets\n",
    "import branca.colormap as bc\n",
    "\n",
    "from eccodes import *\n",
    "from ecmwf.opendata import Client\n",
    "from datetime import datetime, timedelta\n",
    "from itertools import chain, tee\n",
    "from scipy.optimize import root_scalar\n",
    "from scipy.spatial import KDTree\n",
    "from localtileserver import get_leaflet_tile_layer, TileClient\n",
    "from IPython.display import Javascript, display, clear_output\n",
    "\n",
    "import warnings\n",
    "warnings.filterwarnings(\"ignore\")"
   ]
  },
  {
   "cell_type": "markdown",
   "metadata": {},
   "source": [
    "## Data Donwload\n",
    "\n",
    "Since this is a tutorial, the cell below is is a raw cell instead of a code cell. The data have been already downloaded and you do not need to run it. As source of data for the forecast we use ECMWF open dataset, for the observed track we use __[IBTrACS](https://www.ncei.noaa.gov/products/international-best-track-archive)__.\n",
    "\n",
    "Be aware that the code reported donwloads the latest data availabe for active cyclones from IBTrACS. If you run it it will overwrite the .csv file containing information about LEE that were availabe on the 7th September 2023. "
   ]
  },
  {
   "cell_type": "raw",
   "metadata": {},
   "source": [
    "# Define the starting date of the forecast (7th September 2023)\n",
    "start_date = datetime(2023, 9, 7, 0, 0)\n",
    "\n",
    "# Define the ECMWF server source of data\n",
    "client = Client(source=\"azure\")\n",
    "\n",
    "# Download the data from the ECMWF server\n",
    "client.retrieve(\n",
    "    date=int(start_date.strftime(\"%Y%m%d\")),\n",
    "    time=0,\n",
    "    stream=\"enfo\",\n",
    "    type=\"tf\",\n",
    "    step=240,\n",
    "    target=f\"data/tracks/{start_date.strftime('%Y%m%d')}.bufr\",\n",
    ");\n",
    "\n",
    "# Open request to acces and download IBTrACS data\n",
    "url = 'https://www.ncei.noaa.gov/data/international-best-track-archive-for-climate-stewardship-ibtracs/v04r00/access/csv/ibtracs.ACTIVE.list.v04r00.csv'\n",
    "r = requests.get(url, allow_redirects=True)\n",
    "\n",
    "# Save request content to file\n",
    "with open('data/tracks/ibtracs.ACTIVE.list.v04r00.csv', 'wb') as f:\n",
    "    f.write(r.content)"
   ]
  },
  {
   "cell_type": "markdown",
   "metadata": {},
   "source": [
    "## Dataset Load and Pre-formatting\n",
    "\n",
    "The forecast tracks data of ECMWF are in .bufr format to load them as a pandas dataframe we use the bufr library. For the way the file are built is not possible to load together "
   ]
  },
  {
   "cell_type": "markdown",
   "metadata": {},
   "source": [
    "## Tracks Location Computation"
   ]
  },
  {
   "cell_type": "markdown",
   "metadata": {},
   "source": [
    "## Strike Probability Map Computation"
   ]
  },
  {
   "cell_type": "markdown",
   "metadata": {},
   "source": [
    "## Plot Data in an Interactive Map"
   ]
  },
  {
   "cell_type": "code",
   "execution_count": null,
   "metadata": {},
   "outputs": [],
   "source": []
  }
 ],
 "metadata": {
  "kernelspec": {
   "display_name": "TropiDash",
   "language": "python",
   "name": "python3"
  },
  "language_info": {
   "codemirror_mode": {
    "name": "ipython",
    "version": 3
   },
   "file_extension": ".py",
   "mimetype": "text/x-python",
   "name": "python",
   "nbconvert_exporter": "python",
   "pygments_lexer": "ipython3",
   "version": "3.11.5"
  },
  "orig_nbformat": 4
 },
 "nbformat": 4,
 "nbformat_minor": 2
}
