{
 "cells": [
  {
   "cell_type": "markdown",
   "metadata": {},
   "source": [
    "# Section 4 - Joint Visualization: Cyclone, Atmospheric Variables, Impact Variables\n",
    "\n",
    "To make the user able to visualize easier cyclone, atmospheric and impact variables this Section shows a selection of variables already shown in Section 1, 2 and 3, proiding all the available widgets. Below, the list of available data shown in this Section's plot:\n",
    "- Cyclone's average forecasted track\n",
    "- Strike probability map\n",
    "- All atmospheric variables of Section 2\n",
    "- Population count\n",
    "- Cyclone and coastal hazard"
   ]
  },
  {
   "cell_type": "code",
   "execution_count": 14,
   "metadata": {},
   "outputs": [],
   "source": [
    "#Necessary packages\n",
    "from datetime import datetime\n",
    "import numpy as np\n",
    "import ipywidgets as widgets\n",
    "from IPython.display import display\n",
    "\n",
    "# import utilities functions\n",
    "import os\n",
    "import sys\n",
    "cwd = os.getcwd()\n",
    "cwd = os.path.sep.join(cwd.split(os.path.sep)[:-1])\n",
    "sys.path.insert(1, os.path.join(cwd, 'TropiDash'))\n",
    "\n",
    "from utils_atm import *\n",
    "from utils_section4 import *"
   ]
  },
  {
   "cell_type": "markdown",
   "metadata": {},
   "source": [
    "## Parameters to be defined or to be gathered from previous sections"
   ]
  },
  {
   "cell_type": "code",
   "execution_count": 15,
   "metadata": {},
   "outputs": [],
   "source": [
    "# parameters to be imported from the main widget\n",
    "stdate = datetime(2023, 9, 7, 0, 0)\n",
    "\n",
    "# General information\n",
    "initial_lat_lon = (38, -90) #first cyclone position\n",
    "final_lat_lon = (60, 90) #last cyclone position\n",
    "\n",
    "# get mean coordinates of the cyclone to center the plot\n",
    "mean_lat = (initial_lat_lon[0] - final_lat_lon[0])/2\n",
    "mean_lon = (initial_lat_lon[1] - final_lat_lon[1])/2\n",
    "\n",
    "coord = (mean_lat, mean_lon)\n",
    "\n",
    "# Cyclone data\n",
    "cyclonelayers = None #output from \n",
    "\n",
    "# Atmospherical data\n",
    "# variables to visualize\n",
    "variables = ['msl', 'skt', 'tp','wind', '10fgg25'] #list of variables to visualize\n",
    "\n",
    "#steps to download\n",
    "cyclone_days = 2\n",
    "windprobsteps = [f\"{12 * i}-{ 12 * i + 24}\" for i in range(2*cyclone_days-1)]\n",
    "windprobsteps.insert(0, \"0-24\")\n",
    "stepsdict = {\n",
    "               \"base\": list(np.arange(12, 240, 12)[0:2*cyclone_days]),\n",
    "               \"10fgg25\": windprobsteps\n",
    "            }"
   ]
  },
  {
   "cell_type": "markdown",
   "metadata": {},
   "source": [
    "## Data download\n",
    "In the backbone, this is performed in Section 2"
   ]
  },
  {
   "cell_type": "code",
   "execution_count": 16,
   "metadata": {},
   "outputs": [],
   "source": [
    "# Download atmospheric data\n",
    "fnames = dwnl_atmdata_step(variables, stepsdict, stdate)\n",
    "# Load atmospheric data\n",
    "vardict = load_atmdata(variables, fnames)"
   ]
  },
  {
   "cell_type": "markdown",
   "metadata": {},
   "source": [
    "## Plot and widgets"
   ]
  },
  {
   "cell_type": "code",
   "execution_count": 17,
   "metadata": {},
   "outputs": [],
   "source": [
    "# widgets for return period selection\n",
    "vec_rp_coh = [\"5yr\", \"10yr\", \"50yr\", \"100yr\", \"250yr\", \"500yr\", \"1000yr\"]\n",
    "widget_sel_rp_coh = widgets.Dropdown(options = vec_rp_coh, description = 'Return Period Coastal Hazard')\n",
    "widget_sel_rp_coh.style.description_width = \"180px\"\n",
    "\n",
    "vec_rp_cyh = [\"50yr\", \"100yr\", \"250yr\", \"500yr\", \"1000yr\"]\n",
    "widget_sel_rp_cyh = widgets.Dropdown(options = vec_rp_cyh, description = 'Return Period Cyclone Hazard')\n",
    "widget_sel_rp_cyh.style.description_width = \"180px\"\n",
    "\n",
    "# widget to select forecast step\n",
    "vec_forecast = [f\"{x}h from selected date\" for x in stepsdict[\"base\"]]\n",
    "widget_sel_forecast = widgets.Dropdown(options = vec_forecast, description = 'Forecast')"
   ]
  },
  {
   "cell_type": "code",
   "execution_count": 20,
   "metadata": {},
   "outputs": [
    {
     "data": {
      "application/vnd.jupyter.widget-view+json": {
       "model_id": "82a9e118838a43a4a7b401684d1c36fc",
       "version_major": 2,
       "version_minor": 0
      },
      "text/plain": [
       "interactive(children=(Dropdown(description='Forecast', options=('12h from selected date', '24h from selected d…"
      ]
     },
     "execution_count": 20,
     "metadata": {},
     "output_type": "execute_result"
    }
   ],
   "source": [
    "widgets.interactive(\n",
    "                    plot_section4,\n",
    "                    step = widget_sel_forecast,\n",
    "                    rp_coh = widget_sel_rp_coh,\n",
    "                    rp_cyh = widget_sel_rp_cyh,\n",
    "                    vardict = widgets.fixed(vardict),\n",
    "                    coord =  widgets.fixed(coord),\n",
    "                    stepsdict =  widgets.fixed(stepsdict),\n",
    "                    cyclonelayers = widgets.fixed(cyclonelayers)\n",
    "                   )"
   ]
  }
 ],
 "metadata": {
  "kernelspec": {
   "display_name": "Python 3 (ipykernel)",
   "language": "python",
   "name": "python3"
  },
  "language_info": {
   "codemirror_mode": {
    "name": "ipython",
    "version": 3
   },
   "file_extension": ".py",
   "mimetype": "text/x-python",
   "name": "python",
   "nbconvert_exporter": "python",
   "pygments_lexer": "ipython3",
   "version": "3.11.4"
  }
 },
 "nbformat": 4,
 "nbformat_minor": 4
}
