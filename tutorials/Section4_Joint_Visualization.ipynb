{
 "cells": [
  {
   "cell_type": "code",
   "execution_count": null,
   "metadata": {},
   "outputs": [],
   "source": [
    "#Necessary packages\n",
    "import ipywidgets as widgets\n",
    "from IPython.display import display\n",
    "# import utilities functions\n",
    "import os\n",
    "cwd = os.getcwd()\n",
    "cwd = '\\\\'.join(cwd.split('\\\\')[:-1])\n",
    "\n",
    "import sys\n",
    "sys.path.insert(1, os.path.join(cwd, 'TropiDash'))\n",
    "\n",
    "from utils_impacts import *\n",
    "# parameters to be imported from the main widget\n",
    "initial_lat_lon = (38, -90) #first cyclone position\n",
    "final_lat_lon = (60, 90) #last cyclone position\n",
    "# variable initialization\n",
    "\n",
    "# get mean coordinates to center the plot\n",
    "mean_lat = (initial_lat_lon[0] - final_lat_lon[0])/2\n",
    "mean_lon = (initial_lat_lon[1] - final_lat_lon[1])/2\n",
    "\n",
    "coord = (mean_lat, mean_lon)"
   ]
  },
  {
   "cell_type": "code",
   "execution_count": null,
   "metadata": {},
   "outputs": [],
   "source": [
    "# widgets for return period selection\n",
    "vec_rp_coh = [\"5yr\", \"10yr\", \"50yr\", \"100yr\", \"250yr\", \"500yr\", \"1000yr\"]\n",
    "widget_sel_rp_coh = widgets.Dropdown(options = vec_rp_coh, description = 'Return Period Coastal Hazard')\n",
    "widget_sel_rp_coh.style.description_width = \"180px\"\n",
    "\n",
    "vec_rp_cyh = [\"50yr\", \"100yr\", \"250yr\", \"500yr\", \"1000yr\"]\n",
    "widget_sel_rp_cyh = widgets.Dropdown(options = vec_rp_cyh, description = 'Return Period Cyclone Hazard')\n",
    "widget_sel_rp_cyh.style.description_width = \"180px\"\n",
    "widgets.interactive(impacts_plot, rp_coh = widget_sel_rp_coh, rp_cyh = widget_sel_rp_cyh, coord = widgets.fixed(coord))"
   ]
  }
 ],
 "metadata": {
  "kernelspec": {
   "display_name": "Python 3 (ipykernel)",
   "language": "python",
   "name": "python3"
  },
  "language_info": {
   "codemirror_mode": {
    "name": "ipython",
    "version": 3
   },
   "file_extension": ".py",
   "mimetype": "text/x-python",
   "name": "python",
   "nbconvert_exporter": "python",
   "pygments_lexer": "ipython3",
   "version": "3.11.4"
  }
 },
 "nbformat": 4,
 "nbformat_minor": 4
}
