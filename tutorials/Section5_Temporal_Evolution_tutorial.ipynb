{
 "cells": [
  {
   "cell_type": "markdown",
   "id": "dd197e9b",
   "metadata": {},
   "source": [
    "# Temporal Evolution Notebook Tutorial "
   ]
  },
  {
   "cell_type": "markdown",
   "id": "40b39e0d",
   "metadata": {},
   "source": [
    "This is a tutorial of how does Section 5 works to help the user to understand the steps from loading data to ploting it. "
   ]
  },
  {
   "cell_type": "markdown",
   "id": "ac24ed10",
   "metadata": {},
   "source": [
    "# Libraries import"
   ]
  },
  {
   "cell_type": "code",
   "execution_count": 1,
   "id": "71e015ce",
   "metadata": {},
   "outputs": [],
   "source": [
    "import ipywidgets as widgets\n",
    "import pandas as pd\n",
    "from IPython.display import display\n",
    "from Magics.macro import * \n",
    "\n",
    "from ecmwf.opendata import Client\n",
    "import numpy as np\n",
    "import ipyleaflet\n",
    "from ipyleaflet import Map, Marker\n",
    "\n",
    "import ipywidgets\n",
    "import xarray as xr\n",
    "from scipy.spatial.distance import cdist\n",
    "\n",
    "import matplotlib.pyplot as plt\n",
    "\n",
    "from bqplot import Lines, Figure, LinearScale, Axis, DateScale\n",
    "import bqplot\n",
    "from datetime import datetime\n",
    "\n",
    "# Import utilities functions from TropiDash main folder\n",
    "import os\n",
    "cwd = os.getcwd()\n",
    "cwd = os.path.sep.join(cwd.split(os.path.sep)[:-1])\n",
    "import sys\n",
    "sys.path.insert(1, os.path.join(cwd, 'TropiDash'))\n",
    "import utils_tracks as tracks\n",
    "\n",
    "from utils_TemporalEvolution import *\n",
    "from utils_atm import *"
   ]
  },
  {
   "cell_type": "markdown",
   "id": "3c58c117",
   "metadata": {},
   "source": [
    "# Download data (it's done in sections 1 and 2)"
   ]
  },
  {
   "cell_type": "code",
   "execution_count": 2,
   "id": "f483c681",
   "metadata": {},
   "outputs": [],
   "source": [
    "# S1\n",
    "start_date = datetime(2023, 9, 7, 0, 0)\n",
    "\n",
    "start_date_forecast = start_date\n",
    "# Load the ECMWF forecast data\n",
    "df_storms_forecast = tracks.create_storms_df(start_date)\n",
    "\n",
    "# Select the data of storm LEE (Storm Identifier: 13L)\n",
    "df_storm_forecast = df_storms_forecast[df_storms_forecast.stormIdentifier == '13L']\n",
    "\n",
    "\n",
    "locations_avg, timesteps_avg, pressures_avg, wind_speeds_avg = tracks.mean_forecast_track(df_storm_forecast)"
   ]
  },
  {
   "cell_type": "code",
   "execution_count": 3,
   "id": "892684e3",
   "metadata": {},
   "outputs": [],
   "source": [
    "#steps to download\n",
    "cyclone_days = 2\n",
    "stdate =  datetime(2023, 9, 7, 0, 0)\n",
    "windprobsteps = [f\"{12 * i}-{ 12 * i + 24}\" for i in range(2*cyclone_days-1)]\n",
    "windprobsteps.insert(0, \"0-24\")\n",
    "stepsdict = {\n",
    "               \"base\": list(np.arange(12, 240, 12)[0:2*cyclone_days]),\n",
    "               \"10fgg25\": windprobsteps\n",
    "            }\n",
    "\n",
    "variables = ['msl', 'skt', 'tp', '10fgg25'] #list of variables to visualize\n",
    "\n",
    "\n",
    "# Download\n",
    "fnames = dwnl_atmdata_step(variables, stepsdict, stdate);\n",
    "# Load\n",
    "vardict = load_atmdata(variables, fnames)\n",
    "\n"
   ]
  },
  {
   "cell_type": "code",
   "execution_count": 4,
   "id": "755ba415",
   "metadata": {},
   "outputs": [],
   "source": [
    "initial_latlon = locations_avg[0] #(38, -90) #first cyclone position\n",
    "steps_to_download = stepsdict['base']\n",
    "\n",
    "steps_to_download2 = stepsdict['10fgg25']\n",
    "\n",
    "initial_date = start_date.strftime(\"%Y%m%d\")\n"
   ]
  },
  {
   "cell_type": "markdown",
   "id": "e21d6622",
   "metadata": {},
   "source": [
    "# Load data"
   ]
  },
  {
   "cell_type": "code",
   "execution_count": 5,
   "id": "24201e2b",
   "metadata": {},
   "outputs": [],
   "source": [
    "### LOAD DATA\n",
    "data_allpoints = get_allvars_allpoints(initial_date, steps_to_download, steps_to_download2)\n",
    "data_allpoints['skt']['Value'] = data_allpoints['skt']['Value'] - 273.15\n",
    "data_allpoints['msl']['Value'] = data_allpoints['msl']['Value']/100\n",
    "#print('Printing map...')\n",
    "    \n"
   ]
  },
  {
   "cell_type": "markdown",
   "id": "9fec8c7b",
   "metadata": {},
   "source": [
    "# Create background map"
   ]
  },
  {
   "cell_type": "code",
   "execution_count": 6,
   "id": "b4836927",
   "metadata": {},
   "outputs": [],
   "source": [
    "m = Map(\n",
    "    center=[initial_latlon[0], initial_latlon[1]+50],\n",
    "    basemap=ipyleaflet.basemaps.Esri.WorldTopoMap,\n",
    "    zoom = 2,\n",
    ")\n",
    "\n",
    "  "
   ]
  },
  {
   "cell_type": "markdown",
   "id": "c4dbc818",
   "metadata": {},
   "source": [
    "# Create plots of the initial marker location"
   ]
  },
  {
   "cell_type": "code",
   "execution_count": 7,
   "id": "05d1aaa0",
   "metadata": {},
   "outputs": [],
   "source": [
    "p1, p2, p3, p4 = get_initial_plot(data_allpoints, initial_date, initial_latlon, steps_to_download)\n",
    "    "
   ]
  },
  {
   "cell_type": "markdown",
   "id": "4ce21ace",
   "metadata": {},
   "source": [
    "# Transform the plots into a widget from the plot"
   ]
  },
  {
   "cell_type": "code",
   "execution_count": 10,
   "id": "26a6e93b",
   "metadata": {},
   "outputs": [
    {
     "data": {
      "application/vnd.jupyter.widget-view+json": {
       "model_id": "eb1d74be2ffe4fe18179534e81215079",
       "version_major": 2,
       "version_minor": 0
      },
      "text/plain": [
       "Map(center=[15.150012821314707, 2.9538448747324253], controls=(ZoomControl(options=['position', 'zoom_in_text'…"
      ]
     },
     "execution_count": 10,
     "metadata": {},
     "output_type": "execute_result"
    }
   ],
   "source": [
    "item_layout = ipywidgets.Layout(overflow_y='scroll', width='350px', height='350px',\n",
    "                               flex_flow='column', display='block')\n",
    "main_figure = widgets.Box(children=[p1, p2, p3, p4], layout=item_layout,  width='350px', height='350px')\n",
    "\n",
    "widget_control1 = ipyleaflet.WidgetControl(widget=main_figure, position=\"bottomright\")\n",
    "m.add(widget_control1)\n",
    "\n",
    " "
   ]
  },
  {
   "cell_type": "markdown",
   "id": "930f7f58",
   "metadata": {},
   "source": [
    "# Add a marker to the background map"
   ]
  },
  {
   "cell_type": "code",
   "execution_count": 11,
   "id": "69f6c2ba",
   "metadata": {},
   "outputs": [],
   "source": [
    "marker = Marker(location=initial_latlon, draggable=True, name = 'Position') \n",
    "m.add_layer(marker)\n",
    "marker.on_move(handle_move(data_allpoints, steps_to_download))\n"
   ]
  },
  {
   "cell_type": "code",
   "execution_count": 12,
   "id": "6e579352",
   "metadata": {},
   "outputs": [],
   "source": [
    "avg_track = locations_avg\n"
   ]
  },
  {
   "cell_type": "code",
   "execution_count": 13,
   "id": "ae4964eb",
   "metadata": {},
   "outputs": [],
   "source": [
    "avg_track_antpath = ipyleaflet.AntPath(locations = avg_track, color = \"red\")\n",
    "\n",
    "m.add_layer(avg_track_antpath)\n"
   ]
  },
  {
   "cell_type": "code",
   "execution_count": 14,
   "id": "78ca180e",
   "metadata": {},
   "outputs": [
    {
     "data": {
      "application/vnd.jupyter.widget-view+json": {
       "model_id": "eb1d74be2ffe4fe18179534e81215079",
       "version_major": 2,
       "version_minor": 0
      },
      "text/plain": [
       "Map(bottom=668.0, center=[15.150012821314707, 2.9538448747324253], controls=(ZoomControl(options=['position', …"
      ]
     },
     "metadata": {},
     "output_type": "display_data"
    }
   ],
   "source": [
    "display(m)"
   ]
  },
  {
   "cell_type": "code",
   "execution_count": null,
   "id": "3dcf4057",
   "metadata": {},
   "outputs": [],
   "source": []
  }
 ],
 "metadata": {
  "kernelspec": {
   "display_name": "Python 3 (ipykernel)",
   "language": "python",
   "name": "python3"
  },
  "language_info": {
   "codemirror_mode": {
    "name": "ipython",
    "version": 3
   },
   "file_extension": ".py",
   "mimetype": "text/x-python",
   "name": "python",
   "nbconvert_exporter": "python",
   "pygments_lexer": "ipython3",
   "version": "3.11.4"
  }
 },
 "nbformat": 4,
 "nbformat_minor": 5
}
