{
 "cells": [
  {
   "cell_type": "markdown",
   "id": "91227a2d-b9cf-4b3d-aa11-0b3ade352c3c",
   "metadata": {},
   "source": [
    "# Download population for every country in the world\n",
    "\n",
    "This is a tutorial and explanation on how to download and manage the population data used in the TropiDash dashboard in Section 3 - Impacts variables.\n",
    "\n",
    "The data is downloaded from: https://www.worldpop.org/datacatalog/"
   ]
  },
  {
   "cell_type": "markdown",
   "id": "ba32383b",
   "metadata": {
    "tags": []
   },
   "source": [
    "## Global dataset\n",
    "\n",
    "In order to download the global dataset utilized in the dashboard, the below code is needed. It will download the Unconstrained global mosaics 2000-2020 from https://hub.worldpop.org/geodata/summary?id=24777. The file contains the estimated total number of people per grid-cell. The dataset is available to download in Geotiff format at a resolution of 30 arc (approximately 1km at the equator). The projection is Geographic Coordinate System, WGS84. The units are number of people per pixel. The mapping approach is Random Forest-based dasymetric redistribution."
   ]
  },
  {
   "cell_type": "code",
   "execution_count": 3,
   "id": "32ccf246-08f9-4245-aafc-a15d6fa3d0a2",
   "metadata": {},
   "outputs": [],
   "source": [
    "import pandas as pd\n",
    "import requests\n",
    "\n",
    "tif = requests.get(\"https://data.worldpop.org/GIS/Population/Global_2000_2020/2020/0_Mosaicked/ppp_2020_1km_Aggregated.tif\")\n",
    "with open(f\"globalmosaicspop.tif\", \"wb\") as tiffile:\n",
    "        tiffile.write(tif.content)\n",
    "        print(\"Download complete\")"
   ]
  },
  {
   "cell_type": "markdown",
   "id": "f0d9823e",
   "metadata": {},
   "source": [
    "Then, the dataset was resampled to a raster file with cells of 10 km x 10 km. The operation was performed in QGIS. In `TropiDash\\utils_impacts.py` a function to do this operation (`resample_raster()`) was created but didn't work properly, so we resorted on using QGIS. The value assigned to nodata was 999999999.0."
   ]
  },
  {
   "cell_type": "markdown",
   "id": "ee65a077",
   "metadata": {},
   "source": [
    "## Fix nodata issue"
   ]
  },
  {
   "cell_type": "markdown",
   "id": "e67e7dd5",
   "metadata": {},
   "source": [
    "The outcome presented issues in the nodata definition: nodata values were read by rasterio as nan and couldn't be interpreted as nodata in the plot function. To solve this, the code below was run."
   ]
  },
  {
   "cell_type": "code",
   "execution_count": 1,
   "id": "317ed4ec",
   "metadata": {},
   "outputs": [],
   "source": [
    "import rasterio\n",
    "import numpy as np\n",
    "\n",
    "#fix of nodata values\n",
    "def fix_no_data_value(input_file, output_file, no_data_value=0):\n",
    "    with rasterio.open(input_file, \"r+\") as src:\n",
    "        src.nodata = no_data_value\n",
    "        with rasterio.open(output_file, 'w',  **src.profile) as dst:\n",
    "            for i in range(1, src.count + 1):\n",
    "                band = src.read(i)\n",
    "                band = np.where(band==no_data_value,no_data_value,band)\n",
    "                band[np.isnan(band)] = no_data_value\n",
    "                dst.write(band,i)\n",
    "\n",
    "input_file = \"data/impacts/ppp_2020_1km_Aggregated_resampled_10km_sum_clipped_3402na.tif\"\n",
    "output_file = \"data/impacts/ppp_2020_1km_Aggregated_resampled_10km_sum_clipped_3402na_fix.tif\"\n",
    "no_data_value=999999999.0\n",
    "fix_no_data_value(input_file, output_file,no_data_value)"
   ]
  },
  {
   "cell_type": "markdown",
   "id": "6ad88377",
   "metadata": {},
   "source": [
    "## Single countries data"
   ]
  },
  {
   "cell_type": "markdown",
   "id": "1feb3380",
   "metadata": {},
   "source": [
    "The cell below will perform the download of all the countries' population counts from WorldPop dataframe. If you want to download a subset of the list, find the countries iso code and perform one of the two cells below the next. The whole dataset will weight approx. 75 GB.\n",
    "\n",
    "**Attention**: to run the code below you will need to install wpgpDownload package, which is not listed in the project requirements"
   ]
  },
  {
   "cell_type": "code",
   "execution_count": null,
   "id": "8cae8101",
   "metadata": {},
   "outputs": [],
   "source": [
    "from wpgpDownload.utils.wpcsv import ISO_LIST\n",
    "from wpgpDownload.utils.wpcsv import Product\n",
    "from wpgpDownload.utils.convenience_functions import download_country_covariates as dl\n",
    "from wpgpDownload.utils.convenience_functions import refresh_csv\n",
    "import time\n",
    "refresh_csv()"
   ]
  },
  {
   "cell_type": "code",
   "execution_count": 1,
   "id": "2bea8adf",
   "metadata": {},
   "outputs": [],
   "source": [
    "#download population raster grids for each country in the list\n",
    "for iso in ISO_LIST:\n",
    "    products = Product(iso) #get a list of all available products for that country\n",
    "    for x in list(products.products.items()):\n",
    "        if x[1].dataset_name == \"ppp_2020\":\n",
    "            print(\"Downloading \", iso, \" ppp_2020 ...\")\n",
    "            start_time = time.time()\n",
    "            dl(ISO = iso, out_folder = \"C:/Users/user/Desktop/countries\", prod_name = \"ppp_2020\")\n",
    "            print(iso, \" complete - \", round(time.time()-start_time, 2), \"s\")"
   ]
  },
  {
   "cell_type": "code",
   "execution_count": 2,
   "id": "6d91420b",
   "metadata": {},
   "outputs": [],
   "source": [
    "#download population raster grids for each country in the list\n",
    "\n",
    "isolist = pd.Series(ISO_LIST)\n",
    "isolist = isolist[~isolist.isin([\"ITA\"])] # this will download every country except Italy\n",
    "isolist.reset_index(drop = True, inplace = True)\n",
    "\n",
    "for iso in isolist:\n",
    "    products = Product(iso)\n",
    "    for x in list(products.products.items()):\n",
    "        if x[1].dataset_name == \"ppp_2020\":\n",
    "            print(\"Downloading \", iso, \" ppp_2020 ...\")\n",
    "            start_time = time.time()\n",
    "            dl(ISO = iso, out_folder = \"C:/Users/user/Desktop/countries\", prod_name = \"ppp_2020\")\n",
    "            print(iso, \" complete - \", round(time.time()-start_time, 2), \"s\")"
   ]
  },
  {
   "cell_type": "code",
   "execution_count": 3,
   "id": "32f13340-9654-4831-abe2-0130cc63c9c0",
   "metadata": {},
   "outputs": [
    {
     "name": "stdout",
     "output_type": "stream",
     "text": [
      "Downloading  AUS  ppp_2020 ...\n",
      "AUS  complete -  1055.8 s\n"
     ]
    }
   ],
   "source": [
    "for iso in [\"AUS\"]: #this will only download Australia\n",
    "    products = Product(iso)\n",
    "    for x in list(products.products.items()):\n",
    "        if x[1].dataset_name == \"ppp_2020\":\n",
    "            print(\"Downloading \", iso, \" ppp_2020 ...\")\n",
    "            start_time = time.time()\n",
    "            dl(ISO = iso, out_folder = \"C:/Users/user/Desktop/countries\", prod_name = \"ppp_2020\")\n",
    "            print(iso, \" complete - \", round(time.time()-start_time, 2), \"s\")"
   ]
  }
 ],
 "metadata": {
  "kernelspec": {
   "display_name": "Python 3 (ipykernel)",
   "language": "python",
   "name": "python3"
  },
  "language_info": {
   "codemirror_mode": {
    "name": "ipython",
    "version": 3
   },
   "file_extension": ".py",
   "mimetype": "text/x-python",
   "name": "python",
   "nbconvert_exporter": "python",
   "pygments_lexer": "ipython3",
   "version": "3.11.4"
  }
 },
 "nbformat": 4,
 "nbformat_minor": 5
}
