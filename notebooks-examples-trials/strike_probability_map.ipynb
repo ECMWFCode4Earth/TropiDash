{
 "cells": [
  {
   "cell_type": "code",
   "execution_count": 1,
   "id": "c44474bd-54c7-45e3-9849-3ade02a02056",
   "metadata": {
    "tags": []
   },
   "outputs": [],
   "source": [
    "import argparse\n",
    "import pickle\n",
    "import re\n",
    "from datetime import datetime, timedelta\n",
    "from itertools import chain, tee\n",
    "from os import environ, makedirs, path\n",
    "from localtileserver import get_leaflet_tile_layer, TileClient\n",
    "\n",
    "import eccodes\n",
    "import pdbufr\n",
    "import numpy as np\n",
    "import pandas as pd\n",
    "import xarray as xr\n",
    "import rasterio\n",
    "import rioxarray\n",
    "import ipyleaflet\n",
    "from scipy.optimize import root_scalar\n",
    "from scipy.spatial import KDTree\n",
    "from matplotlib import pyplot\n",
    "\n",
    "from tracks_utils import *\n",
    "\n",
    "import warnings\n",
    "warnings.filterwarnings(\"ignore\")"
   ]
  },
  {
   "cell_type": "code",
   "execution_count": 2,
   "id": "9c66fa75-0fad-4ce5-a42d-f2c847f8b879",
   "metadata": {
    "tags": []
   },
   "outputs": [
    {
     "name": "stdout",
     "output_type": "stream",
     "text": [
      "['08L' '10E' '10L']\n"
     ]
    }
   ],
   "source": [
    "# Creating storm dataframe\n",
    "df_storms = create_storms_df()\n",
    "print(df_storms.stormIdentifier.unique())\n",
    "df_storm = df_storms[df_storms.stormIdentifier == '08L']"
   ]
  },
  {
   "cell_type": "code",
   "execution_count": 3,
   "id": "11b07368-3665-4fad-8402-f6cba2a1b7a2",
   "metadata": {
    "tags": []
   },
   "outputs": [
    {
     "data": {
      "text/plain": [
       "'data/pts_raster.tif'"
      ]
     },
     "execution_count": 3,
     "metadata": {},
     "output_type": "execute_result"
    }
   ],
   "source": [
    "# Compute strike probability map and save it in raster file\n",
    "strike_map_xr, tif_path = strike_probability_map(df_storm)\n",
    "tif_path"
   ]
  },
  {
   "cell_type": "code",
   "execution_count": 4,
   "id": "0dd67de2-5493-4019-91e4-d5fd332be27a",
   "metadata": {
    "tags": []
   },
   "outputs": [],
   "source": [
    "src = rasterio.open(tif_path)\n",
    "# pyplot.imshow(src.read(1))\n",
    "# pyplot.show()"
   ]
  },
  {
   "cell_type": "code",
   "execution_count": 27,
   "id": "6ac34870-e162-4f82-b0e1-f8fa60d8faac",
   "metadata": {
    "tags": []
   },
   "outputs": [],
   "source": [
    "def make_palette_dict(pal):\n",
    "    perc = [\"0-10%\", \"11-20%\", \"21-30%\", \"31-40%\", \"41-50%\", \"51-60%\", \"61-70%\", \"71-80%\", \"81-90%\", \"91-100%\"]\n",
    "    dictionary = {perc[0]:pal[0], perc[1]:pal[1], perc[2]:pal[2], perc[3]:pal[3], perc[4]:pal[4], perc[5]:pal[5], perc[6]:pal[6], perc[7]:pal[7], perc[8]:pal[8], perc[9]:pal[9]}\n",
    "    return dictionary"
   ]
  },
  {
   "cell_type": "code",
   "execution_count": 41,
   "id": "2fdffe99-02f8-4f97-bd30-928436c17845",
   "metadata": {
    "tags": []
   },
   "outputs": [],
   "source": [
    "client = TileClient(src)\n",
    "palette = [\"#c4ff70\", \"#6ae24c\", \"#2a9134\", \"#137547\", \"#054a29\", \"#2397d1\", \"#557ff3\", \"#143cdc\", \"#3910b4\", \"#1e0063\"]\n",
    "palette_dict = make_palette_dict(palette)\n",
    "t = get_leaflet_tile_layer(client, name = \"Strike Probability Map\", opacity = 0.8, palette = palette, nodata=0.0)"
   ]
  },
  {
   "cell_type": "code",
   "execution_count": 42,
   "id": "cc4b3647-9e43-4d06-8eb5-7eeb51f2dde3",
   "metadata": {
    "tags": []
   },
   "outputs": [],
   "source": [
    "# Create the legend control\n",
    "legend_control = ipyleaflet.LegendControl(palette_dict, name=\"Strike Probability\", position=\"topright\")"
   ]
  },
  {
   "cell_type": "code",
   "execution_count": 43,
   "id": "132532da-a366-47eb-bd3c-648a7f8b3494",
   "metadata": {
    "tags": []
   },
   "outputs": [
    {
     "data": {
      "application/vnd.jupyter.widget-view+json": {
       "model_id": "ae55c2d7047a4e2b9d3ff6518579c374",
       "version_major": 2,
       "version_minor": 0
      },
      "text/plain": [
       "Map(center=[31.8, -69.7], controls=(ZoomControl(options=['position', 'zoom_in_text', 'zoom_in_title', 'zoom_ou…"
      ]
     },
     "metadata": {},
     "output_type": "display_data"
    }
   ],
   "source": [
    "m = ipyleaflet.Map(center=(df_storm.latitude.iloc[0], df_storm.longitude.iloc[0]), zoom=3)\n",
    "m.add_layer(t)\n",
    "m.add_control(ipyleaflet.LayersControl())\n",
    "m.add_control(ipyleaflet.FullScreenControl())\n",
    "m.add_control(legend_control)\n",
    "display(m)"
   ]
  },
  {
   "cell_type": "code",
   "execution_count": null,
   "id": "3fd1c494-69a9-4847-9e0a-6a1b05e91d4b",
   "metadata": {},
   "outputs": [],
   "source": [
    "# Palette pink-yellow-orange-red\n",
    "[\"#f7edf0\", \"#f4cbc6\", \"#f4afab\", \"#f4eea9\", \"#f4f482\", \"#f79d65\", \"#f4845f\", \"#f27059\", \"#f25c54\", \"#88292f\"]"
   ]
  },
  {
   "cell_type": "code",
   "execution_count": null,
   "id": "e2a9594f-6fa3-48a5-8114-6a2a0d5a1a5b",
   "metadata": {},
   "outputs": [],
   "source": [
    "# Palette green to blue\n",
    "[\"#c4ff70\", \"#6ae24c\", \"#2a9134\", \"#137547\", \"#054a29\", \"#2397d1\", \"#557ff3\", \"#143cdc\", \"#3910b4\", \"#1e0063\"]"
   ]
  },
  {
   "cell_type": "code",
   "execution_count": null,
   "id": "fc19f6c8-3217-4cb2-ab56-d25114fc8c21",
   "metadata": {},
   "outputs": [],
   "source": [
    "# Palette dictionary pink-yellow-orange-red\n",
    "{\"0-10%\":\"#f7edf0\", \"11-20%\":\"#f4cbc6\", \"21-30%\":\"#f4afab\", \"31-40%\":\"#f4eea9\", \"41-50%\":\"#f4f482\", \"51-60%\":\"#f79d65\", \"61-70%\":\"#f4845f\", \"71-80%\":\"#f27059\", \"81-90%\":\"#f25c54\", \"91-100%\":\"#88292f\"}"
   ]
  }
 ],
 "metadata": {
  "kernelspec": {
   "display_name": "Python 3 (ipykernel)",
   "language": "python",
   "name": "python3"
  },
  "language_info": {
   "codemirror_mode": {
    "name": "ipython",
    "version": 3
   },
   "file_extension": ".py",
   "mimetype": "text/x-python",
   "name": "python",
   "nbconvert_exporter": "python",
   "pygments_lexer": "ipython3",
   "version": "3.11.4"
  }
 },
 "nbformat": 4,
 "nbformat_minor": 5
}
