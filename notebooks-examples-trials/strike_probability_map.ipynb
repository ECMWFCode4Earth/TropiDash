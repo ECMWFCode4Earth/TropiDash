{
 "cells": [
  {
   "cell_type": "code",
   "execution_count": 1,
   "id": "c44474bd-54c7-45e3-9849-3ade02a02056",
   "metadata": {
    "tags": []
   },
   "outputs": [],
   "source": [
    "import argparse\n",
    "import pickle\n",
    "import re\n",
    "from datetime import datetime, timedelta\n",
    "from itertools import chain, tee\n",
    "from os import environ, makedirs, path\n",
    "from localtileserver import get_leaflet_tile_layer, TileClient\n",
    "\n",
    "import eccodes\n",
    "import pdbufr\n",
    "import numpy as np\n",
    "import pandas as pd\n",
    "import xarray as xr\n",
    "import rasterio\n",
    "import rioxarray\n",
    "import ipyleaflet\n",
    "from scipy.optimize import root_scalar\n",
    "from scipy.spatial import KDTree\n",
    "from matplotlib import pyplot\n",
    "\n",
    "from tracks_utils import *\n",
    "\n",
    "import warnings\n",
    "warnings.filterwarnings(\"ignore\")"
   ]
  },
  {
   "cell_type": "code",
   "execution_count": 2,
   "id": "9c66fa75-0fad-4ce5-a42d-f2c847f8b879",
   "metadata": {
    "tags": []
   },
   "outputs": [
    {
     "name": "stdout",
     "output_type": "stream",
     "text": [
      "['08L' '10E' '10L']\n"
     ]
    }
   ],
   "source": [
    "# Creating storm dataframe\n",
    "df_storms = create_storms_df()\n",
    "print(df_storms.stormIdentifier.unique())\n",
    "df_storm = df_storms[df_storms.stormIdentifier == '08L']"
   ]
  },
  {
   "cell_type": "code",
   "execution_count": 3,
   "id": "11b07368-3665-4fad-8402-f6cba2a1b7a2",
   "metadata": {
    "tags": []
   },
   "outputs": [
    {
     "data": {
      "text/plain": [
       "'data/pts_raster.tif'"
      ]
     },
     "execution_count": 3,
     "metadata": {},
     "output_type": "execute_result"
    }
   ],
   "source": [
    "# Compute strike probability map and save it in raster file\n",
    "strike_map_xr, tif_path = strike_probability_map(df_storm)\n",
    "tif_path"
   ]
  },
  {
   "cell_type": "code",
   "execution_count": 15,
   "id": "0dd67de2-5493-4019-91e4-d5fd332be27a",
   "metadata": {
    "tags": []
   },
   "outputs": [],
   "source": [
    "src = rasterio.open(tif_path)\n",
    "# pyplot.imshow(src.read(1))\n",
    "# pyplot.show()"
   ]
  },
  {
   "cell_type": "code",
   "execution_count": 24,
   "id": "2fdffe99-02f8-4f97-bd30-928436c17845",
   "metadata": {
    "tags": []
   },
   "outputs": [],
   "source": [
    "client = TileClient(src)\n",
    "t = get_leaflet_tile_layer(client, name = \"Strike Probability Map\", opacity = 0.75, palette = \"tab20b\", fill=False, nodata=src.nodata)"
   ]
  },
  {
   "cell_type": "code",
   "execution_count": 25,
   "id": "132532da-a366-47eb-bd3c-648a7f8b3494",
   "metadata": {
    "tags": []
   },
   "outputs": [
    {
     "data": {
      "application/vnd.jupyter.widget-view+json": {
       "model_id": "2aa897e19f584a07a49be74c41bf84f1",
       "version_major": 2,
       "version_minor": 0
      },
      "text/plain": [
       "Map(center=[29.0, -71.2], controls=(ZoomControl(options=['position', 'zoom_in_text', 'zoom_in_title', 'zoom_ou…"
      ]
     },
     "metadata": {},
     "output_type": "display_data"
    }
   ],
   "source": [
    "m = ipyleaflet.Map(center=(df_storm.lat[0], df_storm.lon[0]), zoom=3)\n",
    "m.add_layer(t)\n",
    "m.add_control(ipyleaflet.LayersControl())\n",
    "display(m)"
   ]
  },
  {
   "cell_type": "code",
   "execution_count": null,
   "id": "3fd1c494-69a9-4847-9e0a-6a1b05e91d4b",
   "metadata": {},
   "outputs": [],
   "source": []
  }
 ],
 "metadata": {
  "kernelspec": {
   "display_name": "Python 3 (ipykernel)",
   "language": "python",
   "name": "python3"
  },
  "language_info": {
   "codemirror_mode": {
    "name": "ipython",
    "version": 3
   },
   "file_extension": ".py",
   "mimetype": "text/x-python",
   "name": "python",
   "nbconvert_exporter": "python",
   "pygments_lexer": "ipython3",
   "version": "3.11.4"
  }
 },
 "nbformat": 4,
 "nbformat_minor": 5
}
