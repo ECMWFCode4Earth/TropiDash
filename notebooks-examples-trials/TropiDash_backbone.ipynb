{
 "cells": [
  {
   "cell_type": "code",
   "execution_count": 1,
   "id": "14b4b0a2-0586-43b1-a9ff-f79612b7b3ec",
   "metadata": {
    "tags": []
   },
   "outputs": [],
   "source": [
    "# Libraries import \n",
    "import pdbufr\n",
    "import sys\n",
    "import traceback\n",
    " \n",
    "from math import isnan\n",
    "\n",
    "from eccodes import *\n",
    "from ecmwf.opendata import Client\n",
    "from math import isnan\n",
    "from datetime import datetime, timedelta\n",
    "\n",
    "import os\n",
    "import birdy\n",
    "import geopandas as gpd\n",
    "import pandas as pd\n",
    "import numpy as np\n",
    "import xarray as xr\n",
    "import requests\n",
    "\n",
    "from ipywidgets import interact\n",
    "import ipyleaflet\n",
    "import ipywidgets as widgets\n",
    "\n",
    "from Magics import macro as magics\n",
    "from IPython.display import display\n",
    "from Magics.macro import *\n",
    "\n",
    "import warnings\n",
    "warnings.filterwarnings(\"ignore\")\n",
    "\n",
    "from utils import *"
   ]
  },
  {
   "cell_type": "code",
   "execution_count": 2,
   "id": "b97f09f6-72d0-4e7b-9757-38e74a4530ee",
   "metadata": {
    "tags": []
   },
   "outputs": [
    {
     "data": {
      "application/vnd.jupyter.widget-view+json": {
       "model_id": "be51c48c458c448894357e61e05fb22e",
       "version_major": 2,
       "version_minor": 0
      },
      "text/plain": [
       "DatePicker(value=datetime.datetime(2023, 8, 23, 0, 0), description='Forecast date:', step=1, style=Description…"
      ]
     },
     "execution_count": 2,
     "metadata": {},
     "output_type": "execute_result"
    }
   ],
   "source": [
    "## Widget to define the starting date of the forecast of which we want to download the data ##\n",
    "\n",
    "start_date_forecast = widgets.DatePicker(\n",
    "    description = 'Forecast date:',\n",
    "    value = datetime(datetime.now().year, datetime.now().month, datetime.now().day, hour=0),\n",
    ")\n",
    "\n",
    "start_date_forecast.style.description_width = '90px'\n",
    "\n",
    "# Print widget\n",
    "start_date_forecast"
   ]
  },
  {
   "cell_type": "code",
   "execution_count": 3,
   "id": "769d8bf0-3075-4886-bbdc-79a8eb4799be",
   "metadata": {
    "tags": []
   },
   "outputs": [
    {
     "data": {
      "application/vnd.jupyter.widget-view+json": {
       "model_id": "",
       "version_major": 2,
       "version_minor": 0
      },
      "text/plain": [
       "20230823000000-240h-enfo-tf.bufr:   0%|          | 0.00/913k [00:00<?, ?B/s]"
      ]
     },
     "metadata": {},
     "output_type": "display_data"
    }
   ],
   "source": [
    "## Download the tracks forecast based on the starting date selected ##\n",
    "# If too early in the morning the forecast of the current day cannot be donwloaded, need to fix this -> If raiseError: download forecast of the previous day\n",
    "    \n",
    "download_tracks_forecast(start_date_forecast.value)\n",
    "\n",
    "## Donwload the observed data from IBTrACS##\n",
    "\n",
    "url = 'https://www.ncei.noaa.gov/data/international-best-track-archive-for-climate-stewardship-ibtracs/v04r00/access/csv/ibtracs.ACTIVE.list.v04r00.csv'\n",
    "r = requests.get(url, allow_redirects=True)\n",
    "save_file = 'data/ibtracs.ACTIVE.list.v04r00.csv'\n",
    "with open(save_file, 'wb') as f:\n",
    "    f.write(r.content)"
   ]
  },
  {
   "cell_type": "code",
   "execution_count": 4,
   "id": "9dea563b-1783-46e4-9aae-f0c2cf3f0609",
   "metadata": {
    "tags": []
   },
   "outputs": [],
   "source": [
    "## Load forecasted tracks data in a dataframe ##\n",
    "# create_storms_df loads a file called tc_test_track_data.bufr\n",
    "df_storms_forecast = create_storms_df()\n",
    "\n",
    "## Load observed tracks data in a dataframe ## \n",
    "df_storms_observed = pd.read_csv('data/ibtracs.ACTIVE.list.v04r00.csv', header=[0,1])\n",
    "\n",
    "## Find the correspondent cyclone across forecast and observations ## \n",
    "storms_pair = storms_pairing(df_storms_forecast, df_storms_observed)"
   ]
  },
  {
   "cell_type": "code",
   "execution_count": 5,
   "id": "2de13ad9-db4d-4baa-863d-07878ca3a5f8",
   "metadata": {
    "tags": []
   },
   "outputs": [
    {
     "data": {
      "application/vnd.jupyter.widget-view+json": {
       "model_id": "e6b018f617e045f4adfff14891bf95de",
       "version_major": 2,
       "version_minor": 0
      },
      "text/plain": [
       "Dropdown(description='Active Storms:', options=('07L-EMILY', '08L-FRANKLIN', '08W-DORA', '09L-NOT_NAMED'), sty…"
      ]
     },
     "metadata": {},
     "output_type": "display_data"
    }
   ],
   "source": [
    "# Cyclone dropdown selection widget to select cyclone of which to plot the data\n",
    "cyclone = widgets.Dropdown(\n",
    "    options = storms_pair,\n",
    "    description = 'Active Storms:',\n",
    "    disabled=False,\n",
    ")\n",
    "cyclone.style.description_width = '90px'\n",
    "\n",
    "# Update storms list when downloading new tracks data\n",
    "def update_storms_list(_):\n",
    "    download_tracks_forecast(start_date_forecast.value)\n",
    "    df_storms = create_storms_df()\n",
    "    df_storms_observed = pd.read_csv('data/ibtracs.ACTIVE.list.v04r00.csv', header=[0,1])\n",
    "    storms_pair = storms_pairing(df_storms_forecast, df_storms_observed)\n",
    "    cyclone.options = storms_pair.tolist()\n",
    "\n",
    "start_date_forecast.observe(update_storms_list, names='value')\n",
    "\n",
    "# Print widget\n",
    "display(cyclone)"
   ]
  },
  {
   "cell_type": "code",
   "execution_count": 6,
   "id": "ea9b8b67-f058-4970-9bf3-9675f1dac755",
   "metadata": {
    "tags": []
   },
   "outputs": [
    {
     "data": {
      "application/vnd.jupyter.widget-view+json": {
       "model_id": "7e3f306f0e274e67a75e1cddfd7d2fdf",
       "version_major": 2,
       "version_minor": 0
      },
      "text/plain": [
       "Button(description='Update Forecast', style=ButtonStyle(button_color='blue', font_weight='bold', text_color='l…"
      ]
     },
     "metadata": {},
     "output_type": "display_data"
    },
    {
     "data": {
      "application/vnd.jupyter.widget-view+json": {
       "model_id": "596bad0242994f868718820d82f0210c",
       "version_major": 2,
       "version_minor": 0
      },
      "text/plain": [
       "Output()"
      ]
     },
     "metadata": {},
     "output_type": "display_data"
    }
   ],
   "source": [
    "## UPDATE BUTTON TO DOWNLOAD NEW DATA AND CREATE STORM DATAFRAME DEPENDING ON THE CYCLONE SELECTED ##\n",
    "\n",
    "update_button = widgets.Button(\n",
    "    description = 'Update Forecast',\n",
    "    style=dict(\n",
    "        button_color='blue',\n",
    "        font_weight='bold',\n",
    "        text_color='lightgreen',\n",
    "        text_decoration='underline',\n",
    "))\n",
    "\n",
    "update_output = widgets.Output()\n",
    "\n",
    "# Download new forecast data when clicking the Update Forecast Button\n",
    "def on_button_clicked(b):\n",
    "    with update_output:\n",
    "        df_storms = create_storms_df()\n",
    "        df_storms_observed = pd.read_csv('data/ibtracs.ACTIVE.list.v04r00.csv', header=[0,1])\n",
    "        plot_cyclone_tracks_ipyleaflet(cyclone.value)\n",
    "        print(\"Forecast updated!\", end='\\r')\n",
    "\n",
    "update_button.on_click(on_button_clicked)\n",
    "\n",
    "# Print widget\n",
    "display(update_button, update_output)"
   ]
  },
  {
   "cell_type": "code",
   "execution_count": null,
   "id": "85036d34-dd17-4599-81ac-9f7317964f7a",
   "metadata": {},
   "outputs": [],
   "source": []
  }
 ],
 "metadata": {
  "kernelspec": {
   "display_name": "Python 3 (ipykernel)",
   "language": "python",
   "name": "python3"
  },
  "language_info": {
   "codemirror_mode": {
    "name": "ipython",
    "version": 3
   },
   "file_extension": ".py",
   "mimetype": "text/x-python",
   "name": "python",
   "nbconvert_exporter": "python",
   "pygments_lexer": "ipython3",
   "version": "3.11.4"
  }
 },
 "nbformat": 4,
 "nbformat_minor": 5
}
