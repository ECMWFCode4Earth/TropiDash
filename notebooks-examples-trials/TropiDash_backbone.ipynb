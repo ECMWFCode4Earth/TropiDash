{
 "cells": [
  {
   "cell_type": "code",
   "execution_count": 1,
   "id": "14b4b0a2-0586-43b1-a9ff-f79612b7b3ec",
   "metadata": {
    "tags": []
   },
   "outputs": [],
   "source": [
    "# Libraries import \n",
    "import pdbufr\n",
    "import sys\n",
    "import traceback\n",
    " \n",
    "from math import isnan\n",
    "from eccodes import *\n",
    "from ecmwf.opendata import Client\n",
    "from datetime import datetime, timedelta\n",
    "from PIL import Image\n",
    "\n",
    "import os\n",
    "import birdy\n",
    "import pandas as pd\n",
    "import numpy as np\n",
    "import xarray as xr\n",
    "import requests\n",
    "\n",
    "from ipywidgets import interact\n",
    "import ipyleaflet\n",
    "import ipywidgets as widgets\n",
    "\n",
    "from IPython.display import display\n",
    "\n",
    "import warnings\n",
    "warnings.filterwarnings(\"ignore\")\n",
    "\n",
    "from tracks_utils import *\n",
    "from atm_utils import * "
   ]
  },
  {
   "cell_type": "code",
   "execution_count": 2,
   "id": "c22eaf37-0021-4c68-82e6-a00a275e99f7",
   "metadata": {
    "tags": []
   },
   "outputs": [],
   "source": [
    "## WIDGET TO IMPORT THE TITLE IMAGE ##\n",
    "\n",
    "file = open(\"layout_data/title.jpg\", \"rb\")\n",
    "image = file.read()\n",
    "title_img = widgets.Image(\n",
    "    value=image,\n",
    "    format='jpg',\n",
    ")"
   ]
  },
  {
   "cell_type": "code",
   "execution_count": 3,
   "id": "b97f09f6-72d0-4e7b-9757-38e74a4530ee",
   "metadata": {
    "tags": []
   },
   "outputs": [],
   "source": [
    "## WIDGET TO DEFINE THE STARTING DATE OF THE FORECAST ##\n",
    "## This sets the date of which we want to download the forecast ##\n",
    "\n",
    "start_date_forecast = widgets.DatePicker(\n",
    "    description = 'Forecast date:',\n",
    "    value = datetime(datetime.now().year, datetime.now().month, datetime.now().day, hour=0),\n",
    ")\n",
    "\n",
    "start_date_forecast.style.description_width = '90px'"
   ]
  },
  {
   "cell_type": "code",
   "execution_count": 4,
   "id": "769d8bf0-3075-4886-bbdc-79a8eb4799be",
   "metadata": {
    "tags": []
   },
   "outputs": [
    {
     "data": {
      "application/vnd.jupyter.widget-view+json": {
       "model_id": "",
       "version_major": 2,
       "version_minor": 0
      },
      "text/plain": [
       "20230905000000-240h-enfo-tf.bufr:   0%|          | 0.00/704k [00:00<?, ?B/s]"
      ]
     },
     "metadata": {},
     "output_type": "display_data"
    }
   ],
   "source": [
    "## DOWNLOAD THE FORECAST TRACKS ##\n",
    "# The forecast data is saved as bufr file called tc_test_track_data.bufr    \n",
    "download_tracks_forecast(start_date_forecast.value)\n",
    "\n",
    "## DOWNLOAD THE OBSERVED TRACKS DATA FROM IBTrACS ##\n",
    "# The observed data is saved as a csv file called ibtracs.ACTIVE.list.v04r00.csv\n",
    "url = 'https://www.ncei.noaa.gov/data/international-best-track-archive-for-climate-stewardship-ibtracs/v04r00/access/csv/ibtracs.ACTIVE.list.v04r00.csv'\n",
    "r = requests.get(url, allow_redirects=True)\n",
    "save_file = 'data/ibtracs.ACTIVE.list.v04r00.csv'\n",
    "with open(save_file, 'wb') as f:\n",
    "    f.write(r.content)"
   ]
  },
  {
   "cell_type": "code",
   "execution_count": 5,
   "id": "9dea563b-1783-46e4-9aae-f0c2cf3f0609",
   "metadata": {
    "tags": []
   },
   "outputs": [],
   "source": [
    "## LOAD THE FORECAST DATA OF THE TRACKS IN A DATAFRAME ##\n",
    "# create_storms_df loads a file called tc_test_track_data.bufr\n",
    "df_storms_forecast = create_storms_df()\n",
    "\n",
    "## LOAD THE OBSERVED TRACKS IN A DATAFRAME ## \n",
    "df_storms_observed = pd.read_csv('data/ibtracs.ACTIVE.list.v04r00.csv', header=[0,1])\n",
    "\n",
    "## CREATE THE LIST OF ACTIVE CYCLONES IN THE FORECAST ##\n",
    "cycl = np.array((df_storms_forecast.stormIdentifier.unique(), df_storms_forecast.longStormName.unique()))\n",
    "active_cyclones = [f\"{cycl[0,c]}-{cycl[1,c].lstrip()}\" for c in range(cycl.shape[1])]"
   ]
  },
  {
   "cell_type": "code",
   "execution_count": 6,
   "id": "2de13ad9-db4d-4baa-863d-07878ca3a5f8",
   "metadata": {
    "tags": []
   },
   "outputs": [],
   "source": [
    "## WIDGET TO SHOW THE LIST OF ACTIVE CYCLONES AND SELECT THE ONE OF WHICH WE WANT TO PLOT THE DATA ##\n",
    "\n",
    "cyclone = widgets.Dropdown(\n",
    "    options = active_cyclones,\n",
    "    description = 'Active Storms:',\n",
    "    disabled=False,\n",
    ")\n",
    "cyclone.style.description_width = '90px'\n",
    "\n",
    "# Update storms list when downloading new tracks data\n",
    "def update_storms_list(_):\n",
    "    download_tracks_forecast(start_date_forecast.value)\n",
    "    df_storms_forecast = create_storms_df()\n",
    "    df_storms_observed = pd.read_csv('data/ibtracs.ACTIVE.list.v04r00.csv', header=[0,1])\n",
    "    cycl = np.array((df_storms_forecast.stormIdentifier.unique(), df_storms_forecast.longStormName.unique()))\n",
    "    active_cyclones = [f\"{cycl[0,c]}-{cycl[1,c].lstrip()}\" for c in range(cycl.shape[1])]\n",
    "    cyclone.options = active_cyclones\n",
    "\n",
    "start_date_forecast.observe(update_storms_list, names='value')"
   ]
  },
  {
   "cell_type": "code",
   "execution_count": 7,
   "id": "cff7b3e3-0fc6-4a5c-b476-45ba490a3d40",
   "metadata": {
    "tags": []
   },
   "outputs": [],
   "source": [
    "## WIDGET TO SELECT WHICH ENSEMBLE MEMBERS OF THE FORECAST TRACK PLOT ##\n",
    "\n",
    "members = df_storms_forecast.ensembleMemberNumber.unique().tolist()\n",
    "ens_members = widgets.SelectMultiple(\n",
    "    options=members,\n",
    "    value=[],\n",
    "    description=\"Ensemble members to plot:\",\n",
    "    disable=False\n",
    ")\n",
    "\n",
    "ens_members.style.description_width = '168px'\n",
    "\n",
    "# Update ensemble members list when new track data are available\n",
    "def update_ensembles_list(_):\n",
    "    df_storms_forecast = create_storms_df()\n",
    "    ens_members.options = df_storms_forecast.ensembleMemberNumber.unique().tolist()\n",
    "    \n",
    "cyclone.observe(update_ensembles_list, names='value')\n",
    "    \n",
    "# Print widget\n",
    "message = widgets.HTML(\n",
    "    value=\"Multiple values can be selected with <b>shift</b> and/or <b>ctrl</b> (or <b>command</b>)\",\n",
    ")"
   ]
  },
  {
   "cell_type": "code",
   "execution_count": 8,
   "id": "cfb179a6-c172-4242-bd41-2446266c58b6",
   "metadata": {
    "tags": []
   },
   "outputs": [],
   "source": [
    "## UPDATE BUTTON TO PLOT NEW TRACKS AND DATA DEPENDING ON THE CYCLONE SELECTED ##\n",
    "\n",
    "update_button = widgets.Button(\n",
    "    description = 'Update Forecast',\n",
    "    icon = \"check\",\n",
    "    style=dict(\n",
    "        button_color='blue',\n",
    "        font_weight='bold',\n",
    "        text_color='lightgreen',\n",
    "        text_decoration='underline',\n",
    "))\n",
    "\n",
    "update_output = widgets.Output()\n",
    "\n",
    "# Plot new data when clicking the Update Forecast Button\n",
    "def on_button_clicked(b):\n",
    "    with update_output:\n",
    "        ## PRINT MESSAGE IF THE FORECAST HAS NO ACTIVE CYCLONES ##\n",
    "        if len(cyclone.options) == 0:\n",
    "            display(widgets.HTML(value=f\"There are no active cyclones in the forecast of <b>{start_date_forecast.value.strftime('%d %b %Y')}</b>\"), clear=True)\n",
    "            display(widgets.HTML(value=f\"Please select another date.\"))\n",
    "        else:\n",
    "            ## Output of initial lat-lon, average track and initial-final time step of the cyclone for the next sections ##\n",
    "            code, name = cyclone.value.split('-')\n",
    "            display(widgets.HTML(value=f\"Creating the dataset for tropical cyclone <b>{name}</b>\"), clear=True) # clear previous cyclones plots\n",
    "            df_storms_forecast = create_storms_df()\n",
    "            df_storms_observed = pd.read_csv('data/ibtracs.ACTIVE.list.v04r00.csv', header=[0,1])\n",
    "            df_f = df_storms_forecast[df_storms_forecast.stormIdentifier == code]\n",
    "            df_f.reset_index(drop=True, inplace=True)\n",
    "            df_o = df_storms_observed[df_storms_observed.NAME.squeeze() == name]\n",
    "            df_o.reset_index(drop=True, inplace=True)\n",
    "            # Initial and final lat-lon\n",
    "            initial_lat_lon = (df_f.latitude.iloc[0], df_f.longitude.iloc[0])\n",
    "            final_lat_lon = (df_f.latitude.iloc[-1], df_f.longitude.iloc[-1])\n",
    "            coord = ((initial_lat_lon[0] - final_lat_lon[0])/2, (initial_lat_lon[1] - final_lat_lon[1])/2)\n",
    "            # Average track\n",
    "            locations_avg, timesteps_avg = mean_forecast_track(df_f)\n",
    "            # Initial and final time step\n",
    "            df_f[\"date\"] = datetime(df_f.year[0], df_f.month[0], df_f.day[0], df_f.hour[0]) + timedelta(hours=1) * df_f.timePeriod\n",
    "            # If we select a forecast date in the past the cyclone might not be present in the observations data because we can access only yhe latest one\n",
    "            if len(df_o) > 0:\n",
    "                initial_timestep = datetime.strptime(df_o.ISO_TIME.squeeze()[0], \"%Y-%m-%d %H:%M:%S\")\n",
    "            else:\n",
    "                initial_timestep = start_date_forecast.value\n",
    "                display(widgets.HTML(value=f\"Cyclone <b>{name}</b> is not present in the latest observations data of IBTrACS\"))\n",
    "            final_timestep = df_f.date.iloc[-1].to_pydatetime()\n",
    "            display(widgets.HTML(value=\"Dataset prepared!\"))\n",
    "\n",
    "            ## Plots of the tracks ##\n",
    "            display(widgets.HTML(value=f\"Creating the plots for the tropical cyclone tracks considering ensemble members: <b>{ens_members.value}</b>\"))\n",
    "            tc_track_map = plot_cyclone_tracks_ipyleaflet(ens_members.value, df_f, df_o)\n",
    "            display(tc_track_map)\n",
    "\n",
    "update_button.on_click(on_button_clicked)"
   ]
  },
  {
   "cell_type": "code",
   "execution_count": 9,
   "id": "bf3b188a-0a9d-496f-871e-2f3b001ca0ea",
   "metadata": {
    "tags": []
   },
   "outputs": [
    {
     "data": {
      "application/vnd.jupyter.widget-view+json": {
       "model_id": "58e9166cf6a84424ba175805f43e3282",
       "version_major": 2,
       "version_minor": 0
      },
      "text/plain": [
       "Box(children=(Image(value=b'\\xff\\xd8\\xff\\xe0\\x00\\x10JFIF\\x00\\x01\\x02\\x01\\x00\\xcd\\x00\\xcd\\x00\\x00\\xff\\xe2\\x0f\\x…"
      ]
     },
     "metadata": {},
     "output_type": "display_data"
    },
    {
     "data": {
      "application/vnd.jupyter.widget-view+json": {
       "model_id": "e8afea0019404defa5ac653a0e2417e6",
       "version_major": 2,
       "version_minor": 0
      },
      "text/plain": [
       "Output()"
      ]
     },
     "metadata": {},
     "output_type": "display_data"
    }
   ],
   "source": [
    "## GROUP THE THREE PRINCIPAL WIDGET IN A VERTICAL BOX STRUCTURE ##\n",
    "selection_box = widgets.Box([start_date_forecast, cyclone, message, ens_members],\n",
    "                  layout=widgets.Layout(\n",
    "                      display='flex',\n",
    "                      flex_flow='column',\n",
    "                      border='3px dashed orange',\n",
    "                      align_items='center',\n",
    "                      width='100%'\n",
    "                  ))\n",
    "\n",
    "## GROUP THE THREE PRINCIPAL WIDGET AND THE UPDATE BUTTON TOGETHER\n",
    "widgets_box = widgets.Box([selection_box, update_button],\n",
    "                          layout=widgets.Layout(\n",
    "                              display='flex',\n",
    "                              flex_flow='column',\n",
    "                              align_items='center',\n",
    "                              # align_content='space-between',\n",
    "                              # width='100%',\n",
    "                              # height='100%'\n",
    "                          ))\n",
    "\n",
    "\n",
    "## GROUP THE TITLE IMAGE WITH THE GENERAL WIDGETS BOX ##\n",
    "title_box = widgets.Box([title_img, widgets_box],\n",
    "                        layout=widgets.Layout(\n",
    "                            display='flex',\n",
    "                            flex_flow='row',\n",
    "                            align_items='center'\n",
    "                        ))\n",
    "\n",
    "display(title_box, update_output)"
   ]
  },
  {
   "cell_type": "code",
   "execution_count": null,
   "id": "67dc1c3c-91b5-4d63-b8cb-0469e85d34bb",
   "metadata": {},
   "outputs": [],
   "source": []
  }
 ],
 "metadata": {
  "kernelspec": {
   "display_name": "Python 3 (ipykernel)",
   "language": "python",
   "name": "python3"
  },
  "language_info": {
   "codemirror_mode": {
    "name": "ipython",
    "version": 3
   },
   "file_extension": ".py",
   "mimetype": "text/x-python",
   "name": "python",
   "nbconvert_exporter": "python",
   "pygments_lexer": "ipython3",
   "version": "3.11.4"
  }
 },
 "nbformat": 4,
 "nbformat_minor": 5
}
