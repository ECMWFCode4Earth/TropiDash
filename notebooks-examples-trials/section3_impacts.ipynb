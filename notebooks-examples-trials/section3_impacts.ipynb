{
 "cells": [
  {
   "cell_type": "markdown",
   "metadata": {},
   "source": [
    "## Section 3: Impacts"
   ]
  },
  {
   "cell_type": "code",
   "execution_count": 1,
   "metadata": {
    "tags": []
   },
   "outputs": [],
   "source": [
    "#Necessary packages\n",
    "from ipyleaflet import Choropleth, Map, basemap_to_tiles, LayersControl\n",
    "import ipywidgets as widgets\n",
    "from IPython.display import display\n",
    "from localtileserver import get_leaflet_tile_layer, TileClient\n",
    "import matplotlib\n",
    "# from Magics import macro as magics\n",
    "# from Magics.macro import *\n",
    "import numpy as np\n",
    "import pandas as pd\n",
    "import rasterio #rasterio was preferred over xarray since it is more compatible with ipyleaflet\n",
    "from rasterio.enums import Resampling\n",
    "import requests\n",
    "# import rioxarray as rxr\n",
    "# import xarray as xr"
   ]
  },
  {
   "cell_type": "code",
   "execution_count": 2,
   "metadata": {
    "tags": []
   },
   "outputs": [],
   "source": [
    "#custom functions\n",
    "def resample_raster(path, fact = 0.5, rio = True):\n",
    "    \"\"\"\n",
    "    Resample a raster from its file path\n",
    "    \n",
    "    path: str\n",
    "        Path to raster file\n",
    "    fact: float\n",
    "        Upscaling or downscaling factor. Default: 0.5 (i.e. halving the raster spatial resolution)\n",
    "    \"\"\"\n",
    "    # https://rasterio.readthedocs.io/en/stable/topics/resampling.html\n",
    "    if rio:\n",
    "        with rasterio.open(path) as dataset:\n",
    "            # resample data to target shape\n",
    "            data = dataset.read(\n",
    "                out_shape=(\n",
    "                    dataset.count,\n",
    "                    int(dataset.height * fact),\n",
    "                    int(dataset.width * fact)\n",
    "                ),\n",
    "                resampling = Resampling.bilinear\n",
    "            )\n",
    "            # scale image transform\n",
    "            transform = dataset.transform * dataset.transform.scale(\n",
    "                (dataset.width / data.shape[-1]),\n",
    "                (dataset.height / data.shape[-2])\n",
    "            )\n",
    "        return(dataset)\n",
    "    else:\n",
    "        # method with xarray if needed\n",
    "        # https://docs.xarray.dev/en/stable/generated/xarray.DataArray.coarsen.html\n",
    "        pass"
   ]
  },
  {
   "cell_type": "code",
   "execution_count": null,
   "metadata": {},
   "outputs": [],
   "source": [
    "#Parameters to be imported from the main widget\n",
    "initial_lat_lon = (38, -90)\n",
    "final_lat_lon = (60, 90)"
   ]
  },
  {
   "cell_type": "code",
   "execution_count": null,
   "metadata": {},
   "outputs": [],
   "source": [
    "#Variable initialization\n",
    "min_lat = initial_lat_lon[0]\n",
    "min_lon = initial_lat_lon[1]\n",
    "\n",
    "max_lat = final_lat_lon[0]\n",
    "max_lon = final_lat_lon[1]"
   ]
  },
  {
   "cell_type": "code",
   "execution_count": 3,
   "metadata": {},
   "outputs": [],
   "source": [
    "# Widgets\n",
    "# widgets selection lat lon\n",
    "longitude = np.arange(-180,185,5)\n",
    "longitude_slider = widgets.SelectionRangeSlider(\n",
    "    options = longitude, index = (0,len(longitude)-1), description='Longitude',\n",
    "    orientation='horizontal', disabled=False)\n",
    "latitude = np.arange(-90,95,5)\n",
    "latitude_slider = widgets.SelectionRangeSlider(\n",
    "    options = latitude, index = (0,len(latitude)-1), description='Latitude',\n",
    "    orientation='horizontal', disabled=False)\n",
    "\n",
    "# widget select sea surface variable\n",
    "widget_select_ssvar = widgets.Dropdown(description='Sea surface variable', options=('msl', '2t'))\n",
    "\n",
    "# widget select atm variable\n",
    "widget_select_atmvar = widgets.Dropdown(description='Atmospheric variable', options=('tp',))\n",
    "                        # la coma del final és important; sinó agafa cada lletra per separat!!\n",
    "# widget select timestep: not necessary in this section\n",
    "# vec_timesteps = list(range(0, len(dates_to_download)))\n",
    "# widget_sel_timestep = widgets.SelectionSlider(options=vec_timesteps, description='Timestep')"
   ]
  },
  {
   "cell_type": "markdown",
   "metadata": {},
   "source": [
    "## Population density layer\n",
    "\n",
    "Raster downloaded from: https://www.worldpop.org/sdi/introapi/ through the code provided in [insert link to code notebook]\\\n",
    "They are too heavy to be downloaded on the go by the dashboard. So, they will be resampled to a lower spatial resolution and only the population in a 500 km radius from the coastline will be kept in the final raster. Right now the spatial resolution is in the order of meters, not needed for our scope. It will be resampled to at least 10km x 10km. Each country will be saved separately. The load function will then gather the last cyclone position and only load the countries in a 500 km radius from the last cyclone position."
   ]
  },
  {
   "cell_type": "code",
   "execution_count": null,
   "metadata": {},
   "outputs": [],
   "source": []
  },
  {
   "cell_type": "markdown",
   "metadata": {},
   "source": [
    "## Hazard layers"
   ]
  },
  {
   "cell_type": "markdown",
   "metadata": {},
   "source": [
    "### Coastal hazard"
   ]
  },
  {
   "cell_type": "markdown",
   "metadata": {},
   "source": [
    "The return period `rp` could be provided by the user through a widget or we could just select a specific return period and use just that one"
   ]
  },
  {
   "cell_type": "code",
   "execution_count": 4,
   "metadata": {
    "tags": []
   },
   "outputs": [],
   "source": [
    "def dwnl_coastalhaz(rp):\n",
    "    \"\"\"\n",
    "    Downloads coastal hazard raster maps from The World Bank Data Catalog service\n",
    "    by providing the hazard return period\n",
    "    \n",
    "    rp: str\n",
    "        Return period.\n",
    "        Can be one of the following: 5yr, 10yr, 50yr, 100yr, 250yr, 500yr, 1000yr.\n",
    "\n",
    "    Data source: https://datacatalog.worldbank.org/search/dataset/0038579/Global-coastal-flood-hazard\n",
    "    \"\"\"\n",
    "    links = {\n",
    "            \"5yr\": \"https://www.geonode-gfdrrlab.org/uploaded/layers/2019/10/16/ss_muis_rp0005m.tif\",\n",
    "            \"10yr\": \"https://www.geonode-gfdrrlab.org/uploaded/layers/2019/10/16/ss_muis_rp0010m.tif\",\n",
    "            \"50yr\": \"https://www.geonode-gfdrrlab.org/uploaded/layers/2019/10/16/ss_muis_rp0050m.tif\",\n",
    "            \"100yr\": \"https://www.geonode-gfdrrlab.org/uploaded/layers/2019/10/16/ss_muis_rp0100m.tif\",\n",
    "            \"250yr\": \"https://www.geonode-gfdrrlab.org/uploaded/layers/2019/10/16/ss_muis_rp0250m.tif\",\n",
    "            \"500yr\": \"https://www.geonode-gfdrrlab.org/uploaded/layers/2019/10/16/ss_muis_rp0500m.tif\",\n",
    "            \"1000yr\": \"https://www.geonode-gfdrrlab.org/uploaded/layers/2019/10/16/ss_muis_rp1000m.tif\",\n",
    "            }\n",
    "    tif = requests.get(links[rp])\n",
    "    with open(f\"data/impacts/coastalhaz_{rp}.tif\", \"wb\") as tiffile:\n",
    "            tiffile.write(tif.content)\n",
    "            #need to compress the tif file when downloading it\n",
    "            print(\"Download complete\")\n",
    "\n",
    "def load_coastalhaz(rp, resample = True):\n",
    "    \"\"\"\n",
    "    Loads coastal hazard raster maps downloaded through dwnl_coastalhaz\n",
    "    by providing the return period. Returns an xarray\n",
    "    \n",
    "    rp: str\n",
    "        Return period.\n",
    "        Can be one of the following: 5yr, 10yr, 50yr, 100yr, 250yr, 500yr, 1000yr.\n",
    "    resample: bool\n",
    "        If True, the raster is resampled at a lower spatial resolution\n",
    "    \"\"\"\n",
    "    path = f\"data/impacts/coastalhaz_{rp}.tif\"\n",
    "    if resample:\n",
    "        coh = resample_raster(path)\n",
    "    else:\n",
    "        coh = rasterio.open(path)\n",
    "    return(coh)\n",
    "\n",
    "def plot_coastalhaz(coh, cut = False):\n",
    "    \"\"\"\n",
    "    Plot coastal hazard raster provided as a layer in an ipyleaflet map\n",
    "    \"\"\"\n",
    "    client = TileClient(coh)\n",
    "    t = get_leaflet_tile_layer(client, opacity = 0.65) #, palette = \"Fall_7\") #fix the plotting palette\n",
    "    m = Map(center=client.center(), zoom=client.default_zoom)\n",
    "    m.add_layer(t)\n",
    "    m.add_control(LayersControl())\n",
    "    m.layout.height=\"700px\"\n",
    "    return(m)"
   ]
  },
  {
   "cell_type": "code",
   "execution_count": 21,
   "metadata": {},
   "outputs": [
    {
     "name": "stdout",
     "output_type": "stream",
     "text": [
      "<xarray.DataArray (band: 1, y: 16744, x: 43200)>\n",
      "[723340800 values with dtype=float32]\n",
      "Coordinates:\n",
      "  * band         (band) int32 1\n",
      "  * x            (x) float64 -180.0 -180.0 -180.0 -180.0 ... 180.0 180.0 180.0\n",
      "  * y            (y) float64 83.62 83.61 83.6 83.6 ... -55.88 -55.89 -55.9 -55.9\n",
      "    spatial_ref  int32 0\n",
      "Attributes:\n",
      "    AREA_OR_POINT:  Area\n",
      "    DataType:       Generic\n",
      "    _FillValue:     0.0\n",
      "    scale_factor:   1.0\n",
      "    add_offset:     0.0\n"
     ]
    }
   ],
   "source": [
    "#Download the 50yr coastal hazard raster map\n",
    "# dwnl_coastalhaz(\"50yr\")\n",
    "#Load the 50yr coastal hazard raster map as an xarray\n",
    "coh = load_coastalhaz(\"50yr\")\n",
    "print(coh)"
   ]
  },
  {
   "cell_type": "code",
   "execution_count": null,
   "metadata": {},
   "outputs": [],
   "source": [
    "plot_coastalhaz(coh)"
   ]
  },
  {
   "cell_type": "markdown",
   "metadata": {},
   "source": [
    "### Cyclone hazard"
   ]
  },
  {
   "cell_type": "markdown",
   "metadata": {},
   "source": [
    "The return period `rp` could be provided by the user through a widget or we could just select a specific return period and use just that one"
   ]
  },
  {
   "cell_type": "code",
   "execution_count": 6,
   "metadata": {
    "tags": []
   },
   "outputs": [],
   "source": [
    "def dwnl_cyclonehaz(rp):\n",
    "    \"\"\"\n",
    "    Downloads cyclone hazard raster maps from The World Bank Data Catalog service\n",
    "    by providing the hazard return period\n",
    "\n",
    "    rp: str\n",
    "        Return period.\n",
    "        Can be one of the following: 50yr, 100yr, 250yr, 500yr, 1000yr.\n",
    "    \n",
    "    Data source: https://datacatalog.worldbank.org/search/dataset/0038577/Global-cyclone-hazard\n",
    "    \"\"\"\n",
    "    links = {\n",
    "            \"50yr\": \"https://www.geonode-gfdrrlab.org/uploaded/layers/2019/02/26/viento_mundo_tr50_int1_Ai5zJup.tif\",\n",
    "            \"100yr\": \"https://www.geonode-gfdrrlab.org/uploaded/layers/2019/02/26/viento_mundo_tr100_int1_afg5XsL.tif\",\n",
    "            \"250yr\": \"https://www.geonode-gfdrrlab.org/uploaded/layers/2019/02/26/viento_mundo_tr250_int1.tif\",\n",
    "            \"500yr\": \"https://www.geonode-gfdrrlab.org/uploaded/layers/2019/02/26/viento_mundo_tr500_int1.tif\",\n",
    "            \"1000yr\": \"https://www.geonode-gfdrrlab.org/uploaded/layers/2019/02/26/viento_mundo_tr1000_int1.tif\",\n",
    "            }\n",
    "    tif = requests.get(links[rp])\n",
    "    with open(f\"data/impacts/cyclonehaz_{rp}.tif\", \"wb\") as tiffile:\n",
    "            tiffile.write(tif.content)\n",
    "            print(\"Download complete\")\n",
    "\n",
    "def load_cyclonehaz(rp):\n",
    "    \"\"\"\n",
    "    Loads coastal hazard raster maps downloaded through dwnl_coastalhaz\n",
    "    by providing the return period. Returns an xarray\n",
    "\n",
    "    rp: str\n",
    "        Return period.\n",
    "        Can be one of the following: 50yr, 100yr, 250yr, 500yr, 1000yr.\n",
    "    \"\"\"\n",
    "    path = f\"data/impacts/cyclonehaz_{rp}.tif\"\n",
    "    cyh = rasterio.open(path)\n",
    "    return(cyh)\n",
    "\n",
    "def plot_cyclonehaz(cyh):\n",
    "    \"\"\"\n",
    "    Plots the cyclone hazard layer provided as input in an ipyleaflet map\n",
    "    \"\"\"\n",
    "    client = TileClient(\"data/impacts/cyclonehaz_50yr.tif\")\n",
    "    t = get_leaflet_tile_layer(client, opacity = 0.65) #, palette = \"Fall_7\") #fix the plotting palette\n",
    "    m = Map(center=client.center(), zoom=client.default_zoom)\n",
    "    m.add_layer(t)\n",
    "    m.add_control(LayersControl())\n",
    "    m.layout.height=\"700px\"\n",
    "    return(m)"
   ]
  },
  {
   "cell_type": "code",
   "execution_count": 7,
   "metadata": {
    "tags": []
   },
   "outputs": [],
   "source": [
    "#Download the 50yr cyclone hazard raster map\n",
    "# dwnl_cyclonehaz(\"50yr\")\n",
    "#Load the 50yr cyclone hazard raster map as an xarray\n",
    "cyh = load_cyclonehaz(\"50yr\")"
   ]
  },
  {
   "cell_type": "code",
   "execution_count": 8,
   "metadata": {
    "tags": []
   },
   "outputs": [
    {
     "ename": "CRSError",
     "evalue": "The EPSG code is unknown. PROJ: proj_create_from_database: C:\\Users\\paolo\\anaconda3\\Library\\share\\proj\\proj.db lacks DATABASE.LAYOUT.VERSION.MAJOR / DATABASE.LAYOUT.VERSION.MINOR metadata. It comes from another PROJ installation.",
     "output_type": "error",
     "traceback": [
      "\u001b[1;31m---------------------------------------------------------------------------\u001b[0m",
      "\u001b[1;31mCPLE_AppDefinedError\u001b[0m                      Traceback (most recent call last)",
      "File \u001b[1;32mrasterio\\crs.pyx:586\u001b[0m, in \u001b[0;36mrasterio.crs.CRS.from_epsg\u001b[1;34m()\u001b[0m\n",
      "File \u001b[1;32mrasterio\\_err.pyx:195\u001b[0m, in \u001b[0;36mrasterio._err.exc_wrap_int\u001b[1;34m()\u001b[0m\n",
      "\u001b[1;31mCPLE_AppDefinedError\u001b[0m: PROJ: proj_create_from_database: C:\\Users\\paolo\\anaconda3\\Library\\share\\proj\\proj.db lacks DATABASE.LAYOUT.VERSION.MAJOR / DATABASE.LAYOUT.VERSION.MINOR metadata. It comes from another PROJ installation.",
      "\nDuring handling of the above exception, another exception occurred:\n",
      "\u001b[1;31mCRSError\u001b[0m                                  Traceback (most recent call last)",
      "Cell \u001b[1;32mIn[8], line 1\u001b[0m\n\u001b[1;32m----> 1\u001b[0m \u001b[43mrasterio\u001b[49m\u001b[38;5;241;43m.\u001b[39;49m\u001b[43mcrs\u001b[49m\u001b[38;5;241;43m.\u001b[39;49m\u001b[43mCRS\u001b[49m\u001b[43m(\u001b[49m\u001b[43m{\u001b[49m\u001b[38;5;124;43m\"\u001b[39;49m\u001b[38;5;124;43minit\u001b[39;49m\u001b[38;5;124;43m\"\u001b[39;49m\u001b[43m:\u001b[49m\u001b[43m \u001b[49m\u001b[38;5;124;43m\"\u001b[39;49m\u001b[38;5;124;43mEPSG:4326\u001b[39;49m\u001b[38;5;124;43m\"\u001b[39;49m\u001b[43m}\u001b[49m\u001b[43m)\u001b[49m\n",
      "File \u001b[1;32mrasterio\\crs.pyx:104\u001b[0m, in \u001b[0;36mrasterio.crs.CRS.__init__\u001b[1;34m()\u001b[0m\n",
      "File \u001b[1;32mrasterio\\crs.pyx:672\u001b[0m, in \u001b[0;36mrasterio.crs.CRS.from_dict\u001b[1;34m()\u001b[0m\n",
      "File \u001b[1;32mrasterio\\crs.pyx:590\u001b[0m, in \u001b[0;36mrasterio.crs.CRS.from_epsg\u001b[1;34m()\u001b[0m\n",
      "\u001b[1;31mCRSError\u001b[0m: The EPSG code is unknown. PROJ: proj_create_from_database: C:\\Users\\paolo\\anaconda3\\Library\\share\\proj\\proj.db lacks DATABASE.LAYOUT.VERSION.MAJOR / DATABASE.LAYOUT.VERSION.MINOR metadata. It comes from another PROJ installation."
     ]
    }
   ],
   "source": [
    "rasterio.crs.CRS({\"init\": \"EPSG:4326\"})"
   ]
  },
  {
   "cell_type": "code",
   "execution_count": 4,
   "metadata": {
    "tags": []
   },
   "outputs": [
    {
     "ename": "NameError",
     "evalue": "name 'cyh' is not defined",
     "output_type": "error",
     "traceback": [
      "\u001b[1;31m---------------------------------------------------------------------------\u001b[0m",
      "\u001b[1;31mNameError\u001b[0m                                 Traceback (most recent call last)",
      "Cell \u001b[1;32mIn[4], line 1\u001b[0m\n\u001b[1;32m----> 1\u001b[0m \u001b[43mcyh\u001b[49m\u001b[38;5;241m.\u001b[39mcrs\n",
      "\u001b[1;31mNameError\u001b[0m: name 'cyh' is not defined"
     ]
    }
   ],
   "source": [
    "cyh.crs"
   ]
  },
  {
   "cell_type": "code",
   "execution_count": 9,
   "metadata": {
    "tags": []
   },
   "outputs": [
    {
     "ename": "CRSError",
     "evalue": "The EPSG code is unknown. PROJ: proj_create_from_database: C:\\Users\\paolo\\anaconda3\\Library\\share\\proj\\proj.db lacks DATABASE.LAYOUT.VERSION.MAJOR / DATABASE.LAYOUT.VERSION.MINOR metadata. It comes from another PROJ installation.",
     "output_type": "error",
     "traceback": [
      "\u001b[1;31m---------------------------------------------------------------------------\u001b[0m",
      "\u001b[1;31mCPLE_AppDefinedError\u001b[0m                      Traceback (most recent call last)",
      "File \u001b[1;32mrasterio\\crs.pyx:586\u001b[0m, in \u001b[0;36mrasterio.crs.CRS.from_epsg\u001b[1;34m()\u001b[0m\n",
      "File \u001b[1;32mrasterio\\_err.pyx:195\u001b[0m, in \u001b[0;36mrasterio._err.exc_wrap_int\u001b[1;34m()\u001b[0m\n",
      "\u001b[1;31mCPLE_AppDefinedError\u001b[0m: PROJ: proj_create_from_database: C:\\Users\\paolo\\anaconda3\\Library\\share\\proj\\proj.db lacks DATABASE.LAYOUT.VERSION.MAJOR / DATABASE.LAYOUT.VERSION.MINOR metadata. It comes from another PROJ installation.",
      "\nDuring handling of the above exception, another exception occurred:\n",
      "\u001b[1;31mCRSError\u001b[0m                                  Traceback (most recent call last)",
      "Cell \u001b[1;32mIn[9], line 1\u001b[0m\n\u001b[1;32m----> 1\u001b[0m \u001b[43mplot_cyclonehaz\u001b[49m\u001b[43m(\u001b[49m\u001b[43mcyh\u001b[49m\u001b[43m)\u001b[49m\n",
      "Cell \u001b[1;32mIn[6], line 38\u001b[0m, in \u001b[0;36mplot_cyclonehaz\u001b[1;34m(cyh)\u001b[0m\n\u001b[0;32m     37\u001b[0m \u001b[38;5;28;01mdef\u001b[39;00m \u001b[38;5;21mplot_cyclonehaz\u001b[39m(cyh):\n\u001b[1;32m---> 38\u001b[0m     client \u001b[38;5;241m=\u001b[39m \u001b[43mTileClient\u001b[49m\u001b[43m(\u001b[49m\u001b[38;5;124;43m\"\u001b[39;49m\u001b[38;5;124;43mdata/impacts/cyclonehaz_50yr.tif\u001b[39;49m\u001b[38;5;124;43m\"\u001b[39;49m\u001b[43m)\u001b[49m\n\u001b[0;32m     39\u001b[0m     t \u001b[38;5;241m=\u001b[39m get_leaflet_tile_layer(client, opacity \u001b[38;5;241m=\u001b[39m \u001b[38;5;241m0.65\u001b[39m, palette \u001b[38;5;241m=\u001b[39m \u001b[38;5;124m\"\u001b[39m\u001b[38;5;124mFall_7\u001b[39m\u001b[38;5;124m\"\u001b[39m) \u001b[38;5;66;03m#fix the plotting palette\u001b[39;00m\n\u001b[0;32m     40\u001b[0m     m \u001b[38;5;241m=\u001b[39m Map(center\u001b[38;5;241m=\u001b[39mclient\u001b[38;5;241m.\u001b[39mcenter(), zoom\u001b[38;5;241m=\u001b[39mclient\u001b[38;5;241m.\u001b[39mdefault_zoom)\n",
      "File \u001b[1;32m~\\anaconda3\\lib\\site-packages\\localtileserver\\client.py:908\u001b[0m, in \u001b[0;36mBaseTileClient.__init__\u001b[1;34m(self, filename, default_projection, port, debug, host, client_port, client_host, client_prefix, cors_all)\u001b[0m\n\u001b[0;32m    906\u001b[0m \u001b[38;5;28;01melif\u001b[39;00m \u001b[38;5;28misinstance\u001b[39m(filename, RasterioFileTileSource):\n\u001b[0;32m    907\u001b[0m     filename \u001b[38;5;241m=\u001b[39m filename\u001b[38;5;241m.\u001b[39m_getLargeImagePath()\n\u001b[1;32m--> 908\u001b[0m \u001b[38;5;28;43msuper\u001b[39;49m\u001b[43m(\u001b[49m\u001b[43m)\u001b[49m\u001b[38;5;241;43m.\u001b[39;49m\u001b[38;5;21;43m__init__\u001b[39;49m\u001b[43m(\u001b[49m\u001b[43mfilename\u001b[49m\u001b[38;5;241;43m=\u001b[39;49m\u001b[43mfilename\u001b[49m\u001b[43m,\u001b[49m\u001b[43m \u001b[49m\u001b[43mdefault_projection\u001b[49m\u001b[38;5;241;43m=\u001b[39;49m\u001b[43mdefault_projection\u001b[49m\u001b[43m)\u001b[49m\n\u001b[0;32m    909\u001b[0m app \u001b[38;5;241m=\u001b[39m AppManager\u001b[38;5;241m.\u001b[39mget_or_create_app(cors_all\u001b[38;5;241m=\u001b[39mcors_all)\n\u001b[0;32m    910\u001b[0m \u001b[38;5;28mself\u001b[39m\u001b[38;5;241m.\u001b[39m_key \u001b[38;5;241m=\u001b[39m launch_server(app, port\u001b[38;5;241m=\u001b[39mport, debug\u001b[38;5;241m=\u001b[39mdebug, host\u001b[38;5;241m=\u001b[39mhost)\n",
      "File \u001b[1;32m~\\anaconda3\\lib\\site-packages\\localtileserver\\client.py:482\u001b[0m, in \u001b[0;36mLocalTileClient.__init__\u001b[1;34m(self, filename, default_projection)\u001b[0m\n\u001b[0;32m    476\u001b[0m \u001b[38;5;28;01mdef\u001b[39;00m \u001b[38;5;21m__init__\u001b[39m(\n\u001b[0;32m    477\u001b[0m     \u001b[38;5;28mself\u001b[39m,\n\u001b[0;32m    478\u001b[0m     filename: Union[pathlib\u001b[38;5;241m.\u001b[39mPath, \u001b[38;5;28mstr\u001b[39m],\n\u001b[0;32m    479\u001b[0m     default_projection: Optional[\u001b[38;5;28mstr\u001b[39m] \u001b[38;5;241m=\u001b[39m \u001b[38;5;124m\"\u001b[39m\u001b[38;5;124mEPSG:3857\u001b[39m\u001b[38;5;124m\"\u001b[39m,\n\u001b[0;32m    480\u001b[0m ):\n\u001b[0;32m    481\u001b[0m     \u001b[38;5;28msuper\u001b[39m()\u001b[38;5;241m.\u001b[39m\u001b[38;5;21m__init__\u001b[39m(filename, default_projection)\n\u001b[1;32m--> 482\u001b[0m     \u001b[38;5;28mself\u001b[39m\u001b[38;5;241m.\u001b[39m_tile_source \u001b[38;5;241m=\u001b[39m get_tile_source(\u001b[38;5;28mself\u001b[39m\u001b[38;5;241m.\u001b[39mfilename, \u001b[38;5;28;43mself\u001b[39;49m\u001b[38;5;241;43m.\u001b[39;49m\u001b[43mdefault_projection\u001b[49m)\n",
      "File \u001b[1;32m~\\anaconda3\\lib\\site-packages\\localtileserver\\client.py:82\u001b[0m, in \u001b[0;36mBaseTileClientInterface.default_projection\u001b[1;34m(self)\u001b[0m\n\u001b[0;32m     79\u001b[0m \u001b[38;5;129m@property\u001b[39m\n\u001b[0;32m     80\u001b[0m \u001b[38;5;28;01mdef\u001b[39;00m \u001b[38;5;21mdefault_projection\u001b[39m(\u001b[38;5;28mself\u001b[39m):\n\u001b[0;32m     81\u001b[0m     \u001b[38;5;28;01mif\u001b[39;00m \u001b[38;5;28mself\u001b[39m\u001b[38;5;241m.\u001b[39m_default_projection \u001b[38;5;241m==\u001b[39m \u001b[38;5;124m\"\u001b[39m\u001b[38;5;124m\"\u001b[39m:\n\u001b[1;32m---> 82\u001b[0m         \u001b[38;5;28mself\u001b[39m\u001b[38;5;241m.\u001b[39m_default_projection \u001b[38;5;241m=\u001b[39m \u001b[38;5;124m\"\u001b[39m\u001b[38;5;124mEPSG:3857\u001b[39m\u001b[38;5;124m\"\u001b[39m \u001b[38;5;28;01mif\u001b[39;00m \u001b[38;5;28;43mself\u001b[39;49m\u001b[38;5;241;43m.\u001b[39;49m\u001b[43mis_geospatial\u001b[49m \u001b[38;5;28;01melse\u001b[39;00m \u001b[38;5;28;01mNone\u001b[39;00m\n\u001b[0;32m     83\u001b[0m     \u001b[38;5;28;01mreturn\u001b[39;00m \u001b[38;5;28mself\u001b[39m\u001b[38;5;241m.\u001b[39m_default_projection\n",
      "File \u001b[1;32m~\\anaconda3\\lib\\site-packages\\localtileserver\\client.py:433\u001b[0m, in \u001b[0;36mBaseTileClientInterface.is_geospatial\u001b[1;34m(self)\u001b[0m\n\u001b[0;32m    430\u001b[0m \u001b[38;5;129m@property\u001b[39m\n\u001b[0;32m    431\u001b[0m \u001b[38;5;28;01mdef\u001b[39;00m \u001b[38;5;21mis_geospatial\u001b[39m(\u001b[38;5;28mself\u001b[39m):\n\u001b[0;32m    432\u001b[0m     \u001b[38;5;28;01mif\u001b[39;00m \u001b[38;5;28mself\u001b[39m\u001b[38;5;241m.\u001b[39m_is_geospatial \u001b[38;5;129;01mis\u001b[39;00m \u001b[38;5;28;01mNone\u001b[39;00m:\n\u001b[1;32m--> 433\u001b[0m         \u001b[38;5;28mself\u001b[39m\u001b[38;5;241m.\u001b[39m_is_geospatial \u001b[38;5;241m=\u001b[39m \u001b[38;5;28;43mself\u001b[39;49m\u001b[38;5;241;43m.\u001b[39;49m\u001b[43mmetadata\u001b[49m\u001b[43m(\u001b[49m\u001b[43mprojection\u001b[49m\u001b[38;5;241;43m=\u001b[39;49m\u001b[38;5;28;43;01mNone\u001b[39;49;00m\u001b[43m)\u001b[49m\u001b[38;5;241m.\u001b[39mget(\u001b[38;5;124m\"\u001b[39m\u001b[38;5;124mgeospatial\u001b[39m\u001b[38;5;124m\"\u001b[39m, \u001b[38;5;28;01mFalse\u001b[39;00m)\n\u001b[0;32m    434\u001b[0m     \u001b[38;5;28;01mreturn\u001b[39;00m \u001b[38;5;28mself\u001b[39m\u001b[38;5;241m.\u001b[39m_is_geospatial\n",
      "File \u001b[1;32m~\\anaconda3\\lib\\site-packages\\localtileserver\\client.py:603\u001b[0m, in \u001b[0;36mLocalTileClient.metadata\u001b[1;34m(self, projection)\u001b[0m\n\u001b[0;32m    601\u001b[0m     \u001b[38;5;28;01mif\u001b[39;00m projection \u001b[38;5;241m==\u001b[39m \u001b[38;5;124m\"\u001b[39m\u001b[38;5;124m\"\u001b[39m:\n\u001b[0;32m    602\u001b[0m         projection \u001b[38;5;241m=\u001b[39m \u001b[38;5;28mself\u001b[39m\u001b[38;5;241m.\u001b[39mdefault_projection\n\u001b[1;32m--> 603\u001b[0m     tile_source \u001b[38;5;241m=\u001b[39m \u001b[43mget_tile_source\u001b[49m\u001b[43m(\u001b[49m\u001b[38;5;28;43mself\u001b[39;49m\u001b[38;5;241;43m.\u001b[39;49m\u001b[43mfilename\u001b[49m\u001b[43m,\u001b[49m\u001b[43m \u001b[49m\u001b[43mprojection\u001b[49m\u001b[43m)\u001b[49m\n\u001b[0;32m    604\u001b[0m     \u001b[38;5;28mself\u001b[39m\u001b[38;5;241m.\u001b[39m_metadata[projection] \u001b[38;5;241m=\u001b[39m get_meta_data(tile_source)\n\u001b[0;32m    605\u001b[0m \u001b[38;5;28;01mreturn\u001b[39;00m \u001b[38;5;28mself\u001b[39m\u001b[38;5;241m.\u001b[39m_metadata[projection]\n",
      "File \u001b[1;32m~\\anaconda3\\lib\\site-packages\\localtileserver\\tiler\\utilities.py:72\u001b[0m, in \u001b[0;36mget_tile_source\u001b[1;34m(path, projection, style, encoding)\u001b[0m\n\u001b[0;32m     68\u001b[0m \u001b[38;5;28;01mdef\u001b[39;00m \u001b[38;5;21mget_tile_source\u001b[39m(\n\u001b[0;32m     69\u001b[0m     path: Union[pathlib\u001b[38;5;241m.\u001b[39mPath, \u001b[38;5;28mstr\u001b[39m], projection: \u001b[38;5;28mstr\u001b[39m \u001b[38;5;241m=\u001b[39m \u001b[38;5;28;01mNone\u001b[39;00m, style: \u001b[38;5;28mstr\u001b[39m \u001b[38;5;241m=\u001b[39m \u001b[38;5;28;01mNone\u001b[39;00m, encoding: \u001b[38;5;28mstr\u001b[39m \u001b[38;5;241m=\u001b[39m \u001b[38;5;124m\"\u001b[39m\u001b[38;5;124mPNG\u001b[39m\u001b[38;5;124m\"\u001b[39m\n\u001b[0;32m     70\u001b[0m ) \u001b[38;5;241m-\u001b[39m\u001b[38;5;241m>\u001b[39m RasterioFileTileSource:\n\u001b[0;32m     71\u001b[0m     path \u001b[38;5;241m=\u001b[39m get_clean_filename(path)\n\u001b[1;32m---> 72\u001b[0m     \u001b[38;5;28;01mreturn\u001b[39;00m \u001b[43mRasterioFileTileSource\u001b[49m\u001b[43m(\u001b[49m\u001b[38;5;28;43mstr\u001b[39;49m\u001b[43m(\u001b[49m\u001b[43mpath\u001b[49m\u001b[43m)\u001b[49m\u001b[43m,\u001b[49m\u001b[43m \u001b[49m\u001b[43mprojection\u001b[49m\u001b[38;5;241;43m=\u001b[39;49m\u001b[43mprojection\u001b[49m\u001b[43m,\u001b[49m\u001b[43m \u001b[49m\u001b[43mstyle\u001b[49m\u001b[38;5;241;43m=\u001b[39;49m\u001b[43mstyle\u001b[49m\u001b[43m,\u001b[49m\u001b[43m \u001b[49m\u001b[43mencoding\u001b[49m\u001b[38;5;241;43m=\u001b[39;49m\u001b[43mencoding\u001b[49m\u001b[43m)\u001b[49m\n",
      "File \u001b[1;32m~\\anaconda3\\lib\\site-packages\\large_image\\cache_util\\cache.py:229\u001b[0m, in \u001b[0;36mLruCacheMetaclass.__call__\u001b[1;34m(cls, *args, **kwargs)\u001b[0m\n\u001b[0;32m    227\u001b[0m         \u001b[38;5;28;01mexcept\u001b[39;00m \u001b[38;5;167;01mException\u001b[39;00m:\n\u001b[0;32m    228\u001b[0m             \u001b[38;5;28;01mpass\u001b[39;00m\n\u001b[1;32m--> 229\u001b[0m     \u001b[38;5;28;01mraise\u001b[39;00m exc\n\u001b[0;32m    230\u001b[0m instance\u001b[38;5;241m.\u001b[39m_classkey \u001b[38;5;241m=\u001b[39m key\n\u001b[0;32m    231\u001b[0m \u001b[38;5;28;01mif\u001b[39;00m kwargs\u001b[38;5;241m.\u001b[39mget(\u001b[38;5;124m'\u001b[39m\u001b[38;5;124mstyle\u001b[39m\u001b[38;5;124m'\u001b[39m) \u001b[38;5;241m!=\u001b[39m \u001b[38;5;28mgetattr\u001b[39m(\u001b[38;5;28mcls\u001b[39m, \u001b[38;5;124m'\u001b[39m\u001b[38;5;124m_unstyledStyle\u001b[39m\u001b[38;5;124m'\u001b[39m, \u001b[38;5;28;01mNone\u001b[39;00m):\n",
      "File \u001b[1;32m~\\anaconda3\\lib\\site-packages\\large_image\\cache_util\\cache.py:220\u001b[0m, in \u001b[0;36mLruCacheMetaclass.__call__\u001b[1;34m(cls, *args, **kwargs)\u001b[0m\n\u001b[0;32m    218\u001b[0m         \u001b[38;5;28;01mreturn\u001b[39;00m result\n\u001b[0;32m    219\u001b[0m \u001b[38;5;28;01mtry\u001b[39;00m:\n\u001b[1;32m--> 220\u001b[0m     instance \u001b[38;5;241m=\u001b[39m \u001b[38;5;28msuper\u001b[39m()\u001b[38;5;241m.\u001b[39m\u001b[38;5;21m__call__\u001b[39m(\u001b[38;5;241m*\u001b[39margs, \u001b[38;5;241m*\u001b[39m\u001b[38;5;241m*\u001b[39mkwargs)\n\u001b[0;32m    221\u001b[0m     \u001b[38;5;66;03m# for pickling\u001b[39;00m\n\u001b[0;32m    222\u001b[0m     instance\u001b[38;5;241m.\u001b[39m_initValues \u001b[38;5;241m=\u001b[39m (args, kwargs\u001b[38;5;241m.\u001b[39mcopy())\n",
      "File \u001b[1;32m~\\anaconda3\\lib\\site-packages\\large_image_source_rasterio\\__init__.py:138\u001b[0m, in \u001b[0;36mRasterioFileTileSource.__init__\u001b[1;34m(self, path, projection, unitsPerPixel, **kwargs)\u001b[0m\n\u001b[0;32m    131\u001b[0m     \u001b[38;5;28mself\u001b[39m\u001b[38;5;241m.\u001b[39msourceSizeY \u001b[38;5;241m=\u001b[39m \u001b[38;5;28mself\u001b[39m\u001b[38;5;241m.\u001b[39msizeY \u001b[38;5;241m=\u001b[39m \u001b[38;5;28mself\u001b[39m\u001b[38;5;241m.\u001b[39mdataset\u001b[38;5;241m.\u001b[39mheight\n\u001b[0;32m    133\u001b[0m \u001b[38;5;66;03m# netCDF is blacklisted from rasterio so it won't be used.\u001b[39;00m\n\u001b[0;32m    134\u001b[0m \u001b[38;5;66;03m# use the mapnik source if needed. This variable is always ignored\u001b[39;00m\n\u001b[0;32m    135\u001b[0m \u001b[38;5;66;03m# is_netcdf = False\u001b[39;00m\n\u001b[0;32m    136\u001b[0m \n\u001b[0;32m    137\u001b[0m \u001b[38;5;66;03m# get the different scales and projections from the image\u001b[39;00m\n\u001b[1;32m--> 138\u001b[0m scale \u001b[38;5;241m=\u001b[39m \u001b[38;5;28;43mself\u001b[39;49m\u001b[38;5;241;43m.\u001b[39;49m\u001b[43mgetPixelSizeInMeters\u001b[49m\u001b[43m(\u001b[49m\u001b[43m)\u001b[49m\n\u001b[0;32m    140\u001b[0m \u001b[38;5;66;03m# raise an error if we are missing some information about the projection\u001b[39;00m\n\u001b[0;32m    141\u001b[0m \u001b[38;5;66;03m# i.e. we don't know where to place it on a map\u001b[39;00m\n\u001b[0;32m    142\u001b[0m isProjected \u001b[38;5;241m=\u001b[39m \u001b[38;5;28mself\u001b[39m\u001b[38;5;241m.\u001b[39mprojection \u001b[38;5;129;01mor\u001b[39;00m \u001b[38;5;28mself\u001b[39m\u001b[38;5;241m.\u001b[39mdataset\u001b[38;5;241m.\u001b[39mdriver\u001b[38;5;241m.\u001b[39mlower() \u001b[38;5;129;01min\u001b[39;00m {\u001b[38;5;124m'\u001b[39m\u001b[38;5;124mpng\u001b[39m\u001b[38;5;124m'\u001b[39m}\n",
      "File \u001b[1;32m~\\anaconda3\\lib\\site-packages\\large_image\\tilesource\\geo.py:243\u001b[0m, in \u001b[0;36mGDALBaseFileTileSource.getPixelSizeInMeters\u001b[1;34m(self)\u001b[0m\n\u001b[0;32m    236\u001b[0m \u001b[38;5;28;01mdef\u001b[39;00m \u001b[38;5;21mgetPixelSizeInMeters\u001b[39m(\u001b[38;5;28mself\u001b[39m):\n\u001b[0;32m    237\u001b[0m \u001b[38;5;250m    \u001b[39m\u001b[38;5;124;03m\"\"\"\u001b[39;00m\n\u001b[0;32m    238\u001b[0m \u001b[38;5;124;03m    Get the approximate base pixel size in meters.  This is calculated as\u001b[39;00m\n\u001b[0;32m    239\u001b[0m \u001b[38;5;124;03m    the average scale of the four edges in the WGS84 ellipsoid.\u001b[39;00m\n\u001b[0;32m    240\u001b[0m \n\u001b[0;32m    241\u001b[0m \u001b[38;5;124;03m    :returns: the pixel size in meters or None.\u001b[39;00m\n\u001b[0;32m    242\u001b[0m \u001b[38;5;124;03m    \"\"\"\u001b[39;00m\n\u001b[1;32m--> 243\u001b[0m     bounds \u001b[38;5;241m=\u001b[39m \u001b[38;5;28;43mself\u001b[39;49m\u001b[38;5;241;43m.\u001b[39;49m\u001b[43mgetBounds\u001b[49m\u001b[43m(\u001b[49m\u001b[43mNeededInitPrefix\u001b[49m\u001b[43m \u001b[49m\u001b[38;5;241;43m+\u001b[39;49m\u001b[43m \u001b[49m\u001b[38;5;124;43m'\u001b[39;49m\u001b[38;5;124;43mepsg:4326\u001b[39;49m\u001b[38;5;124;43m'\u001b[39;49m\u001b[43m)\u001b[49m\n\u001b[0;32m    244\u001b[0m     \u001b[38;5;28;01mif\u001b[39;00m \u001b[38;5;129;01mnot\u001b[39;00m bounds:\n\u001b[0;32m    245\u001b[0m         \u001b[38;5;28;01mreturn\u001b[39;00m\n",
      "File \u001b[1;32m~\\anaconda3\\lib\\site-packages\\large_image_source_rasterio\\__init__.py:346\u001b[0m, in \u001b[0;36mRasterioFileTileSource.getBounds\u001b[1;34m(self, crs, **kwargs)\u001b[0m\n\u001b[0;32m    343\u001b[0m     crs \u001b[38;5;241m=\u001b[39m kwargs\u001b[38;5;241m.\u001b[39mget(\u001b[38;5;124m'\u001b[39m\u001b[38;5;124msrs\u001b[39m\u001b[38;5;124m'\u001b[39m)\n\u001b[0;32m    345\u001b[0m \u001b[38;5;66;03m# read the crs as a crs if needed\u001b[39;00m\n\u001b[1;32m--> 346\u001b[0m dstCrs \u001b[38;5;241m=\u001b[39m \u001b[43mmake_crs\u001b[49m\u001b[43m(\u001b[49m\u001b[43mcrs\u001b[49m\u001b[43m)\u001b[49m \u001b[38;5;28;01mif\u001b[39;00m crs \u001b[38;5;28;01melse\u001b[39;00m \u001b[38;5;28;01mNone\u001b[39;00m\n\u001b[0;32m    347\u001b[0m strDstCrs \u001b[38;5;241m=\u001b[39m \u001b[38;5;124m'\u001b[39m\u001b[38;5;124mnone\u001b[39m\u001b[38;5;124m'\u001b[39m \u001b[38;5;28;01mif\u001b[39;00m dstCrs \u001b[38;5;129;01mis\u001b[39;00m \u001b[38;5;28;01mNone\u001b[39;00m \u001b[38;5;28;01melse\u001b[39;00m dstCrs\u001b[38;5;241m.\u001b[39mto_string()\n\u001b[0;32m    349\u001b[0m \u001b[38;5;66;03m# exit if it's already set\u001b[39;00m\n",
      "File \u001b[1;32m~\\anaconda3\\lib\\site-packages\\large_image_source_rasterio\\__init__.py:63\u001b[0m, in \u001b[0;36mmake_crs\u001b[1;34m(projection)\u001b[0m\n\u001b[0;32m     61\u001b[0m \u001b[38;5;28;01mdef\u001b[39;00m \u001b[38;5;21mmake_crs\u001b[39m(projection):\n\u001b[0;32m     62\u001b[0m     \u001b[38;5;28;01mif\u001b[39;00m \u001b[38;5;28misinstance\u001b[39m(projection, \u001b[38;5;28mstr\u001b[39m):\n\u001b[1;32m---> 63\u001b[0m         \u001b[38;5;28;01mreturn\u001b[39;00m \u001b[43mrio\u001b[49m\u001b[38;5;241;43m.\u001b[39;49m\u001b[43mCRS\u001b[49m\u001b[38;5;241;43m.\u001b[39;49m\u001b[43mfrom_string\u001b[49m\u001b[43m(\u001b[49m\u001b[43mprojection\u001b[49m\u001b[43m)\u001b[49m\n\u001b[0;32m     64\u001b[0m     \u001b[38;5;28;01mif\u001b[39;00m \u001b[38;5;28misinstance\u001b[39m(projection, \u001b[38;5;28mdict\u001b[39m):\n\u001b[0;32m     65\u001b[0m         \u001b[38;5;28;01mreturn\u001b[39;00m rio\u001b[38;5;241m.\u001b[39mCRS\u001b[38;5;241m.\u001b[39mfrom_dict(projection)\n",
      "File \u001b[1;32mrasterio\\crs.pyx:842\u001b[0m, in \u001b[0;36mrasterio.crs.CRS.from_string\u001b[1;34m()\u001b[0m\n",
      "File \u001b[1;32mrasterio\\crs.pyx:590\u001b[0m, in \u001b[0;36mrasterio.crs.CRS.from_epsg\u001b[1;34m()\u001b[0m\n",
      "\u001b[1;31mCRSError\u001b[0m: The EPSG code is unknown. PROJ: proj_create_from_database: C:\\Users\\paolo\\anaconda3\\Library\\share\\proj\\proj.db lacks DATABASE.LAYOUT.VERSION.MAJOR / DATABASE.LAYOUT.VERSION.MINOR metadata. It comes from another PROJ installation."
     ]
    }
   ],
   "source": [
    "plot_cyclonehaz(cyh)"
   ]
  },
  {
   "cell_type": "code",
   "execution_count": 80,
   "metadata": {
    "tags": []
   },
   "outputs": [],
   "source": []
  },
  {
   "cell_type": "code",
   "execution_count": 81,
   "metadata": {
    "tags": []
   },
   "outputs": [],
   "source": []
  },
  {
   "cell_type": "markdown",
   "metadata": {},
   "source": [
    "### World Risk Index\n",
    "From the data of the World Risk Index, retrieve the expositions to coastal floodings, tsunamis and sea level rise of each country.\\"
   ]
  },
  {
   "cell_type": "code",
   "execution_count": 26,
   "metadata": {},
   "outputs": [],
   "source": [
    "def dwnl_riskidx():\n",
    "    \"\"\"\n",
    "    Downloads the World Risk Index for 2022\n",
    "\n",
    "    Data source: https://data.humdata.org/dataset/1efb6ee7-051a-440f-a2cf-e652fecccf73\n",
    "    \"\"\"\n",
    "    links = {\n",
    "     #     \"meta\": \"https://data.humdata.org/dataset/1efb6ee7-051a-440f-a2cf-e652fecccf73/resource/9ab4cdc6-9682-45a6-8314-db5e0d49e7a7/download/worldriskindex-meta.xlsx\",\n",
    "         \"data\": \"https://data.humdata.org/dataset/1efb6ee7-051a-440f-a2cf-e652fecccf73/resource/1b47b40c-f746-427c-bbf8-8caa157e03da/download/worldriskindex-2022.csv\",\n",
    "     #     \"trend\": \"https://data.humdata.org/dataset/1efb6ee7-051a-440f-a2cf-e652fecccf73/resource/9ae68502-6011-4276-a99d-118bb2826323/download/worldriskindex-trend.csv\"\n",
    "    }\n",
    "    for id in links:\n",
    "        f = requests.get(links[id])\n",
    "        if id == \"meta\":\n",
    "             fformat = \"xlsx\"\n",
    "        else:\n",
    "             fformat = \"csv\"\n",
    "        with open(f\"data/impacts/worldriskindex22_{id}.{fformat}\", \"wb\") as file:\n",
    "                file.write(f.content)\n",
    "        print(\"World Risk Index \", id, \" downloaded\")\n",
    "\n",
    "def load_riskidx():\n",
    "     \"\"\"\n",
    "     Load data in a DataFrame and keep only columns with the annual percentage of people of that\n",
    "     country exposed to severe tsunamis, severe coastal floods and sea level rise.\n",
    "     \"\"\"\n",
    "     csv = pd.read_csv(\"data/impacts/worldriskindex22_data.csv\")\n",
    "    #  cols = [\"Country\", \"ISO3\", \"EI_02d_Base\", \"EI_03d_Base\", \"EI_07b_Base\"]\n",
    "     cols = [\"Country\", \"ISO3\", \"EI_02d_Norm\", \"EI_03d_Norm\", \"EI_07b_Norm\"]\n",
    "     csv = csv.loc[:, cols]\n",
    "     cols = [\"Country\", \"ISO3\", \"Tsunamis\", \"Coastal_floods\", \"Sea_level_rise\"]\n",
    "     csv.columns = cols\n",
    "     return(csv)\n",
    "\n",
    "def plot_riskidx(var, csv = None):\n",
    "    # https://ipyleaflet.readthedocs.io/en/latest/layers/choropleth.html\n",
    "    # https://coderzcolumn.com/tutorials/data-science/choropleth-maps-using-ipyleaflet\n",
    "    #Load risk data\n",
    "    if csv is None: csv = load_riskidx()\n",
    "    #Load world countries boundaries\n",
    "    #from: https://public.opendatasoft.com/explore/dataset/world-administrative-boundaries/export/\n",
    "    f = requests.get(\"https://public.opendatasoft.com/api/explore/v2.1/catalog/datasets/world-administrative-boundaries/exports/geojson?lang=en&timezone=Europe%2FBerlin\")\n",
    "    geo_json_data = json.loads(f.content)\n",
    "    for d in geo_json_data[\"features\"]:\n",
    "          d[\"iso\"] = d[\"properties\"][\"iso3\"]\n",
    "    mapping  = dict(zip(csv[\"ISO3\"].str.strip(), csv[var]))\n",
    "    for d in geo_json_data[\"features\"]:\n",
    "        if d[\"iso\"] not in mapping:\n",
    "            mapping[d[\"iso\"]] = 0 #check if nan is possible\n",
    "    m = Map(zoom=2)\n",
    "    layer = Choropleth(\n",
    "                    geo_data = geo_json_data,\n",
    "                    choro_data = mapping,\n",
    "                    # colormap=\"blues\",\n",
    "                    style = {'fillOpacity': 1.0, \"color\":\"black\"},\n",
    "                    key_on = \"iso\")\n",
    "    m.add_layer(layer)\n",
    "    m.add_control(LayersControl())\n",
    "    m.layout.height=\"700px\"\n",
    "    return(m)"
   ]
  },
  {
   "cell_type": "markdown",
   "metadata": {},
   "source": [
    "**Plots**:\\\n",
    "They show the percentage of the population exposed to the hazard considered normalized across the countries"
   ]
  },
  {
   "cell_type": "code",
   "execution_count": 31,
   "metadata": {},
   "outputs": [
    {
     "data": {
      "application/vnd.jupyter.widget-view+json": {
       "model_id": "a5df4dc863704dec964f842476fe5df5",
       "version_major": 2,
       "version_minor": 0
      },
      "text/plain": [
       "Map(center=[0.0, 0.0], controls=(ZoomControl(options=['position', 'zoom_in_text', 'zoom_in_title', 'zoom_out_t…"
      ]
     },
     "execution_count": 31,
     "metadata": {},
     "output_type": "execute_result"
    }
   ],
   "source": [
    "m = plot_riskidx(\"Tsunamis\")\n",
    "m"
   ]
  },
  {
   "cell_type": "code",
   "execution_count": 6,
   "metadata": {},
   "outputs": [
    {
     "data": {
      "application/vnd.jupyter.widget-view+json": {
       "model_id": "0060e24c42a149989e82a02203599f96",
       "version_major": 2,
       "version_minor": 0
      },
      "text/plain": [
       "Map(center=[0.0, 0.0], controls=(ZoomControl(options=['position', 'zoom_in_text', 'zoom_in_title', 'zoom_out_t…"
      ]
     },
     "execution_count": 6,
     "metadata": {},
     "output_type": "execute_result"
    }
   ],
   "source": [
    "m = plot_riskidx(\"Coastal_floods\")\n",
    "m"
   ]
  },
  {
   "cell_type": "code",
   "execution_count": 7,
   "metadata": {},
   "outputs": [
    {
     "data": {
      "application/vnd.jupyter.widget-view+json": {
       "model_id": "f8b189c775cd4268ad15cc079a38bf74",
       "version_major": 2,
       "version_minor": 0
      },
      "text/plain": [
       "Map(center=[0.0, 0.0], controls=(ZoomControl(options=['position', 'zoom_in_text', 'zoom_in_title', 'zoom_out_t…"
      ]
     },
     "execution_count": 7,
     "metadata": {},
     "output_type": "execute_result"
    }
   ],
   "source": [
    "m = plot_riskidx(\"Sea_level_rise\")\n",
    "m"
   ]
  },
  {
   "cell_type": "markdown",
   "metadata": {},
   "source": [
    "### Combined map"
   ]
  },
  {
   "cell_type": "markdown",
   "metadata": {},
   "source": [
    "Plot all the layers above in a unique ipyleaflet"
   ]
  },
  {
   "cell_type": "code",
   "execution_count": null,
   "metadata": {},
   "outputs": [],
   "source": []
  }
 ],
 "metadata": {
  "kernelspec": {
   "display_name": "Python 3 (ipykernel)",
   "language": "python",
   "name": "python3"
  },
  "language_info": {
   "codemirror_mode": {
    "name": "ipython",
    "version": 3
   },
   "file_extension": ".py",
   "mimetype": "text/x-python",
   "name": "python",
   "nbconvert_exporter": "python",
   "pygments_lexer": "ipython3",
   "version": "3.9.7"
  }
 },
 "nbformat": 4,
 "nbformat_minor": 4
}
