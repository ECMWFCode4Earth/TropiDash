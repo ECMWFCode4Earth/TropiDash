{
 "cells": [
  {
   "cell_type": "markdown",
   "metadata": {},
   "source": [
    "## Section 3: Impacts"
   ]
  },
  {
   "cell_type": "markdown",
   "metadata": {},
   "source": [
    "## Notes on the population layer\n",
    "Raster downloaded from: https://www.worldpop.org/sdi/introapi/ through the code provided in [insert link to code notebook]\\\n",
    "They are too heavy to be downloaded on the go by the dashboard. So, they will be resampled to a lower spatial resolution and only the population in a 500 km radius from the coastline will be kept in the final raster. Right now the spatial resolution is in the order of meters, not needed for our scope. It will be resampled to at least 10km x 10km. Each country will be saved separately. The load function will then gather the last cyclone position and only load the countries in a 500 km radius from the last cyclone position."
   ]
  },
  {
   "cell_type": "markdown",
   "metadata": {},
   "source": [
    "## Setup"
   ]
  },
  {
   "cell_type": "code",
   "execution_count": 1,
   "metadata": {
    "tags": []
   },
   "outputs": [],
   "source": [
    "#Necessary packages\n",
    "from ipyleaflet import Choropleth, Map, basemap_to_tiles, LayersControl\n",
    "import ipywidgets as widgets\n",
    "from IPython.display import display\n",
    "from localtileserver import get_leaflet_tile_layer, TileClient\n",
    "import matplotlib\n",
    "import numpy as np\n",
    "import os\n",
    "import pandas as pd\n",
    "import rasterio\n",
    "from rasterio.enums import Resampling\n",
    "import requests\n",
    "import json\n",
    "\n",
    "from impacts_utils import *"
   ]
  },
  {
   "cell_type": "code",
   "execution_count": 2,
   "metadata": {},
   "outputs": [],
   "source": [
    "# parameters to be imported from the main widget\n",
    "initial_lat_lon = (38, -90) #first cyclone position\n",
    "final_lat_lon = (60, 90) #last cyclone position"
   ]
  },
  {
   "cell_type": "code",
   "execution_count": 3,
   "metadata": {},
   "outputs": [],
   "source": [
    "# variable initialization\n",
    "\n",
    "# get mean coordinates to center the plot\n",
    "mean_lat = (initial_lat_lon[0] - final_lat_lon[0])/2\n",
    "mean_lon = (initial_lat_lon[1] - final_lat_lon[1])/2\n",
    "\n",
    "coord = (mean_lat, mean_lon)"
   ]
  },
  {
   "cell_type": "markdown",
   "metadata": {},
   "source": [
    "## Impacts plot\n",
    "\n",
    "In a unique ipyleaflet, the following layers are plotted:\n",
    "- Coastal Hazard\n",
    "- Cyclone Hazard\n",
    "- Population\n",
    "- World Risk Index: from the data of the World Risk Index, retrieves and plots the expositions to coastal floodings, tsunamis and sea level rise of each country"
   ]
  },
  {
   "cell_type": "code",
   "execution_count": 4,
   "metadata": {},
   "outputs": [],
   "source": [
    "# widgets for return period selection\n",
    "vec_rp_coh = [\"5yr\", \"10yr\", \"50yr\", \"100yr\", \"250yr\", \"500yr\", \"1000yr\"]\n",
    "widget_sel_rp_coh = widgets.Dropdown(options = vec_rp_coh, description = 'Return Period Coastal Hazard')\n",
    "widget_sel_rp_coh.style.description_width = \"180px\"\n",
    "\n",
    "vec_rp_cyh = [\"50yr\", \"100yr\", \"250yr\", \"500yr\", \"1000yr\"]\n",
    "widget_sel_rp_cyh = widgets.Dropdown(options = vec_rp_cyh, description = 'Return Period Cyclone Hazard')\n",
    "widget_sel_rp_cyh.style.description_width = \"180px\""
   ]
  },
  {
   "cell_type": "code",
   "execution_count": 15,
   "metadata": {},
   "outputs": [],
   "source": [
    "def update_plot(rp_coh, rp_cyh):\n",
    "    #Download\n",
    "    print(\"Dwonloading data...\")\n",
    "    dwnl_coastalhaz(rp_coh)\n",
    "    dwnl_cyclonehaz(rp_cyh)\n",
    "    dwnl_riskidx()\n",
    "\n",
    "    #Load\n",
    "    print(\"Loading data...\")\n",
    "    coh = load_coastalhaz(rp_coh)\n",
    "    cyh = load_cyclonehaz(rp_cyh)\n",
    "\n",
    "    #Plot\n",
    "    m = Map(center = coord, zoom = 3)\n",
    "    print(\"Adding Coastal Hazard\")\n",
    "    plot_coastalhaz(coh, rp_coh, m = m)\n",
    "    print(\"Adding Cyclone Hazard\")\n",
    "    plot_cyclonehaz(cyh, rp_cyh, m = m)\n",
    "    print(\"Adding Population\")\n",
    "    plot_poplayer()\n",
    "    print(\"Adding Exposition Indexes\")\n",
    "    plot_riskidx([\"Tsunamis\", \"Coastal_floods\", \"Sea_level_rise\"], m = m)\n",
    "    m.add_control(LayersControl())\n",
    "    m.layout.height = \"700px\"\n",
    "\n",
    "    display(m)"
   ]
  },
  {
   "cell_type": "code",
   "execution_count": 16,
   "metadata": {},
   "outputs": [
    {
     "data": {
      "application/vnd.jupyter.widget-view+json": {
       "model_id": "4a458ceea83b4e03be421057f81b101d",
       "version_major": 2,
       "version_minor": 0
      },
      "text/plain": [
       "interactive(children=(Dropdown(description='Return Period Coastal Hazard', options=('5yr', '10yr', '50yr', '10…"
      ]
     },
     "execution_count": 16,
     "metadata": {},
     "output_type": "execute_result"
    }
   ],
   "source": [
    "widgets.interactive(update_plot, rp_coh = widget_sel_rp_coh, rp_cyh = widget_sel_rp_cyh)"
   ]
  }
 ],
 "metadata": {
  "kernelspec": {
   "display_name": "Python 3 (ipykernel)",
   "language": "python",
   "name": "python3"
  },
  "language_info": {
   "codemirror_mode": {
    "name": "ipython",
    "version": 3
   },
   "file_extension": ".py",
   "mimetype": "text/x-python",
   "name": "python",
   "nbconvert_exporter": "python",
   "pygments_lexer": "ipython3",
   "version": "3.11.4"
  }
 },
 "nbformat": 4,
 "nbformat_minor": 4
}
