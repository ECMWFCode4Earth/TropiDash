{
 "cells": [
  {
   "cell_type": "markdown",
   "metadata": {},
   "source": [
    "## Section 3: Impacts"
   ]
  },
  {
   "cell_type": "code",
   "execution_count": 1,
   "metadata": {},
   "outputs": [],
   "source": [
    "#Necessary packages\n",
    "from ecmwf.opendata import Client\n",
    "from ipyleaflet import Choropleth, Map\n",
    "import ipywidgets as widgets\n",
    "from IPython.display import display\n",
    "from Magics import macro as magics\n",
    "from Magics.macro import * \n",
    "import numpy as np\n",
    "import pandas as pd\n",
    "import requests\n",
    "import rioxarray as rxr\n",
    "import xarray as xr"
   ]
  },
  {
   "cell_type": "code",
   "execution_count": null,
   "metadata": {},
   "outputs": [],
   "source": [
    "#Parameters to be imported from the main widget\n",
    "initial_lat_lon = (38, -90)\n",
    "final_lat_lon = (60, 90)"
   ]
  },
  {
   "cell_type": "code",
   "execution_count": null,
   "metadata": {},
   "outputs": [],
   "source": [
    "#Variable initialization\n",
    "min_lat = initial_lat_lon[0]\n",
    "min_lon = initial_lat_lon[1]\n",
    "\n",
    "max_lat = final_lat_lon[0]\n",
    "max_lon = final_lat_lon[1]"
   ]
  },
  {
   "cell_type": "markdown",
   "metadata": {},
   "source": [
    "## Population density layer"
   ]
  },
  {
   "cell_type": "code",
   "execution_count": null,
   "metadata": {},
   "outputs": [],
   "source": []
  },
  {
   "cell_type": "markdown",
   "metadata": {},
   "source": [
    "## Hazard layers"
   ]
  },
  {
   "cell_type": "markdown",
   "metadata": {},
   "source": [
    "### Coastal hazard"
   ]
  },
  {
   "cell_type": "markdown",
   "metadata": {},
   "source": [
    "The return period `rp` could be provided by the user through a widget or we could just select a specific return period and use just that one"
   ]
  },
  {
   "cell_type": "code",
   "execution_count": null,
   "metadata": {},
   "outputs": [],
   "source": [
    "def dwnl_coastalhaz(rp):\n",
    "    \"\"\"\n",
    "    Downloads coastal hazard raster maps from The World Bank Data Catalog service\n",
    "    by providing the hazard return period\n",
    "    \n",
    "    rp: str\n",
    "        Return period.\n",
    "        Can be one of the following: 5yr, 10yr, 50yr, 100yr, 250yr, 500yr, 1000yr.\n",
    "\n",
    "    Data source: https://datacatalog.worldbank.org/search/dataset/0038579/Global-coastal-flood-hazard\n",
    "    \"\"\"\n",
    "    links = {\n",
    "            \"5yr\": \"https://www.geonode-gfdrrlab.org/uploaded/layers/2019/10/16/ss_muis_rp0005m.tif\",\n",
    "            \"10yr\": \"https://www.geonode-gfdrrlab.org/uploaded/layers/2019/10/16/ss_muis_rp0010m.tif\",\n",
    "            \"50yr\": \"https://www.geonode-gfdrrlab.org/uploaded/layers/2019/10/16/ss_muis_rp0050m.tif\",\n",
    "            \"100yr\": \"https://www.geonode-gfdrrlab.org/uploaded/layers/2019/10/16/ss_muis_rp0100m.tif\",\n",
    "            \"250yr\": \"https://www.geonode-gfdrrlab.org/uploaded/layers/2019/10/16/ss_muis_rp0250m.tif\",\n",
    "            \"500yr\": \"https://www.geonode-gfdrrlab.org/uploaded/layers/2019/10/16/ss_muis_rp0500m.tif\",\n",
    "            \"1000yr\": \"https://www.geonode-gfdrrlab.org/uploaded/layers/2019/10/16/ss_muis_rp1000m.tif\",\n",
    "            }\n",
    "    tif = requests.get(links[rp])\n",
    "    with open(f\"data/impacts/coastalhaz_{rp}.tif\", \"wb\") as tiffile:\n",
    "            tiffile.write(tif.content)\n",
    "            #need to compress the tif file when downloading it\n",
    "            print(\"Download complete\")\n",
    "\n",
    "def load_coastalhaz(rp):\n",
    "    \"\"\"\n",
    "    Loads coastal hazard raster maps downloaded through dwnl_coastalhaz\n",
    "    by providing the return period. Returns an xarray\n",
    "    \n",
    "    rp: str\n",
    "        Return period.\n",
    "        Can be one of the following: 5yr, 10yr, 50yr, 100yr, 250yr, 500yr, 1000yr.\n",
    "    \"\"\"\n",
    "    path = f\"data/impacts/coastalhaz_{rp}.tif\"\n",
    "    coh = rxr.open_rasterio(path)\n",
    "    return(coh)\n",
    "\n",
    "def plot_coastalhaz(coh, resample = True, cut = False):\n",
    "    # resample the raster to be lighter (less accuracy)\n",
    "    # make the user able to decide if resampling or not\n",
    "    if resample:\n",
    "        pass\n",
    "    \n",
    "    # cut the raster in an area near the tropical cyclone position\n",
    "    if cut:\n",
    "        pass\n",
    "\n",
    "    # plot the raster in an interactive map with ipyleaflet\n",
    "    pass"
   ]
  },
  {
   "cell_type": "code",
   "execution_count": null,
   "metadata": {},
   "outputs": [],
   "source": [
    "#Download the 50yr coastal hazard raster map\n",
    "dwnl_coastalhaz(\"50yr\")\n",
    "#Load the 50yr coastal hazard raster map as an xarray\n",
    "coh = load_coastalhaz(\"50yr\")\n",
    "print(coh)"
   ]
  },
  {
   "cell_type": "markdown",
   "metadata": {},
   "source": [
    "### Cyclone hazard"
   ]
  },
  {
   "cell_type": "markdown",
   "metadata": {},
   "source": [
    "The return period `rp` could be provided by the user through a widget or we could just select a specific return period and use just that one"
   ]
  },
  {
   "cell_type": "code",
   "execution_count": null,
   "metadata": {},
   "outputs": [],
   "source": [
    "def dwnl_cyclonehaz(rp):\n",
    "    \"\"\"\n",
    "    Downloads cyclone hazard raster maps from The World Bank Data Catalog service\n",
    "    by providing the hazard return period\n",
    "\n",
    "    rp: str\n",
    "        Return period.\n",
    "        Can be one of the following: 50yr, 100yr, 250yr, 500yr, 1000yr.\n",
    "    \n",
    "    Data source: https://datacatalog.worldbank.org/search/dataset/0038577/Global-cyclone-hazard\n",
    "    \"\"\"\n",
    "    links = {\n",
    "            \"50yr\": \"https://www.geonode-gfdrrlab.org/uploaded/layers/2019/02/26/viento_mundo_tr50_int1_Ai5zJup.tif\",\n",
    "            \"100yr\": \"https://www.geonode-gfdrrlab.org/uploaded/layers/2019/02/26/viento_mundo_tr100_int1_afg5XsL.tif\",\n",
    "            \"250yr\": \"https://www.geonode-gfdrrlab.org/uploaded/layers/2019/02/26/viento_mundo_tr250_int1.tif\",\n",
    "            \"500yr\": \"https://www.geonode-gfdrrlab.org/uploaded/layers/2019/02/26/viento_mundo_tr500_int1.tif\",\n",
    "            \"1000yr\": \"https://www.geonode-gfdrrlab.org/uploaded/layers/2019/02/26/viento_mundo_tr1000_int1.tif\",\n",
    "            }\n",
    "    tif = requests.get(links[rp])\n",
    "    with open(f\"data/impacts/cyclonehaz_{rp}.tif\", \"wb\") as tiffile:\n",
    "            tiffile.write(tif.content)\n",
    "            print(\"Download complete\")\n",
    "\n",
    "def load_cyclonehaz(rp):\n",
    "    \"\"\"\n",
    "    Loads coastal hazard raster maps downloaded through dwnl_coastalhaz\n",
    "    by providing the return period. Returns an xarray\n",
    "\n",
    "    rp: str\n",
    "        Return period.\n",
    "        Can be one of the following: 50yr, 100yr, 250yr, 500yr, 1000yr.\n",
    "    \"\"\"\n",
    "    path = f\"data/impacts/cyclonehaz_{rp}.tif\"\n",
    "    cyh = rxr.open_rasterio(path)\n",
    "    return(cyh)\n",
    "\n",
    "def plot_cyclonehaz(cyh):\n",
    "    # these rasters are lighter, shouldn't be a problem to plot not resampled\n",
    "\n",
    "    pass"
   ]
  },
  {
   "cell_type": "code",
   "execution_count": null,
   "metadata": {},
   "outputs": [],
   "source": [
    "#Download the 50yr cyclone hazard raster map\n",
    "dwnl_cyclonehaz(\"50yr\")\n",
    "#Load the 50yr cyclone hazard raster map as an xarray\n",
    "cyh = load_cyclonehaz(\"50yr\")"
   ]
  },
  {
   "cell_type": "markdown",
   "metadata": {},
   "source": [
    "### World Risk Index\n",
    "From the data of the World Risk Index, retrieve the expositions to coastal floodings, tsunamis and sea level rise of each country.\n",
    "\n",
    "**Issue to solve**: check values higher than 100 in the columns and if so remove it or find a way to obtain the percentage. China does not have percentage but number of people. Check the world risk index 2021 and Trend, maybe there there's no error"
   ]
  },
  {
   "cell_type": "code",
   "execution_count": 7,
   "metadata": {},
   "outputs": [],
   "source": [
    "def dwnl_riskidx():\n",
    "    \"\"\"\n",
    "    Downloads the World Risk Index for 2022\n",
    "\n",
    "    Data source: https://data.humdata.org/dataset/1efb6ee7-051a-440f-a2cf-e652fecccf73\n",
    "    \"\"\"\n",
    "    links = {\n",
    "     #     \"meta\": \"https://data.humdata.org/dataset/1efb6ee7-051a-440f-a2cf-e652fecccf73/resource/9ab4cdc6-9682-45a6-8314-db5e0d49e7a7/download/worldriskindex-meta.xlsx\",\n",
    "         \"data\": \"https://data.humdata.org/dataset/1efb6ee7-051a-440f-a2cf-e652fecccf73/resource/1b47b40c-f746-427c-bbf8-8caa157e03da/download/worldriskindex-2022.csv\",\n",
    "     #     \"trend\": \"https://data.humdata.org/dataset/1efb6ee7-051a-440f-a2cf-e652fecccf73/resource/9ae68502-6011-4276-a99d-118bb2826323/download/worldriskindex-trend.csv\"\n",
    "    }\n",
    "    for id in links:\n",
    "        f = requests.get(links[id])\n",
    "        if id == \"meta\":\n",
    "             fformat = \"xlsx\"\n",
    "        else:\n",
    "             fformat = \"csv\"\n",
    "        with open(f\"data/impacts/worldriskindex22_{id}.{fformat}\", \"wb\") as file:\n",
    "                file.write(f.content)\n",
    "        print(\"World Risk Index \", id, \" downloaded\")\n",
    "\n",
    "def load_riskidx():\n",
    "     \"\"\"\n",
    "     Load data in a DataFrame and keep only columns with the annual percentage of people of that\n",
    "     country exposed to severe tsunamis, severe coastal floods and sea level rise.\n",
    "     \"\"\"\n",
    "     csv = pd.read_csv(\"data/impacts/worldriskindex22_data.csv\")\n",
    "     cols = [\"Country\", \"ISO3\", \"EI_02c_Base\", \"EI_03c_Base\", \"EI_07a_Base\"]\n",
    "     csv = csv.loc[:, cols]\n",
    "     cols = [\"Country\", \"ISO3\", \"Tsunamis\", \"Coastal_floods\", \"Sea_level_rise\"]\n",
    "     csv.columns = cols\n",
    "     return(csv)\n",
    "\n",
    "def plot_riskidx(var, csv = None):\n",
    "    # https://ipyleaflet.readthedocs.io/en/latest/layers/choropleth.html\n",
    "    # https://coderzcolumn.com/tutorials/data-science/choropleth-maps-using-ipyleaflet\n",
    "    #Load risk data\n",
    "    if csv is None: csv = load_riskidx()\n",
    "    #Load world countries boundaries\n",
    "    #from: https://public.opendatasoft.com/explore/dataset/world-administrative-boundaries/export/\n",
    "    f = requests.get(\"https://public.opendatasoft.com/api/explore/v2.1/catalog/datasets/world-administrative-boundaries/exports/geojson?lang=en&timezone=Europe%2FBerlin\")\n",
    "    geo_json_data = json.loads(f.content)\n",
    "    for d in geo_json_data[\"features\"]:\n",
    "          d[\"iso\"] = d[\"properties\"][\"iso3\"]\n",
    "    mapping  = dict(zip(csv[\"ISO3\"].str.strip(), csv[var]))\n",
    "    for d in geo_json_data[\"features\"]:\n",
    "        if d[\"iso\"] not in mapping:\n",
    "            mapping[d[\"iso\"]] = 0 #check if nan is possible\n",
    "    m = Map(zoom=2)\n",
    "    layer = Choropleth(\n",
    "                    geo_data = geo_json_data,\n",
    "                    choro_data = mapping,\n",
    "                    # colormap=\"blues\",\n",
    "                    style = {'fillOpacity': 1.0, \"color\":\"black\"},\n",
    "                    key_on = \"iso\")\n",
    "    m.add_layer(layer)\n",
    "    m.layout.height=\"700px\"\n",
    "    return(m)"
   ]
  },
  {
   "cell_type": "code",
   "execution_count": 8,
   "metadata": {},
   "outputs": [
    {
     "data": {
      "application/vnd.jupyter.widget-view+json": {
       "model_id": "e2f5152e231d46f1b06791efb89d2b6d",
       "version_major": 2,
       "version_minor": 0
      },
      "text/plain": [
       "Map(center=[0.0, 0.0], controls=(ZoomControl(options=['position', 'zoom_in_text', 'zoom_in_title', 'zoom_out_t…"
      ]
     },
     "execution_count": 8,
     "metadata": {},
     "output_type": "execute_result"
    }
   ],
   "source": [
    "m = plot_riskidx(\"Tsunamis\")\n",
    "m"
   ]
  },
  {
   "cell_type": "code",
   "execution_count": 9,
   "metadata": {},
   "outputs": [
    {
     "data": {
      "application/vnd.jupyter.widget-view+json": {
       "model_id": "0dad14701b674f748394276d3b78b333",
       "version_major": 2,
       "version_minor": 0
      },
      "text/plain": [
       "Map(center=[0.0, 0.0], controls=(ZoomControl(options=['position', 'zoom_in_text', 'zoom_in_title', 'zoom_out_t…"
      ]
     },
     "execution_count": 9,
     "metadata": {},
     "output_type": "execute_result"
    }
   ],
   "source": [
    "m = plot_riskidx(\"Coastal_floods\")\n",
    "m"
   ]
  },
  {
   "cell_type": "code",
   "execution_count": 10,
   "metadata": {},
   "outputs": [
    {
     "data": {
      "application/vnd.jupyter.widget-view+json": {
       "model_id": "0b71ff8a3c7c476ea7aa1727d2d2fcc2",
       "version_major": 2,
       "version_minor": 0
      },
      "text/plain": [
       "Map(center=[0.0, 0.0], controls=(ZoomControl(options=['position', 'zoom_in_text', 'zoom_in_title', 'zoom_out_t…"
      ]
     },
     "execution_count": 10,
     "metadata": {},
     "output_type": "execute_result"
    }
   ],
   "source": [
    "m = plot_riskidx(\"Sea_level_rise\")\n",
    "m"
   ]
  },
  {
   "cell_type": "markdown",
   "metadata": {},
   "source": [
    "### Combined map"
   ]
  },
  {
   "cell_type": "markdown",
   "metadata": {},
   "source": [
    "Plot all the layers above in a unique ipyleaflet"
   ]
  },
  {
   "cell_type": "code",
   "execution_count": null,
   "metadata": {},
   "outputs": [],
   "source": []
  }
 ],
 "metadata": {
  "kernelspec": {
   "display_name": "base",
   "language": "python",
   "name": "python3"
  },
  "language_info": {
   "codemirror_mode": {
    "name": "ipython",
    "version": 3
   },
   "file_extension": ".py",
   "mimetype": "text/x-python",
   "name": "python",
   "nbconvert_exporter": "python",
   "pygments_lexer": "ipython3",
   "version": "3.9.7"
  },
  "orig_nbformat": 4
 },
 "nbformat": 4,
 "nbformat_minor": 2
}
