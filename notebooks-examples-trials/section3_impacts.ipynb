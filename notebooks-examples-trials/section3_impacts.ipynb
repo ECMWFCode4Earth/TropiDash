{
 "cells": [
  {
   "cell_type": "markdown",
   "metadata": {},
   "source": [
    "## Section 3: Impacts"
   ]
  },
  {
   "cell_type": "code",
   "execution_count": 1,
   "metadata": {
    "tags": []
   },
   "outputs": [],
   "source": [
    "#Necessary packages\n",
    "from ipyleaflet import Choropleth, Map, basemap_to_tiles, LayersControl\n",
    "import ipywidgets as widgets\n",
    "from IPython.display import display\n",
    "from localtileserver import get_leaflet_tile_layer, TileClient\n",
    "import matplotlib\n",
    "# from Magics import macro as magics\n",
    "# from Magics.macro import *\n",
    "import numpy as np\n",
    "import pandas as pd\n",
    "import rasterio #rasterio was preferred over xarray since it is more compatible with ipyleaflet\n",
    "from rasterio.enums import Resampling\n",
    "import requests\n",
    "import json\n",
    "# import rioxarray as rxr\n",
    "# import xarray as xr"
   ]
  },
  {
   "cell_type": "code",
   "execution_count": 2,
   "metadata": {
    "tags": []
   },
   "outputs": [],
   "source": [
    "#custom functions\n",
    "def resample_raster(path, fact = 0.5, rio = True):\n",
    "    \"\"\"\n",
    "    Resample a raster from its file path\n",
    "    \n",
    "    path: str\n",
    "        Path to raster file\n",
    "    fact: float\n",
    "        Upscaling or downscaling factor. Default: 0.5 (i.e. halving the raster spatial resolution)\n",
    "    \"\"\"\n",
    "    # https://rasterio.readthedocs.io/en/stable/topics/resampling.html\n",
    "    if rio:\n",
    "        with rasterio.open(path) as dataset:\n",
    "            # resample data to target shape\n",
    "            data = dataset.read(\n",
    "                out_shape=(\n",
    "                    dataset.count,\n",
    "                    int(dataset.height * fact),\n",
    "                    int(dataset.width * fact)\n",
    "                ),\n",
    "                resampling = Resampling.bilinear\n",
    "            )\n",
    "            # scale image transform\n",
    "            transform = dataset.transform * dataset.transform.scale(\n",
    "                (dataset.width / data.shape[-1]),\n",
    "                (dataset.height / data.shape[-2])\n",
    "            )\n",
    "        return(dataset)\n",
    "    else:\n",
    "        # method with xarray if needed\n",
    "        # https://docs.xarray.dev/en/stable/generated/xarray.DataArray.coarsen.html\n",
    "        pass"
   ]
  },
  {
   "cell_type": "code",
   "execution_count": 3,
   "metadata": {},
   "outputs": [],
   "source": [
    "#Parameters to be imported from the main widget\n",
    "initial_lat_lon = (38, -90)\n",
    "final_lat_lon = (60, 90)"
   ]
  },
  {
   "cell_type": "code",
   "execution_count": 4,
   "metadata": {},
   "outputs": [],
   "source": [
    "#Variable initialization\n",
    "min_lat = initial_lat_lon[0]\n",
    "min_lon = initial_lat_lon[1]\n",
    "\n",
    "max_lat = final_lat_lon[0]\n",
    "max_lon = final_lat_lon[1]"
   ]
  },
  {
   "cell_type": "code",
   "execution_count": 5,
   "metadata": {},
   "outputs": [],
   "source": [
    "# Widgets\n",
    "# widgets selection lat lon\n",
    "longitude = np.arange(-180,185,5)\n",
    "longitude_slider = widgets.SelectionRangeSlider(\n",
    "    options = longitude, index = (0,len(longitude)-1), description='Longitude',\n",
    "    orientation='horizontal', disabled=False)\n",
    "latitude = np.arange(-90,95,5)\n",
    "latitude_slider = widgets.SelectionRangeSlider(\n",
    "    options = latitude, index = (0,len(latitude)-1), description='Latitude',\n",
    "    orientation='horizontal', disabled=False)\n",
    "\n",
    "# widget select sea surface variable\n",
    "widget_select_ssvar = widgets.Dropdown(description='Sea surface variable', options=('msl', '2t'))\n",
    "\n",
    "# widget select atm variable\n",
    "widget_select_atmvar = widgets.Dropdown(description='Atmospheric variable', options=('tp',))\n",
    "                        # la coma del final és important; sinó agafa cada lletra per separat!!\n",
    "# widget select timestep: not necessary in this section\n",
    "# vec_timesteps = list(range(0, len(dates_to_download)))\n",
    "# widget_sel_timestep = widgets.SelectionSlider(options=vec_timesteps, description='Timestep')"
   ]
  },
  {
   "cell_type": "markdown",
   "metadata": {},
   "source": [
    "## Population density layer\n",
    "\n",
    "Raster downloaded from: https://www.worldpop.org/sdi/introapi/ through the code provided in [insert link to code notebook]\\\n",
    "They are too heavy to be downloaded on the go by the dashboard. So, they will be resampled to a lower spatial resolution and only the population in a 500 km radius from the coastline will be kept in the final raster. Right now the spatial resolution is in the order of meters, not needed for our scope. It will be resampled to at least 10km x 10km. Each country will be saved separately. The load function will then gather the last cyclone position and only load the countries in a 500 km radius from the last cyclone position."
   ]
  },
  {
   "cell_type": "code",
   "execution_count": null,
   "metadata": {},
   "outputs": [],
   "source": []
  },
  {
   "cell_type": "markdown",
   "metadata": {},
   "source": [
    "## Hazard layers"
   ]
  },
  {
   "cell_type": "markdown",
   "metadata": {},
   "source": [
    "### Coastal hazard"
   ]
  },
  {
   "cell_type": "markdown",
   "metadata": {},
   "source": [
    "The return period `rp` could be provided by the user through a widget or we could just select a specific return period and use just that one"
   ]
  },
  {
   "cell_type": "code",
   "execution_count": 6,
   "metadata": {
    "tags": []
   },
   "outputs": [],
   "source": [
    "def dwnl_coastalhaz(rp):\n",
    "    \"\"\"\n",
    "    Downloads coastal hazard raster maps from The World Bank Data Catalog service\n",
    "    by providing the hazard return period\n",
    "    \n",
    "    rp: str\n",
    "        Return period.\n",
    "        Can be one of the following: 5yr, 10yr, 50yr, 100yr, 250yr, 500yr, 1000yr.\n",
    "\n",
    "    Data source: https://datacatalog.worldbank.org/search/dataset/0038579/Global-coastal-flood-hazard\n",
    "    \"\"\"\n",
    "    links = {\n",
    "            \"5yr\": \"https://www.geonode-gfdrrlab.org/uploaded/layers/2019/10/16/ss_muis_rp0005m.tif\",\n",
    "            \"10yr\": \"https://www.geonode-gfdrrlab.org/uploaded/layers/2019/10/16/ss_muis_rp0010m.tif\",\n",
    "            \"50yr\": \"https://www.geonode-gfdrrlab.org/uploaded/layers/2019/10/16/ss_muis_rp0050m.tif\",\n",
    "            \"100yr\": \"https://www.geonode-gfdrrlab.org/uploaded/layers/2019/10/16/ss_muis_rp0100m.tif\",\n",
    "            \"250yr\": \"https://www.geonode-gfdrrlab.org/uploaded/layers/2019/10/16/ss_muis_rp0250m.tif\",\n",
    "            \"500yr\": \"https://www.geonode-gfdrrlab.org/uploaded/layers/2019/10/16/ss_muis_rp0500m.tif\",\n",
    "            \"1000yr\": \"https://www.geonode-gfdrrlab.org/uploaded/layers/2019/10/16/ss_muis_rp1000m.tif\",\n",
    "            }\n",
    "    tif = requests.get(links[rp])\n",
    "    with open(f\"data/impacts/coastalhaz_{rp}.tif\", \"wb\") as tiffile:\n",
    "            tiffile.write(tif.content)\n",
    "            #need to compress the tif file when downloading it\n",
    "            print(\"Download complete\")\n",
    "\n",
    "def load_coastalhaz(rp, resample = True):\n",
    "    \"\"\"\n",
    "    Loads coastal hazard raster maps downloaded through dwnl_coastalhaz\n",
    "    by providing the return period. Returns an xarray\n",
    "    \n",
    "    rp: str\n",
    "        Return period.\n",
    "        Can be one of the following: 5yr, 10yr, 50yr, 100yr, 250yr, 500yr, 1000yr.\n",
    "    resample: bool\n",
    "        If True, the raster is resampled at a lower spatial resolution\n",
    "    \"\"\"\n",
    "    path = f\"data/impacts/coastalhaz_{rp}.tif\"\n",
    "    if resample:\n",
    "        coh = resample_raster(path)\n",
    "    else:\n",
    "        coh = rasterio.open(path)\n",
    "    return(coh)\n",
    "\n",
    "def plot_coastalhaz(coh, cut = False):\n",
    "    \"\"\"\n",
    "    Plot coastal hazard raster provided as a layer in an ipyleaflet map\n",
    "    \"\"\"\n",
    "    client = TileClient(coh)\n",
    "    t = get_leaflet_tile_layer(client, opacity = 0.65) #, palette = \"Fall_7\") #fix the plotting palette\n",
    "    m = Map(center=client.center(), zoom=client.default_zoom)\n",
    "    m.add_layer(t)\n",
    "    m.add_control(LayersControl())\n",
    "    m.layout.height=\"700px\"\n",
    "    return(m)"
   ]
  },
  {
   "cell_type": "code",
   "execution_count": 7,
   "metadata": {},
   "outputs": [
    {
     "name": "stdout",
     "output_type": "stream",
     "text": [
      "<closed DatasetReader name='data/impacts/coastalhaz_50yr.tif' mode='r'>\n"
     ]
    }
   ],
   "source": [
    "#Download the 50yr coastal hazard raster map\n",
    "# dwnl_coastalhaz(\"50yr\")\n",
    "#Load the 50yr coastal hazard raster map as an xarray\n",
    "coh = load_coastalhaz(\"50yr\")\n",
    "print(coh)"
   ]
  },
  {
   "cell_type": "code",
   "execution_count": 8,
   "metadata": {},
   "outputs": [
    {
     "data": {
      "application/vnd.jupyter.widget-view+json": {
       "model_id": "b661a43bffd44d1b89ed73dbe0169c59",
       "version_major": 2,
       "version_minor": 0
      },
      "text/plain": [
       "Map(center=[13.858336971864873, 0.0], controls=(ZoomControl(options=['position', 'zoom_in_text', 'zoom_in_titl…"
      ]
     },
     "execution_count": 8,
     "metadata": {},
     "output_type": "execute_result"
    }
   ],
   "source": [
    "plot_coastalhaz(coh)"
   ]
  },
  {
   "cell_type": "markdown",
   "metadata": {},
   "source": [
    "### Cyclone hazard"
   ]
  },
  {
   "cell_type": "markdown",
   "metadata": {},
   "source": [
    "The return period `rp` could be provided by the user through a widget or we could just select a specific return period and use just that one"
   ]
  },
  {
   "cell_type": "code",
   "execution_count": 9,
   "metadata": {
    "tags": []
   },
   "outputs": [],
   "source": [
    "def dwnl_cyclonehaz(rp):\n",
    "    \"\"\"\n",
    "    Downloads cyclone hazard raster maps from The World Bank Data Catalog service\n",
    "    by providing the hazard return period\n",
    "\n",
    "    rp: str\n",
    "        Return period.\n",
    "        Can be one of the following: 50yr, 100yr, 250yr, 500yr, 1000yr.\n",
    "    \n",
    "    Data source: https://datacatalog.worldbank.org/search/dataset/0038577/Global-cyclone-hazard\n",
    "    \"\"\"\n",
    "    links = {\n",
    "            \"50yr\": \"https://www.geonode-gfdrrlab.org/uploaded/layers/2019/02/26/viento_mundo_tr50_int1_Ai5zJup.tif\",\n",
    "            \"100yr\": \"https://www.geonode-gfdrrlab.org/uploaded/layers/2019/02/26/viento_mundo_tr100_int1_afg5XsL.tif\",\n",
    "            \"250yr\": \"https://www.geonode-gfdrrlab.org/uploaded/layers/2019/02/26/viento_mundo_tr250_int1.tif\",\n",
    "            \"500yr\": \"https://www.geonode-gfdrrlab.org/uploaded/layers/2019/02/26/viento_mundo_tr500_int1.tif\",\n",
    "            \"1000yr\": \"https://www.geonode-gfdrrlab.org/uploaded/layers/2019/02/26/viento_mundo_tr1000_int1.tif\",\n",
    "            }\n",
    "    tif = requests.get(links[rp])\n",
    "    with open(f\"data/impacts/cyclonehaz_{rp}.tif\", \"wb\") as tiffile:\n",
    "            tiffile.write(tif.content)\n",
    "            print(\"Download complete\")\n",
    "\n",
    "def load_cyclonehaz(rp):\n",
    "    \"\"\"\n",
    "    Loads coastal hazard raster maps downloaded through dwnl_coastalhaz\n",
    "    by providing the return period. Returns an xarray\n",
    "\n",
    "    rp: str\n",
    "        Return period.\n",
    "        Can be one of the following: 50yr, 100yr, 250yr, 500yr, 1000yr.\n",
    "    \"\"\"\n",
    "    path = f\"data/impacts/cyclonehaz_{rp}.tif\"\n",
    "    cyh = rasterio.open(path)\n",
    "    return(cyh)\n",
    "\n",
    "def plot_cyclonehaz(cyh):\n",
    "    \"\"\"\n",
    "    Plots the cyclone hazard layer provided as input in an ipyleaflet map\n",
    "    \"\"\"\n",
    "    client = TileClient(\"data/impacts/cyclonehaz_50yr.tif\")\n",
    "    t = get_leaflet_tile_layer(client, opacity = 0.65) #, palette = \"Fall_7\") #fix the plotting palette\n",
    "    m = Map(center=client.center(), zoom=client.default_zoom)\n",
    "    m.add_layer(t)\n",
    "    m.add_control(LayersControl())\n",
    "    m.layout.height=\"700px\"\n",
    "    return(m)"
   ]
  },
  {
   "cell_type": "code",
   "execution_count": 10,
   "metadata": {
    "tags": []
   },
   "outputs": [],
   "source": [
    "#Download the 50yr cyclone hazard raster map\n",
    "# dwnl_cyclonehaz(\"50yr\")\n",
    "#Load the 50yr cyclone hazard raster map as an xarray\n",
    "cyh = load_cyclonehaz(\"50yr\")"
   ]
  },
  {
   "cell_type": "code",
   "execution_count": 11,
   "metadata": {
    "tags": []
   },
   "outputs": [
    {
     "data": {
      "text/plain": [
       "CRS.from_epsg(4326)"
      ]
     },
     "execution_count": 11,
     "metadata": {},
     "output_type": "execute_result"
    }
   ],
   "source": [
    "rasterio.crs.CRS({\"init\": \"EPSG:4326\"})"
   ]
  },
  {
   "cell_type": "code",
   "execution_count": 12,
   "metadata": {
    "tags": []
   },
   "outputs": [
    {
     "data": {
      "text/plain": [
       "CRS.from_epsg(4326)"
      ]
     },
     "execution_count": 12,
     "metadata": {},
     "output_type": "execute_result"
    }
   ],
   "source": [
    "cyh.crs"
   ]
  },
  {
   "cell_type": "code",
   "execution_count": 13,
   "metadata": {
    "tags": []
   },
   "outputs": [
    {
     "data": {
      "application/vnd.jupyter.widget-view+json": {
       "model_id": "ccfe67d4fd054aae878701f0bbeda4bb",
       "version_major": 2,
       "version_minor": 0
      },
      "text/plain": [
       "Map(center=[2.3844623315547366, 0.0], controls=(ZoomControl(options=['position', 'zoom_in_text', 'zoom_in_titl…"
      ]
     },
     "execution_count": 13,
     "metadata": {},
     "output_type": "execute_result"
    }
   ],
   "source": [
    "plot_cyclonehaz(cyh)"
   ]
  },
  {
   "cell_type": "code",
   "execution_count": null,
   "metadata": {
    "tags": []
   },
   "outputs": [],
   "source": []
  },
  {
   "cell_type": "code",
   "execution_count": null,
   "metadata": {
    "tags": []
   },
   "outputs": [],
   "source": []
  },
  {
   "cell_type": "markdown",
   "metadata": {},
   "source": [
    "### World Risk Index\n",
    "From the data of the World Risk Index, retrieve the expositions to coastal floodings, tsunamis and sea level rise of each country.\\"
   ]
  },
  {
   "cell_type": "code",
   "execution_count": 14,
   "metadata": {},
   "outputs": [],
   "source": [
    "def dwnl_riskidx():\n",
    "    \"\"\"\n",
    "    Downloads the World Risk Index for 2022\n",
    "\n",
    "    Data source: https://data.humdata.org/dataset/1efb6ee7-051a-440f-a2cf-e652fecccf73\n",
    "    \"\"\"\n",
    "    links = {\n",
    "     #     \"meta\": \"https://data.humdata.org/dataset/1efb6ee7-051a-440f-a2cf-e652fecccf73/resource/9ab4cdc6-9682-45a6-8314-db5e0d49e7a7/download/worldriskindex-meta.xlsx\",\n",
    "         \"data\": \"https://data.humdata.org/dataset/1efb6ee7-051a-440f-a2cf-e652fecccf73/resource/1b47b40c-f746-427c-bbf8-8caa157e03da/download/worldriskindex-2022.csv\",\n",
    "     #     \"trend\": \"https://data.humdata.org/dataset/1efb6ee7-051a-440f-a2cf-e652fecccf73/resource/9ae68502-6011-4276-a99d-118bb2826323/download/worldriskindex-trend.csv\"\n",
    "    }\n",
    "    for id in links:\n",
    "        f = requests.get(links[id])\n",
    "        if id == \"meta\":\n",
    "             fformat = \"xlsx\"\n",
    "        else:\n",
    "             fformat = \"csv\"\n",
    "        with open(f\"data/impacts/worldriskindex22_{id}.{fformat}\", \"wb\") as file:\n",
    "                file.write(f.content)\n",
    "        print(\"World Risk Index \", id, \" downloaded\")\n",
    "\n",
    "def load_riskidx():\n",
    "     \"\"\"\n",
    "     Load data in a DataFrame and keep only columns with the annual percentage of people of that\n",
    "     country exposed to severe tsunamis, severe coastal floods and sea level rise.\n",
    "     \"\"\"\n",
    "     csv = pd.read_csv(\"data/impacts/worldriskindex22_data.csv\")\n",
    "    #  cols = [\"Country\", \"ISO3\", \"EI_02d_Base\", \"EI_03d_Base\", \"EI_07b_Base\"]\n",
    "     cols = [\"Country\", \"ISO3\", \"EI_02d_Norm\", \"EI_03d_Norm\", \"EI_07b_Norm\"]\n",
    "     csv = csv.loc[:, cols]\n",
    "     cols = [\"Country\", \"ISO3\", \"Tsunamis\", \"Coastal_floods\", \"Sea_level_rise\"]\n",
    "     csv.columns = cols\n",
    "     return(csv)\n",
    "\n",
    "def plot_riskidx(var, csv = None):\n",
    "    # https://ipyleaflet.readthedocs.io/en/latest/layers/choropleth.html\n",
    "    # https://coderzcolumn.com/tutorials/data-science/choropleth-maps-using-ipyleaflet\n",
    "    #Load risk data\n",
    "    if csv is None: csv = load_riskidx()\n",
    "    #Load world countries boundaries\n",
    "    #from: https://public.opendatasoft.com/explore/dataset/world-administrative-boundaries/export/\n",
    "    f = requests.get(\"https://public.opendatasoft.com/api/explore/v2.1/catalog/datasets/world-administrative-boundaries/exports/geojson?lang=en&timezone=Europe%2FBerlin\")\n",
    "    geo_json_data = json.loads(f.content)\n",
    "    for d in geo_json_data[\"features\"]:\n",
    "          d[\"iso\"] = d[\"properties\"][\"iso3\"]\n",
    "    mapping  = dict(zip(csv[\"ISO3\"].str.strip(), csv[var]))\n",
    "    for d in geo_json_data[\"features\"]:\n",
    "        if d[\"iso\"] not in mapping:\n",
    "            mapping[d[\"iso\"]] = 0 #check if nan is possible\n",
    "    m = Map(zoom=2)\n",
    "    layer = Choropleth(\n",
    "                    geo_data = geo_json_data,\n",
    "                    choro_data = mapping,\n",
    "                    # colormap=\"blues\",\n",
    "                    style = {'fillOpacity': 1.0, \"color\":\"black\"},\n",
    "                    key_on = \"iso\")\n",
    "    m.add_layer(layer)\n",
    "    m.add_control(LayersControl())\n",
    "    m.layout.height=\"700px\"\n",
    "    return(m)"
   ]
  },
  {
   "cell_type": "markdown",
   "metadata": {},
   "source": [
    "**Plots**:\\\n",
    "They show the percentage of the population exposed to the hazard considered normalized across the countries"
   ]
  },
  {
   "cell_type": "code",
   "execution_count": 15,
   "metadata": {},
   "outputs": [
    {
     "data": {
      "application/vnd.jupyter.widget-view+json": {
       "model_id": "db999898ca6e4c08a8ada62da77305f0",
       "version_major": 2,
       "version_minor": 0
      },
      "text/plain": [
       "Map(center=[0.0, 0.0], controls=(ZoomControl(options=['position', 'zoom_in_text', 'zoom_in_title', 'zoom_out_t…"
      ]
     },
     "execution_count": 15,
     "metadata": {},
     "output_type": "execute_result"
    }
   ],
   "source": [
    "m = plot_riskidx(\"Tsunamis\")\n",
    "m"
   ]
  },
  {
   "cell_type": "code",
   "execution_count": 16,
   "metadata": {},
   "outputs": [
    {
     "data": {
      "application/vnd.jupyter.widget-view+json": {
       "model_id": "56009cfcdb994a63a83cfc5f11873a3b",
       "version_major": 2,
       "version_minor": 0
      },
      "text/plain": [
       "Map(center=[0.0, 0.0], controls=(ZoomControl(options=['position', 'zoom_in_text', 'zoom_in_title', 'zoom_out_t…"
      ]
     },
     "execution_count": 16,
     "metadata": {},
     "output_type": "execute_result"
    }
   ],
   "source": [
    "m = plot_riskidx(\"Coastal_floods\")\n",
    "m"
   ]
  },
  {
   "cell_type": "code",
   "execution_count": 17,
   "metadata": {},
   "outputs": [
    {
     "data": {
      "application/vnd.jupyter.widget-view+json": {
       "model_id": "41543aa4a3224d8b96dcb76c6220b5cc",
       "version_major": 2,
       "version_minor": 0
      },
      "text/plain": [
       "Map(center=[0.0, 0.0], controls=(ZoomControl(options=['position', 'zoom_in_text', 'zoom_in_title', 'zoom_out_t…"
      ]
     },
     "execution_count": 17,
     "metadata": {},
     "output_type": "execute_result"
    }
   ],
   "source": [
    "m = plot_riskidx(\"Sea_level_rise\")\n",
    "m"
   ]
  },
  {
   "cell_type": "markdown",
   "metadata": {},
   "source": [
    "### Combined map"
   ]
  },
  {
   "cell_type": "markdown",
   "metadata": {},
   "source": [
    "Plot all the layers above in a unique ipyleaflet"
   ]
  },
  {
   "cell_type": "code",
   "execution_count": null,
   "metadata": {},
   "outputs": [],
   "source": []
  }
 ],
 "metadata": {
  "kernelspec": {
   "display_name": "Python 3 (ipykernel)",
   "language": "python",
   "name": "python3"
  },
  "language_info": {
   "codemirror_mode": {
    "name": "ipython",
    "version": 3
   },
   "file_extension": ".py",
   "mimetype": "text/x-python",
   "name": "python",
   "nbconvert_exporter": "python",
   "pygments_lexer": "ipython3",
   "version": "3.11.4"
  }
 },
 "nbformat": 4,
 "nbformat_minor": 4
}
