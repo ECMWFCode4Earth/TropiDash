{
 "cells": [
  {
   "cell_type": "code",
   "execution_count": null,
   "id": "3979a13e",
   "metadata": {},
   "outputs": [],
   "source": [
    "# SECTION 2\n",
    "# The only issue that are lacking some atm variables"
   ]
  },
  {
   "cell_type": "code",
   "execution_count": 1,
   "id": "20203681",
   "metadata": {},
   "outputs": [],
   "source": [
    "import cfgrib\n",
    "from ecmwf.opendata import Client\n",
    "import ipywidgets as widgets\n",
    "from IPython.display import display\n",
    "from Magics import macro as magics\n",
    "from Magics.macro import *\n",
    "import numpy as np\n",
    "import pandas as pd\n",
    "import requests\n",
    "import rioxarray as rxr\n",
    "import xarray as xr"
   ]
  },
  {
   "cell_type": "markdown",
   "id": "9e3bc97c",
   "metadata": {},
   "source": [
    "# PARAMETERS TO BE IMPORTED FROM MAIN WIDGET"
   ]
  },
  {
   "cell_type": "code",
   "execution_count": 34,
   "id": "8ae46534",
   "metadata": {},
   "outputs": [],
   "source": [
    "dates_to_download = [ '20230823', '20230824']\n",
    "\n",
    "initial_lat_lon = (38, -90)\n",
    "final_lat_lon = (60, 90)"
   ]
  },
  {
   "cell_type": "code",
   "execution_count": 17,
   "id": "28bfd178",
   "metadata": {},
   "outputs": [
    {
     "data": {
      "text/plain": [
       "'20230818'"
      ]
     },
     "execution_count": 17,
     "metadata": {},
     "output_type": "execute_result"
    }
   ],
   "source": [
    "str(dates_to_download[0])"
   ]
  },
  {
   "cell_type": "markdown",
   "id": "d805c0e8",
   "metadata": {},
   "source": [
    "# VARIABLE INITIALIZATION"
   ]
  },
  {
   "cell_type": "code",
   "execution_count": 11,
   "id": "22dbed00",
   "metadata": {},
   "outputs": [],
   "source": [
    "# sea surface variables: mslp; sst\n",
    "ss_variables = ['msl', '2t']\n",
    "\n",
    "min_lat = initial_lat_lon[0]\n",
    "min_lon = initial_lat_lon[1]\n",
    "\n",
    "max_lat = final_lat_lon[0]\n",
    "max_lon = final_lat_lon[1]"
   ]
  },
  {
   "cell_type": "markdown",
   "id": "91826c75",
   "metadata": {},
   "source": [
    "# DOWNLOAD DATA"
   ]
  },
  {
   "cell_type": "code",
   "execution_count": 36,
   "id": "9808fcbb",
   "metadata": {},
   "outputs": [
    {
     "name": "stdout",
     "output_type": "stream",
     "text": [
      "Downloading data...\n",
      "msl\n"
     ]
    },
    {
     "data": {
      "application/vnd.jupyter.widget-view+json": {
       "model_id": "07cc650fc464483ebad2b1ae1bc7b531",
       "version_major": 2,
       "version_minor": 0
      },
      "text/plain": [
       "20230823000000-240h-oper-fc.grib2:   0%|          | 0.00/282k [00:00<?, ?B/s]"
      ]
     },
     "metadata": {},
     "output_type": "display_data"
    },
    {
     "data": {
      "application/vnd.jupyter.widget-view+json": {
       "model_id": "d0d058be291c45f9bdc45535f51560e1",
       "version_major": 2,
       "version_minor": 0
      },
      "text/plain": [
       "20230824000000-240h-oper-fc.grib2:   0%|          | 0.00/230k [00:00<?, ?B/s]"
      ]
     },
     "metadata": {},
     "output_type": "display_data"
    },
    {
     "name": "stdout",
     "output_type": "stream",
     "text": [
      "2t\n"
     ]
    },
    {
     "data": {
      "application/vnd.jupyter.widget-view+json": {
       "model_id": "06f4809c5d564d939bb5e63badd9221a",
       "version_major": 2,
       "version_minor": 0
      },
      "text/plain": [
       "20230823000000-240h-oper-fc.grib2:   0%|          | 0.00/280k [00:00<?, ?B/s]"
      ]
     },
     "metadata": {},
     "output_type": "display_data"
    },
    {
     "data": {
      "application/vnd.jupyter.widget-view+json": {
       "model_id": "a2e75f640c454f149fbd1a737c74fa23",
       "version_major": 2,
       "version_minor": 0
      },
      "text/plain": [
       "20230824000000-240h-oper-fc.grib2:   0%|          | 0.00/278k [00:00<?, ?B/s]"
      ]
     },
     "metadata": {},
     "output_type": "display_data"
    },
    {
     "name": "stdout",
     "output_type": "stream",
     "text": [
      "tp\n"
     ]
    },
    {
     "data": {
      "application/vnd.jupyter.widget-view+json": {
       "model_id": "79712168a3ff40c6b60f8f3b166305a1",
       "version_major": 2,
       "version_minor": 0
      },
      "text/plain": [
       "20230823000000-240h-oper-fc.grib2:   0%|          | 0.00/451k [00:00<?, ?B/s]"
      ]
     },
     "metadata": {},
     "output_type": "display_data"
    },
    {
     "data": {
      "application/vnd.jupyter.widget-view+json": {
       "model_id": "808556efe77f44fbbcd754e50c6995c7",
       "version_major": 2,
       "version_minor": 0
      },
      "text/plain": [
       "20230824000000-240h-oper-fc.grib2:   0%|          | 0.00/450k [00:00<?, ?B/s]"
      ]
     },
     "metadata": {},
     "output_type": "display_data"
    }
   ],
   "source": [
    "print('Downloading data...')\n",
    "# high res. variables\n",
    "for var in ['msl', '2t', 'tp']:\n",
    "    print(var)\n",
    "    for t in  dates_to_download:\n",
    "        #print(var + ': ' + t)\n",
    "        filename = \"data/\" + var + '_' + str(t) + 'time0_step240_oper_fc.grib'\n",
    "        client = Client(source = \"ecmwf\", beta=True) # ecwf: last five days\n",
    "        client.retrieve(\n",
    "            request = {\n",
    "                \"date\": str(t), #date start of the forecast\n",
    "                \"time\": 0,  # time start of the forecast or 12\n",
    "                \"step\": 240, #step of the forecast\n",
    "                \"stream\": \"oper\",\n",
    "                \"type\": \"fc\",\n",
    "                # \"levtype\": \"sfc\",\n",
    "                \"param\": var,\n",
    "            },\n",
    "            target = filename\n",
    "        )\n",
    "        \n",
    "# # variables of probability\n",
    "# for var in ['10fgg15']:  # total precipitation of at least 50mm\n",
    "#     print(var)\n",
    "#     for t in dates_to_download:\n",
    "#         #print(var + ': ' + t)\n",
    "#         filename = var + '_' + str(t) + 'time0_step240_oper_ep.grib'\n",
    "#         client = Client(\"https://data.ecmwf.int/forecasts\", beta=True) # ecwf: last five days\n",
    "#         client.retrieve(\n",
    "#            # date = str(t), #date start of the forecast\n",
    "#             time = 0,  # time start of the forecast or 12\n",
    "#             step = [\"0-24\"], #step of the forecast\n",
    "#             stream = \"enfo\",\n",
    "#             type = \"ep\",\n",
    "#             param = 'tpg1'\n",
    "#         )    \n",
    "# print('Done!')"
   ]
  },
  {
   "cell_type": "markdown",
   "id": "80591149",
   "metadata": {},
   "source": [
    "# LOAD DATA"
   ]
  },
  {
   "cell_type": "code",
   "execution_count": 44,
   "id": "f522b22e",
   "metadata": {},
   "outputs": [
    {
     "name": "stdout",
     "output_type": "stream",
     "text": [
      "msl\n",
      "2t\n",
      "tp\n"
     ]
    }
   ],
   "source": [
    "# LOAD AND DATA\n",
    "all_variables = ['msl', '2t', 'tp']\n",
    "gtp = []\n",
    "gmsl = []\n",
    "g2t = []\n",
    "print('Loading data...')\n",
    "for var in all_variables:\n",
    "    print(var)\n",
    "    for t in dates_to_download:\n",
    "        filename = var + '_' + str(t) + 'time0_step240_oper_fc.grib'\n",
    "        #plotname =  var + '_' + str(t) + 'time0_step240_oper_fc' \n",
    "        \n",
    "        #output_grafic = output(output_formats = ['png'], output_name = plotname, \n",
    "        #                       output_name_first_page_number = \"off\" )\n",
    "\n",
    "        #Loading Grib data\n",
    "        gvar = mgrib(grib_input_file_name=filename)\n",
    "\n",
    "        if var == 'tp':\n",
    "            gtp.append(gvar)\n",
    "        elif var == 'msl':\n",
    "            gmsl.append(gvar)\n",
    "        elif var == '2t':\n",
    "            g2t.append(gvar)\n",
    "print('Done!')"
   ]
  },
  {
   "cell_type": "code",
   "execution_count": null,
   "id": "db8a1284",
   "metadata": {},
   "outputs": [],
   "source": [
    "# Load data\n",
    "def gen_raster(var):\n",
    "    for t in dates_to_download:\n",
    "        filename = \"data/\" + var + '_' + str(t) + 'time0_step240_oper_fc.grib'\n",
    "        f = xr.load_dataset(filename, engine = \"cfrgrib\")\n",
    "\n",
    "\n",
    "def load_atmdata(varlst):\n",
    "    \"\"\"\n",
    "    varlst: str, list of str\n",
    "        List containing strings of the variables to load\n",
    "    \"\"\"\n",
    "    # gtp, gmsl, g2t = [], [], []\n",
    "    # tool = [gtp, gmsl, g2t]\n",
    "    for i, var in enumerate(varlst):\n",
    "        print(var, \" conversion\")\n",
    "        path = gen_raster(var)\n"
   ]
  },
  {
   "cell_type": "code",
   "execution_count": 5,
   "id": "39930434",
   "metadata": {},
   "outputs": [],
   "source": [
    "filename = \"data/msl_20230823time0_step240_oper_fc.grib\""
   ]
  },
  {
   "cell_type": "code",
   "execution_count": 46,
   "id": "7a7a48cb",
   "metadata": {},
   "outputs": [],
   "source": [
    "f = xr.open_dataset(filename, engine = \"cfgrib\")"
   ]
  },
  {
   "cell_type": "code",
   "execution_count": 8,
   "metadata": {},
   "outputs": [
    {
     "data": {
      "text/plain": [
       "<rioxarray.raster_dataset.RasterDataset at 0x19eb2a50b50>"
      ]
     },
     "execution_count": 8,
     "metadata": {},
     "output_type": "execute_result"
    }
   ],
   "source": [
    "f.rio #continue from here"
   ]
  },
  {
   "cell_type": "code",
   "execution_count": null,
   "id": "cbbdc641",
   "metadata": {},
   "outputs": [],
   "source": [
    "all_variables = ['msl', '2t', 'tp'] #list of variables to load\n",
    "load_atmdata(all_variables)"
   ]
  },
  {
   "cell_type": "markdown",
   "id": "4502eb62",
   "metadata": {},
   "source": [
    "# WIDGETS"
   ]
  },
  {
   "cell_type": "code",
   "execution_count": 9,
   "id": "2d384dc4",
   "metadata": {},
   "outputs": [],
   "source": [
    "# widgets selection lat lon\n",
    "longitude = np.arange(-180,185,5)\n",
    "longitude_slider = widgets.SelectionRangeSlider(\n",
    "    options = longitude, index = (0,len(longitude)-1), description='Longitude',\n",
    "    orientation='horizontal', disabled=False)\n",
    "latitude = np.arange(-90,95,5)\n",
    "latitude_slider = widgets.SelectionRangeSlider(\n",
    "    options = latitude, index = (0,len(latitude)-1), description='Latitude',\n",
    "    orientation='horizontal', disabled=False)\n",
    "\n",
    "# widget select sea surface variable\n",
    "widget_select_ssvar = widgets.Dropdown(description='Sea surface variable', options=('msl', '2t'))\n",
    "\n",
    "# widget select atm variable\n",
    "widget_select_atmvar = widgets.Dropdown(description='Atmospheric variable', options=('tp',))\n",
    "                        # la coma del final és important; sinó agafa cada lletra per separat!!\n",
    "# widget select timestep\n",
    "vec_timesteps = list(range(0, len(dates_to_download))) \n",
    "widget_sel_timestep = widgets.SelectionSlider(options=vec_timesteps, description='Timestep')"
   ]
  },
  {
   "cell_type": "markdown",
   "id": "5608fb56",
   "metadata": {},
   "source": [
    "# FUNCTION TO PLOT"
   ]
  },
  {
   "cell_type": "code",
   "execution_count": 45,
   "id": "616d8682",
   "metadata": {},
   "outputs": [],
   "source": [
    "def update_plot(select_var, select_timestep, select_lat, select_lon):\n",
    "    min_lat, max_lat = select_lat\n",
    "    min_lon, max_lon = select_lon\n",
    "    var = select_var\n",
    "    t = select_timestep\n",
    "\n",
    "    area = mmap(subpage_map_projection=\"cylindrical\", subpage_lower_left_longitude=int(min_lon),\n",
    "                subpage_lower_left_latitude=int(min_lat), subpage_upper_right_longitude=int(max_lon), \n",
    "                subpage_upper_right_latitude=int(max_lat)) \n",
    " \n",
    "    ##settings of the coastlines attributes\n",
    "    coast = mcoast(map_coastline_land_shade = \"on\", map_coastline_land_shade_colour = \"cream\", \n",
    "                   map_grid_line_style = \"dash\", map_grid_colour = \"brown\", map_label_colour = \"brown\",\n",
    "                   map_coastline_colour = \"brown\" ) \n",
    "    # CONTOUR\n",
    "    contour = mcont( contour_automatic_setting = \"ecmwf\",legend = \"on\" )\n",
    "\n",
    "    #Definition of the legend\n",
    "    legend = mlegend(legend='on', legend_display_type='continuous', \n",
    "                     legend_text_colour='charcoal', legend_text_font_size=0.4)  \n",
    "    title = mtext(text_lines = var, text_font_size = \"0.7\", text_colour = \"charcoal\" )\n",
    "\n",
    "    if var == 'tp':\n",
    "        aux = gtp\n",
    "    elif var == 'msl':\n",
    "        aux = gmsl\n",
    "    elif var == '2t':\n",
    "        aux = g2t\n",
    "        \n",
    "        \n",
    "    display(plot( area, coast, aux[t], contour, title, legend))"
   ]
  },
  {
   "cell_type": "markdown",
   "id": "40692221",
   "metadata": {},
   "source": [
    "# RESULT"
   ]
  },
  {
   "cell_type": "code",
   "execution_count": 46,
   "id": "0d40c7b4",
   "metadata": {},
   "outputs": [
    {
     "data": {
      "application/vnd.jupyter.widget-view+json": {
       "model_id": "82e298fd06194e6ea49e9e7b5d380565",
       "version_major": 2,
       "version_minor": 0
      },
      "text/plain": [
       "interactive(children=(Dropdown(description='Sea surface variable', options=('msl', '2t'), value='msl'), Select…"
      ]
     },
     "execution_count": 46,
     "metadata": {},
     "output_type": "execute_result"
    }
   ],
   "source": [
    "widgets.interactive(update_plot, \n",
    "                    select_var=widget_select_ssvar, select_timestep=widget_sel_timestep,\n",
    "                    select_lat=latitude_slider, \n",
    "                    select_lon=longitude_slider)"
   ]
  },
  {
   "cell_type": "code",
   "execution_count": 47,
   "id": "99a7e2e1",
   "metadata": {},
   "outputs": [
    {
     "data": {
      "application/vnd.jupyter.widget-view+json": {
       "model_id": "35bf9e8d98594d00becb64b6955ed2da",
       "version_major": 2,
       "version_minor": 0
      },
      "text/plain": [
       "interactive(children=(Dropdown(description='Atmospheric variable', options=('tp',), value='tp'), SelectionSlid…"
      ]
     },
     "execution_count": 47,
     "metadata": {},
     "output_type": "execute_result"
    }
   ],
   "source": [
    "widgets.interactive(update_plot, \n",
    "                    select_var=widget_select_atmvar, select_timestep=widget_sel_timestep,\n",
    "                    select_lat=latitude_slider, \n",
    "                    select_lon=longitude_slider)"
   ]
  }
 ],
 "metadata": {
  "kernelspec": {
   "display_name": "Python 3 (ipykernel)",
   "language": "python",
   "name": "python3"
  },
  "language_info": {
   "codemirror_mode": {
    "name": "ipython",
    "version": 3
   },
   "file_extension": ".py",
   "mimetype": "text/x-python",
   "name": "python",
   "nbconvert_exporter": "python",
   "pygments_lexer": "ipython3",
   "version": "3.11.4"
  }
 },
 "nbformat": 4,
 "nbformat_minor": 5
}
