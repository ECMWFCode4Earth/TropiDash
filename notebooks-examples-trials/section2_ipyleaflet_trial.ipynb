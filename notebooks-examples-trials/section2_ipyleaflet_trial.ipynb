{
 "cells": [
  {
   "cell_type": "code",
   "execution_count": null,
   "id": "3979a13e",
   "metadata": {},
   "outputs": [],
   "source": [
    "# SECTION 2\n",
    "# The only issue that are lacking some atm variables"
   ]
  },
  {
   "cell_type": "code",
   "execution_count": 2,
   "id": "20203681",
   "metadata": {},
   "outputs": [],
   "source": [
    "import cfgrib\n",
    "from ecmwf.opendata import Client\n",
    "from ipyleaflet import Choropleth, Map, basemap_to_tiles, LayersControl\n",
    "import ipywidgets as widgets\n",
    "from IPython.display import display\n",
    "from localtileserver import get_leaflet_tile_layer, TileClient\n",
    "from Magics import macro as magics\n",
    "from Magics.macro import *\n",
    "import numpy as np\n",
    "import pandas as pd\n",
    "import rasterio\n",
    "import requests\n",
    "import rioxarray as rxr\n",
    "import xarray as xr"
   ]
  },
  {
   "cell_type": "code",
   "execution_count": 7,
   "id": "8ae46534",
   "metadata": {},
   "outputs": [],
   "source": [
    "#parameters to be imported from main widget\n",
    "# dates_to_download = ['20230823', '20230824'] #only last five days are available\n",
    "dates_to_download = [0, -1, -2] #today, yesterday, the day before yesterday\n",
    "\n",
    "initial_lat_lon = (38, -90) #first cyclone position\n",
    "final_lat_lon = (60, 90) #last cyclone position"
   ]
  },
  {
   "cell_type": "code",
   "execution_count": 4,
   "id": "22dbed00",
   "metadata": {},
   "outputs": [],
   "source": [
    "# variable initialization\n",
    "# variables to visualize\n",
    "variables = ['msl', '2t', 'tp'] #, 10fgg15] #list of variables to visualize, 10fgg15 doesn't work right now\n",
    "\n",
    "min_lat = initial_lat_lon[0]\n",
    "min_lon = initial_lat_lon[1]\n",
    "\n",
    "max_lat = final_lat_lon[0]\n",
    "max_lon = final_lat_lon[1]\n",
    "\n",
    "mean_lat = (max_lat - min_lat)/2\n",
    "mean_lon = (max_lon - min_lon)/2"
   ]
  },
  {
   "cell_type": "markdown",
   "id": "91826c75",
   "metadata": {},
   "source": [
    "# Download and load data functions\n",
    "\n",
    "**CAREFUL**: with this function we are downloading the 10 days ahead forecasts, so only the forecast 10 days from the the date provided"
   ]
  },
  {
   "cell_type": "code",
   "execution_count": null,
   "id": "848426cc-ede7-4d06-9ceb-6fbc8a72ebca",
   "metadata": {},
   "outputs": [],
   "source": [
    "def dwnl_atmdata(variables, dates):\n",
    "    \"\"\"\n",
    "    Function which replicates the code written by Laura\n",
    "    It downloads 10 day ahead forecasts from the dates specified in dates\n",
    "    It need the dates from which the forecast starts\n",
    "    \"\"\"\n",
    "    fnames = []\n",
    "    for var in variables:            \n",
    "        for d in dates:\n",
    "            if var == \"10fgg10\":\n",
    "                rqt = {\n",
    "                    \"date\": str(d), #date start of the forecast\n",
    "                    \"time\": 0,      #time start of the forecast, can be 0 or 12\n",
    "                    \"step\": \"216-240\",    #step of the forecast: 10 days\n",
    "                    \"stream\": \"enfo\",\n",
    "                    \"type\": \"ep\",\n",
    "                    \"param\": var,\n",
    "                }\n",
    "            else:\n",
    "                rqt = {\n",
    "                    \"date\": str(d), #date start of the forecast\n",
    "                    \"time\": 0,      #time start of the forecast, can be 0 or 12\n",
    "                    \"step\": 240,    #step of the forecast: 10 days\n",
    "                    \"stream\": \"oper\",\n",
    "                    \"type\": \"fc\",\n",
    "                    \"levtype\": \"sfc\",\n",
    "                    \"param\": var,\n",
    "                }\n",
    "            filename = f\"data/atm/{var}_{rqt['date']}_time{rqt['time']}_step{rqt['step']}_{rqt['stream']}_{rqt['type']}.grib\"\n",
    "            client = Client(source = \"ecmwf\", beta = True)\n",
    "            client.retrieve(\n",
    "                request = rqt,\n",
    "                target = filename\n",
    "            )\n",
    "            fnames.append(filename)\n",
    "    return(fnames)"
   ]
  },
  {
   "cell_type": "code",
   "execution_count": 28,
   "id": "16d8ceee-f9f8-4c1b-b507-376c338c7205",
   "metadata": {},
   "outputs": [],
   "source": [
    "def dwnl_atmdata_today(variables):\n",
    "    \"\"\"\n",
    "    Function which downloads 1, 2, 5 and 10 days ahead forecasts from today\n",
    "    \"\"\"\n",
    "    fnames = []\n",
    "    for var in variables:\n",
    "        if var == \"10fgg10\": steps = [\"0-24\", \"24-48\", \"96-120\", \"216-240\"] else: steps = [24, 48, 120, 240]\n",
    "        for s in steps:\n",
    "            if var == \"10fgg10\":\n",
    "                rqt = {\n",
    "                    \"date\": 0,      #date start of the forecast: today\n",
    "                    \"time\": 0,      #time start of the forecast, can be 0 or 12\n",
    "                    \"step\": s,      #step of the forecast: 1, 2, 5, 10 days\n",
    "                    \"stream\": \"enfo\",\n",
    "                    \"type\": \"ep\",\n",
    "                    \"param\": var,\n",
    "                }\n",
    "            else:\n",
    "                rqt = {\n",
    "                    \"date\": 0,      #date start of the forecast: today\n",
    "                    \"time\": 0,      #time start of the forecast, can be 0 or 12\n",
    "                    \"step\": s,      #step of the forecast: 1, 2, 5, 10 days\n",
    "                    \"stream\": \"oper\",\n",
    "                    \"type\": \"fc\",\n",
    "                    \"levtype\": \"sfc\",\n",
    "                    \"param\": var,\n",
    "                }\n",
    "            filename = f\"data/atm/{var}_{rqt['date']}_time{rqt['time']}_step{rqt['step']}_{rqt['stream']}_{rqt['type']}.grib\"\n",
    "            client = Client(source = \"ecmwf\", beta = True)\n",
    "            client.retrieve(\n",
    "                request = rqt,\n",
    "                target = filename\n",
    "            )\n",
    "            fnames.append(filename)\n",
    "    return(fnames)"
   ]
  },
  {
   "cell_type": "code",
   "execution_count": 30,
   "id": "a6427317-5a93-4194-9b11-b5b3c72bd35e",
   "metadata": {},
   "outputs": [
    {
     "data": {
      "application/vnd.jupyter.widget-view+json": {
       "model_id": "",
       "version_major": 2,
       "version_minor": 0
      },
      "text/plain": [
       "20230826000000-24h-oper-fc.grib2:   0%|          | 0.00/229k [00:00<?, ?B/s]"
      ]
     },
     "metadata": {},
     "output_type": "display_data"
    },
    {
     "data": {
      "application/vnd.jupyter.widget-view+json": {
       "model_id": "",
       "version_major": 2,
       "version_minor": 0
      },
      "text/plain": [
       "20230826000000-48h-oper-fc.grib2:   0%|          | 0.00/231k [00:00<?, ?B/s]"
      ]
     },
     "metadata": {},
     "output_type": "display_data"
    },
    {
     "data": {
      "application/vnd.jupyter.widget-view+json": {
       "model_id": "",
       "version_major": 2,
       "version_minor": 0
      },
      "text/plain": [
       "20230826000000-120h-oper-fc.grib2:   0%|          | 0.00/232k [00:00<?, ?B/s]"
      ]
     },
     "metadata": {},
     "output_type": "display_data"
    },
    {
     "data": {
      "application/vnd.jupyter.widget-view+json": {
       "model_id": "",
       "version_major": 2,
       "version_minor": 0
      },
      "text/plain": [
       "20230826000000-240h-oper-fc.grib2:   0%|          | 0.00/234k [00:00<?, ?B/s]"
      ]
     },
     "metadata": {},
     "output_type": "display_data"
    },
    {
     "data": {
      "application/vnd.jupyter.widget-view+json": {
       "model_id": "",
       "version_major": 2,
       "version_minor": 0
      },
      "text/plain": [
       "20230826000000-24h-oper-fc.grib2:   0%|          | 0.00/280k [00:00<?, ?B/s]"
      ]
     },
     "metadata": {},
     "output_type": "display_data"
    },
    {
     "data": {
      "application/vnd.jupyter.widget-view+json": {
       "model_id": "",
       "version_major": 2,
       "version_minor": 0
      },
      "text/plain": [
       "20230826000000-48h-oper-fc.grib2:   0%|          | 0.00/281k [00:00<?, ?B/s]"
      ]
     },
     "metadata": {},
     "output_type": "display_data"
    },
    {
     "data": {
      "application/vnd.jupyter.widget-view+json": {
       "model_id": "",
       "version_major": 2,
       "version_minor": 0
      },
      "text/plain": [
       "20230826000000-120h-oper-fc.grib2:   0%|          | 0.00/279k [00:00<?, ?B/s]"
      ]
     },
     "metadata": {},
     "output_type": "display_data"
    },
    {
     "data": {
      "application/vnd.jupyter.widget-view+json": {
       "model_id": "",
       "version_major": 2,
       "version_minor": 0
      },
      "text/plain": [
       "20230826000000-240h-oper-fc.grib2:   0%|          | 0.00/279k [00:00<?, ?B/s]"
      ]
     },
     "metadata": {},
     "output_type": "display_data"
    },
    {
     "data": {
      "application/vnd.jupyter.widget-view+json": {
       "model_id": "",
       "version_major": 2,
       "version_minor": 0
      },
      "text/plain": [
       "20230826000000-24h-oper-fc.grib2:   0%|          | 0.00/306k [00:00<?, ?B/s]"
      ]
     },
     "metadata": {},
     "output_type": "display_data"
    },
    {
     "data": {
      "application/vnd.jupyter.widget-view+json": {
       "model_id": "",
       "version_major": 2,
       "version_minor": 0
      },
      "text/plain": [
       "20230826000000-48h-oper-fc.grib2:   0%|          | 0.00/347k [00:00<?, ?B/s]"
      ]
     },
     "metadata": {},
     "output_type": "display_data"
    },
    {
     "data": {
      "application/vnd.jupyter.widget-view+json": {
       "model_id": "",
       "version_major": 2,
       "version_minor": 0
      },
      "text/plain": [
       "20230826000000-120h-oper-fc.grib2:   0%|          | 0.00/405k [00:00<?, ?B/s]"
      ]
     },
     "metadata": {},
     "output_type": "display_data"
    },
    {
     "data": {
      "application/vnd.jupyter.widget-view+json": {
       "model_id": "",
       "version_major": 2,
       "version_minor": 0
      },
      "text/plain": [
       "20230826000000-240h-oper-fc.grib2:   0%|          | 0.00/399k [00:00<?, ?B/s]"
      ]
     },
     "metadata": {},
     "output_type": "display_data"
    }
   ],
   "source": [
    "fnames = dwnl_atmdata_today(['msl', '2t', 'tp'])"
   ]
  },
  {
   "cell_type": "code",
   "execution_count": 6,
   "id": "db8a1284",
   "metadata": {},
   "outputs": [],
   "source": [
    "# Load data\n",
    "def gen_raster(var, d):\n",
    "    \"\"\"\n",
    "    Generates .tiff raster files from .grib files downloaded from ECMWF's Open Data through dwnl_atmdata\n",
    "\n",
    "    var: str\n",
    "        Code of the variable\n",
    "    d: str\n",
    "        Date of the downloaded variable file\n",
    "\n",
    "    Returns:\n",
    "    tiffpath: str\n",
    "        Path to the created .tiff file\n",
    "    \"\"\"\n",
    "    filename = \"data/atm/\" + var + '_' + str(d) + 'time0_step240_oper_fc.grib' #add atm/ after data\n",
    "    tiffpath = \".\".join([filename.split(\".\")[0], \"tiff\"])\n",
    "    f = xr.load_dataset(filename, engine = \"cfgrib\")\n",
    "    f = f.rio.write_crs(\"epsg:4326\")\n",
    "    f.rio.to_raster(tiffpath)\n",
    "    f.close()\n",
    "    return(tiffpath)\n",
    "\n",
    "def load_atmdata(varlst, dates):\n",
    "    \"\"\"\n",
    "    varlst: str, list of str\n",
    "        List containing strings of the variables to load\n",
    "    dates: str, list of str\n",
    "        List containing the dates for which data has been downloaded\n",
    "    \n",
    "    Returns:\n",
    "    vardict: dict\n",
    "        A dictionary of rasterio DatasetReader objects, each assigned to the corresponding variable\n",
    "    \"\"\"\n",
    "    vardict = {}\n",
    "    for i, var in enumerate(varlst):\n",
    "        print(var, \" conversion\")\n",
    "        lst = []\n",
    "        for d in dates:\n",
    "            lst.append(rasterio.open(gen_raster(var, d)))\n",
    "        vardict[f\"{var}\"] = lst\n",
    "    return(vardict)\n",
    "\n",
    "def load_atmdata_today(varlst, fnames):\n",
    "    \"\"\"\n",
    "    varlst: str, list of str\n",
    "        List containing strings of the variables to load\n",
    "    dates: str, list of str\n",
    "        List containing the dates for which data has been downloaded\n",
    "    \n",
    "    Returns:\n",
    "    vardict: dict\n",
    "        A dictionary of rasterio DatasetReader objects, each assigned to the corresponding variable\n",
    "    \"\"\"\n",
    "    vardict = {}\n",
    "    for i, var in enumerate(varlst):\n",
    "        print(var, \" conversion\")\n",
    "        lst = []\n",
    "        for d in dates:\n",
    "            lst.append(rasterio.open(gen_raster(var, d)))\n",
    "        vardict[f\"{var}\"] = lst\n",
    "    return(vardict)"
   ]
  },
  {
   "cell_type": "code",
   "execution_count": 7,
   "id": "cbbdc641",
   "metadata": {},
   "outputs": [
    {
     "name": "stdout",
     "output_type": "stream",
     "text": [
      "msl  conversion\n",
      "2t  conversion\n",
      "tp  conversion\n"
     ]
    }
   ],
   "source": [
    "vardict = load_atmdata(all_variables, dates_to_download)"
   ]
  },
  {
   "cell_type": "code",
   "execution_count": null,
   "id": "18940ac7-7820-443e-834d-b34bcde6fa82",
   "metadata": {},
   "outputs": [],
   "source": [
    "vardict = load_atmdata_today(all_variables, fnames)"
   ]
  },
  {
   "cell_type": "code",
   "execution_count": 16,
   "id": "421cd476",
   "metadata": {},
   "outputs": [],
   "source": [
    "#plot the data with ipyleaflet\n",
    "def plot_atmdata(vardict, date, coord):\n",
    "    \"\"\"\n",
    "    vardict: dict\n",
    "        Dictionary containing the rasters uploaded trhough load_atmdata\n",
    "    date: str, list of str\n",
    "        Dates considered\n",
    "    coord: list or tuple\n",
    "        Coordinates of the map central point. Provide them as lat, lon\n",
    "    \"\"\"\n",
    "    namedict = {\n",
    "        \"msl\": \"Mean sea level pressure [Pa]\", #meansealevelpressure\n",
    "        \"2t\": \"2 metre temperature [K]\",\n",
    "        \"tp\": \"Total Precipitation [m]\",\n",
    "        \"10fgg15\": \"10 metre wind gust of at least 15 m/s [%]\",\n",
    "    }\n",
    "    palettedict = {\n",
    "        \"msl\": \"cool\", #meansealevelpressure\n",
    "        \"2t\": \"RdBu_r\",\n",
    "        \"tp\": \"PuBu\",\n",
    "        \"10fgg15\": \"winter\",\n",
    "    }\n",
    "    m = Map(center=(coord[0], coord[1]), zoom = 3)\n",
    "    for var in vardict.keys():\n",
    "        r = [x for x in vardict[var] if date in x.name][0]\n",
    "        print(\"Plotting \", namedict[var])\n",
    "        client = TileClient(r)\n",
    "        t = get_leaflet_tile_layer(client, name = namedict[var], opacity = 0.7, palette = palettedict[var])\n",
    "        m.add_layer(t)\n",
    "    m.add_control(LayersControl())\n",
    "    m.layout.height = \"700px\"\n",
    "    return(m)"
   ]
  },
  {
   "cell_type": "code",
   "execution_count": 17,
   "id": "43003b9e",
   "metadata": {},
   "outputs": [
    {
     "name": "stdout",
     "output_type": "stream",
     "text": [
      "Plotting  Mean sea level pressure [Pa]\n",
      "Plotting  2 metre temperature [K]\n",
      "Plotting  Total Precipitation [m]\n"
     ]
    },
    {
     "data": {
      "application/vnd.jupyter.widget-view+json": {
       "model_id": "a6506fb32a8b4743a5d1e379900a2f7a",
       "version_major": 2,
       "version_minor": 0
      },
      "text/plain": [
       "Map(center=[11.0, 90.0], controls=(ZoomControl(options=['position', 'zoom_in_text', 'zoom_in_title', 'zoom_out…"
      ]
     },
     "execution_count": 17,
     "metadata": {},
     "output_type": "execute_result"
    }
   ],
   "source": [
    "coord = [mean_lat, mean_lon]\n",
    "plot_atmdata(vardict, dates_to_download[0], coord)"
   ]
  },
  {
   "cell_type": "markdown",
   "id": "4502eb62",
   "metadata": {},
   "source": [
    "# WIDGETS"
   ]
  },
  {
   "cell_type": "code",
   "execution_count": 7,
   "id": "f522b22e",
   "metadata": {},
   "outputs": [
    {
     "name": "stdout",
     "output_type": "stream",
     "text": [
      "Loading data...\n",
      "msl\n",
      "2t\n",
      "tp\n",
      "Done!\n"
     ]
    }
   ],
   "source": [
    "# LOAD AND DATA\n",
    "all_variables = ['msl', '2t', 'tp']\n",
    "gtp = []\n",
    "gmsl = []\n",
    "g2t = []\n",
    "print('Loading data...')\n",
    "for var in all_variables:\n",
    "    print(var)\n",
    "    for t in dates_to_download:\n",
    "        filename = var + '_' + str(t) + 'time0_step240_oper_fc.grib'\n",
    "        #plotname =  var + '_' + str(t) + 'time0_step240_oper_fc' \n",
    "        \n",
    "        #output_grafic = output(output_formats = ['png'], output_name = plotname, \n",
    "        #                       output_name_first_page_number = \"off\" )\n",
    "\n",
    "        #Loading Grib data\n",
    "        gvar = mgrib(grib_input_file_name=filename)\n",
    "\n",
    "        if var == 'tp':\n",
    "            gtp.append(gvar)\n",
    "        elif var == 'msl':\n",
    "            gmsl.append(gvar)\n",
    "        elif var == '2t':\n",
    "            g2t.append(gvar)\n",
    "print('Done!')"
   ]
  },
  {
   "cell_type": "code",
   "execution_count": 9,
   "id": "2d384dc4",
   "metadata": {},
   "outputs": [],
   "source": [
    "# widgets selection lat lon\n",
    "longitude = np.arange(-180,185,5)\n",
    "longitude_slider = widgets.SelectionRangeSlider(\n",
    "    options = longitude, index = (0,len(longitude)-1), description='Longitude',\n",
    "    orientation='horizontal', disabled=False)\n",
    "latitude = np.arange(-90,95,5)\n",
    "latitude_slider = widgets.SelectionRangeSlider(\n",
    "    options = latitude, index = (0,len(latitude)-1), description='Latitude',\n",
    "    orientation='horizontal', disabled=False)\n",
    "\n",
    "# widget select sea surface variable\n",
    "widget_select_ssvar = widgets.Dropdown(description='Sea surface variable', options=('msl', '2t'))\n",
    "\n",
    "# widget select atm variable\n",
    "widget_select_atmvar = widgets.Dropdown(description='Atmospheric variable', options=('tp',))\n",
    "                        # la coma del final és important; sinó agafa cada lletra per separat!!\n",
    "# widget select timestep\n",
    "vec_timesteps = list(range(0, len(dates_to_download))) \n",
    "widget_sel_timestep = widgets.SelectionSlider(options=vec_timesteps, description='Timestep')"
   ]
  },
  {
   "cell_type": "markdown",
   "id": "5608fb56",
   "metadata": {},
   "source": [
    "# FUNCTION TO PLOT"
   ]
  },
  {
   "cell_type": "code",
   "execution_count": 45,
   "id": "616d8682",
   "metadata": {},
   "outputs": [],
   "source": [
    "def update_plot(select_var, select_timestep, select_lat, select_lon):\n",
    "    min_lat, max_lat = select_lat\n",
    "    min_lon, max_lon = select_lon\n",
    "    var = select_var\n",
    "    t = select_timestep\n",
    "\n",
    "    area = mmap(subpage_map_projection=\"cylindrical\", subpage_lower_left_longitude=int(min_lon),\n",
    "                subpage_lower_left_latitude=int(min_lat), subpage_upper_right_longitude=int(max_lon), \n",
    "                subpage_upper_right_latitude=int(max_lat)) \n",
    " \n",
    "    ##settings of the coastlines attributes\n",
    "    coast = mcoast(map_coastline_land_shade = \"on\", map_coastline_land_shade_colour = \"cream\", \n",
    "                   map_grid_line_style = \"dash\", map_grid_colour = \"brown\", map_label_colour = \"brown\",\n",
    "                   map_coastline_colour = \"brown\" ) \n",
    "    # CONTOUR\n",
    "    contour = mcont( contour_automatic_setting = \"ecmwf\",legend = \"on\" )\n",
    "\n",
    "    #Definition of the legend\n",
    "    legend = mlegend(legend='on', legend_display_type='continuous', \n",
    "                     legend_text_colour='charcoal', legend_text_font_size=0.4)  \n",
    "    title = mtext(text_lines = var, text_font_size = \"0.7\", text_colour = \"charcoal\" )\n",
    "\n",
    "    if var == 'tp':\n",
    "        aux = gtp\n",
    "    elif var == 'msl':\n",
    "        aux = gmsl\n",
    "    elif var == '2t':\n",
    "        aux = g2t\n",
    "        \n",
    "        \n",
    "    display(plot( area, coast, aux[t], contour, title, legend))"
   ]
  },
  {
   "cell_type": "markdown",
   "id": "40692221",
   "metadata": {},
   "source": [
    "# RESULT"
   ]
  },
  {
   "cell_type": "code",
   "execution_count": 46,
   "id": "0d40c7b4",
   "metadata": {},
   "outputs": [
    {
     "data": {
      "application/vnd.jupyter.widget-view+json": {
       "model_id": "82e298fd06194e6ea49e9e7b5d380565",
       "version_major": 2,
       "version_minor": 0
      },
      "text/plain": [
       "interactive(children=(Dropdown(description='Sea surface variable', options=('msl', '2t'), value='msl'), Select…"
      ]
     },
     "execution_count": 46,
     "metadata": {},
     "output_type": "execute_result"
    }
   ],
   "source": [
    "widgets.interactive(update_plot, \n",
    "                    select_var=widget_select_ssvar, select_timestep=widget_sel_timestep,\n",
    "                    select_lat=latitude_slider, \n",
    "                    select_lon=longitude_slider)"
   ]
  },
  {
   "cell_type": "code",
   "execution_count": 47,
   "id": "99a7e2e1",
   "metadata": {},
   "outputs": [
    {
     "data": {
      "application/vnd.jupyter.widget-view+json": {
       "model_id": "35bf9e8d98594d00becb64b6955ed2da",
       "version_major": 2,
       "version_minor": 0
      },
      "text/plain": [
       "interactive(children=(Dropdown(description='Atmospheric variable', options=('tp',), value='tp'), SelectionSlid…"
      ]
     },
     "execution_count": 47,
     "metadata": {},
     "output_type": "execute_result"
    }
   ],
   "source": [
    "widgets.interactive(update_plot, \n",
    "                    select_var=widget_select_atmvar, select_timestep=widget_sel_timestep,\n",
    "                    select_lat=latitude_slider, \n",
    "                    select_lon=longitude_slider)"
   ]
  }
 ],
 "metadata": {
  "kernelspec": {
   "display_name": "Python 3 (ipykernel)",
   "language": "python",
   "name": "python3"
  },
  "language_info": {
   "codemirror_mode": {
    "name": "ipython",
    "version": 3
   },
   "file_extension": ".py",
   "mimetype": "text/x-python",
   "name": "python",
   "nbconvert_exporter": "python",
   "pygments_lexer": "ipython3",
   "version": "3.11.4"
  }
 },
 "nbformat": 4,
 "nbformat_minor": 5
}
