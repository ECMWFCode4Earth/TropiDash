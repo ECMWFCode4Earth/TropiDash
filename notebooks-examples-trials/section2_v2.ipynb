{
 "cells": [
  {
   "cell_type": "markdown",
   "id": "d9b8da47-647e-4f34-a421-192e1ab4d041",
   "metadata": {},
   "source": [
    "# Section 2 - v2.0"
   ]
  },
  {
   "cell_type": "markdown",
   "id": "e4d14e06-a183-4e04-b69d-311f021c5f64",
   "metadata": {},
   "source": [
    "Updated code.\\\n",
    "Updates:\n",
    "- Layers are now plotted through ipyleaflet\n",
    "- Introduced new functions to download, load and plot forecast data at fixed steps from today\n",
    "- Implemented a widget to select the step to plot in the ipyleaflet\n",
    "\n",
    "To do:\n",
    "- add one colorbar for each layer in the plot"
   ]
  },
  {
   "cell_type": "code",
   "execution_count": 58,
   "id": "20203681",
   "metadata": {
    "tags": []
   },
   "outputs": [],
   "source": [
    "import ipywidgets as widgets\n",
    "from IPython.display import display\n",
    "\n",
    "from atm_utils import *"
   ]
  },
  {
   "cell_type": "code",
   "execution_count": 44,
   "id": "8ae46534",
   "metadata": {},
   "outputs": [],
   "source": [
    "# parameters to be imported from main widget\n",
    "stdate = 0\n",
    "# stdate = start_date_forecast.value # output from date selection widget\n",
    "\n",
    "initial_lat_lon = (38, -90) #first cyclone position\n",
    "final_lat_lon = (60, 90) #last cyclone position"
   ]
  },
  {
   "cell_type": "code",
   "execution_count": 53,
   "id": "22dbed00",
   "metadata": {},
   "outputs": [],
   "source": [
    "# variable initialization\n",
    "# variables to visualize\n",
    "variables = ['msl', '2t', 'tp'] #, ['10u', '10v']] #, 10fgg15] #list of variables to visualize, 10fgg15 doesn't work right now\n",
    "\n",
    "# get mean coordinates to center the plot\n",
    "mean_lat = (initial_lat_lon[0] - final_lat_lon[0])/2\n",
    "mean_lon = (initial_lat_lon[1] - final_lat_lon[1])/2\n",
    "\n",
    "coord = [mean_lat, mean_lon]\n",
    "\n",
    "#steps to download\n",
    "stepsdict = {\n",
    "    \"base\": [24, 48, 120, 240],\n",
    "    \"10fgg15\": [\"0-24\", \"24-48\", \"96-120\", \"216-240\"]\n",
    "}"
   ]
  },
  {
   "cell_type": "markdown",
   "id": "91826c75",
   "metadata": {},
   "source": [
    "## Download\n",
    "\n",
    "**CAREFUL**: with this function we are downloading the 10 days ahead forecasts, so only the forecast 10 days from the the date provided"
   ]
  },
  {
   "cell_type": "code",
   "execution_count": 54,
   "id": "a6427317-5a93-4194-9b11-b5b3c72bd35e",
   "metadata": {},
   "outputs": [],
   "source": [
    "fnames = dwnl_atmdata_step(variables, stepsdict, stdate)"
   ]
  },
  {
   "cell_type": "markdown",
   "id": "7b57bbbd-f9bf-48d2-b9cf-038151155da9",
   "metadata": {},
   "source": [
    "## Load"
   ]
  },
  {
   "cell_type": "code",
   "execution_count": 55,
   "id": "cbbdc641",
   "metadata": {},
   "outputs": [
    {
     "name": "stdout",
     "output_type": "stream",
     "text": [
      "msl  loaded\n",
      "2t  loaded\n",
      "tp  loaded\n"
     ]
    }
   ],
   "source": [
    "vardict = load_atmdata(variables, fnames)"
   ]
  },
  {
   "cell_type": "markdown",
   "id": "4502eb62",
   "metadata": {},
   "source": [
    "## Plot and widgets"
   ]
  },
  {
   "cell_type": "code",
   "execution_count": 59,
   "id": "fd4801b7-60fc-47d4-815a-3698df6838ac",
   "metadata": {},
   "outputs": [],
   "source": [
    "# widget to select forecast step\n",
    "vec_forecast = [f\"{x}h from today\" for x in stepsdict[\"base\"]]\n",
    "widget_sel_forecast = widgets.Dropdown(options = vec_forecast, description = 'Forecast')\n",
    "\n",
    "# function to update the plot\n",
    "def update_plot(select_forecast):\n",
    "    tooldict = {\n",
    "        \"24h from today\": 0,\n",
    "        \"48h from today\": 1,\n",
    "        \"120h from today\": 2,\n",
    "        \"240h from today\": 3\n",
    "    }\n",
    "    s = tooldict[select_forecast]\n",
    "    display(plot_atmdata_step(vardict, s, coord, stepsdict))"
   ]
  },
  {
   "cell_type": "code",
   "execution_count": 60,
   "id": "853aa6bb-ca5b-46fd-9fd7-9bbf8e47d464",
   "metadata": {},
   "outputs": [
    {
     "data": {
      "application/vnd.jupyter.widget-view+json": {
       "model_id": "976ac2611af941358c1e2035d4a46e51",
       "version_major": 2,
       "version_minor": 0
      },
      "text/plain": [
       "interactive(children=(Dropdown(description='Forecast', options=('24h from today', '48h from today', '120h from…"
      ]
     },
     "execution_count": 60,
     "metadata": {},
     "output_type": "execute_result"
    },
    {
     "name": "stderr",
     "output_type": "stream",
     "text": [
      "[2023-09-02 16:24:18,910] ERROR in app: Exception on /api/tiles/3/2/4.png [GET]\n",
      "Traceback (most recent call last):\n",
      "  File \"c:\\repos\\TropiDash\\tdashenv\\Lib\\site-packages\\flask\\app.py\", line 1484, in full_dispatch_request\n",
      "    rv = self.dispatch_request()\n",
      "         ^^^^^^^^^^^^^^^^^^^^^^^\n",
      "  File \"c:\\repos\\TropiDash\\tdashenv\\Lib\\site-packages\\flask\\app.py\", line 1469, in dispatch_request\n",
      "    return self.ensure_sync(self.view_functions[rule.endpoint])(**view_args)\n",
      "           ^^^^^^^^^^^^^^^^^^^^^^^^^^^^^^^^^^^^^^^^^^^^^^^^^^^^^^^^^^^^^^^^^\n",
      "  File \"c:\\repos\\TropiDash\\tdashenv\\Lib\\site-packages\\flask_restx\\api.py\", line 404, in wrapper\n",
      "    resp = resource(*args, **kwargs)\n",
      "           ^^^^^^^^^^^^^^^^^^^^^^^^^\n",
      "  File \"c:\\repos\\TropiDash\\tdashenv\\Lib\\site-packages\\flask\\views.py\", line 109, in view\n",
      "    return current_app.ensure_sync(self.dispatch_request)(**kwargs)\n",
      "           ^^^^^^^^^^^^^^^^^^^^^^^^^^^^^^^^^^^^^^^^^^^^^^^^^^^^^^^^\n",
      "  File \"c:\\repos\\TropiDash\\tdashenv\\Lib\\site-packages\\flask_restx\\resource.py\", line 46, in dispatch_request\n",
      "    resp = meth(*args, **kwargs)\n",
      "           ^^^^^^^^^^^^^^^^^^^^^\n",
      "  File \"c:\\repos\\TropiDash\\tdashenv\\Lib\\site-packages\\flask_caching\\__init__.py\", line 404, in decorated_function\n",
      "    rv = self._call_fn(f, *args, **kwargs)\n",
      "         ^^^^^^^^^^^^^^^^^^^^^^^^^^^^^^^^^\n",
      "  File \"c:\\repos\\TropiDash\\tdashenv\\Lib\\site-packages\\flask_caching\\__init__.py\", line 180, in _call_fn\n",
      "    return ensure_sync(fn)(*args, **kwargs)\n",
      "           ^^^^^^^^^^^^^^^^^^^^^^^^^^^^^^^^\n",
      "  File \"c:\\repos\\TropiDash\\tdashenv\\Lib\\site-packages\\localtileserver\\web\\rest.py\", line 367, in get\n",
      "    tile_binary = tile_source.getTile(x, y, z)\n",
      "                  ^^^^^^^^^^^^^^^^^^^^^^^^^^^^\n",
      "  File \"c:\\repos\\TropiDash\\tdashenv\\Lib\\site-packages\\large_image\\cache_util\\cache.py\", line 97, in wrapper\n",
      "    v = func(self, *args, **kwargs)\n",
      "        ^^^^^^^^^^^^^^^^^^^^^^^^^^^\n",
      "  File \"c:\\repos\\TropiDash\\tdashenv\\Lib\\site-packages\\large_image_source_rasterio\\__init__.py\", line 619, in getTile\n",
      "    return self._outputTile(\n",
      "           ^^^^^^^^^^^^^^^^^\n",
      "  File \"c:\\repos\\TropiDash\\tdashenv\\Lib\\site-packages\\large_image\\tilesource\\base.py\", line 1617, in _outputTile\n",
      "    tile, mode = self._outputTileNumpyStyle(\n",
      "                 ^^^^^^^^^^^^^^^^^^^^^^^^^^^\n",
      "  File \"c:\\repos\\TropiDash\\tdashenv\\Lib\\site-packages\\large_image\\tilesource\\base.py\", line 1559, in _outputTileNumpyStyle\n",
      "    tile = self._applyStyle(tile, getattr(self, 'style', None), x, y, z, frame)\n",
      "           ^^^^^^^^^^^^^^^^^^^^^^^^^^^^^^^^^^^^^^^^^^^^^^^^^^^^^^^^^^^^^^^^^^^^\n",
      "  File \"c:\\repos\\TropiDash\\tdashenv\\Lib\\site-packages\\large_image\\tilesource\\base.py\", line 1480, in _applyStyle\n",
      "    sc.max = self._getMinMax(\n",
      "             ^^^^^^^^^^^^^^^^\n",
      "  File \"c:\\repos\\TropiDash\\tdashenv\\Lib\\site-packages\\large_image\\tilesource\\base.py\", line 1222, in _getMinMax\n",
      "    value = self._bandRanges[frame]['max'][bandidx]\n",
      "            ~~~~~~~~~~~~~~~~~~~~~~~~~~~~~~^^^^^^^^^\n",
      "IndexError: index 1 is out of bounds for axis 0 with size 1\n"
     ]
    },
    {
     "ename": "TraitError",
     "evalue": "The 'east' trait of a Map instance expected a float, not the NoneType None.",
     "output_type": "error",
     "traceback": [
      "\u001b[1;31m---------------------------------------------------------------------------\u001b[0m",
      "\u001b[1;31mTraitError\u001b[0m                                Traceback (most recent call last)",
      "File \u001b[1;32mc:\\repos\\TropiDash\\tdashenv\\Lib\\site-packages\\ipywidgets\\widgets\\widget.py:767\u001b[0m, in \u001b[0;36mWidget._handle_msg\u001b[1;34m(self, msg)\u001b[0m\n\u001b[0;32m    765\u001b[0m         \u001b[39mif\u001b[39;00m \u001b[39m'\u001b[39m\u001b[39mbuffer_paths\u001b[39m\u001b[39m'\u001b[39m \u001b[39min\u001b[39;00m data:\n\u001b[0;32m    766\u001b[0m             _put_buffers(state, data[\u001b[39m'\u001b[39m\u001b[39mbuffer_paths\u001b[39m\u001b[39m'\u001b[39m], msg[\u001b[39m'\u001b[39m\u001b[39mbuffers\u001b[39m\u001b[39m'\u001b[39m])\n\u001b[1;32m--> 767\u001b[0m         \u001b[39mself\u001b[39;49m\u001b[39m.\u001b[39;49mset_state(state)\n\u001b[0;32m    769\u001b[0m \u001b[39m# Handle a state request.\u001b[39;00m\n\u001b[0;32m    770\u001b[0m \u001b[39melif\u001b[39;00m method \u001b[39m==\u001b[39m \u001b[39m'\u001b[39m\u001b[39mrequest_state\u001b[39m\u001b[39m'\u001b[39m:\n",
      "File \u001b[1;32mc:\\repos\\TropiDash\\tdashenv\\Lib\\site-packages\\ipywidgets\\widgets\\widget.py:649\u001b[0m, in \u001b[0;36mWidget.set_state\u001b[1;34m(self, sync_data)\u001b[0m\n\u001b[0;32m    646\u001b[0m \u001b[39mif\u001b[39;00m name \u001b[39min\u001b[39;00m \u001b[39mself\u001b[39m\u001b[39m.\u001b[39mkeys:\n\u001b[0;32m    647\u001b[0m     from_json \u001b[39m=\u001b[39m \u001b[39mself\u001b[39m\u001b[39m.\u001b[39mtrait_metadata(name, \u001b[39m'\u001b[39m\u001b[39mfrom_json\u001b[39m\u001b[39m'\u001b[39m,\n\u001b[0;32m    648\u001b[0m                                     \u001b[39mself\u001b[39m\u001b[39m.\u001b[39m_trait_from_json)\n\u001b[1;32m--> 649\u001b[0m     \u001b[39mself\u001b[39;49m\u001b[39m.\u001b[39;49mset_trait(name, from_json(sync_data[name], \u001b[39mself\u001b[39;49m))\n",
      "File \u001b[1;32mc:\\repos\\TropiDash\\tdashenv\\Lib\\site-packages\\traitlets\\traitlets.py:1742\u001b[0m, in \u001b[0;36mHasTraits.set_trait\u001b[1;34m(self, name, value)\u001b[0m\n\u001b[0;32m   1740\u001b[0m     \u001b[39mraise\u001b[39;00m TraitError(\u001b[39mf\u001b[39m\u001b[39m\"\u001b[39m\u001b[39mClass \u001b[39m\u001b[39m{\u001b[39;00m\u001b[39mcls\u001b[39m\u001b[39m.\u001b[39m\u001b[39m__name__\u001b[39m\u001b[39m}\u001b[39;00m\u001b[39m does not have a trait named \u001b[39m\u001b[39m{\u001b[39;00mname\u001b[39m}\u001b[39;00m\u001b[39m\"\u001b[39m)\n\u001b[0;32m   1741\u001b[0m \u001b[39melse\u001b[39;00m:\n\u001b[1;32m-> 1742\u001b[0m     \u001b[39mgetattr\u001b[39;49m(\u001b[39mcls\u001b[39;49m, name)\u001b[39m.\u001b[39;49mset(\u001b[39mself\u001b[39;49m, value)\n",
      "File \u001b[1;32mc:\\repos\\TropiDash\\tdashenv\\Lib\\site-packages\\traitlets\\traitlets.py:706\u001b[0m, in \u001b[0;36mTraitType.set\u001b[1;34m(self, obj, value)\u001b[0m\n\u001b[0;32m    705\u001b[0m \u001b[39mdef\u001b[39;00m \u001b[39mset\u001b[39m(\u001b[39mself\u001b[39m, obj, value):\n\u001b[1;32m--> 706\u001b[0m     new_value \u001b[39m=\u001b[39m \u001b[39mself\u001b[39;49m\u001b[39m.\u001b[39;49m_validate(obj, value)\n\u001b[0;32m    707\u001b[0m     \u001b[39mtry\u001b[39;00m:\n\u001b[0;32m    708\u001b[0m         old_value \u001b[39m=\u001b[39m obj\u001b[39m.\u001b[39m_trait_values[\u001b[39mself\u001b[39m\u001b[39m.\u001b[39mname]\n",
      "File \u001b[1;32mc:\\repos\\TropiDash\\tdashenv\\Lib\\site-packages\\traitlets\\traitlets.py:738\u001b[0m, in \u001b[0;36mTraitType._validate\u001b[1;34m(self, obj, value)\u001b[0m\n\u001b[0;32m    736\u001b[0m     \u001b[39mreturn\u001b[39;00m value\n\u001b[0;32m    737\u001b[0m \u001b[39mif\u001b[39;00m \u001b[39mhasattr\u001b[39m(\u001b[39mself\u001b[39m, \u001b[39m\"\u001b[39m\u001b[39mvalidate\u001b[39m\u001b[39m\"\u001b[39m):\n\u001b[1;32m--> 738\u001b[0m     value \u001b[39m=\u001b[39m \u001b[39mself\u001b[39;49m\u001b[39m.\u001b[39;49mvalidate(obj, value)\n\u001b[0;32m    739\u001b[0m \u001b[39mif\u001b[39;00m obj\u001b[39m.\u001b[39m_cross_validation_lock \u001b[39mis\u001b[39;00m \u001b[39mFalse\u001b[39;00m:\n\u001b[0;32m    740\u001b[0m     value \u001b[39m=\u001b[39m \u001b[39mself\u001b[39m\u001b[39m.\u001b[39m_cross_validate(obj, value)\n",
      "File \u001b[1;32mc:\\repos\\TropiDash\\tdashenv\\Lib\\site-packages\\traitlets\\traitlets.py:2421\u001b[0m, in \u001b[0;36mFloat.validate\u001b[1;34m(self, obj, value)\u001b[0m\n\u001b[0;32m   2419\u001b[0m     value \u001b[39m=\u001b[39m \u001b[39mfloat\u001b[39m(value)\n\u001b[0;32m   2420\u001b[0m \u001b[39mif\u001b[39;00m \u001b[39mnot\u001b[39;00m \u001b[39misinstance\u001b[39m(value, \u001b[39mfloat\u001b[39m):\n\u001b[1;32m-> 2421\u001b[0m     \u001b[39mself\u001b[39;49m\u001b[39m.\u001b[39;49merror(obj, value)\n\u001b[0;32m   2422\u001b[0m \u001b[39mreturn\u001b[39;00m _validate_bounds(\u001b[39mself\u001b[39m, obj, value)\n",
      "File \u001b[1;32mc:\\repos\\TropiDash\\tdashenv\\Lib\\site-packages\\traitlets\\traitlets.py:844\u001b[0m, in \u001b[0;36mTraitType.error\u001b[1;34m(self, obj, value, error, info)\u001b[0m\n\u001b[0;32m    838\u001b[0m \u001b[39melse\u001b[39;00m:\n\u001b[0;32m    839\u001b[0m     e \u001b[39m=\u001b[39m \u001b[39m\"\u001b[39m\u001b[39mThe \u001b[39m\u001b[39m'\u001b[39m\u001b[39m{}\u001b[39;00m\u001b[39m'\u001b[39m\u001b[39m trait expected \u001b[39m\u001b[39m{}\u001b[39;00m\u001b[39m, not \u001b[39m\u001b[39m{}\u001b[39;00m\u001b[39m.\u001b[39m\u001b[39m\"\u001b[39m\u001b[39m.\u001b[39mformat(\n\u001b[0;32m    840\u001b[0m         \u001b[39mself\u001b[39m\u001b[39m.\u001b[39mname,\n\u001b[0;32m    841\u001b[0m         \u001b[39mself\u001b[39m\u001b[39m.\u001b[39minfo(),\n\u001b[0;32m    842\u001b[0m         describe(\u001b[39m\"\u001b[39m\u001b[39mthe\u001b[39m\u001b[39m\"\u001b[39m, value),\n\u001b[0;32m    843\u001b[0m     )\n\u001b[1;32m--> 844\u001b[0m \u001b[39mraise\u001b[39;00m TraitError(e)\n",
      "\u001b[1;31mTraitError\u001b[0m: The 'east' trait of a Map instance expected a float, not the NoneType None."
     ]
    }
   ],
   "source": [
    "# launch the interactive plot\n",
    "widgets.interactive(update_plot, select_forecast = widget_sel_forecast)"
   ]
  },
  {
   "cell_type": "code",
   "execution_count": null,
   "id": "4784f1ed",
   "metadata": {},
   "outputs": [],
   "source": []
  }
 ],
 "metadata": {
  "kernelspec": {
   "display_name": "Python 3 (ipykernel)",
   "language": "python",
   "name": "python3"
  },
  "language_info": {
   "codemirror_mode": {
    "name": "ipython",
    "version": 3
   },
   "file_extension": ".py",
   "mimetype": "text/x-python",
   "name": "python",
   "nbconvert_exporter": "python",
   "pygments_lexer": "ipython3",
   "version": "3.11.4"
  }
 },
 "nbformat": 4,
 "nbformat_minor": 5
}
