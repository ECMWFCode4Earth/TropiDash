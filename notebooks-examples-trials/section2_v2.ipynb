{
 "cells": [
  {
   "cell_type": "markdown",
   "id": "d9b8da47-647e-4f34-a421-192e1ab4d041",
   "metadata": {},
   "source": [
    "# Section 2 - v2.0"
   ]
  },
  {
   "cell_type": "markdown",
   "id": "e4d14e06-a183-4e04-b69d-311f021c5f64",
   "metadata": {},
   "source": [
    "Updated code.\\\n",
    "Updates:\n",
    "- Layers are now plotted through ipyleaflet\n",
    "- Introduced new functions to download, load and plot forecast data at fixed steps from today\n",
    "- Implemented a widget to select the step to plot in the ipyleaflet\n",
    "\n",
    "To do:\n",
    "- add one colormap for each layer in the plot"
   ]
  },
  {
   "cell_type": "code",
   "execution_count": 2,
   "id": "20203681",
   "metadata": {},
   "outputs": [],
   "source": [
    "import cfgrib\n",
    "from datetime import datetime\n",
    "from ecmwf.opendata import Client\n",
    "from ipyleaflet import Choropleth, Map, basemap_to_tiles, LayersControl, LegendControl\n",
    "import ipywidgets as widgets\n",
    "from IPython.display import display\n",
    "from localtileserver import get_leaflet_tile_layer, TileClient\n",
    "# from Magics import macro as magics\n",
    "# from Magics.macro import *\n",
    "import matplotlib as mpl\n",
    "import matplotlib.pyplot as plt\n",
    "import numpy as np\n",
    "import os\n",
    "import pandas as pd\n",
    "import rasterio\n",
    "# import requests\n",
    "import rioxarray as rxr\n",
    "import xarray as xr"
   ]
  },
  {
   "cell_type": "code",
   "execution_count": 3,
   "id": "8ae46534",
   "metadata": {},
   "outputs": [],
   "source": [
    "# parameters to be imported from main widget\n",
    "# dates_to_download = ['20230823', '20230824'] #only last five days are available\n",
    "dates_to_download = [0, -1, -2] #today, yesterday, the day before yesterday\n",
    "\n",
    "initial_lat_lon = (38, -90) #first cyclone position\n",
    "final_lat_lon = (60, 90) #last cyclone position"
   ]
  },
  {
   "cell_type": "code",
   "execution_count": 4,
   "id": "22dbed00",
   "metadata": {},
   "outputs": [],
   "source": [
    "# variable initialization\n",
    "# variables to visualize\n",
    "variables = ['msl', '2t', 'tp'] #, 10fgg15] #list of variables to visualize, 10fgg15 doesn't work right now\n",
    "\n",
    "# get mean coordinates to center the plot\n",
    "mean_lat = (initial_lat_lon[0] - final_lat_lon[0])/2\n",
    "mean_lon = (initial_lat_lon[1] - final_lat_lon[1])/2\n",
    "\n",
    "coord = [mean_lat, mean_lon]\n",
    "\n",
    "#steps to download\n",
    "stepsdict = {\n",
    "    \"base\": [24, 48, 120, 240],\n",
    "    \"10fgg15\": [\"0-24\", \"24-48\", \"96-120\", \"216-240\"]\n",
    "}"
   ]
  },
  {
   "cell_type": "markdown",
   "id": "91826c75",
   "metadata": {},
   "source": [
    "## Download\n",
    "\n",
    "**CAREFUL**: with this function we are downloading the 10 days ahead forecasts, so only the forecast 10 days from the the date provided"
   ]
  },
  {
   "cell_type": "code",
   "execution_count": 5,
   "id": "848426cc-ede7-4d06-9ceb-6fbc8a72ebca",
   "metadata": {},
   "outputs": [],
   "source": [
    "def dwnl_atmdata(variables, dates):\n",
    "    \"\"\"\n",
    "    Function which replicates the code written by Laura\n",
    "    It downloads 10 day ahead forecasts from the dates specified in dates\n",
    "    It need the dates from which the forecast starts\n",
    "    \"\"\"\n",
    "    fnames = []\n",
    "    today = datetime.today().strftime('%Y%m%d')\n",
    "    for var in variables:            \n",
    "        for d in dates:\n",
    "            if var == \"10fgg15\":\n",
    "                rqt = {\n",
    "                    \"date\": str(d), #date start of the forecast\n",
    "                    \"time\": 0,      #time start of the forecast, can be 0 or 12\n",
    "                    \"step\": \"216-240\",    #step of the forecast: 10 days\n",
    "                    \"stream\": \"enfo\",\n",
    "                    \"type\": \"ep\",\n",
    "                    \"param\": var,\n",
    "                }\n",
    "            else:\n",
    "                rqt = {\n",
    "                    \"date\": str(d), #date start of the forecast\n",
    "                    \"time\": 0,      #time start of the forecast, can be 0 or 12\n",
    "                    \"step\": 240,    #step of the forecast: 10 days\n",
    "                    \"stream\": \"oper\",\n",
    "                    \"type\": \"fc\",\n",
    "                    \"levtype\": \"sfc\",\n",
    "                    \"param\": var,\n",
    "                }\n",
    "            filename = f\"data/atm/{var}_{rqt['date']}_{today}_time{rqt['time']}_step{rqt['step']}_{rqt['stream']}_{rqt['type']}.grib\"\n",
    "            if not os.path.exists(filename):\n",
    "                client = Client(source = \"ecmwf\", beta = True)\n",
    "                client.retrieve(\n",
    "                    request = rqt,\n",
    "                    target = filename\n",
    "                )\n",
    "            fnames.append(filename)\n",
    "    return(fnames)\n",
    "\n",
    "def dwnl_atmdata_step(variables, stepsdict):\n",
    "    \"\"\"\n",
    "    Function which downloads 1, 2, 5 and 10 days ahead forecasts from today\n",
    "    \"\"\"\n",
    "    fnames = []\n",
    "    today = datetime.today().strftime('%Y%m%d')\n",
    "    for var in variables:\n",
    "        if var == \"10fgg15\": steps = stepsdict[\"10fgg15\"]\n",
    "        else: steps = stepsdict[\"base\"]\n",
    "        for s in steps:\n",
    "            if var == \"10fgg15\":\n",
    "                rqt = {\n",
    "                    \"date\": 0,      #date start of the forecast: today\n",
    "                    \"time\": 0,      #time start of the forecast, can be 0 or 12\n",
    "                    \"step\": s,      #step of the forecast: 1, 2, 5, 10 days\n",
    "                    \"stream\": \"enfo\",\n",
    "                    \"type\": \"ep\",\n",
    "                    \"param\": var,\n",
    "                }\n",
    "            else:\n",
    "                rqt = {\n",
    "                    \"date\": 0,      #date start of the forecast: today\n",
    "                    \"time\": 0,      #time start of the forecast, can be 0 or 12\n",
    "                    \"step\": s,      #step of the forecast: 1, 2, 5, 10 days\n",
    "                    \"stream\": \"oper\",\n",
    "                    \"type\": \"fc\",\n",
    "                    \"levtype\": \"sfc\",\n",
    "                    \"param\": var,\n",
    "                }\n",
    "            filename = f\"data/atm/{var}_{rqt['date']}_{today}_time{rqt['time']}_step{rqt['step']}_{rqt['stream']}_{rqt['type']}.grib\"\n",
    "            if not os.path.exists(filename):\n",
    "                client = Client(source = \"ecmwf\", beta = True)\n",
    "                client.retrieve(\n",
    "                    request = rqt,\n",
    "                    target = filename\n",
    "                )\n",
    "            fnames.append(filename)\n",
    "    return(fnames)"
   ]
  },
  {
   "cell_type": "code",
   "execution_count": 6,
   "id": "1852bc5d-fab7-4539-ba57-f421b8ad5205",
   "metadata": {},
   "outputs": [],
   "source": [
    "# fnames = dwnl_atmdata(variables, dates_to_download)"
   ]
  },
  {
   "cell_type": "code",
   "execution_count": 7,
   "id": "a6427317-5a93-4194-9b11-b5b3c72bd35e",
   "metadata": {},
   "outputs": [],
   "source": [
    "fnames = dwnl_atmdata_step(variables, stepsdict)"
   ]
  },
  {
   "cell_type": "markdown",
   "id": "7b57bbbd-f9bf-48d2-b9cf-038151155da9",
   "metadata": {},
   "source": [
    "## Load"
   ]
  },
  {
   "cell_type": "code",
   "execution_count": 8,
   "id": "db8a1284",
   "metadata": {},
   "outputs": [],
   "source": [
    "# Load data\n",
    "def gen_raster(var, filename):\n",
    "    \"\"\"\n",
    "    Generates .tiff raster files from .grib files downloaded from ECMWF's Open Data through dwnl_atmdata\n",
    "\n",
    "    var: str\n",
    "        Code of the variable\n",
    "    d: str\n",
    "        Date of the downloaded variable file\n",
    "\n",
    "    Returns:\n",
    "    tiffpath: str\n",
    "        Path to the created .tiff file\n",
    "    \"\"\"\n",
    "    tiffpath = \".\".join([filename.split(\".\")[0], \"tiff\"])\n",
    "    if not os.path.exists(tiffpath):\n",
    "        print(var, \" conversion\")\n",
    "        f = xr.load_dataset(filename, engine = \"cfgrib\")\n",
    "        f = f.rio.write_crs(\"epsg:4326\")\n",
    "        f.rio.to_raster(tiffpath)\n",
    "        f.close()\n",
    "    return(tiffpath)\n",
    "\n",
    "def load_atmdata(varlst, fnames):\n",
    "    \"\"\"\n",
    "    varlst: str, list of str\n",
    "        List containing strings of the variables to load\n",
    "    fnames: str, list of str\n",
    "        List containing the paths to downloaded data\n",
    "    \n",
    "    Returns:\n",
    "    vardict: dict\n",
    "        A dictionary of rasterio DatasetReader objects, each assigned to the corresponding variable\n",
    "    \"\"\"\n",
    "    vardict = {}\n",
    "    for i, var in enumerate(varlst):\n",
    "        lst = []\n",
    "        tool = [x for x in fnames if var in x] #filenames containing the variable\n",
    "        for filename in tool:\n",
    "            lst.append(rasterio.open(gen_raster(var, filename)))\n",
    "        vardict[f\"{var}\"] = lst\n",
    "        print(var, \" loaded\")\n",
    "    return(vardict)"
   ]
  },
  {
   "cell_type": "code",
   "execution_count": 9,
   "id": "cbbdc641",
   "metadata": {},
   "outputs": [
    {
     "name": "stdout",
     "output_type": "stream",
     "text": [
      "msl  loaded\n",
      "2t  loaded\n",
      "tp  loaded\n"
     ]
    }
   ],
   "source": [
    "vardict = load_atmdata(variables, fnames)"
   ]
  },
  {
   "cell_type": "markdown",
   "id": "b614ddad-aa4f-4d14-9a2d-217ba9a4460f",
   "metadata": {},
   "source": [
    "## Plot"
   ]
  },
  {
   "cell_type": "code",
   "execution_count": 75,
   "id": "421cd476",
   "metadata": {},
   "outputs": [],
   "source": [
    "def get_colordict(array, cmap):\n",
    "    \"\"\"\n",
    "    array: numpy.array\n",
    "        Array containing the values of which the quantiles will be obtained\n",
    "    cmap: str\n",
    "        Name of the matplotlib colormap associated to the array\n",
    "\n",
    "    Returns:\n",
    "    dict\n",
    "        Dictionary containing Hex codes as keys and the array quantiles as values\n",
    "    \"\"\"\n",
    "    n_col = 8\n",
    "    cmap = plt.get_cmap(cmap, n_col)\n",
    "    custom_palette = [mpl.colors.rgb2hex(cmap(i)) for i in range(cmap.N)]\n",
    "    quantiles = [round(np.quantile(array, q)) for q in np.linspace(0,1,n_col)]\n",
    "    return(dict(zip(quantiles, custom_palette)))\n",
    "\n",
    "#plot the data with ipyleaflet\n",
    "def plot_atmdata_date(vardict, date, coord):\n",
    "    \"\"\"\n",
    "    vardict: dict\n",
    "        Dictionary containing the rasters uploaded trhough load_atmdata\n",
    "    date: str, list of str\n",
    "        Dates considered\n",
    "    coord: list or tuple\n",
    "        Coordinates of the map central point. Provide them as lat, lon\n",
    "\n",
    "    Returns:\n",
    "    m: ipyleaflet.Map\n",
    "    \"\"\"\n",
    "    namedict = {\n",
    "        \"msl\": \"Mean sea level pressure [Pa]\", #meansealevelpressure\n",
    "        \"2t\": \"2 meter temperature [K]\",\n",
    "        \"tp\": \"Total Precipitation [m]\",\n",
    "        \"10fgg15\": \"10 metre wind gust of at least 15 m/s [%]\",\n",
    "    }\n",
    "    palettedict = {\n",
    "        \"msl\": \"cool\", #meansealevelpressure\n",
    "        \"2t\": \"RdBu_r\",\n",
    "        \"tp\": \"PuBu\",\n",
    "        \"10fgg15\": \"winter\",\n",
    "    }\n",
    "    m = Map(center=(coord[0], coord[1]), zoom = 3)\n",
    "    for var in vardict.keys():\n",
    "        r = [x for x in vardict[var] if date in x.name][0]\n",
    "        print(\"Plotting \", namedict[var])\n",
    "        client = TileClient(r)\n",
    "        t = get_leaflet_tile_layer(client, name = namedict[var], opacity = 0.7, palette = palettedict[var])\n",
    "        m.add_layer(t)\n",
    "    m.add_control(LayersControl())\n",
    "    m.layout.height = \"700px\"\n",
    "    return(m)\n",
    "\n",
    "def plot_atmdata_step(vardict, step, coord):\n",
    "    \"\"\"\n",
    "    vardict: dict\n",
    "        Dictionary containing the rasters uploaded trhough load_atmdata\n",
    "    step: int\n",
    "        Index of the desired step inside the list defined in stepsdict\n",
    "    coord: list or tuple\n",
    "        Coordinates of the map central point. Provide them as lat, lon\n",
    "\n",
    "    Returns:\n",
    "    m: ipyleaflet.Map\n",
    "    \"\"\"\n",
    "    namedict = {\n",
    "        \"msl\": \"Mean sea level pressure [Pa]\",\n",
    "        \"2t\": \"2 meter temperature [K]\",\n",
    "        \"tp\": \"Total Precipitation [m]\",\n",
    "        \"10fgg15\": \"10 metre wind gust of at least 15 m/s [%]\",\n",
    "    }\n",
    "    palettedict = {\n",
    "        \"msl\": \"cool\",\n",
    "        \"2t\": \"RdBu_r\",\n",
    "        \"tp\": \"PuBu\",\n",
    "        \"10fgg15\": \"winter\",\n",
    "    }\n",
    "    m = Map(center=(coord[0], coord[1]), zoom = 3)\n",
    "    for var in vardict.keys():\n",
    "        if var == \"10fgg15\": steps = stepsdict[\"10fgg15\"]\n",
    "        else: steps = stepsdict[\"base\"]\n",
    "        r = [x for x in vardict[var] if f\"step{steps[step]}\" in x.name][0]\n",
    "        print(\"Plotting \", namedict[var])\n",
    "        client = TileClient(r)\n",
    "        t = get_leaflet_tile_layer(client, name = namedict[var], opacity = 0.7, palette = palettedict[var], n_colors = 8)\n",
    "        m.add_layer(t)\n",
    "\n",
    "        # find a way to add a colormap\n",
    "        # in leaflet you can do it as:\n",
    "        # m.add_colorbar(colors=custom_palette, vmin=r.read(1).ravel().min(), vmax=r.read(1).ravel().max())\n",
    "        #\n",
    "        # doing as below works but the legends created are too big:\n",
    "        # colordict = get_colordict(r.read(1).ravel(), palettedict[var])\n",
    "        # legend = LegendControl(legend = colordict, name = namedict[var], position=\"topright\")\n",
    "        # legend = LegendControl({\"low\":\"#24dbff\", \"medium\":\"#A55\", \"High\":\"#500\"}, name = namedict[var], position=\"bottomleft\")\n",
    "        # m.add_control(legend)\n",
    "    m.add_control(LayersControl())\n",
    "    m.layout.height = \"700px\"\n",
    "    return(m)"
   ]
  },
  {
   "cell_type": "code",
   "execution_count": 44,
   "id": "93be6a7a-9f0d-45b6-87f1-28a763437138",
   "metadata": {},
   "outputs": [],
   "source": [
    "# plot_atmdata_date(vardict, dates_to_download[0], coord)"
   ]
  },
  {
   "cell_type": "code",
   "execution_count": 76,
   "id": "43003b9e",
   "metadata": {},
   "outputs": [
    {
     "name": "stdout",
     "output_type": "stream",
     "text": [
      "Plotting  Mean sea level pressure [Pa]\n",
      "Plotting  2 meter temperature [K]\n",
      "Plotting  Total Precipitation [m]\n"
     ]
    },
    {
     "data": {
      "application/vnd.jupyter.widget-view+json": {
       "model_id": "2b7c5f0ff37a4c1ab6104e9226d9acf6",
       "version_major": 2,
       "version_minor": 0
      },
      "text/plain": [
       "Map(center=[-11.0, -90.0], controls=(ZoomControl(options=['position', 'zoom_in_text', 'zoom_in_title', 'zoom_o…"
      ]
     },
     "execution_count": 76,
     "metadata": {},
     "output_type": "execute_result"
    }
   ],
   "source": [
    "# plot only the first forecast step available (24h from today)\n",
    "plot_atmdata_step(vardict, 0, coord)"
   ]
  },
  {
   "cell_type": "markdown",
   "id": "4502eb62",
   "metadata": {},
   "source": [
    "## Plot and widgets\n",
    "\n",
    "To make widget text bold, use this unicode converter to get the bold text then paste it as the description: http://slothsoft.net/UnicodeMapper/?lang=en-us"
   ]
  },
  {
   "cell_type": "code",
   "execution_count": 34,
   "id": "fd4801b7-60fc-47d4-815a-3698df6838ac",
   "metadata": {},
   "outputs": [],
   "source": [
    "# widget to select forecast step\n",
    "vec_forecast = [f\"{x}h from today\" for x in stepsdict[\"base\"]]\n",
    "widget_sel_forecast = widgets.Dropdown(options = vec_forecast, description = 'Forecast')\n",
    "\n",
    "# function to update the plot\n",
    "def update_plot(select_forecast):\n",
    "    tooldict = {\n",
    "        \"24h from today\": 0,\n",
    "        \"48h from today\": 1,\n",
    "        \"120h from today\": 2,\n",
    "        \"240h from today\": 3\n",
    "    }\n",
    "    s = tooldict[select_forecast]\n",
    "    display(plot_atmdata_step(vardict, s, coord))"
   ]
  },
  {
   "cell_type": "code",
   "execution_count": 23,
   "id": "853aa6bb-ca5b-46fd-9fd7-9bbf8e47d464",
   "metadata": {},
   "outputs": [
    {
     "data": {
      "application/vnd.jupyter.widget-view+json": {
       "model_id": "be9c7222069f42bfbb12efbc37eb37bc",
       "version_major": 2,
       "version_minor": 0
      },
      "text/plain": [
       "interactive(children=(Dropdown(description='Forecast timestep', options=('24h from today', '48h from today', '…"
      ]
     },
     "execution_count": 23,
     "metadata": {},
     "output_type": "execute_result"
    }
   ],
   "source": [
    "# launch the interactive plot\n",
    "widgets.interactive(update_plot, select_forecast = widget_sel_forecast)"
   ]
  },
  {
   "cell_type": "markdown",
   "id": "28047f3c-36c8-4047-8739-cc2bbb838cac",
   "metadata": {},
   "source": [
    "## Old code"
   ]
  },
  {
   "cell_type": "code",
   "execution_count": 46,
   "id": "0d40c7b4",
   "metadata": {},
   "outputs": [
    {
     "data": {
      "application/vnd.jupyter.widget-view+json": {
       "model_id": "82e298fd06194e6ea49e9e7b5d380565",
       "version_major": 2,
       "version_minor": 0
      },
      "text/plain": [
       "interactive(children=(Dropdown(description='Sea surface variable', options=('msl', '2t'), value='msl'), Select…"
      ]
     },
     "execution_count": 46,
     "metadata": {},
     "output_type": "execute_result"
    }
   ],
   "source": [
    "widgets.interactive(update_plot, select_var=widget_select_ssvar, select_timestep=widget_sel_timestep,\n",
    "                    select_lat=latitude_slider, \n",
    "                    select_lon=longitude_slider)"
   ]
  },
  {
   "cell_type": "code",
   "execution_count": 47,
   "id": "99a7e2e1",
   "metadata": {},
   "outputs": [
    {
     "data": {
      "application/vnd.jupyter.widget-view+json": {
       "model_id": "35bf9e8d98594d00becb64b6955ed2da",
       "version_major": 2,
       "version_minor": 0
      },
      "text/plain": [
       "interactive(children=(Dropdown(description='Atmospheric variable', options=('tp',), value='tp'), SelectionSlid…"
      ]
     },
     "execution_count": 47,
     "metadata": {},
     "output_type": "execute_result"
    }
   ],
   "source": [
    "widgets.interactive(update_plot, \n",
    "                    select_var=widget_select_atmvar, select_timestep=widget_sel_timestep,\n",
    "                    select_lat=latitude_slider, \n",
    "                    select_lon=longitude_slider)"
   ]
  },
  {
   "cell_type": "code",
   "execution_count": 7,
   "id": "f522b22e",
   "metadata": {},
   "outputs": [
    {
     "name": "stdout",
     "output_type": "stream",
     "text": [
      "Loading data...\n",
      "msl\n",
      "2t\n",
      "tp\n",
      "Done!\n"
     ]
    }
   ],
   "source": [
    "# LOAD AND DATA\n",
    "all_variables = ['msl', '2t', 'tp']\n",
    "gtp = []\n",
    "gmsl = []\n",
    "g2t = []\n",
    "print('Loading data...')\n",
    "for var in all_variables:\n",
    "    print(var)\n",
    "    for t in dates_to_download:\n",
    "        filename = var + '_' + str(t) + 'time0_step240_oper_fc.grib'\n",
    "        #plotname =  var + '_' + str(t) + 'time0_step240_oper_fc' \n",
    "        \n",
    "        #output_grafic = output(output_formats = ['png'], output_name = plotname, \n",
    "        #                       output_name_first_page_number = \"off\" )\n",
    "\n",
    "        #Loading Grib data\n",
    "        gvar = mgrib(grib_input_file_name=filename)\n",
    "\n",
    "        if var == 'tp':\n",
    "            gtp.append(gvar)\n",
    "        elif var == 'msl':\n",
    "            gmsl.append(gvar)\n",
    "        elif var == '2t':\n",
    "            g2t.append(gvar)\n",
    "print('Done!')"
   ]
  },
  {
   "cell_type": "code",
   "execution_count": 9,
   "id": "2d384dc4",
   "metadata": {},
   "outputs": [],
   "source": [
    "widgets selection lat lon\n",
    "longitude = np.arange(-180,185,5)\n",
    "longitude_slider = widgets.SelectionRangeSlider(\n",
    "    options = longitude, index = (0,len(longitude)-1), description='Longitude',\n",
    "    orientation='horizontal', disabled=False)\n",
    "latitude = np.arange(-90,95,5)\n",
    "latitude_slider = widgets.SelectionRangeSlider(\n",
    "    options = latitude, index = (0,len(latitude)-1), description='Latitude',\n",
    "    orientation='horizontal', disabled=False)\n",
    "\n",
    "widget select sea surface variable\n",
    "widget_select_ssvar = widgets.Dropdown(description='Sea surface variable', options=('msl', '2t'))\n",
    "\n",
    "# widget select atm variable\n",
    "widget_select_atmvar = widgets.Dropdown(description='Atmospheric variable', options=('tp',))\n",
    "                        # la coma del final és important; sinó agafa cada lletra per separat!!\n",
    "# widget select timestep\n",
    "vec_timesteps = list(range(0, len(dates_to_download))) \n",
    "widget_sel_timestep = widgets.SelectionSlider(options=vec_timesteps, description='Timestep')"
   ]
  }
 ],
 "metadata": {
  "kernelspec": {
   "display_name": "Python 3 (ipykernel)",
   "language": "python",
   "name": "python3"
  },
  "language_info": {
   "codemirror_mode": {
    "name": "ipython",
    "version": 3
   },
   "file_extension": ".py",
   "mimetype": "text/x-python",
   "name": "python",
   "nbconvert_exporter": "python",
   "pygments_lexer": "ipython3",
   "version": "3.11.4"
  }
 },
 "nbformat": 4,
 "nbformat_minor": 5
}
