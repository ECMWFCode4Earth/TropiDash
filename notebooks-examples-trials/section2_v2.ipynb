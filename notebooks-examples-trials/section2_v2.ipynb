{
 "cells": [
  {
   "cell_type": "markdown",
   "id": "d9b8da47-647e-4f34-a421-192e1ab4d041",
   "metadata": {},
   "source": [
    "# Section 2 - v2.0"
   ]
  },
  {
   "cell_type": "markdown",
   "id": "e4d14e06-a183-4e04-b69d-311f021c5f64",
   "metadata": {},
   "source": [
    "Updated code.\\\n",
    "Updates:\n",
    "- Layers are now plotted through ipyleaflet\n",
    "- Introduced new functions to download, load and plot forecast data at fixed steps from a selected date\n",
    "- Implemented a widget to select the step to plot in the ipyleaflet\n",
    "- Functions moved to atm_utils\n",
    "\n",
    "To do:\n",
    "- Add one colorbar for each layer in the plot"
   ]
  },
  {
   "cell_type": "code",
   "execution_count": 1,
   "id": "20203681",
   "metadata": {
    "tags": []
   },
   "outputs": [],
   "source": [
    "import ipywidgets as widgets\n",
    "from IPython.display import display\n",
    "\n",
    "from atm_utils import *"
   ]
  },
  {
   "cell_type": "code",
   "execution_count": 2,
   "id": "8ae46534",
   "metadata": {},
   "outputs": [],
   "source": [
    "# parameters to be imported from main widget\n",
    "stdate = 0\n",
    "# stdate = start_date_forecast.value # output from date selection widget\n",
    "\n",
    "initial_lat_lon = (38, -90) #first cyclone position\n",
    "final_lat_lon = (60, 90) #last cyclone position"
   ]
  },
  {
   "cell_type": "code",
   "execution_count": 3,
   "id": "22dbed00",
   "metadata": {},
   "outputs": [],
   "source": [
    "# variable initialization\n",
    "# variables to visualize\n",
    "variables = ['msl', '2t', 'tp'] #, ['10u', '10v']] #, 10fgg15] #list of variables to visualize, 10fgg15 doesn't work right now\n",
    "\n",
    "# get mean coordinates to center the plot\n",
    "mean_lat = (initial_lat_lon[0] - final_lat_lon[0])/2\n",
    "mean_lon = (initial_lat_lon[1] - final_lat_lon[1])/2\n",
    "\n",
    "coord = (mean_lat, mean_lon)\n",
    "\n",
    "#steps to download\n",
    "stepsdict = {\n",
    "    \"base\": [24, 48, 120, 240],\n",
    "    \"10fgg15\": [\"0-24\", \"24-48\", \"96-120\", \"216-240\"]\n",
    "}"
   ]
  },
  {
   "cell_type": "markdown",
   "id": "91826c75",
   "metadata": {},
   "source": [
    "## To be updated when the starting date is changed"
   ]
  },
  {
   "cell_type": "code",
   "execution_count": 4,
   "id": "a6427317-5a93-4194-9b11-b5b3c72bd35e",
   "metadata": {},
   "outputs": [
    {
     "name": "stdout",
     "output_type": "stream",
     "text": [
      "msl  loaded\n",
      "2t  loaded\n",
      "tp  loaded\n"
     ]
    }
   ],
   "source": [
    "# Download\n",
    "fnames = dwnl_atmdata_step(variables, stepsdict, stdate)\n",
    "# Load\n",
    "vardict = load_atmdata(variables, fnames)"
   ]
  },
  {
   "cell_type": "markdown",
   "id": "4502eb62",
   "metadata": {},
   "source": [
    "## Plot and widgets"
   ]
  },
  {
   "cell_type": "code",
   "execution_count": 5,
   "id": "fd4801b7-60fc-47d4-815a-3698df6838ac",
   "metadata": {},
   "outputs": [],
   "source": [
    "# widget to select forecast step\n",
    "vec_forecast = [f\"{x}h from today\" for x in stepsdict[\"base\"]]\n",
    "widget_sel_forecast = widgets.Dropdown(options = vec_forecast, description = 'Forecast')\n",
    "\n",
    "# function to update the plot\n",
    "def update_plot(select_forecast):\n",
    "    tooldict = {\n",
    "        \"24h from today\": 0,\n",
    "        \"48h from today\": 1,\n",
    "        \"120h from today\": 2,\n",
    "        \"240h from today\": 3\n",
    "    }\n",
    "    s = tooldict[select_forecast]\n",
    "    display(plot_atmdata_step(vardict, s, coord, stepsdict))"
   ]
  },
  {
   "cell_type": "code",
   "execution_count": null,
   "id": "853aa6bb-ca5b-46fd-9fd7-9bbf8e47d464",
   "metadata": {},
   "outputs": [],
   "source": [
    "# launch the interactive plot\n",
    "widgets.interactive(update_plot, select_forecast = widget_sel_forecast)"
   ]
  },
  {
   "cell_type": "code",
   "execution_count": null,
   "id": "4784f1ed",
   "metadata": {},
   "outputs": [],
   "source": []
  }
 ],
 "metadata": {
  "kernelspec": {
   "display_name": "Python 3 (ipykernel)",
   "language": "python",
   "name": "python3"
  },
  "language_info": {
   "codemirror_mode": {
    "name": "ipython",
    "version": 3
   },
   "file_extension": ".py",
   "mimetype": "text/x-python",
   "name": "python",
   "nbconvert_exporter": "python",
   "pygments_lexer": "ipython3",
   "version": "3.11.4"
  }
 },
 "nbformat": 4,
 "nbformat_minor": 5
}
