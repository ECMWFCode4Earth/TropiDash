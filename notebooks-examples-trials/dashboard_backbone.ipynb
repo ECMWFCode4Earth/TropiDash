{
 "cells": [
  {
   "cell_type": "code",
   "execution_count": 1,
   "id": "8f245354-7492-411e-9f0d-c8e803a48be6",
   "metadata": {
    "tags": []
   },
   "outputs": [],
   "source": [
    "# Libraries import \n",
    "import pdbufr\n",
    "import sys\n",
    "import traceback\n",
    " \n",
    "from math import isnan\n",
    "\n",
    "from eccodes import *\n",
    "from ecmwf.opendata import Client\n",
    "from math import isnan\n",
    "from datetime import datetime, timedelta\n",
    "\n",
    "import os\n",
    "import birdy\n",
    "import geopandas as gpd\n",
    "import pandas as pd\n",
    "import numpy as np\n",
    "import xarray as xr\n",
    "import requests\n",
    "\n",
    "from ipywidgets import interact\n",
    "import ipyleaflet\n",
    "import ipywidgets as widgets\n",
    "\n",
    "from Magics import macro as magics\n",
    "from IPython.display import display\n",
    "from Magics.macro import *\n",
    "\n",
    "import warnings\n",
    "warnings.filterwarnings(\"ignore\")\n",
    "\n",
    "from utils import *"
   ]
  },
  {
   "cell_type": "code",
   "execution_count": 2,
   "id": "8ac1bf29-7039-415e-9335-9b07558ec6cf",
   "metadata": {
    "tags": []
   },
   "outputs": [
    {
     "data": {
      "application/vnd.jupyter.widget-view+json": {
<<<<<<< HEAD
       "model_id": "4967113c242f4454b8e61f8d2022bf17",
=======
       "model_id": "b37888e03c0c46a4ae3d2e0250b60cff",
>>>>>>> c29e520f607bc1a1ad3a06fc839bbe87faddd8fd
       "version_major": 2,
       "version_minor": 0
      },
      "text/plain": [
<<<<<<< HEAD
       "DatePicker(value=datetime.datetime(2023, 8, 23, 0, 0), description='Forecast date:', step=1, style=Description…"
=======
       "DatePicker(value=datetime.datetime(2023, 8, 22, 0, 0), description='Forecast date:', step=1, style=Description…"
>>>>>>> c29e520f607bc1a1ad3a06fc839bbe87faddd8fd
      ]
     },
     "execution_count": 2,
     "metadata": {},
     "output_type": "execute_result"
    }
   ],
   "source": [
    "## Widget to define the starting date of the forecast of which we want to download the data ##\n",
    "\n",
    "start_date_forecast = widgets.DatePicker(\n",
    "    description = 'Forecast date:',\n",
    "    value = datetime(datetime.now().year, datetime.now().month, datetime.now().day, hour=0),\n",
    ")\n",
    "\n",
    "start_date_forecast.style.description_width = '90px'\n",
    "\n",
    "# Print widget\n",
    "start_date_forecast"
   ]
  },
  {
   "cell_type": "code",
<<<<<<< HEAD
   "execution_count": 3,
   "id": "ddf1fec8-aede-4a28-81b1-c4dc37a75fb3",
=======
   "execution_count": 5,
   "id": "cb987a4d-981e-4f34-977b-184113347444",
>>>>>>> c29e520f607bc1a1ad3a06fc839bbe87faddd8fd
   "metadata": {
    "tags": []
   },
   "outputs": [
    {
     "data": {
      "application/vnd.jupyter.widget-view+json": {
       "model_id": "",
       "version_major": 2,
       "version_minor": 0
      },
      "text/plain": [
<<<<<<< HEAD
       "20230823000000-240h-enfo-tf.bufr:   0%|          | 0.00/913k [00:00<?, ?B/s]"
=======
       "20230822000000-240h-enfo-tf.bufr:   0%|          | 0.00/839k [00:00<?, ?B/s]"
>>>>>>> c29e520f607bc1a1ad3a06fc839bbe87faddd8fd
      ]
     },
     "metadata": {},
     "output_type": "display_data"
    }
   ],
   "source": [
    "## Download the tracks forecast based on the starting date selected ##\n",
    "# If too early in the morning the forecast of the current day cannot be donwloaded, need to fix this -> If raiseError: download forecast of the previous day\n",
<<<<<<< HEAD
    "    \n",
    "download_tracks_forecast(start_date_forecast.value)\n",
=======
    "client = Client(source=\"azure\")\n",
    "client.retrieve(\n",
    "    date=int(start_date_forecast.value.strftime(\"%Y%m%d\")),\n",
    "    time=0,\n",
    "    stream=\"enfo\",\n",
    "    type=\"tf\",\n",
    "    step=240,\n",
    "    target=\"data/tc_test_track_data.bufr\",\n",
    ");\n",
>>>>>>> c29e520f607bc1a1ad3a06fc839bbe87faddd8fd
    "\n",
    "## Donwload the observed data from IBTrACS##\n",
    "\n",
    "url = 'https://www.ncei.noaa.gov/data/international-best-track-archive-for-climate-stewardship-ibtracs/v04r00/access/csv/ibtracs.ACTIVE.list.v04r00.csv'\n",
    "r = requests.get(url, allow_redirects=True)\n",
    "save_file = 'data/ibtracs.ACTIVE.list.v04r00.csv'\n",
    "with open(save_file, 'wb') as f:\n",
    "    f.write(r.content)"
   ]
  },
  {
   "cell_type": "code",
<<<<<<< HEAD
   "execution_count": 4,
   "id": "ba4a2908-fb03-4793-8a93-6017f46c4e12",
   "metadata": {
    "tags": []
   },
   "outputs": [],
=======
   "execution_count": 8,
   "id": "28e51818-7e9d-463d-adf8-a13ecd14f8b8",
   "metadata": {
    "tags": []
   },
   "outputs": [
    {
     "name": "stdout",
     "output_type": "stream",
     "text": [
      "Observed tracks:  ['DORA', 'LAN', 'FERNANDA', 'GREG', 'HILARY', 'NOT_NAMED']\n",
      "Forecasted tracks:  ['06L' '07L' '08L' '09L']\n"
     ]
    }
   ],
>>>>>>> c29e520f607bc1a1ad3a06fc839bbe87faddd8fd
   "source": [
    "## Load forecasted tracks data in a dataframe ##\n",
    "# create_storms_df loads a file called tc_test_track_data.bufr\n",
    "df_storms_forecast = create_storms_df()\n",
    "\n",
    "## Load observed tracks data in a dataframe ## \n",
    "df_storms_observed = pd.read_csv('data/ibtracs.ACTIVE.list.v04r00.csv', header=[0,1])\n",
    "\n",
<<<<<<< HEAD
    "## Find the correspondent cyclone across forecast and observations ## \n",
    "storms_pair = storms_pairing(df_storms_forecast, df_storms_observed)"
=======
    "print('Observed tracks: ', df_storms_observed.NAME.squeeze().unique().tolist())\n",
    "print('Forecasted tracks: ', df_storms_forecast.stormIdentifier.unique())\n",
    "\n",
    "## Find the correspondent cyclone across forecast and observations ## \n",
    "storms_pair = storms_pair(df_storms_forecast, df_storms_observed)"
>>>>>>> c29e520f607bc1a1ad3a06fc839bbe87faddd8fd
   ]
  },
  {
   "cell_type": "code",
<<<<<<< HEAD
   "execution_count": 5,
   "id": "ab667cef-0d23-41f0-bc29-c993df6c2976",
=======
   "execution_count": 9,
   "id": "5953aa43-c3af-404b-ac67-60623f5556c8",
>>>>>>> c29e520f607bc1a1ad3a06fc839bbe87faddd8fd
   "metadata": {
    "tags": []
   },
   "outputs": [],
   "source": [
<<<<<<< HEAD
    "# Cyclone dropdown selection widget to select cyclone of which to plot the data\n",
=======
    "# Cyclone dropdown selection\n",
>>>>>>> c29e520f607bc1a1ad3a06fc839bbe87faddd8fd
    "cyclone = widgets.Dropdown(\n",
    "    options = storms_pair,\n",
    "    description = 'Active Storms:',\n",
    "    disabled=False,\n",
    ")\n",
<<<<<<< HEAD
    "cyclone.style.description_width = '90px'\n",
    "\n",
    "# Update storms list when downloading new tracks data\n",
    "def update_storms_list(_):\n",
    "    download_tracks_forecast(start_date_forecast.value)\n",
    "    df_storms = create_storms_df()\n",
    "    df_storms_observed = pd.read_csv('data/ibtracs.ACTIVE.list.v04r00.csv', header=[0,1])\n",
    "    storms_pair = storms_pairing(df_storms_forecast, df_storms_observed)\n",
    "    cyclone.options = storms_pair.tolist()\n",
    "\n",
    "start_date_forecast.observe(update_storms_list, names='value')\n",
    "\n",
    "# Print widget\n",
    "display(cyclone)"
=======
    "cyclone.style.description_width = '90px'"
>>>>>>> c29e520f607bc1a1ad3a06fc839bbe87faddd8fd
   ]
  },
  {
   "cell_type": "code",
<<<<<<< HEAD
   "execution_count": 7,
   "id": "09b2db71-a818-4ec2-b5c3-4a4b996f94f8",
=======
   "execution_count": 10,
   "id": "07ec91ab-afa7-4328-9224-c095db6d0840",
>>>>>>> c29e520f607bc1a1ad3a06fc839bbe87faddd8fd
   "metadata": {
    "tags": []
   },
   "outputs": [
    {
     "data": {
      "application/vnd.jupyter.widget-view+json": {
<<<<<<< HEAD
       "model_id": "d79029a8d0f944be8287b54c932a1332",
=======
       "model_id": "9b34d3cbde9b4d7b864059da0b499395",
>>>>>>> c29e520f607bc1a1ad3a06fc839bbe87faddd8fd
       "version_major": 2,
       "version_minor": 0
      },
      "text/plain": [
<<<<<<< HEAD
       "Button(description='Update Forecast', style=ButtonStyle(button_color='blue', font_weight='bold', text_color='l…"
      ]
     },
     "metadata": {},
     "output_type": "display_data"
    },
    {
     "data": {
      "application/vnd.jupyter.widget-view+json": {
       "model_id": "e9f60f331a0d40f98b1040e582614c00",
       "version_major": 2,
       "version_minor": 0
      },
      "text/plain": [
       "Output()"
      ]
     },
     "metadata": {},
     "output_type": "display_data"
    }
   ],
   "source": [
    "## UPDATE BUTTON TO DOWNLOAD NEW DATA AND CREATE STORM DATAFRAME DEPENDING ON THE CYCLONE SELECTED ##\n",
    "\n",
    "update_button = widgets.Button(\n",
    "    description = 'Update Forecast',\n",
    "    style=dict(\n",
    "        button_color='blue',\n",
    "        font_weight='bold',\n",
    "        text_color='lightgreen',\n",
    "        text_decoration='underline',\n",
    "))\n",
    "\n",
    "update_output = widgets.Output()\n",
    "\n",
    "# Download new forecast data when clicking the Update Forecast Button\n",
    "def on_button_clicked(b):\n",
    "    with update_output:\n",
    "        df_storms = create_storms_df()\n",
    "        df_storms_observed = pd.read_csv('data/ibtracs.ACTIVE.list.v04r00.csv', header=[0,1])\n",
    "        plot_cyclone_tracks_ipyleaflet(cyclone.value)\n",
    "        print(\"Forecast updated!\", end='\\r')\n",
    "\n",
    "update_button.on_click(on_button_clicked)\n",
    "\n",
    "# Print widget\n",
    "display(update_button, update_output)"
=======
       "Dropdown(description='Active Storms:', options=('06L-NOT_NAMED', '06L-NOT_NAMED', '08L-NOT_NAMED', '09L-HILARY…"
      ]
     },
     "execution_count": 10,
     "metadata": {},
     "output_type": "execute_result"
    }
   ],
   "source": [
    "cyclone"
>>>>>>> c29e520f607bc1a1ad3a06fc839bbe87faddd8fd
   ]
  },
  {
   "cell_type": "code",
   "execution_count": null,
   "id": "0187a625-7552-4675-8c0e-78abb5384e31",
   "metadata": {},
   "outputs": [],
   "source": []
  }
 ],
 "metadata": {
  "kernelspec": {
   "display_name": "Python 3 (ipykernel)",
   "language": "python",
   "name": "python3"
  },
  "language_info": {
   "codemirror_mode": {
    "name": "ipython",
    "version": 3
   },
   "file_extension": ".py",
   "mimetype": "text/x-python",
   "name": "python",
   "nbconvert_exporter": "python",
   "pygments_lexer": "ipython3",
   "version": "3.11.4"
  }
 },
 "nbformat": 4,
 "nbformat_minor": 5
}
