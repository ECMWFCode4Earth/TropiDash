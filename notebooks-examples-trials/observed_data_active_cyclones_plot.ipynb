{
 "cells": [
  {
   "cell_type": "code",
   "execution_count": 1,
   "id": "a4586fa9-e022-486c-bb90-8340707b7f99",
   "metadata": {
    "tags": []
   },
   "outputs": [],
   "source": [
    "import pdbufr\n",
    "import sys\n",
    "import traceback\n",
    " \n",
    "from math import isnan\n",
    "\n",
    "import plotly.express as px\n",
    "from shapely.geometry import LineString\n",
    "\n",
    "from ipywidgets import interact\n",
    "import os\n",
    "import birdy\n",
    "import geopandas as gpd\n",
    "import pandas as pd\n",
    "from datetime import datetime, timedelta\n",
    "import ipyleaflet\n",
    "import ipywidgets as widgets\n",
    "\n",
    "from Magics import macro as magics\n",
    "from IPython.display import display\n",
    "from Magics.macro import *\n",
    "\n",
    "import numpy as np\n",
    "import xarray as xr\n",
    "\n",
    "import warnings\n",
    "warnings.filterwarnings(\"ignore\")"
   ]
  },
  {
   "cell_type": "code",
   "execution_count": 2,
   "id": "0f78bcee-00cb-4f9b-baf6-64ccc976130f",
   "metadata": {
    "tags": []
   },
   "outputs": [],
   "source": [
    "active_storms_nc = xr.open_dataset('data/IBTrACS.ACTIVE.v04r00.nc')\n",
    "active_storms_csv = pd.read_csv('data/ibtracs.ACTIVE.list.v04r00.csv', header=[0,1])\n",
    "storms = active_storms_csv['NAME'].squeeze().unique().tolist()\n",
    "df_storm1 = active_storms_csv[active_storms_csv.NAME.squeeze() == storms[0]]"
   ]
  },
  {
   "cell_type": "code",
   "execution_count": 3,
   "id": "b8abdca0-944d-4ca1-9514-5b0e7845a22a",
   "metadata": {
    "tags": []
   },
   "outputs": [],
   "source": [
    "## FUNCTION TO PLOT THE PAST TRACK OF A CYCLONE ## \n",
    "\n",
    "def plot_observed_track(storm_name, track_colour, lat_boundaries, lon_boundaries):\n",
    "    toplot = []\n",
    "    \n",
    "    # storm data preparation for plotting\n",
    "    df_active_storms = pd.read_csv('data/ibtracs.ACTIVE.list.v04r00.csv', header=[0,1])\n",
    "    df_storm = df_active_storms[df_active_storms.NAME.squeeze() == storm_name]\n",
    "    lat = df_storm.LAT.squeeze().to_numpy(dtype='float')\n",
    "    lon = df_storm.LON.squeeze().to_numpy(dtype='float')\n",
    "    start_str = df_storm.ISO_TIME.squeeze().iloc[0]\n",
    "    end_str = df_storm.ISO_TIME.squeeze().iloc[len(df_storm)-1]\n",
    "    start = datetime.strptime(start_str, '%Y-%m-%d %H:%M:%S')\n",
    "    end = datetime.strptime(end_str, '%Y-%m-%d %H:%M:%S')\n",
    "    \n",
    "    # settings of the geographical area\n",
    "    bottom, up = lat_boundaries\n",
    "    left, right = lon_boundaries\n",
    "    area = mmap(\n",
    "        subpage_map_projection=\"cylindrical\",\n",
    "        subpage_lower_left_longitude=int(left),\n",
    "        subpage_lower_left_latitude=int(bottom),\n",
    "        subpage_upper_right_longitude=int(right),\n",
    "        subpage_upper_right_latitude=int(up),\n",
    "    )\n",
    "    toplot.append(area)\n",
    "    \n",
    "    # settings of the coastline\n",
    "    coast = mcoast(\n",
    "        map_coastline_land_shade = \"on\",\n",
    "        map_coastline_land_shade_colour = \"cream\",\n",
    "        map_coastline_sea_shade = \"on\",\n",
    "        map_coastline_sea_shade_colour = \"#70CEE2\",\n",
    "        # map_cities = \"on\",\n",
    "        map_grid_line_style = \"dash\",\n",
    "        map_grid_colour = \"black\",\n",
    "        map_label = \"on\",\n",
    "        map_label_colour = \"brown\",\n",
    "        map_coastline_colour = \"brown\",\n",
    "    )\n",
    "    toplot.append(coast)\n",
    "\n",
    "    data = minput(\n",
    "        input_type = 'geographical',\n",
    "        input_x_values = lon,\n",
    "        input_y_values = lat,\n",
    "    )\n",
    "\n",
    "    line = msymb(\n",
    "        symbol_type='marker',\n",
    "        symbol_marker_index = 28,\n",
    "        symbol_colour = track_colour,\n",
    "        symbol_height = 0.20,\n",
    "        symbol_text_font_colour = \"black\",       \n",
    "        symbol_connect_line ='on'\n",
    "    )\n",
    "\n",
    "    toplot.append(data)\n",
    "    toplot.append(line)\n",
    "    \n",
    "    title = mtext(\n",
    "        text_lines= [f\"<font colour='navy'> <b> Cyclone {storm_name} observed trajectory </b> </font>\",\n",
    "                    f\"{start.strftime('%d %b %Y %H:%M')} - {end.strftime('%d %b %Y %H:%M')}\"],\n",
    "        text_justification= 'centre',\n",
    "        text_font_size= 0.7,\n",
    "        # text_font_style= 'bold',\n",
    "        text_mode='title',\n",
    "    )\n",
    "    toplot.append(title)\n",
    "    \n",
    "    display(plot(toplot))"
   ]
  },
  {
   "cell_type": "code",
   "execution_count": 4,
   "id": "cbd73414-6d0d-47c8-af65-5ac20d7845ad",
   "metadata": {
    "tags": []
   },
   "outputs": [],
   "source": [
    "## DEFINE WIDGETS FOR INTERACTIVE MAP ##\n",
    "\n",
    "# Cyclone dropdown selection\n",
    "storms = active_storms_csv['NAME'].squeeze().unique().tolist()\n",
    "cyclone = widgets.Dropdown(\n",
    "    options = storms,\n",
    "    description = 'Active Storms:',\n",
    "    disabled=False,\n",
    ")\n",
    "cyclone.style.description_width = '90px'\n",
    "\n",
    "# Longitude slider\n",
    "longitude = np.arange(-180,185,5)\n",
    "longitude_slider = widgets.SelectionRangeSlider(\n",
    "    options=longitude,\n",
    "    index=(0, len(longitude)-1),\n",
    "    description='Longitude:',\n",
    "    orientation='horizontal',\n",
    "    layout={'width': '400px'},\n",
    "    disabled=False,\n",
    ")\n",
    "\n",
    "longitude_slider.style.description_width = '68px'\n",
    "longitude_slider.style.handle_color = 'lightgreen'\n",
    "\n",
    "# Latitude slider\n",
    "latitude = np.arange(-90,95,5)\n",
    "latitude_slider = widgets.SelectionRangeSlider(\n",
    "    options=latitude,\n",
    "    index=(0, len(latitude)-1),\n",
    "    description='Latitude:',\n",
    "    orientation='horizontal',\n",
    "    layout={'width': '400px'},\n",
    "    disabled=False,\n",
    ")\n",
    "\n",
    "latitude_slider.style.description_width = '58px'\n",
    "latitude_slider.style.handle_color = 'lightgreen'\n",
    "\n",
    "# Create widget for track colour in the map\n",
    "colour = widgets.Dropdown(\n",
    "    options = [\"red\", \"blue\", \"green\", \"yellow\", \"purple\", \"orange\", \"cyan\", \"black\"],\n",
    "    value = \"red\",\n",
    "    description = \"Track Colour:\",\n",
    "    disabled = False,\n",
    ")\n",
    "\n",
    "colour.style.description_width = '82px'"
   ]
  },
  {
   "cell_type": "code",
   "execution_count": 5,
   "id": "3fa60237-39aa-4b22-aa28-1d945ac2a828",
   "metadata": {
    "tags": []
   },
   "outputs": [
    {
     "data": {
      "application/vnd.jupyter.widget-view+json": {
       "model_id": "48ec893c41f7435686dc097be31cb7fb",
       "version_major": 2,
       "version_minor": 0
      },
      "text/plain": [
       "interactive(children=(Dropdown(description='Active Storms:', options=('KHANUN', 'DORA', 'LAN', 'FERNANDA', 'GR…"
      ]
     },
     "execution_count": 5,
     "metadata": {},
     "output_type": "execute_result"
    }
   ],
   "source": [
    "widgets.interactive(plot_observed_track, storm_name=cyclone, track_colour=colour, lat_boundaries=latitude_slider, lon_boundaries=longitude_slider)"
   ]
  }
 ],
 "metadata": {
  "kernelspec": {
   "display_name": "Python 3 (ipykernel)",
   "language": "python",
   "name": "python3"
  },
  "language_info": {
   "codemirror_mode": {
    "name": "ipython",
    "version": 3
   },
   "file_extension": ".py",
   "mimetype": "text/x-python",
   "name": "python",
   "nbconvert_exporter": "python",
   "pygments_lexer": "ipython3",
   "version": "3.11.4"
  }
 },
 "nbformat": 4,
 "nbformat_minor": 5
}
