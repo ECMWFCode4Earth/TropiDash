{
 "cells": [
  {
   "cell_type": "markdown",
   "id": "4041402a-1c6b-4914-837b-a69c2fbd1f69",
   "metadata": {},
   "source": [
    "# Access to ECMWF data\n",
    "\n",
    "This notebook is a collection of functions and tools to access the necessary data used in TropiDash \\\n",
    "Access ECMWF Open Data: https://www.ecmwf.int/en/forecasts/datasets/open-data \\\n",
    "Forecasted variables can be accessed through `ecwmf.opendata`"
   ]
  },
  {
   "cell_type": "markdown",
   "id": "86162f2e-466c-400b-b355-6dc37898f29e",
   "metadata": {},
   "source": [
    "## Setup"
   ]
  },
  {
   "cell_type": "code",
   "execution_count": 9,
   "id": "b6ca436d-8aad-46c4-a3c0-a356bea58471",
   "metadata": {
    "tags": []
   },
   "outputs": [],
   "source": [
    "import datetime\n",
    "import eccodes\n",
    "from ecmwf.opendata import Client\n",
    "import os\n",
    "import numpy as np\n",
    "import pandas as pd\n",
    "import pdbufr\n",
    "import pygrib\n",
    "import requests\n",
    "import rioxarray\n",
    "import xarray"
   ]
  },
  {
   "cell_type": "markdown",
   "id": "d01a472c-c371-4c88-97ee-1a29f51b1494",
   "metadata": {},
   "source": [
    "The user will select the timestep from the widget, so date/time and step needed to retrieve ecmwf data will have to be provided as variables. Below I'm setting them as tool variables. Date and time can be provided in different styles: https://github.com/ecmwf/ecmwf-opendata/tree/main#date-and-time"
   ]
  },
  {
   "cell_type": "code",
   "execution_count": 3,
   "id": "7594d74c-2dd1-488b-b598-2d6fd293462b",
   "metadata": {
    "tags": []
   },
   "outputs": [],
   "source": [
    "# Tool variables\n",
    "date = '2023-07-30'\n",
    "time = 0 #available times: 0, 6, 12, 18\n",
    "step = 48 #hours"
   ]
  },
  {
   "cell_type": "markdown",
   "id": "a74ed9f5-d2a8-4323-a6b1-1a694d3a2349",
   "metadata": {},
   "source": [
    "# Forecast"
   ]
  },
  {
   "cell_type": "markdown",
   "id": "7bad5085-06df-48d0-af7b-9b4f36bfc945",
   "metadata": {},
   "source": [
    "## 0. General retrieval process using ecmwf.opendata"
   ]
  },
  {
   "cell_type": "markdown",
   "id": "11bfc00e-f615-4db0-a1c1-c7d04cc8cc43",
   "metadata": {},
   "source": [
    "```python\n",
    "client = Client(source=\"ecmwf\")\n",
    "\n",
    "request = {\n",
    "    \"time\": ,\n",
    "    \"stream\": ,\n",
    "    \"type\": , #type of data, default is fc\n",
    "    \"step\": ,\n",
    "    \"date\": ,\n",
    "    \"param\": , #meteorological parameters. multiple parameters can be specified in a list.\n",
    "}\n",
    "\n",
    "client.retrieve(request = request, target = \"\") #takes request as input and will retrieve the corresponding data from the server and write them in the user's target file\n",
    "client.download(request = request, target = \"\") #will download the whole data files from the server, ignoring keywords like param, levelist or number\n",
    "client.latest(request = request, target = \"\")   #returns the date of the most recent matching forecast without downloading the data\n",
    "```"
   ]
  },
  {
   "cell_type": "markdown",
   "id": "1af8059c-51c2-4554-99aa-ad4a5f13aa50",
   "metadata": {},
   "source": [
    "To obtain data to be used in the dashboard, it will have to be retrieved through `Client.retrieve`, then uploaded in the dashboard."
   ]
  },
  {
   "cell_type": "markdown",
   "id": "c6f3f3ed-c64f-4eb9-ac38-0173333035cc",
   "metadata": {},
   "source": [
    "More info on request parameters: https://github.com/ecmwf/ecmwf-opendata/tree/main#request-keywords \\\n",
    "List of available parameters: https://github.com/ecmwf/ecmwf-opendata/tree/main#parameters-and-levels"
   ]
  },
  {
   "cell_type": "markdown",
   "id": "8c08f07c-21b1-4fb2-858f-f96de32d9abe",
   "metadata": {},
   "source": [
    "Tutoral on GRIB files: https://confluence.ecmwf.int/display/CKB/How+to+plot+GRIB+files+with+Python+and+matplotlib \\"
   ]
  },
  {
   "cell_type": "markdown",
   "id": "2b25c95a-a07f-4f04-bc38-322d34296245",
   "metadata": {},
   "source": [
    "## 1. Cyclone characteristics\n",
    "Tutorial on the access to cyclone characteristics data: TropiDash/notebooks-examples-trials/Inspect_tc_bufr_data.ipynb"
   ]
  },
  {
   "cell_type": "code",
   "execution_count": 25,
   "id": "bbed66d1-a5a0-4d16-a567-506df05f75c4",
   "metadata": {
    "tags": []
   },
   "outputs": [
    {
     "data": {
      "application/vnd.jupyter.widget-view+json": {
       "model_id": "",
       "version_major": 2,
       "version_minor": 0
      },
      "text/plain": [
       "20230727000000-240h-enfo-tf.bufr:   0%|          | 0.00/535k [00:00<?, ?B/s]"
      ]
     },
     "metadata": {},
     "output_type": "display_data"
    },
    {
     "data": {
      "text/plain": [
       "<ecmwf.opendata.client.Result at 0x157a5ec50>"
      ]
     },
     "execution_count": 25,
     "metadata": {},
     "output_type": "execute_result"
    }
   ],
   "source": [
    "# Download the Tropical Cyclone tracks from ECMWF's 00UTC ENS forecast\n",
    "client = Client(source = \"ecmwf\")\n",
    "client.retrieve(\n",
    "    time=0,\n",
    "    stream=\"enfo\",\n",
    "    type=\"tf\",\n",
    "    step=240,\n",
    "    target=\"track_data/ens_tracks.bufr\",\n",
    ")"
   ]
  },
  {
   "cell_type": "code",
   "execution_count": null,
   "id": "593a507e-470a-4c98-8d1a-b93cc8eb5a40",
   "metadata": {
    "tags": []
   },
   "outputs": [],
   "source": [
    "# Import bufr file of the TC tracks\n",
    "df_tracks = pdbufr.read_bufr(\"track_data/ens_tracks.bufr\",\n",
    "    columns=(\"stormIdentifier\", \"ensembleMemberNumber\", \"latitude\", \"longitude\",\n",
    "             \"pressureReducedToMeanSeaLevel\",))\n",
    "storms = df_tracks.stormIdentifier.unique()\n",
    "storms.head()"
   ]
  },
  {
   "cell_type": "code",
   "execution_count": 3,
   "id": "5a05b431-67c6-4d56-b467-fe55ec2dfdc5",
   "metadata": {},
   "outputs": [],
   "source": [
    "# Cyclone temporal horizon definition\n",
    "# For DOKSURI forecast of the 25th July we have 41 snapshot with 6h step\n",
    "start_dte = datetime(2023, 7, 25)\n",
    "end_dte = datetime(2023, 8, 4)\n",
    "step = timedelta(hours=6)\n",
    "time_steps = pd.date_range(start_dte, end_dte, freq=step)"
   ]
  },
  {
   "cell_type": "code",
   "execution_count": 4,
   "id": "9674894c-71c2-4d77-9a63-a9fe1e69129e",
   "metadata": {
    "tags": []
   },
   "outputs": [],
   "source": [
    "# Save all ensemble members track in a list called locations\n",
    "locations = []\n",
    "tracks_len = []\n",
    "tracks_date = []\n",
    "for m in members:\n",
    "    dft = df[df.ensembleMemberNumber == m]\n",
    "    dft_noNaN = dft.dropna()\n",
    "    lat = dft_noNaN.latitude.values\n",
    "    lon = dft_noNaN.longitude.values\n",
    "    locs = [[lat[i], lon[i]] for i in range(len(lat))]\n",
    "    track_len = len(locs)\n",
    "    date_range = time_steps[:track_len]\n",
    "    locations.append(locs)\n",
    "    tracks_len.append(track_len)\n",
    "    tracks_date.append(date_range)"
   ]
  },
  {
   "cell_type": "markdown",
   "id": "4c922ae0-cfcb-461d-80a2-b979ea6ffe19",
   "metadata": {},
   "source": [
    "## 2. Atmosphere and ocean characteristics\n",
    "From ECMWF opendata, only forecasted data can be retrieved, not observed data"
   ]
  },
  {
   "cell_type": "code",
   "execution_count": 27,
   "id": "a285c9d0-f191-4741-a0dd-92fbd413ebf2",
   "metadata": {},
   "outputs": [
    {
     "data": {
      "application/vnd.jupyter.widget-view+json": {
       "model_id": "",
       "version_major": 2,
       "version_minor": 0
      },
      "text/plain": [
       "20230730000000-48h-oper-fc.grib2:   0%|          | 0.00/5.11M [00:00<?, ?B/s]"
      ]
     },
     "metadata": {},
     "output_type": "display_data"
    },
    {
     "data": {
      "text/plain": [
       "<ecmwf.opendata.client.Result at 0x27f5faf0430>"
      ]
     },
     "execution_count": 27,
     "metadata": {},
     "output_type": "execute_result"
    }
   ],
   "source": [
    "# Variable: Wind speed\n",
    "# Download from ECMWF open data\n",
    "request = {\n",
    "    \"time\": time,\n",
    "    # \"stream\": \"fc\", #HRES\n",
    "    \"type\": \"fc\",\n",
    "    \"step\": step,\n",
    "    # \"date\": date,\n",
    "    \"param\": [\"u\", \"v\"],\n",
    "}\n",
    "\n",
    "client = Client(source = \"ecmwf\")\n",
    "client.retrieve(request = request, target = \"test_data_access/wind.grib2\")"
   ]
  },
  {
   "cell_type": "markdown",
   "id": "7a374015",
   "metadata": {},
   "source": [
    "### pygrib\n",
    "Opening a GRIB with pygrib results in a list of \"messages\" accessible throught the .select module \\\n",
    "PyGRIB documentation: https://jswhit.github.io/pygrib/api.html#example-usage"
   ]
  },
  {
   "cell_type": "code",
   "execution_count": 8,
   "id": "3f1a2e3d-11ed-4900-b4b7-16f15d9aef11",
   "metadata": {
    "tags": []
   },
   "outputs": [
    {
     "data": {
      "text/plain": [
       "1:V component of wind:m s**-1 (instant):regular_ll:isobaricInhPa:level 30000 Pa:fcst time 48 hrs:from 202307300000"
      ]
     },
     "execution_count": 8,
     "metadata": {},
     "output_type": "execute_result"
    }
   ],
   "source": [
    "grbs = pygrib.open(\"test_data_access/wind.grib2\")\n",
    "grbs.select()[0]"
   ]
  },
  {
   "cell_type": "code",
   "execution_count": 6,
   "id": "702eb098-3db8-463c-afa5-73f62bd5008a",
   "metadata": {},
   "outputs": [
    {
     "name": "stdout",
     "output_type": "stream",
     "text": [
      "1:V component of wind:m s**-1 (instant):regular_ll:isobaricInhPa:level 30000 Pa:fcst time 48 hrs:from 202307300000\n",
      "2:U component of wind:m s**-1 (instant):regular_ll:isobaricInhPa:level 30000 Pa:fcst time 48 hrs:from 202307300000\n",
      "3:U component of wind:m s**-1 (instant):regular_ll:isobaricInhPa:level 5000 Pa:fcst time 48 hrs:from 202307300000\n",
      "4:V component of wind:m s**-1 (instant):regular_ll:isobaricInhPa:level 5000 Pa:fcst time 48 hrs:from 202307300000\n",
      "5:U component of wind:m s**-1 (instant):regular_ll:isobaricInhPa:level 25000 Pa:fcst time 48 hrs:from 202307300000\n",
      "6:V component of wind:m s**-1 (instant):regular_ll:isobaricInhPa:level 25000 Pa:fcst time 48 hrs:from 202307300000\n",
      "7:U component of wind:m s**-1 (instant):regular_ll:isobaricInhPa:level 20000 Pa:fcst time 48 hrs:from 202307300000\n",
      "8:V component of wind:m s**-1 (instant):regular_ll:isobaricInhPa:level 20000 Pa:fcst time 48 hrs:from 202307300000\n",
      "9:V component of wind:m s**-1 (instant):regular_ll:isobaricInhPa:level 92500 Pa:fcst time 48 hrs:from 202307300000\n",
      "10:U component of wind:m s**-1 (instant):regular_ll:isobaricInhPa:level 92500 Pa:fcst time 48 hrs:from 202307300000\n",
      "11:U component of wind:m s**-1 (instant):regular_ll:isobaricInhPa:level 50000 Pa:fcst time 48 hrs:from 202307300000\n",
      "12:V component of wind:m s**-1 (instant):regular_ll:isobaricInhPa:level 50000 Pa:fcst time 48 hrs:from 202307300000\n",
      "13:U component of wind:m s**-1 (instant):regular_ll:isobaricInhPa:level 85000 Pa:fcst time 48 hrs:from 202307300000\n",
      "14:V component of wind:m s**-1 (instant):regular_ll:isobaricInhPa:level 85000 Pa:fcst time 48 hrs:from 202307300000\n",
      "15:U component of wind:m s**-1 (instant):regular_ll:isobaricInhPa:level 70000 Pa:fcst time 48 hrs:from 202307300000\n",
      "16:V component of wind:m s**-1 (instant):regular_ll:isobaricInhPa:level 70000 Pa:fcst time 48 hrs:from 202307300000\n",
      "17:U component of wind:m s**-1 (instant):regular_ll:isobaricInhPa:level 100000 Pa:fcst time 48 hrs:from 202307300000\n",
      "18:V component of wind:m s**-1 (instant):regular_ll:isobaricInhPa:level 100000 Pa:fcst time 48 hrs:from 202307300000\n"
     ]
    }
   ],
   "source": [
    "for grb in grbs:\n",
    "    print(grb)"
   ]
  },
  {
   "cell_type": "markdown",
   "id": "ee3cb7ca",
   "metadata": {},
   "source": [
    "### xarray\n",
    "Tutorial on opening GRIB files with xarray: https://docs.xarray.dev/en/stable/examples/ERA5-GRIB-example.html"
   ]
  },
  {
   "cell_type": "code",
   "execution_count": null,
   "id": "7486689b",
   "metadata": {},
   "outputs": [],
   "source": [
    "# paste here code developed by Laura"
   ]
  },
  {
   "cell_type": "markdown",
   "id": "1d79a256-d7ea-4b79-b4b2-8844261bcd11",
   "metadata": {},
   "source": [
    "### Ocean variables"
   ]
  },
  {
   "cell_type": "code",
   "execution_count": null,
   "id": "2012744f-79c7-4f03-914d-b80634253536",
   "metadata": {},
   "outputs": [],
   "source": [
    "stream = \"wave\" #ocean characteristics"
   ]
  },
  {
   "cell_type": "markdown",
   "id": "05146bb6-e0ec-4be4-bda6-30f83e204619",
   "metadata": {},
   "source": [
    "## 3. Impact variables\n",
    "Variables needed:\n",
    "- Population density\n",
    "- Coastal areas prone to risk of flooding\n",
    "- Watches and warning/risk layer\n",
    "- High seas regions"
   ]
  },
  {
   "cell_type": "markdown",
   "id": "5b1deebf-0ef5-40d8-805a-ce152dcca26e",
   "metadata": {},
   "source": [
    "### Population density\n",
    "WorldPop API: https://www.worldpop.org/sdi/introapi/"
   ]
  },
  {
   "cell_type": "code",
   "execution_count": null,
   "id": "db05abac",
   "metadata": {},
   "outputs": [],
   "source": []
  },
  {
   "cell_type": "markdown",
   "id": "ace03aea",
   "metadata": {},
   "source": [
    "### Coastal flood hazard map\n",
    "Worl Bank Data Catalog \"Global Coastal Flood Hazard\": https://datacatalog.worldbank.org/search/dataset/0038579/Global-coastal-flood-hazard \\\n",
    "Article: https://www.nature.com/articles/ncomms11969"
   ]
  },
  {
   "cell_type": "code",
   "execution_count": 27,
   "id": "b77a9761",
   "metadata": {},
   "outputs": [],
   "source": [
    "#create a function which downloads the rasters and one which loads them\n",
    "#create a dictionary with links to the rasters associated to the return period\n",
    "def dwnl_coastalhaz(rp):\n",
    "    \"\"\"\n",
    "    rp: return period\n",
    "    \"\"\"\n",
    "    links = {\n",
    "            \"10yr\": \"https://www.geonode-gfdrrlab.org/uploaded/layers/2019/10/16/ss_muis_rp0010m.tif\",\n",
    "            \"50yr\": \"https://www.geonode-gfdrrlab.org/uploaded/layers/2019/10/16/ss_muis_rp0050m.tif\",\n",
    "            \"100yr\": \"\"\n",
    "            }\n",
    "    tif = requests.get(links[rp])\n",
    "    with open(f\"coastalhaz_{rp}.tif\", \"wb\") as tiffile:\n",
    "            tiffile.write(tif.content)\n",
    "            print(\"Download complete\")\n",
    "\n",
    "def load_coastalhaz(rp):\n",
    "    pass"
   ]
  },
  {
   "cell_type": "code",
   "execution_count": 31,
   "id": "fb52dd46",
   "metadata": {},
   "outputs": [],
   "source": [
    "#Download the 100years flood tiff from the World map open database\n",
    "tif = requests.get(\"https://www.geonode-gfdrrlab.org/uploaded/layers/2019/10/16/ss_muis_rp0100m.tif\")\n",
    "with open(\"test.tif\", \"wb\") as tiffile:\n",
    "    tiffile.write(tif.content)\n",
    "    print(\"Download complete\")"
   ]
  },
  {
   "cell_type": "code",
   "execution_count": 25,
   "id": "e0b949be",
   "metadata": {},
   "outputs": [
    {
     "data": {
      "text/html": [
       "<div><svg style=\"position: absolute; width: 0; height: 0; overflow: hidden\">\n",
       "<defs>\n",
       "<symbol id=\"icon-database\" viewBox=\"0 0 32 32\">\n",
       "<path d=\"M16 0c-8.837 0-16 2.239-16 5v4c0 2.761 7.163 5 16 5s16-2.239 16-5v-4c0-2.761-7.163-5-16-5z\"></path>\n",
       "<path d=\"M16 17c-8.837 0-16-2.239-16-5v6c0 2.761 7.163 5 16 5s16-2.239 16-5v-6c0 2.761-7.163 5-16 5z\"></path>\n",
       "<path d=\"M16 26c-8.837 0-16-2.239-16-5v6c0 2.761 7.163 5 16 5s16-2.239 16-5v-6c0 2.761-7.163 5-16 5z\"></path>\n",
       "</symbol>\n",
       "<symbol id=\"icon-file-text2\" viewBox=\"0 0 32 32\">\n",
       "<path d=\"M28.681 7.159c-0.694-0.947-1.662-2.053-2.724-3.116s-2.169-2.030-3.116-2.724c-1.612-1.182-2.393-1.319-2.841-1.319h-15.5c-1.378 0-2.5 1.121-2.5 2.5v27c0 1.378 1.122 2.5 2.5 2.5h23c1.378 0 2.5-1.122 2.5-2.5v-19.5c0-0.448-0.137-1.23-1.319-2.841zM24.543 5.457c0.959 0.959 1.712 1.825 2.268 2.543h-4.811v-4.811c0.718 0.556 1.584 1.309 2.543 2.268zM28 29.5c0 0.271-0.229 0.5-0.5 0.5h-23c-0.271 0-0.5-0.229-0.5-0.5v-27c0-0.271 0.229-0.5 0.5-0.5 0 0 15.499-0 15.5 0v7c0 0.552 0.448 1 1 1h7v19.5z\"></path>\n",
       "<path d=\"M23 26h-14c-0.552 0-1-0.448-1-1s0.448-1 1-1h14c0.552 0 1 0.448 1 1s-0.448 1-1 1z\"></path>\n",
       "<path d=\"M23 22h-14c-0.552 0-1-0.448-1-1s0.448-1 1-1h14c0.552 0 1 0.448 1 1s-0.448 1-1 1z\"></path>\n",
       "<path d=\"M23 18h-14c-0.552 0-1-0.448-1-1s0.448-1 1-1h14c0.552 0 1 0.448 1 1s-0.448 1-1 1z\"></path>\n",
       "</symbol>\n",
       "</defs>\n",
       "</svg>\n",
       "<style>/* CSS stylesheet for displaying xarray objects in jupyterlab.\n",
       " *\n",
       " */\n",
       "\n",
       ":root {\n",
       "  --xr-font-color0: var(--jp-content-font-color0, rgba(0, 0, 0, 1));\n",
       "  --xr-font-color2: var(--jp-content-font-color2, rgba(0, 0, 0, 0.54));\n",
       "  --xr-font-color3: var(--jp-content-font-color3, rgba(0, 0, 0, 0.38));\n",
       "  --xr-border-color: var(--jp-border-color2, #e0e0e0);\n",
       "  --xr-disabled-color: var(--jp-layout-color3, #bdbdbd);\n",
       "  --xr-background-color: var(--jp-layout-color0, white);\n",
       "  --xr-background-color-row-even: var(--jp-layout-color1, white);\n",
       "  --xr-background-color-row-odd: var(--jp-layout-color2, #eeeeee);\n",
       "}\n",
       "\n",
       "html[theme=dark],\n",
       "body[data-theme=dark],\n",
       "body.vscode-dark {\n",
       "  --xr-font-color0: rgba(255, 255, 255, 1);\n",
       "  --xr-font-color2: rgba(255, 255, 255, 0.54);\n",
       "  --xr-font-color3: rgba(255, 255, 255, 0.38);\n",
       "  --xr-border-color: #1F1F1F;\n",
       "  --xr-disabled-color: #515151;\n",
       "  --xr-background-color: #111111;\n",
       "  --xr-background-color-row-even: #111111;\n",
       "  --xr-background-color-row-odd: #313131;\n",
       "}\n",
       "\n",
       ".xr-wrap {\n",
       "  display: block !important;\n",
       "  min-width: 300px;\n",
       "  max-width: 700px;\n",
       "}\n",
       "\n",
       ".xr-text-repr-fallback {\n",
       "  /* fallback to plain text repr when CSS is not injected (untrusted notebook) */\n",
       "  display: none;\n",
       "}\n",
       "\n",
       ".xr-header {\n",
       "  padding-top: 6px;\n",
       "  padding-bottom: 6px;\n",
       "  margin-bottom: 4px;\n",
       "  border-bottom: solid 1px var(--xr-border-color);\n",
       "}\n",
       "\n",
       ".xr-header > div,\n",
       ".xr-header > ul {\n",
       "  display: inline;\n",
       "  margin-top: 0;\n",
       "  margin-bottom: 0;\n",
       "}\n",
       "\n",
       ".xr-obj-type,\n",
       ".xr-array-name {\n",
       "  margin-left: 2px;\n",
       "  margin-right: 10px;\n",
       "}\n",
       "\n",
       ".xr-obj-type {\n",
       "  color: var(--xr-font-color2);\n",
       "}\n",
       "\n",
       ".xr-sections {\n",
       "  padding-left: 0 !important;\n",
       "  display: grid;\n",
       "  grid-template-columns: 150px auto auto 1fr 20px 20px;\n",
       "}\n",
       "\n",
       ".xr-section-item {\n",
       "  display: contents;\n",
       "}\n",
       "\n",
       ".xr-section-item input {\n",
       "  display: none;\n",
       "}\n",
       "\n",
       ".xr-section-item input + label {\n",
       "  color: var(--xr-disabled-color);\n",
       "}\n",
       "\n",
       ".xr-section-item input:enabled + label {\n",
       "  cursor: pointer;\n",
       "  color: var(--xr-font-color2);\n",
       "}\n",
       "\n",
       ".xr-section-item input:enabled + label:hover {\n",
       "  color: var(--xr-font-color0);\n",
       "}\n",
       "\n",
       ".xr-section-summary {\n",
       "  grid-column: 1;\n",
       "  color: var(--xr-font-color2);\n",
       "  font-weight: 500;\n",
       "}\n",
       "\n",
       ".xr-section-summary > span {\n",
       "  display: inline-block;\n",
       "  padding-left: 0.5em;\n",
       "}\n",
       "\n",
       ".xr-section-summary-in:disabled + label {\n",
       "  color: var(--xr-font-color2);\n",
       "}\n",
       "\n",
       ".xr-section-summary-in + label:before {\n",
       "  display: inline-block;\n",
       "  content: '►';\n",
       "  font-size: 11px;\n",
       "  width: 15px;\n",
       "  text-align: center;\n",
       "}\n",
       "\n",
       ".xr-section-summary-in:disabled + label:before {\n",
       "  color: var(--xr-disabled-color);\n",
       "}\n",
       "\n",
       ".xr-section-summary-in:checked + label:before {\n",
       "  content: '▼';\n",
       "}\n",
       "\n",
       ".xr-section-summary-in:checked + label > span {\n",
       "  display: none;\n",
       "}\n",
       "\n",
       ".xr-section-summary,\n",
       ".xr-section-inline-details {\n",
       "  padding-top: 4px;\n",
       "  padding-bottom: 4px;\n",
       "}\n",
       "\n",
       ".xr-section-inline-details {\n",
       "  grid-column: 2 / -1;\n",
       "}\n",
       "\n",
       ".xr-section-details {\n",
       "  display: none;\n",
       "  grid-column: 1 / -1;\n",
       "  margin-bottom: 5px;\n",
       "}\n",
       "\n",
       ".xr-section-summary-in:checked ~ .xr-section-details {\n",
       "  display: contents;\n",
       "}\n",
       "\n",
       ".xr-array-wrap {\n",
       "  grid-column: 1 / -1;\n",
       "  display: grid;\n",
       "  grid-template-columns: 20px auto;\n",
       "}\n",
       "\n",
       ".xr-array-wrap > label {\n",
       "  grid-column: 1;\n",
       "  vertical-align: top;\n",
       "}\n",
       "\n",
       ".xr-preview {\n",
       "  color: var(--xr-font-color3);\n",
       "}\n",
       "\n",
       ".xr-array-preview,\n",
       ".xr-array-data {\n",
       "  padding: 0 5px !important;\n",
       "  grid-column: 2;\n",
       "}\n",
       "\n",
       ".xr-array-data,\n",
       ".xr-array-in:checked ~ .xr-array-preview {\n",
       "  display: none;\n",
       "}\n",
       "\n",
       ".xr-array-in:checked ~ .xr-array-data,\n",
       ".xr-array-preview {\n",
       "  display: inline-block;\n",
       "}\n",
       "\n",
       ".xr-dim-list {\n",
       "  display: inline-block !important;\n",
       "  list-style: none;\n",
       "  padding: 0 !important;\n",
       "  margin: 0;\n",
       "}\n",
       "\n",
       ".xr-dim-list li {\n",
       "  display: inline-block;\n",
       "  padding: 0;\n",
       "  margin: 0;\n",
       "}\n",
       "\n",
       ".xr-dim-list:before {\n",
       "  content: '(';\n",
       "}\n",
       "\n",
       ".xr-dim-list:after {\n",
       "  content: ')';\n",
       "}\n",
       "\n",
       ".xr-dim-list li:not(:last-child):after {\n",
       "  content: ',';\n",
       "  padding-right: 5px;\n",
       "}\n",
       "\n",
       ".xr-has-index {\n",
       "  font-weight: bold;\n",
       "}\n",
       "\n",
       ".xr-var-list,\n",
       ".xr-var-item {\n",
       "  display: contents;\n",
       "}\n",
       "\n",
       ".xr-var-item > div,\n",
       ".xr-var-item label,\n",
       ".xr-var-item > .xr-var-name span {\n",
       "  background-color: var(--xr-background-color-row-even);\n",
       "  margin-bottom: 0;\n",
       "}\n",
       "\n",
       ".xr-var-item > .xr-var-name:hover span {\n",
       "  padding-right: 5px;\n",
       "}\n",
       "\n",
       ".xr-var-list > li:nth-child(odd) > div,\n",
       ".xr-var-list > li:nth-child(odd) > label,\n",
       ".xr-var-list > li:nth-child(odd) > .xr-var-name span {\n",
       "  background-color: var(--xr-background-color-row-odd);\n",
       "}\n",
       "\n",
       ".xr-var-name {\n",
       "  grid-column: 1;\n",
       "}\n",
       "\n",
       ".xr-var-dims {\n",
       "  grid-column: 2;\n",
       "}\n",
       "\n",
       ".xr-var-dtype {\n",
       "  grid-column: 3;\n",
       "  text-align: right;\n",
       "  color: var(--xr-font-color2);\n",
       "}\n",
       "\n",
       ".xr-var-preview {\n",
       "  grid-column: 4;\n",
       "}\n",
       "\n",
       ".xr-index-preview {\n",
       "  grid-column: 2 / 5;\n",
       "  color: var(--xr-font-color2);\n",
       "}\n",
       "\n",
       ".xr-var-name,\n",
       ".xr-var-dims,\n",
       ".xr-var-dtype,\n",
       ".xr-preview,\n",
       ".xr-attrs dt {\n",
       "  white-space: nowrap;\n",
       "  overflow: hidden;\n",
       "  text-overflow: ellipsis;\n",
       "  padding-right: 10px;\n",
       "}\n",
       "\n",
       ".xr-var-name:hover,\n",
       ".xr-var-dims:hover,\n",
       ".xr-var-dtype:hover,\n",
       ".xr-attrs dt:hover {\n",
       "  overflow: visible;\n",
       "  width: auto;\n",
       "  z-index: 1;\n",
       "}\n",
       "\n",
       ".xr-var-attrs,\n",
       ".xr-var-data,\n",
       ".xr-index-data {\n",
       "  display: none;\n",
       "  background-color: var(--xr-background-color) !important;\n",
       "  padding-bottom: 5px !important;\n",
       "}\n",
       "\n",
       ".xr-var-attrs-in:checked ~ .xr-var-attrs,\n",
       ".xr-var-data-in:checked ~ .xr-var-data,\n",
       ".xr-index-data-in:checked ~ .xr-index-data {\n",
       "  display: block;\n",
       "}\n",
       "\n",
       ".xr-var-data > table {\n",
       "  float: right;\n",
       "}\n",
       "\n",
       ".xr-var-name span,\n",
       ".xr-var-data,\n",
       ".xr-index-name div,\n",
       ".xr-index-data,\n",
       ".xr-attrs {\n",
       "  padding-left: 25px !important;\n",
       "}\n",
       "\n",
       ".xr-attrs,\n",
       ".xr-var-attrs,\n",
       ".xr-var-data,\n",
       ".xr-index-data {\n",
       "  grid-column: 1 / -1;\n",
       "}\n",
       "\n",
       "dl.xr-attrs {\n",
       "  padding: 0;\n",
       "  margin: 0;\n",
       "  display: grid;\n",
       "  grid-template-columns: 125px auto;\n",
       "}\n",
       "\n",
       ".xr-attrs dt,\n",
       ".xr-attrs dd {\n",
       "  padding: 0;\n",
       "  margin: 0;\n",
       "  float: left;\n",
       "  padding-right: 10px;\n",
       "  width: auto;\n",
       "}\n",
       "\n",
       ".xr-attrs dt {\n",
       "  font-weight: normal;\n",
       "  grid-column: 1;\n",
       "}\n",
       "\n",
       ".xr-attrs dt:hover span {\n",
       "  display: inline-block;\n",
       "  background: var(--xr-background-color);\n",
       "  padding-right: 10px;\n",
       "}\n",
       "\n",
       ".xr-attrs dd {\n",
       "  grid-column: 2;\n",
       "  white-space: pre-wrap;\n",
       "  word-break: break-all;\n",
       "}\n",
       "\n",
       ".xr-icon-database,\n",
       ".xr-icon-file-text2,\n",
       ".xr-no-icon {\n",
       "  display: inline-block;\n",
       "  vertical-align: middle;\n",
       "  width: 1em;\n",
       "  height: 1.5em !important;\n",
       "  stroke-width: 0;\n",
       "  stroke: currentColor;\n",
       "  fill: currentColor;\n",
       "}\n",
       "</style><pre class='xr-text-repr-fallback'>&lt;xarray.DataArray (band: 1, y: 16744, x: 43200)&gt;\n",
       "[723340800 values with dtype=float32]\n",
       "Coordinates:\n",
       "  * band         (band) int32 1\n",
       "  * x            (x) float64 -180.0 -180.0 -180.0 -180.0 ... 180.0 180.0 180.0\n",
       "  * y            (y) float64 83.62 83.61 83.6 83.6 ... -55.88 -55.89 -55.9 -55.9\n",
       "    spatial_ref  int32 0\n",
       "Attributes:\n",
       "    AREA_OR_POINT:  Area\n",
       "    DataType:       Generic\n",
       "    _FillValue:     0.0\n",
       "    scale_factor:   1.0\n",
       "    add_offset:     0.0</pre><div class='xr-wrap' style='display:none'><div class='xr-header'><div class='xr-obj-type'>xarray.DataArray</div><div class='xr-array-name'></div><ul class='xr-dim-list'><li><span class='xr-has-index'>band</span>: 1</li><li><span class='xr-has-index'>y</span>: 16744</li><li><span class='xr-has-index'>x</span>: 43200</li></ul></div><ul class='xr-sections'><li class='xr-section-item'><div class='xr-array-wrap'><input id='section-b5246f35-0d84-482e-a9ec-3c89f8932c96' class='xr-array-in' type='checkbox' checked><label for='section-b5246f35-0d84-482e-a9ec-3c89f8932c96' title='Show/hide data repr'><svg class='icon xr-icon-database'><use xlink:href='#icon-database'></use></svg></label><div class='xr-array-preview xr-preview'><span>...</span></div><div class='xr-array-data'><pre>[723340800 values with dtype=float32]</pre></div></div></li><li class='xr-section-item'><input id='section-e02cb77e-53b8-424c-b9bd-cca8947608fb' class='xr-section-summary-in' type='checkbox'  checked><label for='section-e02cb77e-53b8-424c-b9bd-cca8947608fb' class='xr-section-summary' >Coordinates: <span>(4)</span></label><div class='xr-section-inline-details'></div><div class='xr-section-details'><ul class='xr-var-list'><li class='xr-var-item'><div class='xr-var-name'><span class='xr-has-index'>band</span></div><div class='xr-var-dims'>(band)</div><div class='xr-var-dtype'>int32</div><div class='xr-var-preview xr-preview'>1</div><input id='attrs-eafef450-8ea5-41af-af78-74ac5c0693c5' class='xr-var-attrs-in' type='checkbox' disabled><label for='attrs-eafef450-8ea5-41af-af78-74ac5c0693c5' title='Show/Hide attributes'><svg class='icon xr-icon-file-text2'><use xlink:href='#icon-file-text2'></use></svg></label><input id='data-46cbf675-7b23-41c5-add2-61587dba8042' class='xr-var-data-in' type='checkbox'><label for='data-46cbf675-7b23-41c5-add2-61587dba8042' title='Show/Hide data repr'><svg class='icon xr-icon-database'><use xlink:href='#icon-database'></use></svg></label><div class='xr-var-attrs'><dl class='xr-attrs'></dl></div><div class='xr-var-data'><pre>array([1])</pre></div></li><li class='xr-var-item'><div class='xr-var-name'><span class='xr-has-index'>x</span></div><div class='xr-var-dims'>(x)</div><div class='xr-var-dtype'>float64</div><div class='xr-var-preview xr-preview'>-180.0 -180.0 ... 180.0 180.0</div><input id='attrs-ba60ef51-d17a-45db-bb21-8b787e84f011' class='xr-var-attrs-in' type='checkbox' disabled><label for='attrs-ba60ef51-d17a-45db-bb21-8b787e84f011' title='Show/Hide attributes'><svg class='icon xr-icon-file-text2'><use xlink:href='#icon-file-text2'></use></svg></label><input id='data-04ae2d15-0843-4fa1-b739-ec6df4d78e11' class='xr-var-data-in' type='checkbox'><label for='data-04ae2d15-0843-4fa1-b739-ec6df4d78e11' title='Show/Hide data repr'><svg class='icon xr-icon-database'><use xlink:href='#icon-database'></use></svg></label><div class='xr-var-attrs'><dl class='xr-attrs'></dl></div><div class='xr-var-data'><pre>array([-179.995833, -179.9875  , -179.979167, ...,  179.979185,  179.987519,\n",
       "        179.995852])</pre></div></li><li class='xr-var-item'><div class='xr-var-name'><span class='xr-has-index'>y</span></div><div class='xr-var-dims'>(y)</div><div class='xr-var-dtype'>float64</div><div class='xr-var-preview xr-preview'>83.62 83.61 83.6 ... -55.9 -55.9</div><input id='attrs-0f189225-d69b-4f76-9ff2-2208b9d42506' class='xr-var-attrs-in' type='checkbox' disabled><label for='attrs-0f189225-d69b-4f76-9ff2-2208b9d42506' title='Show/Hide attributes'><svg class='icon xr-icon-file-text2'><use xlink:href='#icon-file-text2'></use></svg></label><input id='data-fb3805f0-62a4-4e7b-93a1-1cd1825d36ae' class='xr-var-data-in' type='checkbox'><label for='data-fb3805f0-62a4-4e7b-93a1-1cd1825d36ae' title='Show/Hide data repr'><svg class='icon xr-icon-database'><use xlink:href='#icon-database'></use></svg></label><div class='xr-var-attrs'><dl class='xr-attrs'></dl></div><div class='xr-var-data'><pre>array([ 83.620841,  83.612507,  83.604174, ..., -55.8875  , -55.895833,\n",
       "       -55.904167])</pre></div></li><li class='xr-var-item'><div class='xr-var-name'><span>spatial_ref</span></div><div class='xr-var-dims'>()</div><div class='xr-var-dtype'>int32</div><div class='xr-var-preview xr-preview'>0</div><input id='attrs-06b85ac0-6492-47f9-a069-8a8e335d0652' class='xr-var-attrs-in' type='checkbox' ><label for='attrs-06b85ac0-6492-47f9-a069-8a8e335d0652' title='Show/Hide attributes'><svg class='icon xr-icon-file-text2'><use xlink:href='#icon-file-text2'></use></svg></label><input id='data-a5527ed0-e4d7-4f70-b397-b17af9363d33' class='xr-var-data-in' type='checkbox'><label for='data-a5527ed0-e4d7-4f70-b397-b17af9363d33' title='Show/Hide data repr'><svg class='icon xr-icon-database'><use xlink:href='#icon-database'></use></svg></label><div class='xr-var-attrs'><dl class='xr-attrs'><dt><span>crs_wkt :</span></dt><dd>GEOGCS[&quot;WGS 84&quot;,DATUM[&quot;World Geodetic System 1984&quot;,SPHEROID[&quot;WGS 84&quot;,6378137,298.257223563]],PRIMEM[&quot;Greenwich&quot;,0],UNIT[&quot;degree&quot;,0.0174532925199433,AUTHORITY[&quot;EPSG&quot;,&quot;9122&quot;]],AXIS[&quot;Latitude&quot;,NORTH],AXIS[&quot;Longitude&quot;,EAST]]</dd><dt><span>semi_major_axis :</span></dt><dd>6378137.0</dd><dt><span>semi_minor_axis :</span></dt><dd>6356752.314245179</dd><dt><span>inverse_flattening :</span></dt><dd>298.257223563</dd><dt><span>reference_ellipsoid_name :</span></dt><dd>WGS 84</dd><dt><span>longitude_of_prime_meridian :</span></dt><dd>0.0</dd><dt><span>prime_meridian_name :</span></dt><dd>Greenwich</dd><dt><span>geographic_crs_name :</span></dt><dd>WGS 84</dd><dt><span>grid_mapping_name :</span></dt><dd>latitude_longitude</dd><dt><span>spatial_ref :</span></dt><dd>GEOGCS[&quot;WGS 84&quot;,DATUM[&quot;World Geodetic System 1984&quot;,SPHEROID[&quot;WGS 84&quot;,6378137,298.257223563]],PRIMEM[&quot;Greenwich&quot;,0],UNIT[&quot;degree&quot;,0.0174532925199433,AUTHORITY[&quot;EPSG&quot;,&quot;9122&quot;]],AXIS[&quot;Latitude&quot;,NORTH],AXIS[&quot;Longitude&quot;,EAST]]</dd><dt><span>GeoTransform :</span></dt><dd>-180.0 0.00833333376795053 0.0 83.62500727714671 0.0 -0.00833333376795053</dd></dl></div><div class='xr-var-data'><pre>array(0)</pre></div></li></ul></div></li><li class='xr-section-item'><input id='section-6f31ef55-d435-44a5-9a95-a3b3767f6025' class='xr-section-summary-in' type='checkbox'  ><label for='section-6f31ef55-d435-44a5-9a95-a3b3767f6025' class='xr-section-summary' >Indexes: <span>(3)</span></label><div class='xr-section-inline-details'></div><div class='xr-section-details'><ul class='xr-var-list'><li class='xr-var-item'><div class='xr-index-name'><div>band</div></div><div class='xr-index-preview'>PandasIndex</div><div></div><input id='index-f46a6b48-c9eb-44c9-bcd0-63cfc621ea2d' class='xr-index-data-in' type='checkbox'/><label for='index-f46a6b48-c9eb-44c9-bcd0-63cfc621ea2d' title='Show/Hide index repr'><svg class='icon xr-icon-database'><use xlink:href='#icon-database'></use></svg></label><div class='xr-index-data'><pre>PandasIndex(Int64Index([1], dtype=&#x27;int64&#x27;, name=&#x27;band&#x27;))</pre></div></li><li class='xr-var-item'><div class='xr-index-name'><div>x</div></div><div class='xr-index-preview'>PandasIndex</div><div></div><input id='index-60668f05-ebd3-48dd-925b-c97b627a5bc3' class='xr-index-data-in' type='checkbox'/><label for='index-60668f05-ebd3-48dd-925b-c97b627a5bc3' title='Show/Hide index repr'><svg class='icon xr-icon-database'><use xlink:href='#icon-database'></use></svg></label><div class='xr-index-data'><pre>PandasIndex(Float64Index([-179.99583333311602, -179.98749999934807, -179.97916666558012,\n",
       "              -179.97083333181217, -179.96249999804422, -179.95416666427627,\n",
       "              -179.94583333050832, -179.93749999674037, -179.92916666297242,\n",
       "              -179.92083332920447,\n",
       "              ...\n",
       "               179.92085210466735,   179.9291854384353,  179.93751877220325,\n",
       "                179.9458521059712,  179.95418543973915,   179.9625187735071,\n",
       "               179.97085210727505,    179.979185441043,  179.98751877481095,\n",
       "                179.9958521085789],\n",
       "             dtype=&#x27;float64&#x27;, name=&#x27;x&#x27;, length=43200))</pre></div></li><li class='xr-var-item'><div class='xr-index-name'><div>y</div></div><div class='xr-index-preview'>PandasIndex</div><div></div><input id='index-cd492e3f-0b5d-440a-bf26-586614758a96' class='xr-index-data-in' type='checkbox'/><label for='index-cd492e3f-0b5d-440a-bf26-586614758a96' title='Show/Hide index repr'><svg class='icon xr-icon-database'><use xlink:href='#icon-database'></use></svg></label><div class='xr-index-data'><pre>PandasIndex(Float64Index([  83.62084061026273,   83.61250727649478,   83.60417394272683,\n",
       "                83.59584060895888,   83.58750727519093,   83.57917394142298,\n",
       "                83.57084060765503,   83.56250727388708,   83.55417394011913,\n",
       "                83.54584060635118,\n",
       "              ...\n",
       "               -55.82916666262143,  -55.83749999638938,  -55.84583333015733,\n",
       "              -55.854166663925284, -55.862499997693234, -55.870833331461185,\n",
       "              -55.879166665229135, -55.887499998997086,  -55.89583333276504,\n",
       "               -55.90416666653299],\n",
       "             dtype=&#x27;float64&#x27;, name=&#x27;y&#x27;, length=16744))</pre></div></li></ul></div></li><li class='xr-section-item'><input id='section-d986e359-7159-4dca-891e-dcb75af8898e' class='xr-section-summary-in' type='checkbox'  checked><label for='section-d986e359-7159-4dca-891e-dcb75af8898e' class='xr-section-summary' >Attributes: <span>(5)</span></label><div class='xr-section-inline-details'></div><div class='xr-section-details'><dl class='xr-attrs'><dt><span>AREA_OR_POINT :</span></dt><dd>Area</dd><dt><span>DataType :</span></dt><dd>Generic</dd><dt><span>_FillValue :</span></dt><dd>0.0</dd><dt><span>scale_factor :</span></dt><dd>1.0</dd><dt><span>add_offset :</span></dt><dd>0.0</dd></dl></div></li></ul></div></div>"
      ],
      "text/plain": [
       "<xarray.DataArray (band: 1, y: 16744, x: 43200)>\n",
       "[723340800 values with dtype=float32]\n",
       "Coordinates:\n",
       "  * band         (band) int32 1\n",
       "  * x            (x) float64 -180.0 -180.0 -180.0 -180.0 ... 180.0 180.0 180.0\n",
       "  * y            (y) float64 83.62 83.61 83.6 83.6 ... -55.88 -55.89 -55.9 -55.9\n",
       "    spatial_ref  int32 0\n",
       "Attributes:\n",
       "    AREA_OR_POINT:  Area\n",
       "    DataType:       Generic\n",
       "    _FillValue:     0.0\n",
       "    scale_factor:   1.0\n",
       "    add_offset:     0.0"
      ]
     },
     "execution_count": 25,
     "metadata": {},
     "output_type": "execute_result"
    }
   ],
   "source": [
    "#Load the saved tiff\n",
    "f = rxr.open_rasterio(\"test.tif\")\n",
    "f"
   ]
  },
  {
   "cell_type": "markdown",
   "id": "5011889f",
   "metadata": {},
   "source": [
    "### Risk layer"
   ]
  },
  {
   "cell_type": "markdown",
   "id": "19462dd7",
   "metadata": {},
   "source": [
    "#### WorldRiskIndex\n",
    "WorldRiskIndex 2022: https://data.humdata.org/dataset/1efb6ee7-051a-440f-a2cf-e652fecccf73"
   ]
  },
  {
   "cell_type": "code",
   "execution_count": null,
   "id": "08dc7c88",
   "metadata": {},
   "outputs": [],
   "source": []
  },
  {
   "cell_type": "markdown",
   "id": "57bbcabe",
   "metadata": {},
   "source": [
    "#### Cyclone hazard map\n",
    "Global Cyclone Hazard: https://datacatalog.worldbank.org/search/dataset/0038577/Global-cyclone-hazard"
   ]
  },
  {
   "cell_type": "code",
   "execution_count": null,
   "id": "be08c2c1",
   "metadata": {},
   "outputs": [],
   "source": [
    "#download tiff\n",
    "#load tiff"
   ]
  },
  {
   "cell_type": "code",
   "execution_count": null,
   "id": "7cd028f9",
   "metadata": {},
   "outputs": [],
   "source": [
    "#create a funciton to download from link and load the data"
   ]
  },
  {
   "cell_type": "markdown",
   "id": "46ec35c9",
   "metadata": {},
   "source": [
    "## Additional data"
   ]
  },
  {
   "cell_type": "markdown",
   "id": "c57190d7",
   "metadata": {},
   "source": [
    "### Additional hazards\n",
    "World Bank Global Tsunami Hazard: https://datacatalog.worldbank.org/search/dataset/0040783/Global-tsunami-hazard \\\n",
    "Global Flood Exposure by country: https://datacatalog.worldbank.org/search/dataset/0062763/Global-Flood-Exposure--Gridded-exposure-headcounts-by-country \\\n",
    "Global Earthquake Hazard: https://datacatalog.worldbank.org/search/dataset/0038576/Global-earthquake-hazard \\\n",
    "Global drought hazard: https://datacatalog.worldbank.org/search/dataset/0038582/Global-drought-hazard \\"
   ]
  },
  {
   "cell_type": "markdown",
   "id": "2985273c",
   "metadata": {},
   "source": [
    "#### WWSI forecasted weather conditions (only in cities)\n",
    "Guidelines on downloading forecast and climatological information from the WWIS website: https://worldweather.wmo.int/en/dataguide.html. By accessing \"https://worldweather.wmo.int/en/json/[City ID]_en.json\", the forecast for that city is provided for the next 5/7 days in a JSON format explained here: https://worldweather.wmo.int/en/json/WWIS_json_schema_v2.json. Below an example on retrieving forecasts"
   ]
  },
  {
   "cell_type": "code",
   "execution_count": null,
   "id": "c5715f73",
   "metadata": {},
   "outputs": [
    {
     "data": {
      "text/html": [
       "<div>\n",
       "<style scoped>\n",
       "    .dataframe tbody tr th:only-of-type {\n",
       "        vertical-align: middle;\n",
       "    }\n",
       "\n",
       "    .dataframe tbody tr th {\n",
       "        vertical-align: top;\n",
       "    }\n",
       "\n",
       "    .dataframe thead th {\n",
       "        text-align: right;\n",
       "    }\n",
       "</style>\n",
       "<table border=\"1\" class=\"dataframe\">\n",
       "  <thead>\n",
       "    <tr style=\"text-align: right;\">\n",
       "      <th></th>\n",
       "      <th>Country</th>\n",
       "      <th>City</th>\n",
       "      <th>CityId</th>\n",
       "    </tr>\n",
       "  </thead>\n",
       "  <tbody>\n",
       "    <tr>\n",
       "      <th>0</th>\n",
       "      <td>Afghanistan</td>\n",
       "      <td>Herat</td>\n",
       "      <td>1183.0</td>\n",
       "    </tr>\n",
       "    <tr>\n",
       "      <th>1</th>\n",
       "      <td>Afghanistan</td>\n",
       "      <td>Kabul</td>\n",
       "      <td>219.0</td>\n",
       "    </tr>\n",
       "    <tr>\n",
       "      <th>2</th>\n",
       "      <td>Algeria</td>\n",
       "      <td>Algiers</td>\n",
       "      <td>242.0</td>\n",
       "    </tr>\n",
       "    <tr>\n",
       "      <th>3</th>\n",
       "      <td>Algeria</td>\n",
       "      <td>Annaba</td>\n",
       "      <td>1434.0</td>\n",
       "    </tr>\n",
       "    <tr>\n",
       "      <th>4</th>\n",
       "      <td>Algeria</td>\n",
       "      <td>Bechar</td>\n",
       "      <td>1435.0</td>\n",
       "    </tr>\n",
       "  </tbody>\n",
       "</table>\n",
       "</div>"
      ],
      "text/plain": [
       "       Country     City  CityId\n",
       "0  Afghanistan    Herat  1183.0\n",
       "1  Afghanistan    Kabul   219.0\n",
       "2      Algeria  Algiers   242.0\n",
       "3      Algeria   Annaba  1434.0\n",
       "4      Algeria   Bechar  1435.0"
      ]
     },
     "metadata": {},
     "output_type": "display_data"
    }
   ],
   "source": [
    "#list of country codes\n",
    "pd.read_csv(\"https://worldweather.wmo.int/en/json/full_city_list.txt\", sep = \";\").head()"
   ]
  },
  {
   "cell_type": "code",
   "execution_count": null,
   "id": "a466c1f4",
   "metadata": {},
   "outputs": [
    {
     "name": "stdout",
     "output_type": "stream",
     "text": [
      "{'city': {'lang': 'en', 'cityName': 'Algiers', 'cityLatitude': '36.700000000', 'cityLongitude': '3.220000000', 'cityId': 242, 'isCapital': True, 'stationName': 'Algiers', 'tourismURL': '', 'tourismBoardName': '', 'isDep': False, 'timeZone': '+0100', 'isDST': 'N', 'member': {'memId': 122, 'memName': 'Algeria', 'shortMemName': '', 'url': 'www.meteo.dz', 'orgName': 'National Meteorological Office', 'logo': 'algeria_logo.png', 'ra': 1}, 'forecast': {'issueDate': '2023-08-19 00:00:00', 'timeZone': 'Local', 'forecastDay': [{'forecastDate': '2023-08-20', 'wxdesc': '', 'weather': 'Sunny', 'minTemp': '22', 'maxTemp': '33', 'minTempF': '72', 'maxTempF': '91', 'weatherIcon': 2402}, {'forecastDate': '2023-08-21', 'wxdesc': '', 'weather': 'Sunny', 'minTemp': '21', 'maxTemp': '32', 'minTempF': '70', 'maxTempF': '90', 'weatherIcon': 2402}, {'forecastDate': '2023-08-22', 'wxdesc': '', 'weather': 'Sunny', 'minTemp': '22', 'maxTemp': '33', 'minTempF': '72', 'maxTempF': '91', 'weatherIcon': 2402}]}, 'climate': {'raintype': 'PPT', 'raindef': '0.1', 'rainunit': 'mm', 'datab': 1976, 'datae': 2005, 'tempb': '', 'tempe': '', 'rdayb': '', 'rdaye': '', 'rainfallb': '', 'rainfalle': '', 'climatefromclino': '', 'climateMonth': [{'month': 1, 'maxTemp': '16.7', 'minTemp': '5.5', 'meanTemp': None, 'maxTempF': '62.1', 'minTempF': '41.9', 'meanTempF': None, 'raindays': '11.4', 'rainfall': '81.4', 'climateFromMemDate': '2007-01-27'}, {'month': 2, 'maxTemp': '17.4', 'minTemp': '5.9', 'meanTemp': None, 'maxTempF': '63.3', 'minTempF': '42.6', 'meanTempF': None, 'raindays': '10.6', 'rainfall': '72.7', 'climateFromMemDate': '2007-01-27'}, {'month': 3, 'maxTemp': '19.2', 'minTemp': '7.1', 'meanTemp': None, 'maxTempF': '66.6', 'minTempF': '44.8', 'meanTempF': None, 'raindays': '9.7', 'rainfall': '55.0', 'climateFromMemDate': '2007-01-27'}, {'month': 4, 'maxTemp': '20.9', 'minTemp': '8.8', 'meanTemp': None, 'maxTempF': '69.6', 'minTempF': '47.8', 'meanTempF': None, 'raindays': '9.1', 'rainfall': '58.4', 'climateFromMemDate': '2007-01-27'}, {'month': 5, 'maxTemp': '23.9', 'minTemp': '12.3', 'meanTemp': None, 'maxTempF': '75.0', 'minTempF': '54.1', 'meanTempF': None, 'raindays': '7.3', 'rainfall': '41.9', 'climateFromMemDate': '2007-01-27'}, {'month': 6, 'maxTemp': '28.2', 'minTemp': '16.1', 'meanTemp': None, 'maxTempF': '82.8', 'minTempF': '61.0', 'meanTempF': None, 'raindays': '2.5', 'rainfall': '8.5', 'climateFromMemDate': '2007-01-27'}, {'month': 7, 'maxTemp': '31.2', 'minTemp': '18.9', 'meanTemp': None, 'maxTempF': '88.2', 'minTempF': '66.0', 'meanTempF': None, 'raindays': '1.5', 'rainfall': '4.5', 'climateFromMemDate': '2007-01-27'}, {'month': 8, 'maxTemp': '32.2', 'minTemp': '19.8', 'meanTemp': None, 'maxTempF': '90.0', 'minTempF': '67.6', 'meanTempF': None, 'raindays': '2.5', 'rainfall': '8.2', 'climateFromMemDate': '2007-01-27'}, {'month': 9, 'maxTemp': '29.6', 'minTemp': '17.6', 'meanTemp': None, 'maxTempF': '85.3', 'minTempF': '63.7', 'meanTempF': None, 'raindays': '5.3', 'rainfall': '28.3', 'climateFromMemDate': '2007-01-27'}, {'month': 10, 'maxTemp': '25.9', 'minTemp': '14.2', 'meanTemp': None, 'maxTempF': '78.6', 'minTempF': '57.6', 'meanTempF': None, 'raindays': '8.6\\n', 'rainfall': '58.8', 'climateFromMemDate': '2007-01-27'}, {'month': 11, 'maxTemp': '20.8', 'minTemp': '9.8', 'meanTemp': None, 'maxTempF': '69.4', 'minTempF': '49.6', 'meanTempF': None, 'raindays': '11.1\\n', 'rainfall': '89.6', 'climateFromMemDate': '2007-01-27'}, {'month': 12, 'maxTemp': '17.9', 'minTemp': '7.2', 'meanTemp': None, 'maxTempF': '64.2', 'minTempF': '45.0', 'meanTempF': None, 'raindays': '12.1\\n', 'rainfall': '91.0', 'climateFromMemDate': '2007-01-27'}]}}}\n"
     ]
    }
   ],
   "source": [
    "import json\n",
    "from urllib.request import urlopen\n",
    "response = urlopen(\"https://worldweather.wmo.int/en/json/242_en.json\") #Algeri\n",
    "data = json.load(response)\n",
    "print(data)"
   ]
  }
 ],
 "metadata": {
  "kernelspec": {
   "display_name": "Python 3 (ipykernel)",
   "language": "python",
   "name": "python3"
  },
  "language_info": {
   "codemirror_mode": {
    "name": "ipython",
    "version": 3
   },
   "file_extension": ".py",
   "mimetype": "text/x-python",
   "name": "python",
   "nbconvert_exporter": "python",
   "pygments_lexer": "ipython3",
   "version": "3.9.7"
  }
 },
 "nbformat": 4,
 "nbformat_minor": 5
}
