{
 "cells": [
  {
   "cell_type": "code",
   "execution_count": null,
   "id": "7f24d339",
   "metadata": {},
   "outputs": [],
   "source": [
    "# https://stackoverflow.com/questions/66360839/ipyleaflet-on-click-event-in-for-loop-calls-function-on-each-iteration"
   ]
  },
  {
   "cell_type": "code",
   "execution_count": 5,
   "id": "853fce66",
   "metadata": {},
   "outputs": [],
   "source": [
    "import ipywidgets as widgets\n",
    "import pandas as pd\n",
    "from IPython.display import display\n",
    "from Magics import macro as magics\n",
    "from Magics.macro import * \n",
    "\n",
    "from ecmwf.opendata import Client\n",
    "import numpy as np\n",
    "import ipyleaflet\n",
    "from ipyleaflet import Map, Marker\n",
    "\n",
    "\n",
    "import xarray as xr\n",
    "from scipy.spatial.distance import cdist\n",
    "\n",
    "import matplotlib.pyplot as plt\n",
    "\n",
    "from bqplot import Lines, Figure, LinearScale, Axis\n",
    "import bqplot"
   ]
  },
  {
   "cell_type": "code",
   "execution_count": 6,
   "id": "bacc8e67",
   "metadata": {},
   "outputs": [],
   "source": [
    "### PARAMETERS TO BE IMPORTED FROM CYCLONE SELECTION\n",
    "initial_latlon = [25.9, -70.4]\n",
    "initial_date = '20230830'\n",
    "final_date = '20230903'"
   ]
  },
  {
   "cell_type": "code",
   "execution_count": 33,
   "id": "d92f83e1",
   "metadata": {},
   "outputs": [],
   "source": [
    "### FUNCTIONS DEF\n",
    "def closest_point(point, points):\n",
    "    \"\"\" \n",
    "        Find closest point from a list of points. \n",
    "        Input: \n",
    "            - point: reference point \n",
    "            - points: list of points \n",
    "        Output: \n",
    "            - closest point \n",
    "    \"\"\"\n",
    "    return points[cdist([point], points).argmin()]\n",
    "\n",
    "def match_value(df, col1, x, col2):\n",
    "    \"\"\" \n",
    "        Match value x from col1 row to value in col2.\n",
    "        Input: \n",
    "            - df: dataframe\n",
    "            - col1: string; column name 1 of the dataframe\n",
    "            - x: pattern no match\n",
    "            - col2: string; column name 2 of the dataframe\n",
    "        Output: \n",
    "            - Value matched \n",
    "    \"\"\"\n",
    "    return df[df[col1] == x][col2].values\n",
    "\n",
    "#def on_move(**kwargs):\n",
    "def get_callback(data_allpoints):\n",
    "    def on_move(**kwargs):\n",
    "     #   global pos\n",
    "        \"\"\"\n",
    "            Things that happen when the user moves the marker:\n",
    "            1. The new position of the marker is readed. \n",
    "            2. For all variables, the values corresponding to the new position are obtained. \n",
    "            3. Lines of the plots (lines1.y/lines2.y/lines3.y/lines4.y) are updated with the values from (2). \n",
    "\n",
    "            Input: nothing\n",
    "            Output: nothing\n",
    "        \"\"\"\n",
    "        \n",
    "        #pos = kwargs['location']\n",
    "        #print(location)\n",
    "       # pos = location\n",
    "        return on_move\n",
    "  #  pos = on_move()\n",
    "  #  event, location = on_move()\n",
    "    print('test: location')\n",
    "    print(location)\n",
    "   # data_plot = get_df_pos(data_allpoints, pos, steps_to_download)\n",
    "   # lines1.y = data_plot['tp'].y.to_numpy()\n",
    "   # lines2.y = data_plot['msl'].y.to_numpy()\n",
    "   # lines3.y = data_plot['skt'].y.to_numpy()\n",
    "   # lines4.y = data_plot['10fgg15'].y.to_numpy()\n",
    "    \n",
    "\n",
    "    \n",
    "def get_allvars_allpoints(date_to_download):\n",
    "    \"\"\"\n",
    "        Read grib file of each variable; transform it to pandas dataframe;\n",
    "            store dataframes into a dictionary with the key being the variable names. \n",
    "        Input: \n",
    "            - date_to_download: string (YYYYMMDD) or integer (0/1/-1) indicating the \n",
    "                starting date of the forecast\n",
    "        Output: \n",
    "            - out: dictionary containing the pandas dataframe of each variable\n",
    "    \"\"\"\n",
    "    out = {}\n",
    "    for var in ['tp', 'msl', 'skt', '10fgg15']:\n",
    "        \n",
    "        filename = 'data/' + var + '_' + str(date_to_download) + '.grib'\n",
    "        ds = xr.open_dataset(filename, engine=\"cfgrib\")\n",
    "\n",
    "        df = ds.to_dataframe()\n",
    "        lats = df.index.get_level_values(\"latitude\")\n",
    "        lons = df.index.get_level_values(\"longitude\")\n",
    "        \n",
    "        if var == '10fgg15':\n",
    "            vals = df['fg10g15']\n",
    "        else:\n",
    "            vals = df[var]\n",
    "        # DATAFRAME OF ALL POINTS FROM MAP\n",
    "        df_datapoints = pd.DataFrame({'Lat': lats, 'Lon':lons, 'Value': vals})\n",
    "        df_datapoints['point'] = [(x, y) for x,y in zip(df_datapoints['Lat'], df_datapoints['Lon'])]\n",
    "        out[var] = df_datapoints\n",
    "    return(out)\n",
    "\n",
    "def get_df_pos(data_allpoints, pos, steps_to_download):\n",
    "    \"\"\"\n",
    "        For each variable, for a given point coordinate, returns the temporal evolution of the \n",
    "            variable in the given Lat, Lon coordinates.  \n",
    "        Input: \n",
    "            - data_allpoints: dictionary containing a pandas dataframe on each key; key are the variable name\n",
    "            - pos: lat lon tuple\n",
    "        Output: \n",
    "            - dictionary containing a pandas dataframe for each variable\n",
    "    \"\"\"\n",
    "    data_pos_allvars = {}\n",
    "    for var in ['tp', 'msl', 'skt', '10fgg15']:\n",
    "\n",
    "        df_datapoints = data_allpoints[var]\n",
    "        \n",
    "        df_selpoint = pd.DataFrame({'Lat': pd.Series(pos[0]), 'Lon':pd.Series(pos[1])})\n",
    "        df_selpoint['point'] = [(x, y) for x,y in zip(df_selpoint['Lat'], df_selpoint['Lon'])]\n",
    "        \n",
    "        # IDENTIFY THE CLOSEST POINT\n",
    "        df_selpoint['closest'] = [closest_point(x, list(df_datapoints['point'])) for x in df_selpoint['point']]\n",
    "\n",
    "        # GET THE VALUE OF VAR FROM THE CLOSEST POINT FOR ALL TIMESTEPS:\n",
    "        vec_values = [match_value(df_datapoints, 'point', x, 'Value') for x in df_selpoint['closest']]\n",
    "\n",
    "        # RETURN DATAFRAME TO PLOT\n",
    "        df_pos_var = pd.DataFrame({'x': pd.Series(steps_to_download), 'y':pd.Series(vec_values[0])})\n",
    "        data_pos_allvars[var] = df_pos_var\n",
    "    return(data_pos_allvars)\n",
    "\n",
    "def get_initial_plot(data_allpoints, initial_latlon, steps_to_download):\n",
    "    global lines1, lines2, lines3, lines4\n",
    "    \n",
    "    data_initial_plot = get_df_pos(data_allpoints, initial_latlon, steps_to_download)\n",
    "\n",
    "    \n",
    "    xdata1 = data_initial_plot['tp'].x.to_numpy()\n",
    "    ydata1 = data_initial_plot['tp'].y.to_numpy()\n",
    "    lines1 = bqplot.Bars(x=[xdata1], y=[ydata1], \n",
    "              scales={\"x\": LinearScale(min=float(min(xdata1)), max=float(max(xdata1))),\n",
    "                      \"y\": LinearScale(min=0, max=float(max(ydata1)))})\n",
    "    ax_y1 = Axis(label='mm',\n",
    "                 scale=LinearScale(min=0, max=float(max(ydata1))), \n",
    "                 orientation=\"vertical\", side=\"left\")\n",
    "\n",
    "    xdata2 = data_initial_plot['msl'].x.to_numpy()\n",
    "    ydata2 = data_initial_plot['msl'].y.to_numpy()\n",
    "    lines2 = Lines(x=[xdata2], y=[ydata2], \n",
    "              scales={\"x\": LinearScale(min=float(min(xdata2)), max=float(max(xdata2))),\n",
    "                      \"y\": LinearScale(min=0, max=float(max(ydata2)))})\n",
    "    ax_y2 = Axis(label='Pa', \n",
    "                 scale=LinearScale(min=0, max=float(max(ydata2))), \n",
    "                 orientation=\"vertical\", side=\"left\")\n",
    "    \n",
    "    \n",
    "    xdata3 = data_initial_plot['skt'].x.to_numpy()\n",
    "    ydata3 = data_initial_plot['skt'].y.to_numpy()\n",
    "    lines3 = Lines(x=[xdata3], y=[ydata3], \n",
    "              scales={\"x\": LinearScale(min=float(min(xdata3)), max=float(max(xdata3))),\n",
    "                      \"y\": LinearScale(min=0, max=float(max(ydata3)))})\n",
    "    ax_y3 = Axis(label='K', \n",
    "                 scale=LinearScale(min=0, max=float(max(ydata3))), \n",
    "                 orientation=\"vertical\", side=\"left\")\n",
    "    \n",
    "    xdata4 = data_initial_plot['10fgg15'].x.to_numpy()\n",
    "    ydata4 = data_initial_plot['10fgg15'].y.to_numpy()\n",
    "    lines4 = Lines(x=[xdata4], y=[ydata4], \n",
    "              scales={\"x\": LinearScale(min=float(min(xdata4)), max=float(max(xdata4))),\n",
    "                      \"y\": LinearScale(min=0, max=float(max(ydata4)))})\n",
    "    ax_y4 = Axis(label='%', \n",
    "                scale=LinearScale(min=0, max=float(max(ydata4))), \n",
    "                 orientation=\"vertical\", side=\"left\")\n",
    "\n",
    "    ax_x = Axis(label=\"Forecasted hours\",\n",
    "            scale=LinearScale(min=float(min(xdata1)), max=float(max(xdata1))),\n",
    "            num_ticks=4)\n",
    "\n",
    "    p1 = Figure(\n",
    "            axes=[ax_x, ax_y1],\n",
    "            title='Total precipitation',\n",
    "            marks=[lines1],\n",
    "            animation_duration=10,\n",
    "            layout={\"max_width\": \"200px\", \"max_height\": \"200px\"},\n",
    "        )\n",
    "\n",
    "    p2 = Figure(\n",
    "            axes=[ax_x, ax_y2], title='Mean sea level pressure',\n",
    "            marks=[lines2], animation_duration=10,\n",
    "            layout={\"max_width\": \"200px\", \"max_height\": \"200px\"},\n",
    "        )\n",
    "\n",
    "    p3 = Figure(\n",
    "            axes=[ax_x, ax_y3], title='Skin temperature',\n",
    "            marks=[lines3], animation_duration=10,\n",
    "            layout={\"max_width\": \"200px\", \"max_height\": \"200px\"},\n",
    "        )\n",
    "\n",
    "    p4 = Figure(\n",
    "            axes=[ax_x, ax_y4],title='Wind gust 10m > 15m/s',\n",
    "            marks=[lines4], animation_duration=10,\n",
    "            layout={\"max_width\": \"200px\", \"max_height\": \"200px\"},\n",
    "        )\n",
    "\n",
    "    return p1, p2, p3, p4\n",
    "\n",
    "def download_data_s5(date_to_download, steps_to_download):\n",
    "    ### DOWNLOAD DATA\n",
    "    print('Downloading data...')\n",
    "    client = Client(\"azure\", beta=True) # ecwf: last five days\n",
    "    for var in ['tp', 'msl', 'skt']:\n",
    "        print(var)\n",
    "        client.retrieve(\n",
    "            date = date_to_download, #date start of the forecast\n",
    "            time = 0,  # time start of the forecast or 12\n",
    "            step = steps_to_download, #step of the forecast\n",
    "            stream = \"oper\",\n",
    "            type = \"fc\",\n",
    "            levtype = \"sfc\",\n",
    "            param = var,\n",
    "            target = 'data/' + var + '_' + str(date_to_download) + '.grib',\n",
    "        )\n",
    "\n",
    "    var = '10fgg15'\n",
    "    client.retrieve(\n",
    "            date = date_to_download, #date start of the forecast\n",
    "            time = 0,  # time start of the forecast or 12\n",
    "            step = '216-240', #step of the forecast\n",
    "            stream = \"enfo\",\n",
    "            type = \"ep\",\n",
    "            param = var,\n",
    "            target = 'data/' + var + '_' + str(date_to_download) + '.grib',\n",
    "        )    \n",
    "\n",
    "def load_data_s5(date_to_download, filename_avg_track):\n",
    "    global data_allpoints\n",
    "    print('Loading data...')\n",
    "    grib_data = {}\n",
    "    for var in ['tp', 'msl', 'skt', '10fgg15']:\n",
    "\n",
    "        filename = 'data/' + var + '_' + str(date_to_download) + '.grib'\n",
    "        grib_data[var] = mgrib(grib_input_file_name=filename)\n",
    "\n",
    "    data_allpoints = get_allvars_allpoints(date_to_download)\n",
    "    # LOAD AVG TRACK\n",
    "    df_avg_track = pd.read_csv(filename_avg_track)\n",
    "    return(data_allpoints, df_avg_track)\n",
    "\n",
    "# CREATE MAP \n",
    "\n",
    "def map_s5(initial_latlon, initial_date, final_date, filename_avg_track):\n",
    "    global steps_to_download\n",
    "    ### VARIABLE INITIALIZATION\n",
    "    cyclone_days = pd.date_range(start=initial_date, end=final_date)\n",
    "    date_to_download = initial_date\n",
    "    steps_to_download = list(np.arange(0,240, 12)[0:2*len(cyclone_days)])\n",
    "    # download data: \n",
    "    download_data_s5(date_to_download, steps_to_download)\n",
    "\n",
    "    ### LOAD DATA\n",
    "    data_allpoints, df_avg_track =load_data_s5(date_to_download, filename_avg_track)\n",
    "    print('Printing map...')\n",
    "    m = Map(\n",
    "        center=[initial_latlon[0], initial_latlon[1]+50],\n",
    "        basemap=ipyleaflet.basemaps.OpenStreetMap.France,\n",
    "        zoom = 2,\n",
    "    )\n",
    "\n",
    "    p1, p2, p3, p4 = get_initial_plot(data_allpoints, initial_latlon, steps_to_download)\n",
    "    main_figure = widgets.VBox([widgets.HBox([p1,p2]), widgets.HBox([p3,p4])], \n",
    "                             align_content = 'stretch')\n",
    "    main_figure.layout.width='400px'\n",
    "    main_figure.layout.height='400px'\n",
    "    widget_control1 = ipyleaflet.WidgetControl(widget=main_figure, position=\"bottomright\")\n",
    "\n",
    "    marker = Marker(location=initial_latlon, draggable=True, name = 'Position') \n",
    "    m.add_layer(marker)\n",
    "    marker.on_move(get_callback(data_allpoints))\n",
    "\n",
    "\n",
    "    m.add(widget_control1)\n",
    "    avg_track = ipyleaflet.AntPath(locations = df_avg_track.values.tolist(), color = \"red\")\n",
    "    m.add_layer(avg_track)\n",
    "    return(m)"
   ]
  },
  {
   "cell_type": "code",
   "execution_count": 34,
   "id": "fdfdc9b4",
   "metadata": {},
   "outputs": [
    {
     "name": "stdout",
     "output_type": "stream",
     "text": [
      "Downloading data...\n",
      "tp\n"
     ]
    },
    {
     "data": {
      "application/vnd.jupyter.widget-view+json": {
       "model_id": "",
       "version_major": 2,
       "version_minor": 0
      },
      "text/plain": [
       "<multiple>:   0%|          | 0.00/3.42M [00:00<?, ?B/s]"
      ]
     },
     "metadata": {},
     "output_type": "display_data"
    },
    {
     "name": "stdout",
     "output_type": "stream",
     "text": [
      "msl\n"
     ]
    },
    {
     "data": {
      "application/vnd.jupyter.widget-view+json": {
       "model_id": "",
       "version_major": 2,
       "version_minor": 0
      },
      "text/plain": [
       "<multiple>:   0%|          | 0.00/2.42M [00:00<?, ?B/s]"
      ]
     },
     "metadata": {},
     "output_type": "display_data"
    },
    {
     "name": "stdout",
     "output_type": "stream",
     "text": [
      "skt\n"
     ]
    },
    {
     "data": {
      "application/vnd.jupyter.widget-view+json": {
       "model_id": "",
       "version_major": 2,
       "version_minor": 0
      },
      "text/plain": [
       "<multiple>:   0%|          | 0.00/2.22M [00:00<?, ?B/s]"
      ]
     },
     "metadata": {},
     "output_type": "display_data"
    },
    {
     "data": {
      "application/vnd.jupyter.widget-view+json": {
       "model_id": "",
       "version_major": 2,
       "version_minor": 0
      },
      "text/plain": [
       "20230830000000-240h-enfo-ep.grib2:   0%|          | 0.00/191k [00:00<?, ?B/s]"
      ]
     },
     "metadata": {},
     "output_type": "display_data"
    },
    {
     "name": "stderr",
     "output_type": "stream",
     "text": [
      "Ignoring index file 'data/tp_20230830.grib.923a8.idx' older than GRIB file\n"
     ]
    },
    {
     "name": "stdout",
     "output_type": "stream",
     "text": [
      "Loading data...\n"
     ]
    },
    {
     "name": "stderr",
     "output_type": "stream",
     "text": [
      "Ignoring index file 'data/msl_20230830.grib.923a8.idx' older than GRIB file\n",
      "Ignoring index file 'data/skt_20230830.grib.923a8.idx' older than GRIB file\n",
      "Ignoring index file 'data/10fgg15_20230830.grib.923a8.idx' older than GRIB file\n"
     ]
    },
    {
     "name": "stdout",
     "output_type": "stream",
     "text": [
      "Printing map...\n",
      "prova: location\n"
     ]
    },
    {
     "ename": "NameError",
     "evalue": "name 'location' is not defined",
     "output_type": "error",
     "traceback": [
      "\u001b[0;31m---------------------------------------------------------------------------\u001b[0m",
      "\u001b[0;31mNameError\u001b[0m                                 Traceback (most recent call last)",
      "Cell \u001b[0;32mIn[34], line 1\u001b[0m\n\u001b[0;32m----> 1\u001b[0m maps5 \u001b[38;5;241m=\u001b[39m \u001b[43mmap_s5\u001b[49m\u001b[43m(\u001b[49m\u001b[43minitial_latlon\u001b[49m\u001b[43m,\u001b[49m\u001b[43m \u001b[49m\u001b[43minitial_date\u001b[49m\u001b[43m,\u001b[49m\u001b[43m \u001b[49m\u001b[43mfinal_date\u001b[49m\u001b[43m,\u001b[49m\u001b[43m \u001b[49m\u001b[38;5;124;43m'\u001b[39;49m\u001b[38;5;124;43mdf_avg_track.csv\u001b[39;49m\u001b[38;5;124;43m'\u001b[39;49m\u001b[43m)\u001b[49m\n",
      "Cell \u001b[0;32mIn[33], line 261\u001b[0m, in \u001b[0;36mmap_s5\u001b[0;34m(initial_latlon, initial_date, final_date, filename_avg_track)\u001b[0m\n\u001b[1;32m    259\u001b[0m marker \u001b[38;5;241m=\u001b[39m Marker(location\u001b[38;5;241m=\u001b[39minitial_latlon, draggable\u001b[38;5;241m=\u001b[39m\u001b[38;5;28;01mTrue\u001b[39;00m, name \u001b[38;5;241m=\u001b[39m \u001b[38;5;124m'\u001b[39m\u001b[38;5;124mPosition\u001b[39m\u001b[38;5;124m'\u001b[39m) \n\u001b[1;32m    260\u001b[0m m\u001b[38;5;241m.\u001b[39madd_layer(marker)\n\u001b[0;32m--> 261\u001b[0m marker\u001b[38;5;241m.\u001b[39mon_move(\u001b[43mget_callback\u001b[49m\u001b[43m(\u001b[49m\u001b[43mdata_allpoints\u001b[49m\u001b[43m)\u001b[49m)\n\u001b[1;32m    264\u001b[0m m\u001b[38;5;241m.\u001b[39madd(widget_control1)\n\u001b[1;32m    265\u001b[0m avg_track \u001b[38;5;241m=\u001b[39m ipyleaflet\u001b[38;5;241m.\u001b[39mAntPath(locations \u001b[38;5;241m=\u001b[39m df_avg_track\u001b[38;5;241m.\u001b[39mvalues\u001b[38;5;241m.\u001b[39mtolist(), color \u001b[38;5;241m=\u001b[39m \u001b[38;5;124m\"\u001b[39m\u001b[38;5;124mred\u001b[39m\u001b[38;5;124m\"\u001b[39m)\n",
      "Cell \u001b[0;32mIn[33], line 47\u001b[0m, in \u001b[0;36mget_callback\u001b[0;34m(data_allpoints)\u001b[0m\n\u001b[1;32m     44\u001b[0m \u001b[38;5;66;03m#  pos = on_move()\u001b[39;00m\n\u001b[1;32m     45\u001b[0m \u001b[38;5;66;03m#  event, location = on_move()\u001b[39;00m\n\u001b[1;32m     46\u001b[0m   \u001b[38;5;28mprint\u001b[39m(\u001b[38;5;124m'\u001b[39m\u001b[38;5;124mprova: location\u001b[39m\u001b[38;5;124m'\u001b[39m)\n\u001b[0;32m---> 47\u001b[0m   \u001b[38;5;28mprint\u001b[39m(\u001b[43mlocation\u001b[49m)\n",
      "\u001b[0;31mNameError\u001b[0m: name 'location' is not defined"
     ]
    }
   ],
   "source": [
    "maps5 = map_s5(initial_latlon, initial_date, final_date, 'df_avg_track.csv')"
   ]
  },
  {
   "cell_type": "code",
   "execution_count": 8,
   "id": "35afd737",
   "metadata": {},
   "outputs": [
    {
     "data": {
      "application/vnd.jupyter.widget-view+json": {
       "model_id": "b19f9258facc49b483f3f834f45ce85a",
       "version_major": 2,
       "version_minor": 0
      },
      "text/plain": [
       "Map(center=[25.9, -20.400000000000006], controls=(ZoomControl(options=['position', 'zoom_in_text', 'zoom_in_ti…"
      ]
     },
     "metadata": {},
     "output_type": "display_data"
    },
    {
     "name": "stdout",
     "output_type": "stream",
     "text": [
      "[25.799891182088334, -54.488951402987794]\n",
      "[7.36246686553575, -67.50266079087672]\n",
      "[21.289374355860424, -114.61901137776977]\n",
      "[37.99616267972814, -124.80677298474123]\n",
      "[37.71859032558816, -93.15759030597556]\n",
      "[42.553080288955826, -39.01236285689152]\n",
      "[31.653381399664, -56.605158163346914]\n",
      "[6.315298538330033, -61.524444285737154]\n",
      "[30.751277776257812, -48.16132979585635]\n",
      "[14.604847155053898, -52.7353098724702]\n",
      "[17.308687886770034, -76.99714951541876]\n"
     ]
    }
   ],
   "source": [
    "display(maps5)"
   ]
  },
  {
   "cell_type": "code",
   "execution_count": null,
   "id": "14c43e68",
   "metadata": {},
   "outputs": [],
   "source": []
  }
 ],
 "metadata": {
  "kernelspec": {
   "display_name": "Python 3 (ipykernel)",
   "language": "python",
   "name": "python3"
  },
  "language_info": {
   "codemirror_mode": {
    "name": "ipython",
    "version": 3
   },
   "file_extension": ".py",
   "mimetype": "text/x-python",
   "name": "python",
   "nbconvert_exporter": "python",
   "pygments_lexer": "ipython3",
   "version": "3.11.4"
  }
 },
 "nbformat": 4,
 "nbformat_minor": 5
}
