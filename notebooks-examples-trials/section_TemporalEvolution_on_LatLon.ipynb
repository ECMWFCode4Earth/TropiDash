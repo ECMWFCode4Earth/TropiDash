{
 "cells": [
  {
   "cell_type": "code",
   "execution_count": null,
   "id": "7f24d339",
   "metadata": {},
   "outputs": [],
   "source": [
    "# https://stackoverflow.com/questions/66360839/ipyleaflet-on-click-event-in-for-loop-calls-function-on-each-iteration"
   ]
  },
  {
   "cell_type": "code",
   "execution_count": 6,
   "id": "853fce66",
   "metadata": {},
   "outputs": [],
   "source": [
    "import ipywidgets as widgets\n",
    "import pandas as pd\n",
    "from IPython.display import display\n",
    "from Magics import macro as magics\n",
    "from Magics.macro import * \n",
    "\n",
    "from ecmwf.opendata import Client\n",
    "import numpy as np\n",
    "import ipyleaflet\n",
    "from ipyleaflet import Map, Marker\n",
    "\n",
    "import ipywidgets\n",
    "import xarray as xr\n",
    "from scipy.spatial.distance import cdist\n",
    "\n",
    "import matplotlib.pyplot as plt\n",
    "\n",
    "from bqplot import Lines, Figure, LinearScale, Axis, DateScale\n",
    "import bqplot\n",
    "from datetime import datetime"
   ]
  },
  {
   "cell_type": "code",
   "execution_count": 2,
   "id": "bacc8e67",
   "metadata": {},
   "outputs": [],
   "source": [
    "### PARAMETERS TO BE IMPORTED FROM CYCLONE SELECTION\n",
    "initial_latlon = [25.9, -70.4]\n",
    "initial_date = '20230901'\n",
    "final_date = '20230906'"
   ]
  },
  {
   "cell_type": "code",
   "execution_count": 24,
   "id": "d92f83e1",
   "metadata": {},
   "outputs": [],
   "source": []
  },
  {
   "cell_type": "code",
   "execution_count": 25,
   "id": "fdfdc9b4",
   "metadata": {},
   "outputs": [
    {
     "name": "stdout",
     "output_type": "stream",
     "text": [
      "[0, 12, 24, 36, 48, 60, 72, 84, 96, 108, 120, 132]\n",
      "Downloading data...\n",
      "tp\n"
     ]
    },
    {
     "data": {
      "application/vnd.jupyter.widget-view+json": {
       "model_id": "",
       "version_major": 2,
       "version_minor": 0
      },
      "text/plain": [
       "<multiple>:   0%|          | 0.00/4.03M [00:00<?, ?B/s]"
      ]
     },
     "metadata": {},
     "output_type": "display_data"
    },
    {
     "name": "stdout",
     "output_type": "stream",
     "text": [
      "msl\n"
     ]
    },
    {
     "data": {
      "application/vnd.jupyter.widget-view+json": {
       "model_id": "",
       "version_major": 2,
       "version_minor": 0
      },
      "text/plain": [
       "<multiple>:   0%|          | 0.00/2.83M [00:00<?, ?B/s]"
      ]
     },
     "metadata": {},
     "output_type": "display_data"
    },
    {
     "name": "stdout",
     "output_type": "stream",
     "text": [
      "skt\n"
     ]
    },
    {
     "data": {
      "application/vnd.jupyter.widget-view+json": {
       "model_id": "",
       "version_major": 2,
       "version_minor": 0
      },
      "text/plain": [
       "<multiple>:   0%|          | 0.00/2.76M [00:00<?, ?B/s]"
      ]
     },
     "metadata": {},
     "output_type": "display_data"
    },
    {
     "data": {
      "application/vnd.jupyter.widget-view+json": {
       "model_id": "",
       "version_major": 2,
       "version_minor": 0
      },
      "text/plain": [
       "20230901000000-240h-enfo-ep.grib2:   0%|          | 0.00/1.90M [00:00<?, ?B/s]"
      ]
     },
     "metadata": {},
     "output_type": "display_data"
    },
    {
     "name": "stderr",
     "output_type": "stream",
     "text": [
      "Ignoring index file 'data/tp_20230901.grib.923a8.idx' older than GRIB file\n"
     ]
    },
    {
     "name": "stdout",
     "output_type": "stream",
     "text": [
      "Loading data...\n"
     ]
    },
    {
     "name": "stderr",
     "output_type": "stream",
     "text": [
      "Ignoring index file 'data/msl_20230901.grib.923a8.idx' older than GRIB file\n",
      "Ignoring index file 'data/skt_20230901.grib.923a8.idx' older than GRIB file\n",
      "Ignoring index file 'data/10fgg15_20230901.grib.923a8.idx' older than GRIB file\n"
     ]
    },
    {
     "name": "stdout",
     "output_type": "stream",
     "text": [
      "Printing map...\n"
     ]
    }
   ],
   "source": [
    "maps5 = map_s5(initial_latlon, initial_date, final_date, 'df_avg_track.csv')"
   ]
  },
  {
   "cell_type": "code",
   "execution_count": 26,
   "id": "35afd737",
   "metadata": {},
   "outputs": [
    {
     "data": {
      "application/vnd.jupyter.widget-view+json": {
       "model_id": "0410864760494f8ba6272e0ffcb87905",
       "version_major": 2,
       "version_minor": 0
      },
      "text/plain": [
       "Map(center=[25.9, -20.400000000000006], controls=(ZoomControl(options=['position', 'zoom_in_text', 'zoom_in_ti…"
      ]
     },
     "metadata": {},
     "output_type": "display_data"
    }
   ],
   "source": [
    "display(maps5)"
   ]
  },
  {
   "cell_type": "code",
   "execution_count": null,
   "id": "1ac4d67d",
   "metadata": {},
   "outputs": [],
   "source": []
  }
 ],
 "metadata": {
  "kernelspec": {
   "display_name": "Python 3 (ipykernel)",
   "language": "python",
   "name": "python3"
  },
  "language_info": {
   "codemirror_mode": {
    "name": "ipython",
    "version": 3
   },
   "file_extension": ".py",
   "mimetype": "text/x-python",
   "name": "python",
   "nbconvert_exporter": "python",
   "pygments_lexer": "ipython3",
   "version": "3.11.4"
  }
 },
 "nbformat": 4,
 "nbformat_minor": 5
}
