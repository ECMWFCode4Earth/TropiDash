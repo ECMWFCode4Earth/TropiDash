{
 "cells": [
  {
   "cell_type": "code",
   "execution_count": 1,
   "id": "aa8de6bd-0417-4e79-a286-53b844f5dc80",
   "metadata": {
    "tags": []
   },
   "outputs": [],
   "source": [
    "import pdbufr\n",
    "import sys\n",
    "import traceback\n",
    " \n",
    "from math import isnan\n",
    "\n",
    "import plotly.express as px\n",
    "from shapely.geometry import LineString\n",
    "\n",
    "from ipywidgets import interact\n",
    "import os\n",
    "import birdy\n",
    "import geopandas as gpd\n",
    "import pandas as pd\n",
    "from datetime import datetime, timedelta\n",
    "import ipyleaflet\n",
    "import ipywidgets as widgets\n",
    "\n",
    "from Magics import macro as magics\n",
    "from IPython.display import display\n",
    "from Magics.macro import *\n",
    "\n",
    "import numpy as np\n",
    "\n",
    "import warnings\n",
    "warnings.filterwarnings(\"ignore\")"
   ]
  },
  {
   "cell_type": "code",
   "execution_count": 2,
   "id": "7f4a3aab-8616-4ae4-a99c-784692edc6a5",
   "metadata": {
    "tags": []
   },
   "outputs": [],
   "source": [
    "# Function to import storms file and load it in a dataframe\n",
    "def create_storms_df():\n",
    "    # Load cyclone dataframe with Mean sea level pressure value\n",
    "    df_storms = pdbufr.read_bufr(\"trials/track_data/tc_test.bufr\",\n",
    "        columns=(\"stormIdentifier\", \"ensembleMemberNumber\", \"latitude\", \"longitude\",\n",
    "                 \"pressureReducedToMeanSeaLevel\"))\n",
    "    # Load cyclone dataframe with Wind speed at 10m value\n",
    "    df1 = pdbufr.read_bufr(\"trials/track_data/tc_test.bufr\",\n",
    "        columns=(\"stormIdentifier\", \"ensembleMemberNumber\", \"latitude\", \"longitude\",\n",
    "                 \"windSpeedAt10M\"))\n",
    "    # Add the Wind speed at 10m column to the storms dataframe \n",
    "    df_storms[\"windSpeedAt10M\"] = df1.windSpeedAt10M\n",
    "    # Storms with number higher than 10 are not real storms (according to what Fernando said)\n",
    "    drop_condition = df_storms.stormIdentifier < '11'\n",
    "    df_storms = df_storms[drop_condition]\n",
    "    return df_storms\n",
    "\n",
    "df_storms = create_storms_df()\n",
    "# Drop NaN in latitude and longitude columns\n",
    "df_storms.dropna(subset = ['latitude', 'longitude'], inplace=True)"
   ]
  },
  {
   "cell_type": "code",
   "execution_count": 3,
   "id": "17e4c8b9-2b72-4bcd-8df1-3b2513e6b58e",
   "metadata": {
    "tags": []
   },
   "outputs": [
    {
     "name": "stdout",
     "output_type": "stream",
     "text": [
      "Folder data/04B/ already existing\n",
      "Folder data/05E/ already existing\n",
      "Folder data/08W/ already existing\n"
     ]
    }
   ],
   "source": [
    "## SAVE EACH ENSEMBLE TRACK IN A DIFFERENT .CSV FILE ##\n",
    "\n",
    "storms = df_storms.stormIdentifier.unique()\n",
    "\n",
    "for storm in storms:\n",
    "    df_cyclone = df_storms[df_storms.stormIdentifier == storm]\n",
    "    \n",
    "    # create folder for the trajectories of the cyclone\n",
    "    folder = \"data/\" + storm + \"/\"\n",
    "    try:\n",
    "        os.makedirs(folder)\n",
    "    except:\n",
    "        print(f'Folder {folder} already existing')\n",
    "    \n",
    "    # Save .csv file for each ensemble track\n",
    "    ensembles = df_cyclone.ensembleMemberNumber.unique()\n",
    "    for ensemble in ensembles:\n",
    "        filename = folder + 'trajectory_%.02d.csv' % ensemble\n",
    "        df_track = df_cyclone[df_cyclone.ensembleMemberNumber == ensemble]\n",
    "        df_track.drop(columns=['stormIdentifier', 'ensembleMemberNumber'], inplace=True)\n",
    "        df_track['pressureReducedToMeanSeaLevel'] = df_track['pressureReducedToMeanSeaLevel'] / 100 # convert hPa\n",
    "        df_track.to_csv(filename, index=False)"
   ]
  },
  {
   "cell_type": "code",
   "execution_count": 4,
   "id": "b708a7ac-b9f6-47ef-b4d3-cb2fe778e903",
   "metadata": {
    "tags": []
   },
   "outputs": [],
   "source": [
    "## FUNCTION TO PLOT ALL THE ENSEMBLE TRACKS OF A CYCLONE ##\n",
    "# .csv files must be saved already\n",
    "\n",
    "def plot_ensemble_tracks(cyclone_n, lat_boundaries, lon_boundaries):\n",
    "    toplot = []\n",
    "    \n",
    "    # settings of the geographical area\n",
    "    bottom, up = lat_boundaries\n",
    "    left, right = lon_boundaries\n",
    "    area = mmap(\n",
    "        subpage_map_projection=\"cylindrical\",\n",
    "        subpage_lower_left_longitude=int(left),\n",
    "        subpage_lower_left_latitude=int(bottom),\n",
    "        subpage_upper_right_longitude=int(right),\n",
    "        subpage_upper_right_latitude=int(up),\n",
    "    )\n",
    "    toplot.append(area)\n",
    "    \n",
    "    # settings of the coastline\n",
    "    coast = mcoast(\n",
    "        map_coastline_land_shade = \"on\",\n",
    "        map_coastline_land_shade_colour = \"cream\",\n",
    "        map_coastline_sea_shade = \"on\",\n",
    "        map_coastline_sea_shade_colour = \"#70CEE2\",\n",
    "        # map_cities = \"on\",\n",
    "        map_grid_line_style = \"dash\",\n",
    "        map_grid_colour = \"black\",\n",
    "        map_label = \"on\",\n",
    "        map_label_colour = \"brown\",\n",
    "        map_coastline_colour = \"brown\",\n",
    "    )\n",
    "    toplot.append(coast)\n",
    "    \n",
    "    # settings of the tracks \n",
    "    colours = [\"red\", \"blue\", \"green\", \"yellow\", \"purple\", \"orange\", \"cyan\", \"black\" ]\n",
    "    colour = 0\n",
    "\n",
    "    for i in range(1,52):\n",
    "\n",
    "        file = f\"data/{cyclone_n}/trajectory_%02d.csv\" % i\n",
    "\n",
    "        data = mtable(\n",
    "            table_filename = file,\n",
    "            table_variable_identifier_type='index',\n",
    "            table_latitude_variable = \"1\",\n",
    "            table_longitude_variable = \"2\",\n",
    "            table_value_variable = \"3\",\n",
    "            table_header_row = 1,\n",
    "        )\n",
    "\n",
    "        line=msymb(\n",
    "            symbol_type='marker',\n",
    "            symbol_marker_index = 28,\n",
    "            symbol_colour = colours[colour],\n",
    "            symbol_height = 0.20,\n",
    "            symbol_text_font_colour = \"black\",       \n",
    "            symbol_connect_line ='on'\n",
    "        )\n",
    "\n",
    "        colour += 1\n",
    "        if colour == len(colours):\n",
    "            colour = 0\n",
    "\n",
    "        toplot.append(data)\n",
    "        toplot.append(line)\n",
    "    \n",
    "    title = mtext(\n",
    "        text_lines= [f\"<font colour='navy'> {cyclone_n} ensemble trajectories </font>\"],\n",
    "        text_justification= 'centre',\n",
    "        text_font_size= 1.,\n",
    "        text_font_style= 'bold',\n",
    "        text_mode='title',\n",
    "    )\n",
    "    toplot.append(title)\n",
    "    \n",
    "    display(plot(toplot))"
   ]
  },
  {
   "cell_type": "code",
   "execution_count": 5,
   "id": "73b4a75d-65b5-46ec-8491-192743a23b85",
   "metadata": {
    "tags": []
   },
   "outputs": [],
   "source": [
    "# plot_ensemble_tracks('08W', 20, 60, 110, 160)\n",
    "# plot_ensemble_tracks('04B', 10, 40, 60, 100)\n",
    "# plot_ensemble_tracks('05E', 0, 30, -180, -100)"
   ]
  },
  {
   "cell_type": "code",
   "execution_count": 6,
   "id": "5e228400-5f4d-469b-836e-3b1a6850cc81",
   "metadata": {
    "tags": []
   },
   "outputs": [],
   "source": [
    "## DEFINE WIDGETS FOR INTERACTIVE MAP ##\n",
    "\n",
    "# Cyclone dropdown selection\n",
    "storms = df_storms.stormIdentifier.unique()\n",
    "cyclone = widgets.Dropdown(\n",
    "    options = storms.tolist(),\n",
    "    description = 'Active Storms:',\n",
    "    disabled=False,\n",
    ")\n",
    "cyclone.style.description_width = '90px'\n",
    "\n",
    "# Longitude slider\n",
    "longitude = np.arange(-180,185,5)\n",
    "longitude_slider = widgets.SelectionRangeSlider(\n",
    "    options=longitude,\n",
    "    index=(0, len(longitude)-1),\n",
    "    description='Longitude:',\n",
    "    orientation='horizontal',\n",
    "    layout={'width': '400px'},\n",
    "    disabled=False,\n",
    ")\n",
    "\n",
    "longitude_slider.style.description_width = '100px'\n",
    "longitude_slider.style.handle_color = 'lightgreen'\n",
    "\n",
    "# Latitude slider\n",
    "latitude = np.arange(-90,95,5)\n",
    "latitude_slider = widgets.SelectionRangeSlider(\n",
    "    options=latitude,\n",
    "    index=(0, len(latitude)-1),\n",
    "    description='Latitude:',\n",
    "    orientation='horizontal',\n",
    "    layout={'width': '400px'},\n",
    "    disabled=False,\n",
    ")\n",
    "\n",
    "latitude_slider.style.description_width = '100px'\n",
    "latitude_slider.style.handle_color = 'lightgreen'"
   ]
  },
  {
   "cell_type": "code",
   "execution_count": 7,
   "id": "b60b601d-bf4b-4ee9-aa54-23c566c8ae91",
   "metadata": {
    "tags": []
   },
   "outputs": [
    {
     "data": {
      "application/vnd.jupyter.widget-view+json": {
       "model_id": "b9415be36da04dde8d7dcadd5e530164",
       "version_major": 2,
       "version_minor": 0
      },
      "text/plain": [
       "interactive(children=(Dropdown(description='Active Storms:', options=('04B', '05E', '08W'), style=DescriptionS…"
      ]
     },
     "execution_count": 7,
     "metadata": {},
     "output_type": "execute_result"
    }
   ],
   "source": [
    "widgets.interactive(plot_ensemble_tracks, cyclone_n=cyclone, lat_boundaries=latitude_slider, lon_boundaries=longitude_slider)"
   ]
  },
  {
   "cell_type": "code",
   "execution_count": 8,
   "id": "fe004cc6-ce2e-414d-8442-64a44af346ab",
   "metadata": {},
   "outputs": [],
   "source": [
    "## FUNCTION TO PLOT ALL THE ENSEMBLE TRACKS OF A CYCLONE ##\n",
    "# .csv files must be saved already\n",
    "\n",
    "def plot_ensemble_tracks(cyclone_n, bottom, up, left, right):\n",
    "    toplot = []\n",
    "    \n",
    "    # settings of the geographical area\n",
    "    area = mmap(\n",
    "        subpage_map_projection=\"cylindrical\",\n",
    "        subpage_lower_left_longitude=left,\n",
    "        subpage_lower_left_latitude=bottom,\n",
    "        subpage_upper_right_longitude=right,\n",
    "        subpage_upper_right_latitude=up,\n",
    "    )\n",
    "    toplot.append(area)\n",
    "    \n",
    "    # settings of the coastline\n",
    "    coast = mcoast(\n",
    "        map_coastline_land_shade = \"on\",\n",
    "        map_coastline_land_shade_colour = \"cream\",\n",
    "        map_coastline_sea_shade = \"on\",\n",
    "        map_coastline_sea_shade_colour = \"#70CEE2\",\n",
    "        # map_cities = \"on\",\n",
    "        map_grid_line_style = \"dash\",\n",
    "        map_grid_colour = \"black\",\n",
    "        map_label = \"on\",\n",
    "        map_label_colour = \"brown\",\n",
    "        map_coastline_colour = \"brown\",\n",
    "    )\n",
    "    toplot.append(coast)\n",
    "    \n",
    "    # settings of the tracks \n",
    "    colours = [\"red\", \"blue\", \"green\", \"yellow\", \"purple\", \"orange\", \"cyan\", \"black\" ]\n",
    "    colour = 0\n",
    "\n",
    "    for i in range(1,52):\n",
    "\n",
    "        file = f\"data/{cyclone_n}/trajectory_%02d.csv\" % i\n",
    "\n",
    "        data = mtable(\n",
    "            table_filename = file,\n",
    "            table_variable_identifier_type='index',\n",
    "            table_latitude_variable = \"1\",\n",
    "            table_longitude_variable = \"2\",\n",
    "            table_value_variable = \"3\",\n",
    "            table_header_row = 1,\n",
    "        )\n",
    "\n",
    "        line=msymb(\n",
    "            symbol_type='marker',\n",
    "            symbol_marker_index = 28,\n",
    "            symbol_colour = colours[colour],\n",
    "            symbol_height = 0.20,\n",
    "            symbol_text_font_colour = \"black\",       \n",
    "            symbol_connect_line ='on'\n",
    "        )\n",
    "\n",
    "        colour += 1\n",
    "        if colour == len(colours):\n",
    "            colour = 0\n",
    "\n",
    "        toplot.append(data)\n",
    "        toplot.append(line)\n",
    "    \n",
    "    title = mtext(\n",
    "        text_lines= [f\"<font colour='navy'> {cyclone_n} ensemble trajectories </font>\"],\n",
    "        text_justification= 'centre',\n",
    "        text_font_size= 1.,\n",
    "        text_font_style= 'bold',\n",
    "        text_mode='title',\n",
    "    )\n",
    "    toplot.append(title)\n",
    "    \n",
    "    display(plot(toplot))"
   ]
  },
  {
   "cell_type": "code",
   "execution_count": 9,
   "id": "5c13be8b-98cc-4326-80e9-1b20d1868f87",
   "metadata": {
    "tags": []
   },
   "outputs": [],
   "source": [
    "## DEFINE DIFFERENT WIDGETS FOR INTERACTIVE MAP ##\n",
    "\n",
    "# Bottom boundary\n",
    "btm_lat = widgets.IntSlider(\n",
    "    value=-40,\n",
    "    min=-90,\n",
    "    max=90,\n",
    "    step=5,\n",
    "    description='Bottom:',\n",
    "    disabled=False,\n",
    "    orientation='horizontal',\n",
    ")\n",
    "btm_lat.style.handle_color = 'lightgreen'\n",
    "\n",
    "# Up boundary\n",
    "up_lat = widgets.IntSlider(\n",
    "    value=40,\n",
    "    min=-90,\n",
    "    max=90,\n",
    "    step=5,\n",
    "    description='Up:',\n",
    "    disabled=False,\n",
    "    orientation='horizontal',\n",
    ")\n",
    "up_lat.style.handle_color = 'lightgreen'\n",
    "\n",
    "# Left boundary\n",
    "sx_lon = widgets.IntSlider(\n",
    "    value=-90,\n",
    "    min=-180,\n",
    "    max=180,\n",
    "    step=5,\n",
    "    description='Left:',\n",
    "    disabled=False,\n",
    "    orientation='horizontal',\n",
    ")\n",
    "sx_lon.style.handle_color = 'lightgreen'\n",
    "\n",
    "# Right boundary\n",
    "dx_lon = widgets.IntSlider(\n",
    "    value=90,\n",
    "    min=-180,\n",
    "    max=180,\n",
    "    step=5,\n",
    "    description='Right:',\n",
    "    disabled=False,\n",
    "    orientation='horizontal',\n",
    ")\n",
    "dx_lon.style.handle_color = 'lightgreen'"
   ]
  },
  {
   "cell_type": "code",
   "execution_count": 10,
   "id": "dd89e1ac-136b-4d91-a097-0563b92bea97",
   "metadata": {
    "tags": []
   },
   "outputs": [
    {
     "data": {
      "application/vnd.jupyter.widget-view+json": {
       "model_id": "3b77dcbaa05f4be88343a0726c108643",
       "version_major": 2,
       "version_minor": 0
      },
      "text/plain": [
       "interactive(children=(Dropdown(description='Active Storms:', options=('04B', '05E', '08W'), style=DescriptionS…"
      ]
     },
     "execution_count": 10,
     "metadata": {},
     "output_type": "execute_result"
    }
   ],
   "source": [
    "widgets.interactive(plot_ensemble_tracks, cyclone_n=cyclone, bottom=btm_lat, up=up_lat, left=sx_lon, right=dx_lon)"
   ]
  },
  {
   "cell_type": "code",
   "execution_count": 11,
   "id": "f0febee6-c8fa-41e9-922f-1d7a84ffaec2",
   "metadata": {
    "tags": []
   },
   "outputs": [],
   "source": [
    "## FUNCTION TO PLOT A SPECIFIC TRACK OF A CYCLONE ## \n",
    "\n",
    "def plot_tracks(cyclone_n, ensemble_n, lat_boundaries, lon_boundaries):\n",
    "    toplot = []\n",
    "    \n",
    "    # settings of the geographical area\n",
    "    bottom, up = lat_boundaries\n",
    "    left, right = lon_boundaries\n",
    "    area = mmap(\n",
    "        subpage_map_projection=\"cylindrical\",\n",
    "        subpage_lower_left_longitude=int(left),\n",
    "        subpage_lower_left_latitude=int(bottom),\n",
    "        subpage_upper_right_longitude=int(right),\n",
    "        subpage_upper_right_latitude=int(up),\n",
    "    )\n",
    "    toplot.append(area)\n",
    "    \n",
    "    # settings of the coastline\n",
    "    coast = mcoast(\n",
    "        map_coastline_land_shade = \"on\",\n",
    "        map_coastline_land_shade_colour = \"cream\",\n",
    "        map_coastline_sea_shade = \"on\",\n",
    "        map_coastline_sea_shade_colour = \"#70CEE2\",\n",
    "        # map_cities = \"on\",\n",
    "        map_grid_line_style = \"dash\",\n",
    "        map_grid_colour = \"black\",\n",
    "        map_label = \"on\",\n",
    "        map_label_colour = \"brown\",\n",
    "        map_coastline_colour = \"brown\",\n",
    "    )\n",
    "    toplot.append(coast)\n",
    "    \n",
    "    # settings of the track\n",
    "    colour = \"yellow\"\n",
    "\n",
    "    file = f\"data/{cyclone_n}/trajectory_%02d.csv\" % ensemble_n\n",
    "\n",
    "    data = mtable(\n",
    "        table_filename = file,\n",
    "        table_variable_identifier_type='index',\n",
    "        table_latitude_variable = \"1\",\n",
    "        table_longitude_variable = \"2\",\n",
    "        table_value_variable = \"3\",\n",
    "        table_header_row = 1,\n",
    "    )\n",
    "\n",
    "    line=msymb(\n",
    "        symbol_type='both',\n",
    "        symbol_marker_index = 28,\n",
    "        symbol_colour = colour,\n",
    "        symbol_height = 0.20,\n",
    "        symbol_text_font_colour = \"black\",       \n",
    "        symbol_connect_line ='on'\n",
    "    )\n",
    "\n",
    "    toplot.append(data)\n",
    "    toplot.append(line)\n",
    "    \n",
    "    title = mtext(\n",
    "        text_lines= [f\"<font colour='navy'> {cyclone_n} ensemble member {ensemble_n} trajectory </font>\"],\n",
    "        text_justification= 'centre',\n",
    "        text_font_size= 1.,\n",
    "        text_font_style= 'bold',\n",
    "        text_mode='title',\n",
    "    )\n",
    "    toplot.append(title)\n",
    "    \n",
    "    display(plot(toplot))"
   ]
  },
  {
   "cell_type": "code",
   "execution_count": 12,
   "id": "622eae53-94b7-4633-b320-4c4e655cbe30",
   "metadata": {
    "tags": []
   },
   "outputs": [],
   "source": [
    "## DEFINE DIFFERENT WIDGETS FOR INTERACTIVE MAP ##\n",
    "\n",
    "df_cyclone = df_storms[df_storms.stormIdentifier == cyclone.value]\n",
    "members = df_cyclone.ensembleMemberNumber.unique()\n",
    "\n",
    "# Create widget for ensemble member selection\n",
    "member = widgets.Dropdown(\n",
    "    options = members.tolist(),\n",
    "    value = 1,\n",
    "    description = 'Ensemble member:',\n",
    "    disabled=False,\n",
    ")\n",
    "member.style.description_width = '120px'\n",
    "\n",
    "def update_ensemble_members(_):\n",
    "    df_cyclone = df_storms[df_storms.stormIdentifier == cyclone.value]\n",
    "    members = df_cyclone.ensembleMemberNumber.unique()\n",
    "    member.options = members.tolist()\n",
    "    member.value=1\n",
    "\n",
    "cyclone.observe(update_ensemble_members, names='value')"
   ]
  },
  {
   "cell_type": "code",
   "execution_count": 13,
   "id": "6c0d2923-eddc-4309-a3f4-8fb329e9cabb",
   "metadata": {
    "tags": []
   },
   "outputs": [],
   "source": [
    "# plot_tracks('08W', 1, (20,55), (100,170))"
   ]
  },
  {
   "cell_type": "code",
   "execution_count": 14,
   "id": "18a14ea3-3f84-4606-8593-86f2a269b350",
   "metadata": {
    "tags": []
   },
   "outputs": [
    {
     "data": {
      "application/vnd.jupyter.widget-view+json": {
       "model_id": "7b737392e313405a8aa6fe1fd0ee249c",
       "version_major": 2,
       "version_minor": 0
      },
      "text/plain": [
       "interactive(children=(Dropdown(description='Active Storms:', options=('04B', '05E', '08W'), style=DescriptionS…"
      ]
     },
     "execution_count": 14,
     "metadata": {},
     "output_type": "execute_result"
    }
   ],
   "source": [
    "widgets.interactive(plot_tracks, cyclone_n=cyclone, ensemble_n=member, lat_boundaries=latitude_slider, lon_boundaries=longitude_slider)"
   ]
  },
  {
   "cell_type": "code",
   "execution_count": null,
   "id": "c49f75be-50fa-41df-a74f-46373ee11a83",
   "metadata": {},
   "outputs": [],
   "source": []
  }
 ],
 "metadata": {
  "kernelspec": {
   "display_name": "Python 3 (ipykernel)",
   "language": "python",
   "name": "python3"
  },
  "language_info": {
   "codemirror_mode": {
    "name": "ipython",
    "version": 3
   },
   "file_extension": ".py",
   "mimetype": "text/x-python",
   "name": "python",
   "nbconvert_exporter": "python",
   "pygments_lexer": "ipython3",
   "version": "3.11.4"
  }
 },
 "nbformat": 4,
 "nbformat_minor": 5
}
