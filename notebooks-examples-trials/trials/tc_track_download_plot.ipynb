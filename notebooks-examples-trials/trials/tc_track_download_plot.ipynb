{
 "cells": [
  {
   "cell_type": "code",
   "execution_count": 1,
   "id": "d5c08587-5108-4a11-9132-a1e3e09cd9b1",
   "metadata": {
    "tags": []
   },
   "outputs": [],
   "source": [
    "import pdbufr\n",
    "import sys\n",
    "import traceback\n",
    " \n",
    "from eccodes import *\n",
    "from ecmwf.opendata import Client\n",
    "from math import isnan\n",
    "\n",
    "from ipywidgets import interact\n",
    "import os\n",
    "import birdy\n",
    "import geopandas as gpd\n",
    "import pandas as pd\n",
    "from datetime import datetime, timedelta\n",
    "import ipyleaflet\n",
    "import ipywidgets as widgets"
   ]
  },
  {
   "cell_type": "code",
   "execution_count": 2,
   "id": "b258c1e7-df8b-4f58-a190-e9fce60dcce1",
   "metadata": {
    "tags": []
   },
   "outputs": [
    {
     "data": {
      "text/plain": [
       "'client.retrieve(\\n    time=0,\\n    stream=\"enfo\",\\n    type=\"tf\",\\n    step=240,\\n    target=\"track_data/ens_tracks.bufr\",\\n)'"
      ]
     },
     "execution_count": 2,
     "metadata": {},
     "output_type": "execute_result"
    }
   ],
   "source": [
    "# Download the Tropical Cyclone tracks from ECMWF's 00UTC ENS forecast\n",
    "'''client.retrieve(\n",
    "    time=0,\n",
    "    stream=\"enfo\",\n",
    "    type=\"tf\",\n",
    "    step=240,\n",
    "    target=\"track_data/ens_tracks.bufr\",\n",
    ")'''"
   ]
  },
  {
   "cell_type": "code",
   "execution_count": 12,
   "id": "ec705b8b-348d-4b43-b35b-c6951dc102a4",
   "metadata": {
    "tags": []
   },
   "outputs": [
    {
     "data": {
      "text/html": [
       "<div>\n",
       "<style scoped>\n",
       "    .dataframe tbody tr th:only-of-type {\n",
       "        vertical-align: middle;\n",
       "    }\n",
       "\n",
       "    .dataframe tbody tr th {\n",
       "        vertical-align: top;\n",
       "    }\n",
       "\n",
       "    .dataframe thead th {\n",
       "        text-align: right;\n",
       "    }\n",
       "</style>\n",
       "<table border=\"1\" class=\"dataframe\">\n",
       "  <thead>\n",
       "    <tr style=\"text-align: right;\">\n",
       "      <th></th>\n",
       "      <th>stormIdentifier</th>\n",
       "      <th>ensembleMemberNumber</th>\n",
       "      <th>latitude</th>\n",
       "      <th>longitude</th>\n",
       "      <th>pressureReducedToMeanSeaLevel</th>\n",
       "      <th>windSpeedAt10M</th>\n",
       "    </tr>\n",
       "  </thead>\n",
       "  <tbody>\n",
       "    <tr>\n",
       "      <th>0</th>\n",
       "      <td>07W</td>\n",
       "      <td>1</td>\n",
       "      <td>20.9</td>\n",
       "      <td>119.8</td>\n",
       "      <td>97100.0</td>\n",
       "      <td>26.2</td>\n",
       "    </tr>\n",
       "    <tr>\n",
       "      <th>1</th>\n",
       "      <td>07W</td>\n",
       "      <td>1</td>\n",
       "      <td>21.4</td>\n",
       "      <td>119.6</td>\n",
       "      <td>97000.0</td>\n",
       "      <td>36.0</td>\n",
       "    </tr>\n",
       "    <tr>\n",
       "      <th>2</th>\n",
       "      <td>07W</td>\n",
       "      <td>1</td>\n",
       "      <td>22.0</td>\n",
       "      <td>119.4</td>\n",
       "      <td>96900.0</td>\n",
       "      <td>32.4</td>\n",
       "    </tr>\n",
       "    <tr>\n",
       "      <th>3</th>\n",
       "      <td>07W</td>\n",
       "      <td>1</td>\n",
       "      <td>23.3</td>\n",
       "      <td>119.5</td>\n",
       "      <td>96200.0</td>\n",
       "      <td>37.6</td>\n",
       "    </tr>\n",
       "    <tr>\n",
       "      <th>4</th>\n",
       "      <td>07W</td>\n",
       "      <td>1</td>\n",
       "      <td>24.9</td>\n",
       "      <td>119.3</td>\n",
       "      <td>96600.0</td>\n",
       "      <td>38.6</td>\n",
       "    </tr>\n",
       "  </tbody>\n",
       "</table>\n",
       "</div>"
      ],
      "text/plain": [
       "  stormIdentifier  ensembleMemberNumber  latitude  longitude  \\\n",
       "0             07W                     1      20.9      119.8   \n",
       "1             07W                     1      21.4      119.6   \n",
       "2             07W                     1      22.0      119.4   \n",
       "3             07W                     1      23.3      119.5   \n",
       "4             07W                     1      24.9      119.3   \n",
       "\n",
       "   pressureReducedToMeanSeaLevel  windSpeedAt10M  \n",
       "0                        97100.0            26.2  \n",
       "1                        97000.0            36.0  \n",
       "2                        96900.0            32.4  \n",
       "3                        96200.0            37.6  \n",
       "4                        96600.0            38.6  "
      ]
     },
     "execution_count": 12,
     "metadata": {},
     "output_type": "execute_result"
    }
   ],
   "source": [
    "# Import bufr file of the TC tracks\n",
    "df_tracks = pdbufr.read_bufr(\"track_data/ens_tracks.bufr\",\n",
    "    columns=(\"stormIdentifier\", \"ensembleMemberNumber\", \"latitude\", \"longitude\",\n",
    "             \"pressureReducedToMeanSeaLevel\"))\n",
    "df1 = pdbufr.read_bufr(\"track_data/ens_tracks.bufr\",\n",
    "    columns=(\"stormIdentifier\", \"latitude\", \"longitude\",\n",
    "             \"windSpeedAt10M\"))\n",
    "df_tracks[\"windSpeedAt10M\"] = df1.windSpeedAt10M\n",
    "storms = df_tracks.stormIdentifier.unique()\n",
    "df_tracks.head()"
   ]
  },
  {
   "cell_type": "code",
   "execution_count": 13,
   "id": "4a02a567-a9ee-404a-88ae-fe7d9d0d644f",
   "metadata": {
    "tags": []
   },
   "outputs": [
    {
     "data": {
      "text/html": [
       "<div>\n",
       "<style scoped>\n",
       "    .dataframe tbody tr th:only-of-type {\n",
       "        vertical-align: middle;\n",
       "    }\n",
       "\n",
       "    .dataframe tbody tr th {\n",
       "        vertical-align: top;\n",
       "    }\n",
       "\n",
       "    .dataframe thead th {\n",
       "        text-align: right;\n",
       "    }\n",
       "</style>\n",
       "<table border=\"1\" class=\"dataframe\">\n",
       "  <thead>\n",
       "    <tr style=\"text-align: right;\">\n",
       "      <th></th>\n",
       "      <th>stormIdentifier</th>\n",
       "      <th>latitude</th>\n",
       "      <th>longitude</th>\n",
       "      <th>windSpeedAt10M</th>\n",
       "    </tr>\n",
       "  </thead>\n",
       "  <tbody>\n",
       "    <tr>\n",
       "      <th>0</th>\n",
       "      <td>07W</td>\n",
       "      <td>20.7</td>\n",
       "      <td>120.4</td>\n",
       "      <td>26.2</td>\n",
       "    </tr>\n",
       "    <tr>\n",
       "      <th>1</th>\n",
       "      <td>07W</td>\n",
       "      <td>21.1</td>\n",
       "      <td>120.0</td>\n",
       "      <td>36.0</td>\n",
       "    </tr>\n",
       "    <tr>\n",
       "      <th>2</th>\n",
       "      <td>07W</td>\n",
       "      <td>22.4</td>\n",
       "      <td>119.2</td>\n",
       "      <td>32.4</td>\n",
       "    </tr>\n",
       "    <tr>\n",
       "      <th>3</th>\n",
       "      <td>07W</td>\n",
       "      <td>23.3</td>\n",
       "      <td>119.8</td>\n",
       "      <td>37.6</td>\n",
       "    </tr>\n",
       "    <tr>\n",
       "      <th>4</th>\n",
       "      <td>07W</td>\n",
       "      <td>24.6</td>\n",
       "      <td>119.4</td>\n",
       "      <td>38.6</td>\n",
       "    </tr>\n",
       "  </tbody>\n",
       "</table>\n",
       "</div>"
      ],
      "text/plain": [
       "  stormIdentifier  latitude  longitude  windSpeedAt10M\n",
       "0             07W      20.7      120.4            26.2\n",
       "1             07W      21.1      120.0            36.0\n",
       "2             07W      22.4      119.2            32.4\n",
       "3             07W      23.3      119.8            37.6\n",
       "4             07W      24.6      119.4            38.6"
      ]
     },
     "execution_count": 13,
     "metadata": {},
     "output_type": "execute_result"
    }
   ],
   "source": [
    "df1.head()"
   ]
  },
  {
   "cell_type": "code",
   "execution_count": 8,
   "id": "4c502252-c2fa-418f-bc79-c87cb41296b7",
   "metadata": {
    "tags": []
   },
   "outputs": [],
   "source": []
  },
  {
   "cell_type": "code",
   "execution_count": null,
   "id": "4f601265-0efb-4930-927e-9a256f6b14f4",
   "metadata": {},
   "outputs": [],
   "source": []
  }
 ],
 "metadata": {
  "kernelspec": {
   "display_name": "Python 3 (ipykernel)",
   "language": "python",
   "name": "python3"
  },
  "language_info": {
   "codemirror_mode": {
    "name": "ipython",
    "version": 3
   },
   "file_extension": ".py",
   "mimetype": "text/x-python",
   "name": "python",
   "nbconvert_exporter": "python",
   "pygments_lexer": "ipython3",
   "version": "3.11.4"
  }
 },
 "nbformat": 4,
 "nbformat_minor": 5
}
