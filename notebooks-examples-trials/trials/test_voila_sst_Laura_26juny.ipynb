{
 "cells": [
  {
   "cell_type": "code",
   "execution_count": 1,
   "id": "d020e628",
   "metadata": {},
   "outputs": [],
   "source": [
    "from Magics import macro as magics\n",
    "# TUTORIAL\n",
    "#https://confluence.ecmwf.int/display/MAGP/A+Geographical+Map\n",
    "#import numpy as np\n",
    "#import pygrib\n",
    "# CREATE WIDGETS\n",
    "import ipywidgets as widgets\n",
    "import pandas as pd\n",
    "from IPython.display import display\n",
    "datafolder = '/media/laura/CIDEGENT_HD/C4E/repo/TropiDash-main/notebooks-examples/data/'\n",
    "outfolder = '/media/laura/CIDEGENT_HD/C4E/plots/'\n",
    "fsst = '20220926'\n",
    "nom = outfolder + 'sst-' + fsst\n",
    "pathsst = datafolder + 'sst-' + fsst + '.grib'"
   ]
  },
  {
   "cell_type": "code",
   "execution_count": 2,
   "id": "35645c2f",
   "metadata": {},
   "outputs": [],
   "source": [
    "from Magics.macro import * \n",
    "# 1r:\n",
    "#settings of the PNG output \n",
    "output = output(\n",
    "            output_formats = ['png'],\n",
    "            output_name = nom,\n",
    "            output_name_first_page_number = \"off\"\n",
    "    )\n",
    "\n",
    "# 3r \n",
    "##settings of the coastlines attributes\n",
    "coast = mcoast(\n",
    "  map_coastline_land_shade = \"on\",\n",
    "  map_coastline_land_shade_colour = \"cream\",\n",
    "  map_grid_line_style = \"dash\",\n",
    "  map_grid_colour = \"brown\",\n",
    "  map_label_colour = \"brown\",\n",
    "  map_coastline_colour = \"brown\"\n",
    ") \n",
    "##settings of the text (notice the HTML formatting)\n",
    "title = mtext(\n",
    "  text_lines = [\"<b>sst</b>\",  fsst],\n",
    "  text_font_size = \"0.7\",\n",
    "  text_colour = \"charcoal\"\n",
    "  )\n",
    "\n",
    "#Loading the msl Grib data\n",
    "msl = mgrib(grib_input_file_name=pathsst)\n",
    "\n",
    "# CONTOUR\n",
    "contour = magics.mcont( contour_automatic_setting = \"ecmwf\",legend = \"on\" )\n",
    "\n",
    "#Definition of the legend\n",
    "legend = mlegend(legend='on',\n",
    "            legend_display_type='continuous',\n",
    "            legend_text_colour='charcoal',\n",
    "            legend_text_font_size=0.4,\n",
    "            )  \n"
   ]
  },
  {
   "cell_type": "code",
   "execution_count": 100,
   "id": "44e8afa6",
   "metadata": {},
   "outputs": [],
   "source": [
    "style = {'description_width': 'initial'}\n",
    "aux_lon1 = widgets.IntSlider(value=-120,\n",
    "    min=-180,\n",
    "    max=180,\n",
    "    step=10,\n",
    "    description='lower_longitude:', \n",
    "    style = style, \n",
    "                           disable = False)"
   ]
  },
  {
   "cell_type": "code",
   "execution_count": 97,
   "id": "48359c48",
   "metadata": {},
   "outputs": [],
   "source": [
    "def update_map(lon1, lon2, lat1, lat2):\n",
    "    \n",
    "    \n",
    "    area = mmap(subpage_map_projection=\"cylindrical\",\n",
    "        subpage_lower_left_longitude=lon1,\n",
    "        subpage_lower_left_latitude=lat1,\n",
    "        subpage_upper_right_longitude=lon2,\n",
    "        subpage_upper_right_latitude=lat2,\n",
    "    ) \n",
    "    display(plot(area, coast, msl, contour, title, legend))"
   ]
  },
  {
   "cell_type": "code",
   "execution_count": 101,
   "id": "229788e7",
   "metadata": {},
   "outputs": [
    {
     "data": {
      "application/vnd.jupyter.widget-view+json": {
       "model_id": "c66f8d11591d42098aa99aebad5a65cd",
       "version_major": 2,
       "version_minor": 0
      },
      "text/plain": [
       "interactive(children=(IntSlider(value=-120, description='lon1', max=120, min=-360), IntSlider(value=-80, descr…"
      ]
     },
     "execution_count": 101,
     "metadata": {},
     "output_type": "execute_result"
    }
   ],
   "source": [
    "widgets.interactive(update_map, lon1 = aux_lon1.value, lon2 = -80, lat1 = 0, lat2 = 60)"
   ]
  },
  {
   "cell_type": "code",
   "execution_count": null,
   "id": "bb175617",
   "metadata": {},
   "outputs": [],
   "source": []
  }
 ],
 "metadata": {
  "kernelspec": {
   "display_name": "Python 3 (ipykernel)",
   "language": "python",
   "name": "python3"
  },
  "language_info": {
   "codemirror_mode": {
    "name": "ipython",
    "version": 3
   },
   "file_extension": ".py",
   "mimetype": "text/x-python",
   "name": "python",
   "nbconvert_exporter": "python",
   "pygments_lexer": "ipython3",
   "version": "3.11.4"
  }
 },
 "nbformat": 4,
 "nbformat_minor": 5
}
