{
 "cells": [
  {
   "cell_type": "markdown",
   "id": "e7b16d0d-3bb2-414d-86da-f70cb0effadc",
   "metadata": {},
   "source": [
    "Tutorials:\n",
    "- https://rasterio.readthedocs.io/en/stable/topics/resampling.html\n",
    "- https://pygis.io/docs/e_raster_resample.html"
   ]
  },
  {
   "cell_type": "code",
   "execution_count": 1,
   "id": "870b3463-65d3-4af4-869d-c365a3fd0f82",
   "metadata": {},
   "outputs": [],
   "source": [
    "from ipyleaflet import Choropleth, Map, basemap_to_tiles, LayersControl\n",
    "import ipywidgets as widgets\n",
    "from IPython.display import display\n",
    "from localtileserver import get_leaflet_tile_layer, TileClient\n",
    "import matplotlib\n",
    "# from Magics import macro as magics\n",
    "# from Magics.macro import *\n",
    "import numpy as np\n",
    "import pandas as pd\n",
    "import rasterio #rasterio was preferred over xarray since it is more compatible with ipyleaflet\n",
    "from rasterio.enums import Resampling\n",
    "import requests\n",
    "import json\n",
    "# import rioxarray as rxr\n",
    "# import xarray as xr"
   ]
  },
  {
   "cell_type": "code",
   "execution_count": 2,
   "id": "f5b851aa",
   "metadata": {},
   "outputs": [],
   "source": [
    "#resample function\n",
    "def resample_raster(path, fact = 0.5, rio = True, nodata = -3.40282e+38):\n",
    "    \"\"\"\n",
    "    Resample a raster from its file path applying a factor\n",
    "    Issues:\n",
    "        - This resampling method will create artifacts in areas with nodata\n",
    "        - Does not work with Resampling.sum, which was the algorithm needed to \n",
    "    \n",
    "    path: str\n",
    "        Path to raster file\n",
    "    fact: float\n",
    "        Upscaling or downscaling factor. Default: 0.5 (i.e. halving the raster spatial resolution)\n",
    "    \"\"\"\n",
    "    \n",
    "    outpath = path.split(\".\")[0] + \"_resampled_\" + str(fact) + \".\" + path.split(\".\")[1]\n",
    "    if rio:\n",
    "        with rasterio.open(path, \"r\") as dataset:\n",
    "            # mask no data\n",
    "\n",
    "\n",
    "            # resample data to target shape\n",
    "            data = dataset.read(\n",
    "                out_shape=(\n",
    "                    dataset.count,\n",
    "                    int(dataset.height * fact),\n",
    "                    int(dataset.width * fact)\n",
    "                ),\n",
    "                resampling = Resampling.bilinear,\n",
    "                masked = True\n",
    "            )\n",
    "            # scale image transform\n",
    "            transform = dataset.transform * dataset.transform.scale(\n",
    "                (dataset.width / data.shape[-1]),\n",
    "                (dataset.height / data.shape[-2])\n",
    "            )\n",
    "\n",
    "            # Write outputs\n",
    "            # set properties for output\n",
    "            dst_kwargs = dataset.meta.copy()\n",
    "            dst_kwargs.update(\n",
    "                {\n",
    "                    \"crs\": dataset.crs,\n",
    "                    \"transform\": transform,\n",
    "                    \"width\": data.shape[-1],\n",
    "                    \"height\": data.shape[-2],\n",
    "                    \"nodata\": 0,  \n",
    "                }\n",
    "            )\n",
    "            with rasterio.open(outpath, \"w\", **dst_kwargs) as dst:\n",
    "                # iterate through bands\n",
    "                for i in range(data.shape[0]):\n",
    "                        dst.write(data[i].astype(rasterio.float64), i+1)\n",
    "        return(dataset)\n",
    "    else:\n",
    "        # method with xarray if needed\n",
    "        # https://docs.xarray.dev/en/stable/generated/xarray.DataArray.coarsen.html\n",
    "        pass"
   ]
  },
  {
   "cell_type": "markdown",
   "id": "df07fc82-bd30-4cb1-b894-b78d02cbc590",
   "metadata": {},
   "source": [
    "## Resample global pop raster\n",
    "\n",
    "Starting resolution: 1 km (0.0083 degrees) \\\n",
    "Goal resolution: 10 km (0.083 degrees) \\\n",
    "Scaling factor: 0.1"
   ]
  },
  {
   "cell_type": "code",
   "execution_count": 16,
   "id": "fffff503",
   "metadata": {},
   "outputs": [],
   "source": [
    "# CAREFUL:\n",
    "# this produces a bilinear resampled raster, which is not what it is needed for population data\n",
    "# we need to sum the population in each cell, but this can not be done in this way and I haven't found a way to do it through rasterio\n",
    "#I've done it through QGIS and uploaded the result in data/impacts folder\n",
    "\n",
    "path = \"C:/Users/paolo/OneDrive - Politecnico di Milano/code4earth/ppp_2020_1km_Aggregated.tif\"\n",
    "resampled = resample_raster(path, 0.1)"
   ]
  },
  {
   "cell_type": "code",
   "execution_count": null,
   "id": "dced6d9a",
   "metadata": {},
   "outputs": [],
   "source": [
    "## Resample single countries rasters"
   ]
  },
  {
   "cell_type": "code",
   "execution_count": null,
   "id": "96f6b0cb",
   "metadata": {},
   "outputs": [],
   "source": []
  }
 ],
 "metadata": {
  "kernelspec": {
   "display_name": "Python 3 (ipykernel)",
   "language": "python",
   "name": "python3"
  },
  "language_info": {
   "codemirror_mode": {
    "name": "ipython",
    "version": 3
   },
   "file_extension": ".py",
   "mimetype": "text/x-python",
   "name": "python",
   "nbconvert_exporter": "python",
   "pygments_lexer": "ipython3",
   "version": "3.11.4"
  }
 },
 "nbformat": 4,
 "nbformat_minor": 5
}
