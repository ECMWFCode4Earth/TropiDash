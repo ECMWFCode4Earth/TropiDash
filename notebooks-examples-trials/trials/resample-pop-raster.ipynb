{
 "cells": [
  {
   "cell_type": "markdown",
   "id": "e7b16d0d-3bb2-414d-86da-f70cb0effadc",
   "metadata": {},
   "source": [
    "Tutorials:\n",
    "- https://rasterio.readthedocs.io/en/stable/topics/resampling.html\n",
    "- https://pygis.io/docs/e_raster_resample.html"
   ]
  },
  {
   "cell_type": "code",
   "execution_count": 1,
   "id": "870b3463-65d3-4af4-869d-c365a3fd0f82",
   "metadata": {},
   "outputs": [],
   "source": [
    "from ipyleaflet import Choropleth, Map, basemap_to_tiles, LayersControl\n",
    "import ipywidgets as widgets\n",
    "from IPython.display import display\n",
    "from localtileserver import get_leaflet_tile_layer, TileClient\n",
    "import matplotlib\n",
    "# from Magics import macro as magics\n",
    "# from Magics.macro import *\n",
    "import numpy as np\n",
    "import pandas as pd\n",
    "import rasterio #rasterio was preferred over xarray since it is more compatible with ipyleaflet\n",
    "from rasterio.enums import Resampling\n",
    "import requests\n",
    "import json\n",
    "# import rioxarray as rxr\n",
    "# import xarray as xr"
   ]
  },
  {
   "cell_type": "code",
   "execution_count": 20,
   "id": "f5b851aa",
   "metadata": {},
   "outputs": [],
   "source": [
    "#resample function\n",
    "def resample_raster(path, fact = 0.5, rio = True):\n",
    "    \"\"\"\n",
    "    Resample a raster from its file path\n",
    "    \n",
    "    path: str\n",
    "        Path to raster file\n",
    "    fact: float\n",
    "        Upscaling or downscaling factor. Default: 0.5 (i.e. halving the raster spatial resolution)\n",
    "    \"\"\"\n",
    "    \n",
    "    outpath = path.split(\".\")[0] + \"_resampled\" + path.split(\".\")[1]\n",
    "    if rio:\n",
    "        # with rasterio.open(path, \"r+\") as dataset:\n",
    "        #     # resample data to target shape\n",
    "        #     data = dataset.read(\n",
    "        #         out_shape=(\n",
    "        #             dataset.count,\n",
    "        #             int(dataset.height * fact),\n",
    "        #             int(dataset.width * fact)\n",
    "        #         ),\n",
    "        #         resampling = Resampling.bilinear\n",
    "        #     )\n",
    "        #     # scale image transform\n",
    "        #     transform = dataset.transform * dataset.transform.scale(\n",
    "        #         (dataset.width / data.shape[-1]),\n",
    "        #         (dataset.height / data.shape[-2])\n",
    "        #     )\n",
    "        #     dataset.write(outpath)\n",
    "        \n",
    "        dataset = rasterio.open(path)\n",
    "            \n",
    "        return(dataset)\n",
    "    else:\n",
    "        # method with xarray if needed\n",
    "        # https://docs.xarray.dev/en/stable/generated/xarray.DataArray.coarsen.html\n",
    "        pass"
   ]
  },
  {
   "cell_type": "markdown",
   "id": "df07fc82-bd30-4cb1-b894-b78d02cbc590",
   "metadata": {},
   "source": [
    "## Resample global pop raster\n",
    "\n",
    "Starting resolution: X \\\n",
    "Goal resolution: 10 km \\\n",
    "Scaling factor: Y/X"
   ]
  },
  {
   "cell_type": "code",
   "execution_count": 3,
   "id": "fffff503",
   "metadata": {},
   "outputs": [],
   "source": [
    "path = \"C:/Users/paolo/OneDrive - Politecnico di Milano/code4earth/ppp_2020_1km_Aggregated.tif\""
   ]
  },
  {
   "cell_type": "code",
   "execution_count": 21,
   "id": "63120004-b6bf-4378-870f-b406be5f62ce",
   "metadata": {},
   "outputs": [],
   "source": [
    "test = resample_raster(path)"
   ]
  },
  {
   "cell_type": "code",
   "execution_count": 25,
   "id": "037cdfd0-16f8-46bf-b04b-1f54f1b6d3bc",
   "metadata": {},
   "outputs": [],
   "source": [
    "fact = 0.5 #substitute with the real one once found the starting resolution\n",
    "data = test.read(\n",
    "                out_shape=(\n",
    "                    test.count,\n",
    "                    int(test.height * fact),\n",
    "                    int(test.width * fact)\n",
    "                ),\n",
    "                resampling = Resampling.bilinear\n",
    "            )"
   ]
  },
  {
   "cell_type": "code",
   "execution_count": 28,
   "id": "9456d419-b184-48f4-8f82-949152c6e540",
   "metadata": {},
   "outputs": [
    {
     "data": {
      "text/plain": [
       "(808704000,)"
      ]
     },
     "execution_count": 28,
     "metadata": {},
     "output_type": "execute_result"
    }
   ],
   "source": [
    "test.read(1).ravel().shape"
   ]
  },
  {
   "cell_type": "code",
   "execution_count": 29,
   "id": "9c1c578a-e577-4e77-90bd-047441044dc0",
   "metadata": {},
   "outputs": [
    {
     "data": {
      "text/plain": [
       "(202176000,)"
      ]
     },
     "execution_count": 29,
     "metadata": {},
     "output_type": "execute_result"
    }
   ],
   "source": [
    "data.ravel().shape"
   ]
  },
  {
   "cell_type": "code",
   "execution_count": 16,
   "id": "bf461bda-09a6-4b3a-bdd2-89a60d0a59bc",
   "metadata": {},
   "outputs": [
    {
     "data": {
      "text/plain": [
       "<closed DatasetReader name='C:/Users/paolo/OneDrive - Politecnico di Milano/code4earth/ppp_2020_1km_Aggregated.tif' mode='r'>"
      ]
     },
     "execution_count": 16,
     "metadata": {},
     "output_type": "execute_result"
    }
   ],
   "source": [
    "test"
   ]
  },
  {
   "cell_type": "code",
   "execution_count": 7,
   "id": "a9770dcb-6849-4ed7-a6d0-ccf0386facf1",
   "metadata": {},
   "outputs": [],
   "source": [
    "from matplotlib import pyplot"
   ]
  },
  {
   "cell_type": "code",
   "execution_count": 8,
   "id": "3ec589f8-1ffa-4d71-8f5c-f72a831edbe5",
   "metadata": {},
   "outputs": [
    {
     "ename": "RasterioIOError",
     "evalue": "Dataset is closed: C:/Users/paolo/OneDrive - Politecnico di Milano/code4earth/ppp_2020_1km_Aggregated.tif",
     "output_type": "error",
     "traceback": [
      "\u001b[1;31m---------------------------------------------------------------------------\u001b[0m",
      "\u001b[1;31mRasterioIOError\u001b[0m                           Traceback (most recent call last)",
      "Cell \u001b[1;32mIn[8], line 1\u001b[0m\n\u001b[1;32m----> 1\u001b[0m pyplot\u001b[38;5;241m.\u001b[39mimshow(\u001b[43mtest\u001b[49m\u001b[38;5;241;43m.\u001b[39;49m\u001b[43mread\u001b[49m\u001b[43m(\u001b[49m\u001b[38;5;241;43m1\u001b[39;49m\u001b[43m)\u001b[49m)\n",
      "File \u001b[1;32mrasterio\\_io.pyx:639\u001b[0m, in \u001b[0;36mrasterio._io.DatasetReaderBase.read\u001b[1;34m()\u001b[0m\n",
      "File \u001b[1;32mrasterio\\_base.pyx:648\u001b[0m, in \u001b[0;36mrasterio._base.DatasetBase.mask_flag_enums.__get__\u001b[1;34m()\u001b[0m\n",
      "File \u001b[1;32mrasterio\\_base.pyx:650\u001b[0m, in \u001b[0;36mgenexpr\u001b[1;34m()\u001b[0m\n",
      "File \u001b[1;32mrasterio\\_base.pyx:612\u001b[0m, in \u001b[0;36mgenexpr\u001b[1;34m()\u001b[0m\n",
      "File \u001b[1;32mrasterio\\_base.pyx:612\u001b[0m, in \u001b[0;36mgenexpr\u001b[1;34m()\u001b[0m\n",
      "File \u001b[1;32mrasterio\\_base.pyx:367\u001b[0m, in \u001b[0;36mrasterio._base.DatasetBase.band\u001b[1;34m()\u001b[0m\n",
      "File \u001b[1;32mrasterio\\_base.pyx:360\u001b[0m, in \u001b[0;36mrasterio._base.DatasetBase.handle\u001b[1;34m()\u001b[0m\n",
      "\u001b[1;31mRasterioIOError\u001b[0m: Dataset is closed: C:/Users/paolo/OneDrive - Politecnico di Milano/code4earth/ppp_2020_1km_Aggregated.tif"
     ]
    }
   ],
   "source": [
    "pyplot.imshow(test.read(1))"
   ]
  },
  {
   "cell_type": "code",
   "execution_count": null,
   "id": "dced6d9a",
   "metadata": {},
   "outputs": [],
   "source": [
    "## Resample single countries rasters"
   ]
  },
  {
   "cell_type": "code",
   "execution_count": null,
   "id": "96f6b0cb",
   "metadata": {},
   "outputs": [],
   "source": []
  }
 ],
 "metadata": {
  "kernelspec": {
   "display_name": "Python 3 (ipykernel)",
   "language": "python",
   "name": "python3"
  },
  "language_info": {
   "codemirror_mode": {
    "name": "ipython",
    "version": 3
   },
   "file_extension": ".py",
   "mimetype": "text/x-python",
   "name": "python",
   "nbconvert_exporter": "python",
   "pygments_lexer": "ipython3",
   "version": "3.11.4"
  }
 },
 "nbformat": 4,
 "nbformat_minor": 5
}
