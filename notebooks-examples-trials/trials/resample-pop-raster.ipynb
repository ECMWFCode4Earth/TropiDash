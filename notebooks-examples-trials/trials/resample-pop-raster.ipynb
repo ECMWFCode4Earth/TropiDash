{
 "cells": [
  {
   "cell_type": "code",
   "execution_count": null,
   "id": "f5b851aa",
   "metadata": {},
   "outputs": [],
   "source": [
    "#resample function\n"
   ]
  },
  {
   "cell_type": "code",
   "execution_count": null,
   "metadata": {},
   "outputs": [],
   "source": [
    "## Resample global pop raster"
   ]
  },
  {
   "cell_type": "code",
   "execution_count": null,
   "id": "fffff503",
   "metadata": {},
   "outputs": [],
   "source": []
  },
  {
   "cell_type": "code",
   "execution_count": null,
   "id": "dced6d9a",
   "metadata": {},
   "outputs": [],
   "source": [
    "## Resample single countries rasters"
   ]
  },
  {
   "cell_type": "code",
   "execution_count": null,
   "id": "96f6b0cb",
   "metadata": {},
   "outputs": [],
   "source": []
  }
 ],
 "metadata": {
  "language_info": {
   "name": "python"
  }
 },
 "nbformat": 4,
 "nbformat_minor": 5
}
