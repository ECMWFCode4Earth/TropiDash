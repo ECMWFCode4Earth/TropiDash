{
 "cells": [
  {
   "cell_type": "code",
   "execution_count": 7,
   "id": "cae482d3-500a-49ff-a056-32f2700c69e2",
   "metadata": {
    "tags": []
   },
   "outputs": [
    {
     "ename": "ImportError",
     "evalue": "cannot import name 'popup' from 'IPython.display' (/opt/miniconda3/envs/TropiDash/lib/python3.11/site-packages/IPython/display.py)",
     "output_type": "error",
     "traceback": [
      "\u001b[0;31m---------------------------------------------------------------------------\u001b[0m",
      "\u001b[0;31mImportError\u001b[0m                               Traceback (most recent call last)",
      "\u001b[1;32m/Users/huripari/Documents/Code4Earth/TropiDash/notebooks-examples-trials/trials/date_sliders_panel.ipynb Cell 1\u001b[0m line \u001b[0;36m2\n\u001b[1;32m      <a href='vscode-notebook-cell:/Users/huripari/Documents/Code4Earth/TropiDash/notebooks-examples-trials/trials/date_sliders_panel.ipynb#W0sZmlsZQ%3D%3D?line=0'>1</a>\u001b[0m \u001b[39mfrom\u001b[39;00m \u001b[39mipywidgets\u001b[39;00m \u001b[39mimport\u001b[39;00m widgets\n\u001b[0;32m----> <a href='vscode-notebook-cell:/Users/huripari/Documents/Code4Earth/TropiDash/notebooks-examples-trials/trials/date_sliders_panel.ipynb#W0sZmlsZQ%3D%3D?line=1'>2</a>\u001b[0m \u001b[39mfrom\u001b[39;00m \u001b[39mIPython\u001b[39;00m\u001b[39m.\u001b[39;00m\u001b[39mdisplay\u001b[39;00m \u001b[39mimport\u001b[39;00m HTML, display, clear_output, popup\n\u001b[1;32m      <a href='vscode-notebook-cell:/Users/huripari/Documents/Code4Earth/TropiDash/notebooks-examples-trials/trials/date_sliders_panel.ipynb#W0sZmlsZQ%3D%3D?line=3'>4</a>\u001b[0m notify_output \u001b[39m=\u001b[39m widgets\u001b[39m.\u001b[39mOutput()\n\u001b[1;32m      <a href='vscode-notebook-cell:/Users/huripari/Documents/Code4Earth/TropiDash/notebooks-examples-trials/trials/date_sliders_panel.ipynb#W0sZmlsZQ%3D%3D?line=4'>5</a>\u001b[0m display(notify_output)\n",
      "\u001b[0;31mImportError\u001b[0m: cannot import name 'popup' from 'IPython.display' (/opt/miniconda3/envs/TropiDash/lib/python3.11/site-packages/IPython/display.py)"
     ]
    }
   ],
   "source": [
    "from ipywidgets import widgets\n",
    "from IPython.display import Javascript, HTML,  display, clear_output\n",
    "\n",
    "notify_output = widgets.Output()\n",
    "display(notify_output)"
   ]
  },
  {
   "cell_type": "code",
   "execution_count": 9,
   "id": "3b1a79bb",
   "metadata": {},
   "outputs": [
    {
     "data": {
      "application/vnd.jupyter.widget-view+json": {
       "model_id": "872c5bddfaa842c3962780745820f50e",
       "version_major": 2,
       "version_minor": 0
      },
      "text/plain": [
       "Button(description='Click me!', style=ButtonStyle())"
      ]
     },
     "metadata": {},
     "output_type": "display_data"
    }
   ],
   "source": [
    "@notify_output.capture()\n",
    "def popup(text):\n",
    "    clear_output()\n",
    "    display(Javascript(\"alert('{}')\".format(text)))\n",
    "\n",
    "def clickme(b):\n",
    "    popup('Hello World!')\n",
    "\n",
    "btn_clickme = widgets.Button(description='Click me!')\n",
    "btn_clickme.on_click(clickme)\n",
    "\n",
    "display(btn_clickme)"
   ]
  },
  {
   "cell_type": "code",
   "execution_count": 1,
   "id": "bf689d8c-bcae-4977-a7b8-1fd573114f2d",
   "metadata": {},
   "outputs": [
    {
     "ename": "NameError",
     "evalue": "name 'notify_output' is not defined",
     "output_type": "error",
     "traceback": [
      "\u001b[0;31m---------------------------------------------------------------------------\u001b[0m",
      "\u001b[0;31mNameError\u001b[0m                                 Traceback (most recent call last)",
      "Cell \u001b[0;32mIn[1], line 1\u001b[0m\n\u001b[0;32m----> 1\u001b[0m \u001b[38;5;129m@notify_output\u001b[39m\u001b[38;5;241m.\u001b[39mcapture()\n\u001b[1;32m      2\u001b[0m \u001b[38;5;28;01mdef\u001b[39;00m \u001b[38;5;21mpopup\u001b[39m(text):\n\u001b[1;32m      3\u001b[0m     clear_output()\n\u001b[1;32m      4\u001b[0m     display(HTML(\u001b[38;5;124m\"\u001b[39m\u001b[38;5;124m<script>alert(\u001b[39m\u001b[38;5;124m'\u001b[39m\u001b[38;5;132;01m{}\u001b[39;00m\u001b[38;5;124m'\u001b[39m\u001b[38;5;124m);</script>\u001b[39m\u001b[38;5;124m\"\u001b[39m\u001b[38;5;241m.\u001b[39mformat(text)))\n",
      "\u001b[0;31mNameError\u001b[0m: name 'notify_output' is not defined"
     ]
    }
   ],
   "source": [
    "@notify_output.capture()\n",
    "def popup(text):\n",
    "    clear_output()\n",
    "    display(HTML(\"<script>alert('{}');</script>\".format(text)))\n",
    "\n",
    "def clickme(b):\n",
    "    popup('Hello World!')\n",
    "\n",
    "btn_clickme = widgets.Button(description='Click me!')\n",
    "btn_clickme.on_click(clickme)\n",
    "\n",
    "display(btn_clickme)"
   ]
  },
  {
   "cell_type": "code",
   "execution_count": null,
   "id": "173863e9-d129-4771-9178-0695c3835afa",
   "metadata": {},
   "outputs": [],
   "source": []
  }
 ],
 "metadata": {
  "kernelspec": {
   "display_name": "Python 3 (ipykernel)",
   "language": "python",
   "name": "python3"
  },
  "language_info": {
   "codemirror_mode": {
    "name": "ipython",
    "version": 3
   },
   "file_extension": ".py",
   "mimetype": "text/x-python",
   "name": "python",
   "nbconvert_exporter": "python",
   "pygments_lexer": "ipython3",
   "version": "3.11.5"
  }
 },
 "nbformat": 4,
 "nbformat_minor": 5
}
