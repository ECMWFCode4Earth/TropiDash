{
 "cells": [
  {
   "cell_type": "code",
   "execution_count": 1,
   "id": "68c45399",
   "metadata": {},
   "outputs": [],
   "source": [
    "import pdbufr\n",
    "import sys\n",
    "import traceback\n",
    " \n",
    "from eccodes import *\n",
    "from math import isnan\n",
    "\n",
    "from ipywidgets import interact\n",
    "import os\n",
    "import birdy\n",
    "import geopandas as gpd\n",
    "import ipyleaflet\n",
    "import ipywidgets"
   ]
  },
  {
   "cell_type": "code",
   "execution_count": 25,
   "id": "a8bca8b6",
   "metadata": {},
   "outputs": [
    {
     "data": {
      "text/html": [
       "<div>\n",
       "<style scoped>\n",
       "    .dataframe tbody tr th:only-of-type {\n",
       "        vertical-align: middle;\n",
       "    }\n",
       "\n",
       "    .dataframe tbody tr th {\n",
       "        vertical-align: top;\n",
       "    }\n",
       "\n",
       "    .dataframe thead th {\n",
       "        text-align: right;\n",
       "    }\n",
       "</style>\n",
       "<table border=\"1\" class=\"dataframe\">\n",
       "  <thead>\n",
       "    <tr style=\"text-align: right;\">\n",
       "      <th></th>\n",
       "      <th>stormIdentifier</th>\n",
       "      <th>ensembleMemberNumber</th>\n",
       "      <th>latitude</th>\n",
       "      <th>longitude</th>\n",
       "      <th>pressureReducedToMeanSeaLevel</th>\n",
       "    </tr>\n",
       "  </thead>\n",
       "  <tbody>\n",
       "    <tr>\n",
       "      <th>0</th>\n",
       "      <td>07W</td>\n",
       "      <td>1</td>\n",
       "      <td>17.7</td>\n",
       "      <td>124.5</td>\n",
       "      <td>96600.0</td>\n",
       "    </tr>\n",
       "    <tr>\n",
       "      <th>1</th>\n",
       "      <td>07W</td>\n",
       "      <td>1</td>\n",
       "      <td>18.5</td>\n",
       "      <td>123.9</td>\n",
       "      <td>96100.0</td>\n",
       "    </tr>\n",
       "    <tr>\n",
       "      <th>2</th>\n",
       "      <td>07W</td>\n",
       "      <td>1</td>\n",
       "      <td>19.0</td>\n",
       "      <td>122.8</td>\n",
       "      <td>96200.0</td>\n",
       "    </tr>\n",
       "    <tr>\n",
       "      <th>3</th>\n",
       "      <td>07W</td>\n",
       "      <td>1</td>\n",
       "      <td>19.4</td>\n",
       "      <td>121.7</td>\n",
       "      <td>95900.0</td>\n",
       "    </tr>\n",
       "    <tr>\n",
       "      <th>4</th>\n",
       "      <td>07W</td>\n",
       "      <td>1</td>\n",
       "      <td>19.3</td>\n",
       "      <td>121.0</td>\n",
       "      <td>95500.0</td>\n",
       "    </tr>\n",
       "  </tbody>\n",
       "</table>\n",
       "</div>"
      ],
      "text/plain": [
       "  stormIdentifier  ensembleMemberNumber  latitude  longitude  \\\n",
       "0             07W                     1      17.7      124.5   \n",
       "1             07W                     1      18.5      123.9   \n",
       "2             07W                     1      19.0      122.8   \n",
       "3             07W                     1      19.4      121.7   \n",
       "4             07W                     1      19.3      121.0   \n",
       "\n",
       "   pressureReducedToMeanSeaLevel  \n",
       "0                        96600.0  \n",
       "1                        96100.0  \n",
       "2                        96200.0  \n",
       "3                        95900.0  \n",
       "4                        95500.0  "
      ]
     },
     "execution_count": 25,
     "metadata": {},
     "output_type": "execute_result"
    }
   ],
   "source": [
    "# Import bufr file of the TC track\n",
    "df = pdbufr.read_bufr(\"../data/A_JSXX01ECEP250000_C_ECMP_20230725000000_tropical_cyclone_track_DOKSURI_124p6degE_17p6degN_bufr4.bin\",\n",
    "    columns=(\"stormIdentifier\", \"ensembleMemberNumber\", \"latitude\", \"longitude\",\n",
    "             \"pressureReducedToMeanSeaLevel\"))\n",
    "# Save the number of ensembles in a list\n",
    "members = df.ensembleMemberNumber.unique()\n",
    "df.head()"
   ]
  },
  {
   "cell_type": "code",
   "execution_count": 4,
   "id": "be7f75a9",
   "metadata": {},
   "outputs": [
    {
     "name": "stdout",
     "output_type": "stream",
     "text": [
      "17.7 124.3\n"
     ]
    }
   ],
   "source": [
    "df2 = df[df.ensembleMemberNumber == 2]\n",
    "df2_noNaN = df2.dropna()\n",
    "print(df2_noNaN.latitude.iloc[0], df2_noNaN.longitude.iloc[0])"
   ]
  },
  {
   "cell_type": "code",
   "execution_count": 24,
   "id": "6754ddf4",
   "metadata": {},
   "outputs": [
    {
     "name": "stdout",
     "output_type": "stream",
     "text": [
      "[ 963.  957.  958.  956.  955.  951.  948.  947.  937.  941.  951.  962.\n",
      "  973.  979.  985.  990.  991.  993.  994.  995.  995.  996.  995.  994.\n",
      "  998. 1001. 1003. 1001. 1002.]\n"
     ]
    }
   ],
   "source": [
    "latitude = df2_noNaN.latitude.values\n",
    "longitude = df2_noNaN.longitude.values\n",
    "pressure = df2_noNaN.pressureReducedToMeanSeaLevel.values * 10**-2 # convert to hPa\n",
    "location = [[latitude[i], longitude[i]] for i in range(len(latitude))]\n",
    "print(pressure)"
   ]
  },
  {
   "cell_type": "code",
   "execution_count": 11,
   "id": "1f42613d",
   "metadata": {},
   "outputs": [],
   "source": [
    "# Save all ensemble members track in a list called locations\n",
    "locations = []\n",
    "for m in members:\n",
    "    dft = df[df.ensembleMemberNumber == m]\n",
    "    dft_noNaN = dft.dropna()\n",
    "    lat = dft_noNaN.latitude.values\n",
    "    lon = dft_noNaN.longitude.values\n",
    "    locs = [[lat[i], lon[i]] for i in range(len(lat))]\n",
    "    locations.append(locs)"
   ]
  },
  {
   "cell_type": "code",
   "execution_count": 41,
   "id": "6ed113a4",
   "metadata": {},
   "outputs": [],
   "source": [
    "# Build an interactive map with ipyleaflet\n",
    "\n",
    "initial_lat_lon = (df2.latitude.iloc[0], df2.longitude.iloc[0])\n",
    "\n",
    "tc_track_map = ipyleaflet.Map(\n",
    "    center=initial_lat_lon,\n",
    "    basemap=ipyleaflet.basemaps.OpenTopoMap,\n",
    ")\n",
    "\n",
    "# Add a custom zoom slider\n",
    "zoom_slider = ipywidgets.IntSlider(description=\"Zoom level:\", min=1, max=17, value=4)\n",
    "ipywidgets.jslink((zoom_slider, \"value\"), (tc_track_map, \"zoom\"))\n",
    "widget_control1 = ipyleaflet.WidgetControl(widget=zoom_slider, position=\"topright\")\n",
    "tc_track_map.add_control(widget_control1)\n",
    "\n",
    "# Add tropical cyclone track to the map\n",
    "track1 = ipyleaflet.Polyline(\n",
    "    locations=locations[0],\n",
    "    color=\"green\" ,\n",
    "    fill=False,\n",
    "    name='ENS 1',\n",
    ")\n",
    "tc_track_map.add_layer(track1)\n",
    "\n",
    "# Add tropical cyclone track to the map\n",
    "track2 = ipyleaflet.Polyline(\n",
    "    locations=locations[1],\n",
    "    color=\"red\" ,\n",
    "    fill=False,\n",
    "    name='ENS 2',\n",
    ")\n",
    "tc_track_map.add_layer(track2)\n",
    "\n",
    "# Add layers widget to the map\n",
    "tc_track_map.add_control(ipyleaflet.LayersControl());\n",
    "\n",
    "# Add a marker to the map\n",
    "# marker = ipyleaflet.Marker(location=initial_lat_lon, draggable=True)\n",
    "# tc_track_map.add_layer(marker)"
   ]
  },
  {
   "cell_type": "code",
   "execution_count": 42,
   "id": "631ed56e",
   "metadata": {},
   "outputs": [
    {
     "data": {
      "application/vnd.jupyter.widget-view+json": {
       "model_id": "78f92d87f8804ba09574378ced3628b3",
       "version_major": 2,
       "version_minor": 0
      },
      "text/plain": [
       "Map(center=[17.7, 124.3], controls=(ZoomControl(options=['position', 'zoom_in_text', 'zoom_in_title', 'zoom_ou…"
      ]
     },
     "execution_count": 42,
     "metadata": {},
     "output_type": "execute_result"
    }
   ],
   "source": [
    "tc_track_map"
   ]
  },
  {
   "cell_type": "code",
   "execution_count": null,
   "id": "bd643b0f",
   "metadata": {},
   "outputs": [],
   "source": []
  },
  {
   "cell_type": "code",
   "execution_count": null,
   "id": "bf558522",
   "metadata": {},
   "outputs": [],
   "source": []
  }
 ],
 "metadata": {
  "kernelspec": {
   "display_name": "Python 3 (ipykernel)",
   "language": "python",
   "name": "python3"
  },
  "language_info": {
   "codemirror_mode": {
    "name": "ipython",
    "version": 3
   },
   "file_extension": ".py",
   "mimetype": "text/x-python",
   "name": "python",
   "nbconvert_exporter": "python",
   "pygments_lexer": "ipython3",
   "version": "3.11.4"
  }
 },
 "nbformat": 4,
 "nbformat_minor": 5
}
