{
 "cells": [
  {
   "cell_type": "code",
   "execution_count": 1,
   "id": "68c45399",
   "metadata": {
    "tags": []
   },
   "outputs": [],
   "source": [
    "import pdbufr\n",
    "import sys\n",
    "import traceback\n",
    " \n",
    "from eccodes import *\n",
    "from math import isnan\n",
    "\n",
    "from ipywidgets import interact\n",
    "import os\n",
    "import birdy\n",
    "import geopandas as gpd\n",
    "import pandas as pd\n",
    "from datetime import datetime, timedelta\n",
    "import ipyleaflet\n",
    "import ipywidgets as widgets"
   ]
  },
  {
   "cell_type": "code",
   "execution_count": 2,
   "id": "a8bca8b6",
   "metadata": {
    "tags": []
   },
   "outputs": [],
   "source": [
    "# Import bufr file of the TC track\n",
    "df = pdbufr.read_bufr(\"../data/A_JSXX01ECEP250000_C_ECMP_20230725000000_tropical_cyclone_track_DOKSURI_124p6degE_17p6degN_bufr4.bin\",\n",
    "    columns=(\"stormIdentifier\", \"ensembleMemberNumber\", \"latitude\", \"longitude\",\n",
    "             \"pressureReducedToMeanSeaLevel\",))\n",
    "# Save the number of ensembles in a list\n",
    "members = df.ensembleMemberNumber.unique()"
   ]
  },
  {
   "cell_type": "code",
   "execution_count": 3,
   "id": "f29c596c-9b7d-4041-a490-d18c589cde41",
   "metadata": {},
   "outputs": [],
   "source": [
    "# Cyclone temporal horizon definition\n",
    "# For DOKSURI forecast of the 25th July we have 41 snapshot with 6h step\n",
    "start_dte = datetime(2023, 7, 25)\n",
    "end_dte = datetime(2023, 8, 4)\n",
    "step = timedelta(hours=6)\n",
    "time_steps = pd.date_range(start_dte, end_dte, freq=step)"
   ]
  },
  {
   "cell_type": "code",
   "execution_count": 4,
   "id": "1f42613d",
   "metadata": {
    "tags": []
   },
   "outputs": [],
   "source": [
    "# Save all ensemble members track in a list called locations\n",
    "locations = []\n",
    "tracks_len = []\n",
    "tracks_date = []\n",
    "for m in members:\n",
    "    dft = df[df.ensembleMemberNumber == m]\n",
    "    dft_noNaN = dft.dropna()\n",
    "    lat = dft_noNaN.latitude.values\n",
    "    lon = dft_noNaN.longitude.values\n",
    "    locs = [[lat[i], lon[i]] for i in range(len(lat))]\n",
    "    track_len = len(locs)\n",
    "    date_range = time_steps[:track_len]\n",
    "    locations.append(locs)\n",
    "    tracks_len.append(track_len)\n",
    "    tracks_date.append(date_range)"
   ]
  },
  {
   "cell_type": "code",
   "execution_count": 5,
   "id": "1ab1fab5-a818-4616-8e7b-3bf794122199",
   "metadata": {},
   "outputs": [
    {
     "data": {
      "application/vnd.jupyter.widget-view+json": {
       "model_id": "71485f06df884b368f9a964072aaa7a4",
       "version_major": 2,
       "version_minor": 0
      },
      "text/plain": [
       "Dropdown(description='Ensemble:', options=(1, 2, 3, 4, 5, 6, 7, 8, 9, 10, 11, 12, 13, 14, 15, 16, 17, 18, 19, …"
      ]
     },
     "execution_count": 5,
     "metadata": {},
     "output_type": "execute_result"
    }
   ],
   "source": [
    "## SELECT ENSEMBLE MEMBER TO PLOT ##\n",
    "member = widgets.Dropdown(\n",
    "    options = members.tolist(),\n",
    "    value = 1,\n",
    "    description = 'Ensemble:',\n",
    "    diasbled=False,\n",
    ")\n",
    "member"
   ]
  },
  {
   "cell_type": "code",
   "execution_count": 6,
   "id": "689f8704-66aa-4aa6-a2ff-47719af23754",
   "metadata": {},
   "outputs": [],
   "source": [
    "## TEMPORAL HORIZON RANGE SLIDEBAR WITH DATES ##\n",
    "\n",
    "options = [(timestep.strftime('%d/%m %H'), timestep) for timestep in tracks_date[member.value - 1]]\n",
    "index = (0, len(options)-1)\n",
    "\n",
    "temporal_horizon_slider = widgets.SelectionRangeSlider(\n",
    "    options=options,\n",
    "    index=index,\n",
    "    # description='Temporal Horizon:',\n",
    "    description='Define horizon:',\n",
    "    orientation='horizontal',\n",
    "    layout={'width': '500px'},\n",
    "    disabled=False,\n",
    ")\n",
    "\n",
    "# Increase the size of the descprition box of the slider and other styles\n",
    "temporal_horizon_slider.style.description_width = '115px'\n",
    "temporal_horizon_slider.style.handle_color = 'orange'\n",
    "\n",
    "def print_date_range(date_range):\n",
    "    start, end = date_range\n",
    "    s = start.strftime('%d %b %Y %H:%M')\n",
    "    e = end.strftime('%d %b %Y %H:%M')\n",
    "    print(f'Temporal horizon: {s} - {e}')\n",
    "    \n",
    "# Link horizon slider to ensemble member selection\n",
    "def update_horizon_ens(change):\n",
    "    options = [(timestep.strftime('%d/%m %H'), timestep) for timestep in tracks_date[change.new - 1]]\n",
    "    temporal_horizon_slider.options = options\n",
    "    temporal_horizon_slider.index = (0, len(options)-1)\n",
    "member.observe(update_horizon_ens, names='value')"
   ]
  },
  {
   "cell_type": "code",
   "execution_count": 7,
   "id": "5e98f754-2a55-4a38-87da-5171c9e010ad",
   "metadata": {},
   "outputs": [],
   "source": [
    "## TEMPORAL SLIDEBAR TO SELECT SNAPSHOT##\n",
    "# Function to convert datetime to integer\n",
    "def datetime_to_int(dt):\n",
    "    return int((dt - start_dte).total_seconds() // step.total_seconds())\n",
    "\n",
    "# Function to convert interger to datetime\n",
    "def int_to_datetime(ts):\n",
    "    return start_dte + ts * step\n",
    "\n",
    "timestep_slider=widgets.IntSlider(\n",
    "    min=0, \n",
    "    max=datetime_to_int(end_dte), \n",
    "    step=1, \n",
    "    value=0, \n",
    "    description='Timestep:')\n",
    "    \n",
    "def print_timestep(dt):\n",
    "    date = int_to_datetime(dt)\n",
    "    print('Selected date: ', date.strftime('%d %b %Y %H:%M'))\n",
    "    \n",
    "# Link the timestep selection slider to the horizon slider\n",
    "def update_snapshot_slider(change):\n",
    "    start, end = change.new\n",
    "    timestep_slider.value = datetime_to_int(start.to_pydatetime())\n",
    "    timestep_slider.min = datetime_to_int(start.to_pydatetime())\n",
    "    timestep_slider.max = datetime_to_int(end.to_pydatetime())\n",
    "    \n",
    "temporal_horizon_slider.observe(update_snapshot_slider, names='value')"
   ]
  },
  {
   "cell_type": "code",
   "execution_count": 8,
   "id": "6ed113a4",
   "metadata": {
    "tags": []
   },
   "outputs": [],
   "source": [
    "## INTERACTIVE MAP FOR TROPICAL CYCLONE TRACK ##\n",
    "# Create the basemap for plotting\n",
    "initial_lat_lon = (locations[member.value - 1][0][0], locations[member.value - 1][0][1])\n",
    "tc_track_map = ipyleaflet.Map(\n",
    "    center=initial_lat_lon,\n",
    "    basemap=ipyleaflet.basemaps.OpenStreetMap.France,\n",
    "    zoom = 3.5,\n",
    ")\n",
    "\n",
    "# Add a custom zoom slider\n",
    "# zoom_slider = widgets.IntSlider(description=\"Zoom level:\", min=1, max=17, value=4)\n",
    "# widgets.jslink((zoom_slider, \"value\"), (tc_track_map, \"zoom\"))\n",
    "# widget_control1 = ipyleaflet.WidgetControl(widget=zoom_slider, position=\"topright\")\n",
    "# tc_track_map.add_control(widget_control1)\n",
    "\n",
    "# Add tropical cyclone track to the map\n",
    "track = ipyleaflet.Polyline(\n",
    "    locations=locations[member.value - 1],\n",
    "    color=\"blue\" ,\n",
    "    fill=False,\n",
    "    name='Track',\n",
    ")\n",
    "\n",
    "# Link the cyclone track to the temporal horizon slider\n",
    "def update_track_location(change):\n",
    "    start, end = change.new\n",
    "    start_index = datetime_to_int(start.to_pydatetime())\n",
    "    end_index = datetime_to_int(end.to_pydatetime())\n",
    "    track.locations = locations[member.value - 1][start_index:end_index+1]\n",
    "temporal_horizon_slider.observe(update_track_location, names='value')\n",
    "\n",
    "tc_track_map.add_layer(track)\n",
    "\n",
    "# Add a marker to the map, for the snapshot selected\n",
    "marker = ipyleaflet.CircleMarker(location=locations[member.value - 1][timestep_slider.value],\n",
    "                                 draggable=False,\n",
    "                                 name = 'Timestep',\n",
    "                                 color = \"orange\",\n",
    "                                 fill_color = \"orange\",\n",
    "                                 radius = 2,\n",
    "                                )\n",
    "\n",
    "# Link the marker to the snapshot selections slider\n",
    "def update_marker_location(change):\n",
    "    marker.location = locations[member.value - 1][change.new]\n",
    "timestep_slider.observe(update_marker_location, names='value')\n",
    "\n",
    "tc_track_map.add_layer(marker)\n",
    "\n",
    "# Add layers widget to the map\n",
    "tc_track_map.add_control(ipyleaflet.LayersControl());"
   ]
  },
  {
   "cell_type": "code",
   "execution_count": 9,
   "id": "631ed56e",
   "metadata": {
    "tags": []
   },
   "outputs": [
    {
     "data": {
      "application/vnd.jupyter.widget-view+json": {
       "model_id": "c6dcd51617cd42829b34351c6a892926",
       "version_major": 2,
       "version_minor": 0
      },
      "text/plain": [
       "interactive(children=(SelectionRangeSlider(description='Define horizon:', index=(0, 27), layout=Layout(width='…"
      ]
     },
     "metadata": {},
     "output_type": "display_data"
    },
    {
     "data": {
      "application/vnd.jupyter.widget-view+json": {
       "model_id": "c8e3f4f0e7904de39d79200333a126c0",
       "version_major": 2,
       "version_minor": 0
      },
      "text/plain": [
       "interactive(children=(IntSlider(value=0, description='Timestep:', max=40), Output()), _dom_classes=('widget-in…"
      ]
     },
     "metadata": {},
     "output_type": "display_data"
    },
    {
     "data": {
      "application/vnd.jupyter.widget-view+json": {
       "model_id": "851fb9f505084da2bbb7a075d2f68c26",
       "version_major": 2,
       "version_minor": 0
      },
      "text/plain": [
       "Map(center=[17.7, 124.5], controls=(ZoomControl(options=['position', 'zoom_in_text', 'zoom_in_title', 'zoom_ou…"
      ]
     },
     "execution_count": 9,
     "metadata": {},
     "output_type": "execute_result"
    }
   ],
   "source": [
    "widgets.VBox([temporal_horizon_slider, timestep_slider])\n",
    "widgets.interact(\n",
    "        print_date_range,\n",
    "        date_range=temporal_horizon_slider\n",
    "    );\n",
    "widgets.interact(\n",
    "    print_timestep,\n",
    "    dt=timestep_slider\n",
    ");\n",
    "\n",
    "tc_track_map"
   ]
  },
  {
   "cell_type": "code",
   "execution_count": null,
   "id": "25d621cf-46c6-4a29-ac27-f3ce6d53af8e",
   "metadata": {},
   "outputs": [],
   "source": []
  }
 ],
 "metadata": {
  "kernelspec": {
   "display_name": "Python 3 (ipykernel)",
   "language": "python",
   "name": "python3"
  },
  "language_info": {
   "codemirror_mode": {
    "name": "ipython",
    "version": 3
   },
   "file_extension": ".py",
   "mimetype": "text/x-python",
   "name": "python",
   "nbconvert_exporter": "python",
   "pygments_lexer": "ipython3",
   "version": "3.11.4"
  }
 },
 "nbformat": 4,
 "nbformat_minor": 5
}
