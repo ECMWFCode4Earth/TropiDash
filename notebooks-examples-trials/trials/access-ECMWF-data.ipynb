{
 "cells": [
  {
   "cell_type": "markdown",
   "id": "4041402a-1c6b-4914-837b-a69c2fbd1f69",
   "metadata": {},
   "source": [
    "# Access to ECMWF data\n",
    "\n",
    "Access ECMWF Open Data: https://www.ecmwf.int/en/forecasts/datasets/open-data \\\n",
    "Forecasted variables can be accessed through `ecwmf.opendata`"
   ]
  },
  {
   "cell_type": "markdown",
   "id": "86162f2e-466c-400b-b355-6dc37898f29e",
   "metadata": {},
   "source": [
    "## Setup"
   ]
  },
  {
   "cell_type": "code",
   "execution_count": 6,
   "id": "23e318d5-1113-4390-bb8c-beb8f70ff547",
   "metadata": {
    "tags": []
   },
   "outputs": [],
   "source": [
    "# os.environ[\"METVIEW_PYTHON_ONLY\"] = \"0\""
   ]
  },
  {
   "cell_type": "code",
   "execution_count": 1,
   "id": "b6ca436d-8aad-46c4-a3c0-a356bea58471",
   "metadata": {
    "tags": []
   },
   "outputs": [],
   "source": [
    "import datetime\n",
    "import eccodes\n",
    "from ecmwf.opendata import Client\n",
    "# import matplotlib.pyplot as plt\n",
    "# import matplotlib.colors as colors\n",
    "# from mpl_toolkits.basemap import Basemap\n",
    "# from mpl_toolkits.basemap import shiftgrid\n",
    "# import metview as mv\n",
    "import os\n",
    "import numpy as np\n",
    "import pdbufr\n",
    "import pygrib"
   ]
  },
  {
   "cell_type": "markdown",
   "id": "d01a472c-c371-4c88-97ee-1a29f51b1494",
   "metadata": {},
   "source": [
    "The user will select the timestep from the widget, so date/time and step needed to retrieve ecmwf data will have to be provided as variables. Below I'm setting them as tool variables. Date and time can be provided in different styles: https://github.com/ecmwf/ecmwf-opendata/tree/main#date-and-time"
   ]
  },
  {
   "cell_type": "code",
   "execution_count": 3,
   "id": "7594d74c-2dd1-488b-b598-2d6fd293462b",
   "metadata": {
    "tags": []
   },
   "outputs": [],
   "source": [
    "# Tool variables\n",
    "date = '2023-07-30'\n",
    "time = 0 #available times: 0, 6, 12, 18\n",
    "step = 48 #hours"
   ]
  },
  {
   "cell_type": "markdown",
   "id": "a74ed9f5-d2a8-4323-a6b1-1a694d3a2349",
   "metadata": {},
   "source": [
    "# Forecast"
   ]
  },
  {
   "cell_type": "markdown",
   "id": "7bad5085-06df-48d0-af7b-9b4f36bfc945",
   "metadata": {},
   "source": [
    "## 0. General retrieval process using ecmwf.opendata"
   ]
  },
  {
   "cell_type": "markdown",
   "id": "11bfc00e-f615-4db0-a1c1-c7d04cc8cc43",
   "metadata": {},
   "source": [
    "```python\n",
    "client = Client(source=\"ecmwf\")\n",
    "\n",
    "request = {\n",
    "    \"time\": ,\n",
    "    \"stream\": ,\n",
    "    \"type\": , #type of data, default is fc\n",
    "    \"step\": ,\n",
    "    \"date\": ,\n",
    "    \"param\": , #meteorological parameters. multiple parameters can be specified in a list.\n",
    "}\n",
    "\n",
    "client.retrieve(request = request, target = \"\") #takes request as input and will retrieve the corresponding data from the server and write them in the user's target file\n",
    "client.download(request = request, target = \"\") #will download the whole data files from the server, ignoring keywords like param, levelist or number\n",
    "client.latest(request = request, target = \"\")   #returns the date of the most recent matching forecast without downloading the data\n",
    "```"
   ]
  },
  {
   "cell_type": "markdown",
   "id": "1af8059c-51c2-4554-99aa-ad4a5f13aa50",
   "metadata": {},
   "source": [
    "To obtain data to be used in the dashboard, it will have to be retrieved through `Client.retrieve`, then uploaded in the dashboard."
   ]
  },
  {
   "cell_type": "markdown",
   "id": "c6f3f3ed-c64f-4eb9-ac38-0173333035cc",
   "metadata": {},
   "source": [
    "More info on request parameters: https://github.com/ecmwf/ecmwf-opendata/tree/main#request-keywords"
   ]
  },
  {
   "cell_type": "markdown",
   "id": "8c08f07c-21b1-4fb2-858f-f96de32d9abe",
   "metadata": {},
   "source": [
    "Tutoral on GRIB files: https://confluence.ecmwf.int/display/CKB/How+to+plot+GRIB+files+with+Python+and+matplotlib \\\n",
    "PyGRIB documentation: https://jswhit.github.io/pygrib/api.html#example-usage \\\n",
    "Tutorial with xarray: https://docs.xarray.dev/en/stable/examples/ERA5-GRIB-example.html"
   ]
  },
  {
   "cell_type": "markdown",
   "id": "2b25c95a-a07f-4f04-bc38-322d34296245",
   "metadata": {},
   "source": [
    "## 1. Cyclone characteristics\n",
    "List of available parameters: https://github.com/ecmwf/ecmwf-opendata/tree/main#parameters-and-levels\n",
    "Tutorial: TropiDash/notebooks-examples-trials/Inspect_tc_bufr_data.ipynb"
   ]
  },
  {
   "cell_type": "code",
   "execution_count": 25,
   "id": "bbed66d1-a5a0-4d16-a567-506df05f75c4",
   "metadata": {
    "tags": []
   },
   "outputs": [
    {
     "data": {
      "application/vnd.jupyter.widget-view+json": {
       "model_id": "",
       "version_major": 2,
       "version_minor": 0
      },
      "text/plain": [
       "20230727000000-240h-enfo-tf.bufr:   0%|          | 0.00/535k [00:00<?, ?B/s]"
      ]
     },
     "metadata": {},
     "output_type": "display_data"
    },
    {
     "data": {
      "text/plain": [
       "<ecmwf.opendata.client.Result at 0x157a5ec50>"
      ]
     },
     "execution_count": 25,
     "metadata": {},
     "output_type": "execute_result"
    }
   ],
   "source": [
    "# Download the Tropical Cyclone tracks from ECMWF's 00UTC ENS forecast\n",
    "client.retrieve(\n",
    "    time=0,\n",
    "    stream=\"enfo\",\n",
    "    type=\"tf\",\n",
    "    step=240,\n",
    "    target=\"track_data/ens_tracks.bufr\",\n",
    ")"
   ]
  },
  {
   "cell_type": "code",
   "execution_count": 27,
   "id": "593a507e-470a-4c98-8d1a-b93cc8eb5a40",
   "metadata": {
    "tags": []
   },
   "outputs": [],
   "source": [
    "# Import bufr file of the TC tracks\n",
    "df_tracks = pdbufr.read_bufr(\"track_data/ens_tracks.bufr\",\n",
    "    columns=(\"stormIdentifier\", \"ensembleMemberNumber\", \"latitude\", \"longitude\",\n",
    "             \"pressureReducedToMeanSeaLevel\",))\n",
    "storms = df_tracks.stormIdentifier.unique()"
   ]
  },
  {
   "cell_type": "code",
   "execution_count": 4,
   "id": "1e105928-7a8a-4df4-9ef6-dd5e3e7c6266",
   "metadata": {
    "tags": []
   },
   "outputs": [
    {
     "data": {
      "text/html": [
       "<div>\n",
       "<style scoped>\n",
       "    .dataframe tbody tr th:only-of-type {\n",
       "        vertical-align: middle;\n",
       "    }\n",
       "\n",
       "    .dataframe tbody tr th {\n",
       "        vertical-align: top;\n",
       "    }\n",
       "\n",
       "    .dataframe thead th {\n",
       "        text-align: right;\n",
       "    }\n",
       "</style>\n",
       "<table border=\"1\" class=\"dataframe\">\n",
       "  <thead>\n",
       "    <tr style=\"text-align: right;\">\n",
       "      <th></th>\n",
       "      <th>stormIdentifier</th>\n",
       "      <th>ensembleMemberNumber</th>\n",
       "      <th>latitude</th>\n",
       "      <th>longitude</th>\n",
       "      <th>pressureReducedToMeanSeaLevel</th>\n",
       "    </tr>\n",
       "  </thead>\n",
       "  <tbody>\n",
       "    <tr>\n",
       "      <th>0</th>\n",
       "      <td>07W</td>\n",
       "      <td>1</td>\n",
       "      <td>17.7</td>\n",
       "      <td>124.5</td>\n",
       "      <td>96600.0</td>\n",
       "    </tr>\n",
       "    <tr>\n",
       "      <th>1</th>\n",
       "      <td>07W</td>\n",
       "      <td>1</td>\n",
       "      <td>18.5</td>\n",
       "      <td>123.9</td>\n",
       "      <td>96100.0</td>\n",
       "    </tr>\n",
       "    <tr>\n",
       "      <th>2</th>\n",
       "      <td>07W</td>\n",
       "      <td>1</td>\n",
       "      <td>19.0</td>\n",
       "      <td>122.8</td>\n",
       "      <td>96200.0</td>\n",
       "    </tr>\n",
       "    <tr>\n",
       "      <th>3</th>\n",
       "      <td>07W</td>\n",
       "      <td>1</td>\n",
       "      <td>19.4</td>\n",
       "      <td>121.7</td>\n",
       "      <td>95900.0</td>\n",
       "    </tr>\n",
       "    <tr>\n",
       "      <th>4</th>\n",
       "      <td>07W</td>\n",
       "      <td>1</td>\n",
       "      <td>19.3</td>\n",
       "      <td>121.0</td>\n",
       "      <td>95500.0</td>\n",
       "    </tr>\n",
       "  </tbody>\n",
       "</table>\n",
       "</div>"
      ],
      "text/plain": [
       "  stormIdentifier  ensembleMemberNumber  latitude  longitude  \\\n",
       "0             07W                     1      17.7      124.5   \n",
       "1             07W                     1      18.5      123.9   \n",
       "2             07W                     1      19.0      122.8   \n",
       "3             07W                     1      19.4      121.7   \n",
       "4             07W                     1      19.3      121.0   \n",
       "\n",
       "   pressureReducedToMeanSeaLevel  \n",
       "0                        96600.0  \n",
       "1                        96100.0  \n",
       "2                        96200.0  \n",
       "3                        95900.0  \n",
       "4                        95500.0  "
      ]
     },
     "execution_count": 4,
     "metadata": {},
     "output_type": "execute_result"
    }
   ],
   "source": [
    "# Import bufr file of the TC track\n",
    "df = pdbufr.read_bufr(\"../data/A_JSXX01ECEP250000_C_ECMP_20230725000000_tropical_cyclone_track_DOKSURI_124p6degE_17p6degN_bufr4.bin\",\n",
    "    columns=(\"stormIdentifier\", \"ensembleMemberNumber\", \"latitude\", \"longitude\",\n",
    "             \"pressureReducedToMeanSeaLevel\",))\n",
    "# Save the number of ensembles in a list\n",
    "members = df.ensembleMemberNumber.unique()\n",
    "df.head()"
   ]
  },
  {
   "cell_type": "code",
   "execution_count": 3,
   "id": "5a05b431-67c6-4d56-b467-fe55ec2dfdc5",
   "metadata": {},
   "outputs": [],
   "source": [
    "# Cyclone temporal horizon definition\n",
    "# For DOKSURI forecast of the 25th July we have 41 snapshot with 6h step\n",
    "start_dte = datetime(2023, 7, 25)\n",
    "end_dte = datetime(2023, 8, 4)\n",
    "step = timedelta(hours=6)\n",
    "time_steps = pd.date_range(start_dte, end_dte, freq=step)"
   ]
  },
  {
   "cell_type": "code",
   "execution_count": 4,
   "id": "9674894c-71c2-4d77-9a63-a9fe1e69129e",
   "metadata": {
    "tags": []
   },
   "outputs": [],
   "source": [
    "# Save all ensemble members track in a list called locations\n",
    "locations = []\n",
    "tracks_len = []\n",
    "tracks_date = []\n",
    "for m in members:\n",
    "    dft = df[df.ensembleMemberNumber == m]\n",
    "    dft_noNaN = dft.dropna()\n",
    "    lat = dft_noNaN.latitude.values\n",
    "    lon = dft_noNaN.longitude.values\n",
    "    locs = [[lat[i], lon[i]] for i in range(len(lat))]\n",
    "    track_len = len(locs)\n",
    "    date_range = time_steps[:track_len]\n",
    "    locations.append(locs)\n",
    "    tracks_len.append(track_len)\n",
    "    tracks_date.append(date_range)"
   ]
  },
  {
   "cell_type": "markdown",
   "id": "4c922ae0-cfcb-461d-80a2-b979ea6ffe19",
   "metadata": {},
   "source": [
    "## 2. Atmosphere and ocean characteristics"
   ]
  },
  {
   "cell_type": "code",
   "execution_count": 27,
   "id": "a285c9d0-f191-4741-a0dd-92fbd413ebf2",
   "metadata": {},
   "outputs": [
    {
     "data": {
      "application/vnd.jupyter.widget-view+json": {
       "model_id": "",
       "version_major": 2,
       "version_minor": 0
      },
      "text/plain": [
       "20230730000000-48h-oper-fc.grib2:   0%|          | 0.00/5.11M [00:00<?, ?B/s]"
      ]
     },
     "metadata": {},
     "output_type": "display_data"
    },
    {
     "data": {
      "text/plain": [
       "<ecmwf.opendata.client.Result at 0x27f5faf0430>"
      ]
     },
     "execution_count": 27,
     "metadata": {},
     "output_type": "execute_result"
    }
   ],
   "source": [
    "# Variable: Wind speed\n",
    "# Download from ECMWF open data\n",
    "request = {\n",
    "    \"time\": time,\n",
    "    # \"stream\": \"fc\", #HRES\n",
    "    \"type\": \"fc\",\n",
    "    \"step\": step,\n",
    "    # \"date\": date,\n",
    "    \"param\": [\"u\", \"v\"],\n",
    "}\n",
    "\n",
    "client = Client(source = \"ecmwf\")\n",
    "client.retrieve(request = request, target = \"test_data_access/wind.grib2\")"
   ]
  },
  {
   "cell_type": "code",
   "execution_count": 10,
   "id": "ad2fea42-c5bd-401f-9a3d-993119227d7b",
   "metadata": {
    "tags": []
   },
   "outputs": [],
   "source": [
    "# # Open the file and put it in a usable format\n",
    "# filename = \"test_data_access/wind.grib2\"\n",
    "# if mv.exist(filename):\n",
    "#     fs = mv.read(filename)\n",
    "# else:\n",
    "#     fs = mv.gallery.load_dataset(filename)"
   ]
  },
  {
   "cell_type": "code",
   "execution_count": 4,
   "id": "3f1a2e3d-11ed-4900-b4b7-16f15d9aef11",
   "metadata": {
    "tags": []
   },
   "outputs": [],
   "source": [
    "grbs = pygrib.open(\"test_data_access/wind.grib2\")"
   ]
  },
  {
   "cell_type": "code",
   "execution_count": 5,
   "id": "e53312df-1651-45e2-8dd5-47f6299a5633",
   "metadata": {
    "tags": []
   },
   "outputs": [
    {
     "data": {
      "text/plain": [
       "1:V component of wind:m s**-1 (instant):regular_ll:isobaricInhPa:level 30000 Pa:fcst time 48 hrs:from 202307300000"
      ]
     },
     "execution_count": 5,
     "metadata": {},
     "output_type": "execute_result"
    }
   ],
   "source": [
    "grbs.select()[0]"
   ]
  },
  {
   "cell_type": "code",
   "execution_count": 9,
   "id": "90904655-1100-4ad9-916e-a3088b2c9ff3",
   "metadata": {
    "tags": []
   },
   "outputs": [],
   "source": [
    "grb = grbs.select()[0]\n",
    "data = grb.values"
   ]
  },
  {
   "cell_type": "code",
   "execution_count": 22,
   "id": "702eb098-3db8-463c-afa5-73f62bd5008a",
   "metadata": {},
   "outputs": [
    {
     "name": "stdout",
     "output_type": "stream",
     "text": [
      "1:V component of wind:m s**-1 (instant):regular_ll:isobaricInhPa:level 30000 Pa:fcst time 48 hrs:from 202307300000\n",
      "2:U component of wind:m s**-1 (instant):regular_ll:isobaricInhPa:level 30000 Pa:fcst time 48 hrs:from 202307300000\n",
      "3:U component of wind:m s**-1 (instant):regular_ll:isobaricInhPa:level 5000 Pa:fcst time 48 hrs:from 202307300000\n",
      "4:V component of wind:m s**-1 (instant):regular_ll:isobaricInhPa:level 5000 Pa:fcst time 48 hrs:from 202307300000\n",
      "5:U component of wind:m s**-1 (instant):regular_ll:isobaricInhPa:level 25000 Pa:fcst time 48 hrs:from 202307300000\n",
      "6:V component of wind:m s**-1 (instant):regular_ll:isobaricInhPa:level 25000 Pa:fcst time 48 hrs:from 202307300000\n",
      "7:U component of wind:m s**-1 (instant):regular_ll:isobaricInhPa:level 20000 Pa:fcst time 48 hrs:from 202307300000\n",
      "8:V component of wind:m s**-1 (instant):regular_ll:isobaricInhPa:level 20000 Pa:fcst time 48 hrs:from 202307300000\n",
      "9:V component of wind:m s**-1 (instant):regular_ll:isobaricInhPa:level 92500 Pa:fcst time 48 hrs:from 202307300000\n",
      "10:U component of wind:m s**-1 (instant):regular_ll:isobaricInhPa:level 92500 Pa:fcst time 48 hrs:from 202307300000\n",
      "11:U component of wind:m s**-1 (instant):regular_ll:isobaricInhPa:level 50000 Pa:fcst time 48 hrs:from 202307300000\n",
      "12:V component of wind:m s**-1 (instant):regular_ll:isobaricInhPa:level 50000 Pa:fcst time 48 hrs:from 202307300000\n",
      "13:U component of wind:m s**-1 (instant):regular_ll:isobaricInhPa:level 85000 Pa:fcst time 48 hrs:from 202307300000\n",
      "14:V component of wind:m s**-1 (instant):regular_ll:isobaricInhPa:level 85000 Pa:fcst time 48 hrs:from 202307300000\n",
      "15:U component of wind:m s**-1 (instant):regular_ll:isobaricInhPa:level 70000 Pa:fcst time 48 hrs:from 202307300000\n",
      "16:V component of wind:m s**-1 (instant):regular_ll:isobaricInhPa:level 70000 Pa:fcst time 48 hrs:from 202307300000\n",
      "17:U component of wind:m s**-1 (instant):regular_ll:isobaricInhPa:level 100000 Pa:fcst time 48 hrs:from 202307300000\n",
      "18:V component of wind:m s**-1 (instant):regular_ll:isobaricInhPa:level 100000 Pa:fcst time 48 hrs:from 202307300000\n"
     ]
    }
   ],
   "source": [
    "for grb in grbs:\n",
    "    print(grb)"
   ]
  },
  {
   "cell_type": "code",
   "execution_count": 6,
   "id": "004dc461-736b-4be7-946a-43d9a7a910f6",
   "metadata": {
    "tags": []
   },
   "outputs": [
    {
     "ename": "NameError",
     "evalue": "name 'grb' is not defined",
     "output_type": "error",
     "traceback": [
      "\u001b[1;31m---------------------------------------------------------------------------\u001b[0m",
      "\u001b[1;31mNameError\u001b[0m                                 Traceback (most recent call last)",
      "Cell \u001b[1;32mIn[6], line 1\u001b[0m\n\u001b[1;32m----> 1\u001b[0m \u001b[43mgrb\u001b[49m\u001b[38;5;241m.\u001b[39mdescribe()\n",
      "\u001b[1;31mNameError\u001b[0m: name 'grb' is not defined"
     ]
    }
   ],
   "source": [
    "grb.describe()"
   ]
  },
  {
   "cell_type": "markdown",
   "id": "1d79a256-d7ea-4b79-b4b2-8844261bcd11",
   "metadata": {},
   "source": [
    "### Ocean variables"
   ]
  },
  {
   "cell_type": "code",
   "execution_count": null,
   "id": "2012744f-79c7-4f03-914d-b80634253536",
   "metadata": {},
   "outputs": [],
   "source": [
    "stream = \"wave\" #ocean characteristics"
   ]
  },
  {
   "cell_type": "markdown",
   "id": "05146bb6-e0ec-4be4-bda6-30f83e204619",
   "metadata": {},
   "source": [
    "## 3. Impact variables"
   ]
  },
  {
   "cell_type": "code",
   "execution_count": null,
   "id": "5b1deebf-0ef5-40d8-805a-ce152dcca26e",
   "metadata": {},
   "outputs": [],
   "source": []
  }
 ],
 "metadata": {
  "kernelspec": {
   "display_name": "Python 3 (ipykernel)",
   "language": "python",
   "name": "python3"
  },
  "language_info": {
   "codemirror_mode": {
    "name": "ipython",
    "version": 3
   },
   "file_extension": ".py",
   "mimetype": "text/x-python",
   "name": "python",
   "nbconvert_exporter": "python",
   "pygments_lexer": "ipython3",
   "version": "3.9.7"
  }
 },
 "nbformat": 4,
 "nbformat_minor": 5
}
