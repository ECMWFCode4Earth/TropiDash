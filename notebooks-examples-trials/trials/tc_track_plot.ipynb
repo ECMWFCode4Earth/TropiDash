{
 "cells": [
  {
   "cell_type": "code",
   "execution_count": 1,
   "id": "d5c08587-5108-4a11-9132-a1e3e09cd9b1",
   "metadata": {
    "tags": []
   },
   "outputs": [],
   "source": [
    "import pdbufr\n",
    "import sys\n",
    "import traceback\n",
    " \n",
    "from eccodes import *\n",
    "from ecmwf.opendata import Client\n",
    "from math import isnan\n",
    "\n",
    "from ipywidgets import interact\n",
    "import os\n",
    "import birdy\n",
    "import geopandas as gpd\n",
    "import pandas as pd\n",
    "from datetime import datetime, timedelta\n",
    "import ipyleaflet\n",
    "import ipywidgets as widgets\n",
    "\n",
    "import warnings\n",
    "warnings.filterwarnings(\"ignore\")"
   ]
  },
  {
   "cell_type": "code",
   "execution_count": 2,
   "id": "b258c1e7-df8b-4f58-a190-e9fce60dcce1",
   "metadata": {
    "tags": []
   },
   "outputs": [],
   "source": [
    "# Download the Tropical Cyclone tracks from ECMWF's 00UTC ENS forecast\n",
    "'''client.retrieve(\n",
    "    time=0,\n",
    "    stream=\"enfo\",\n",
    "    type=\"tf\",\n",
    "    step=240,\n",
    "    target=\"track_data/ens_tracks.bufr\",\n",
    ")''';"
   ]
  },
  {
   "cell_type": "code",
   "execution_count": 5,
   "id": "06c05ef3-4d5e-485f-a903-08593520d2c3",
   "metadata": {
    "tags": []
   },
   "outputs": [
    {
     "data": {
      "application/vnd.jupyter.widget-view+json": {
       "model_id": "",
       "version_major": 2,
       "version_minor": 0
      },
      "text/plain": [
       "20230731000000-240h-enfo-tf.bufr:   0%|          | 0.00/651k [00:00<?, ?B/s]"
      ]
     },
     "metadata": {},
     "output_type": "display_data"
    }
   ],
   "source": [
    "## DOWNLOAD FORECAST OF TODAY AND OPEN AS DATAFRAME##\n",
    "start_date_forecast = datetime(datetime.now().year, datetime.now().month, datetime.now().day)\n",
    "\n",
    "client = Client(source=\"azure\")\n",
    "\n",
    "client.retrieve(\n",
    "    date=int(start_date_forecast.strftime(\"%Y%m%d\")),\n",
    "    time=0,\n",
    "    stream=\"enfo\",\n",
    "    type=\"tf\",\n",
    "    step=240,\n",
    "    target=f\"track_data/ens_tracks_{start_date_forecast.day}-{start_date_forecast.month}.bufr\",\n",
    ");\n",
    "\n",
    "# Load bufr file\n",
    "def create_cycl_df():\n",
    "    df_tracks = pdbufr.read_bufr(f\"track_data/ens_tracks_{start_date_forecast.day}-{start_date_forecast.month}.bufr\",\n",
    "        columns=(\"stormIdentifier\", \"ensembleMemberNumber\", \"latitude\", \"longitude\",\n",
    "                 \"pressureReducedToMeanSeaLevel\"))\n",
    "    df1 = pdbufr.read_bufr(f\"track_data/ens_tracks_{start_date_forecast.day}-{start_date_forecast.month}.bufr\",\n",
    "        columns=(\"stormIdentifier\", \"ensembleMemberNumber\", \"latitude\", \"longitude\",\n",
    "                 \"windSpeedAt10M\"))\n",
    "    df_tracks[\"windSpeedAt10M\"] = df1.windSpeedAt10M\n",
    "    return df_tracks\n",
    "\n",
    "df_tracks = create_cycl_df()\n",
    "storms = storms = df_tracks.stormIdentifier.unique()"
   ]
  },
  {
   "cell_type": "code",
   "execution_count": 6,
   "id": "4c502252-c2fa-418f-bc79-c87cb41296b7",
   "metadata": {
    "tags": []
   },
   "outputs": [
    {
     "data": {
      "application/vnd.jupyter.widget-view+json": {
       "model_id": "06fe09158e57458ebb67376b94988a40",
       "version_major": 2,
       "version_minor": 0
      },
      "text/plain": [
       "Dropdown(description='Active Storms:', options=('08W', '70W', '71W', '72W', '73W', '74W', '75W', '76W', '77W',…"
      ]
     },
     "execution_count": 6,
     "metadata": {},
     "output_type": "execute_result"
    }
   ],
   "source": [
    "## SELECT CYCLONE TO PLOT ##\n",
    "cyclone = widgets.Dropdown(\n",
    "    options = storms.tolist(),\n",
    "    description = 'Active Storms:',\n",
    "    disabled=False,\n",
    ")\n",
    "cyclone.style.description_width = '90px'\n",
    "\n",
    "# Print widget\n",
    "cyclone"
   ]
  },
  {
   "cell_type": "code",
   "execution_count": 7,
   "id": "4f601265-0efb-4930-927e-9a256f6b14f4",
   "metadata": {},
   "outputs": [
    {
     "data": {
      "application/vnd.jupyter.widget-view+json": {
       "model_id": "b83f0bddde8343f59edeaca3d62d90a8",
       "version_major": 2,
       "version_minor": 0
      },
      "text/plain": [
       "Dropdown(description='Ensemble member:', options=(1, 2, 3, 4, 5, 6, 7, 8, 9, 10, 11, 12, 13, 14, 15, 16, 17, 1…"
      ]
     },
     "execution_count": 7,
     "metadata": {},
     "output_type": "execute_result"
    }
   ],
   "source": [
    "## SELECT ENSEMBLE MEMBER TO PLOT ##\n",
    "df_cycl = df_tracks[df_tracks.stormIdentifier == cyclone.value]\n",
    "members = df_cycl.ensembleMemberNumber.unique()\n",
    "\n",
    "# Create widget for ensemble member selection\n",
    "member = widgets.Dropdown(\n",
    "    options = members.tolist(),\n",
    "    value = 1,\n",
    "    description = 'Ensemble member:',\n",
    "    disabled=False,\n",
    ")\n",
    "\n",
    "# Link ensemble selection widget to cyclone selection widget\n",
    "def update_ensemble_members(_):\n",
    "    df_cycl = df_tracks[df_tracks.stormIdentifier == cyclone.value]\n",
    "    members = df_cycl.ensembleMemberNumber.unique()\n",
    "    member.options = members.tolist()\n",
    "\n",
    "cyclone.observe(update_ensemble_members, names='value')\n",
    "\n",
    "member.style.description_width = '120px'\n",
    "\n",
    "# Print widget\n",
    "member"
   ]
  },
  {
   "cell_type": "code",
   "execution_count": 8,
   "id": "0bcfd16c-4d5d-4a08-86ad-5ef2d17d427c",
   "metadata": {
    "tags": []
   },
   "outputs": [],
   "source": [
    "## TRACK DATAFRAME CREATION ##\n",
    "def create_track_df(df_cycl, start_date, ens_member):\n",
    "    df_track = df_cycl[df_cycl.ensembleMemberNumber == ens_member]\n",
    "    \n",
    "    # Add column of dates to the dataframe\n",
    "    df_track.reset_index(inplace=True)\n",
    "    df_track.drop(columns=\"index\", inplace=True)\n",
    "    df_track[\"date\"] = start_date + (df_track.index.to_numpy()+1) * timedelta(hours=6)\n",
    "    \n",
    "    # Drop NaN in latitude and longitude columns\n",
    "    df_track.dropna(subset = ['latitude', 'longitude'], inplace=True)\n",
    "    \n",
    "    # Locations and dates list for temporal horizon widget\n",
    "    lat = df_track.latitude.values\n",
    "    lon = df_track.longitude.values\n",
    "    locations = [[lat[i], lon[i]] for i in range(len(lat))]\n",
    "    track_dates = df_track[\"date\"]\n",
    "    \n",
    "    return locations, track_dates\n",
    "\n",
    "locations, track_dates = create_track_df(df_cycl, start_date_forecast, member.value)"
   ]
  },
  {
   "cell_type": "code",
   "execution_count": 9,
   "id": "86353b10-a2cb-40a2-a158-6b60807865cd",
   "metadata": {
    "tags": []
   },
   "outputs": [
    {
     "data": {
      "application/vnd.jupyter.widget-view+json": {
       "model_id": "719225d300c541f7b505f00d382de6d8",
       "version_major": 2,
       "version_minor": 0
      },
      "text/plain": [
       "interactive(children=(SelectionRangeSlider(description='Define horizon:', index=(0, 40), layout=Layout(width='…"
      ]
     },
     "metadata": {},
     "output_type": "display_data"
    }
   ],
   "source": [
    "## TEMPORAL HORIZON RANGE SLIDEBAR WITH DATES ##\n",
    "options = [(timestep.strftime('%d/%m %H'), timestep) for timestep in track_dates]\n",
    "index = (0, len(options)-1)\n",
    "\n",
    "temporal_horizon_slider = widgets.SelectionRangeSlider(\n",
    "    options=options,\n",
    "    index=index,\n",
    "    # description='Temporal Horizon:',\n",
    "    description='Define horizon:',\n",
    "    orientation='horizontal',\n",
    "    layout={'width': '500px'},\n",
    "    disabled=False,\n",
    ")\n",
    "\n",
    "# Define the size of the descprition box of the slider and other styles\n",
    "temporal_horizon_slider.style.description_width = '100px'\n",
    "temporal_horizon_slider.style.handle_color = 'orange'\n",
    "\n",
    "def print_date_range(date_range):\n",
    "    start, end = date_range\n",
    "    s = start.strftime('%d %b %Y %H:%M')\n",
    "    e = end.strftime('%d %b %Y %H:%M')\n",
    "    print(f'Temporal horizon: {s} - {e}')\n",
    "    \n",
    "# Link horizon slider to ensemble member selection\n",
    "def update_horizon_ens(_):\n",
    "    df_tracks = create_cycl_df()\n",
    "    df_cycl = df_tracks[df_tracks.stormIdentifier == cyclone.value]\n",
    "    locations, track_dates = create_track_df(df_cycl, start_date_forecast, member.value)\n",
    "    options = [(timestep.strftime('%d/%m %H'), timestep) for timestep in track_dates]\n",
    "    temporal_horizon_slider.options = options\n",
    "    temporal_horizon_slider.index = (0, len(options)-1)\n",
    "\n",
    "cyclone.observe(update_horizon_ens, names='value')\n",
    "member.observe(update_horizon_ens, names='value')\n",
    "\n",
    "# Print widget with selected temporal horizon displayed\n",
    "temporal_horizon_slider\n",
    "widgets.interact(\n",
    "        print_date_range,\n",
    "        date_range=temporal_horizon_slider\n",
    "    );"
   ]
  },
  {
   "cell_type": "code",
   "execution_count": 10,
   "id": "c7aace2e-a87f-466a-9a26-b9a7dba2360d",
   "metadata": {
    "tags": []
   },
   "outputs": [
    {
     "data": {
      "application/vnd.jupyter.widget-view+json": {
       "model_id": "a8c0016fd29f48f4b5fa4a9758fbaf6d",
       "version_major": 2,
       "version_minor": 0
      },
      "text/plain": [
       "interactive(children=(IntSlider(value=0, description='Timestep:', max=40, style=SliderStyle(description_width=…"
      ]
     },
     "metadata": {},
     "output_type": "display_data"
    }
   ],
   "source": [
    "## TEMPORAL SLIDEBAR TO SELECT SNAPSHOT##\n",
    "# Function to convert datetime to integer\n",
    "def datetime_to_int(dt):\n",
    "    return int((dt - start_date_forecast - timedelta(hours=6)).total_seconds() // timedelta(hours=6).total_seconds())\n",
    "\n",
    "# Function to convert interger to datetime\n",
    "def int_to_datetime(ts):\n",
    "    return start_date_forecast + timedelta(hours=6) + ts * timedelta(hours=6)\n",
    "\n",
    "timestep_slider=widgets.IntSlider(\n",
    "    min=0, \n",
    "    max=datetime_to_int(track_dates.iloc[-1].to_pydatetime()), \n",
    "    step=1, \n",
    "    value=0, \n",
    "    description='Timestep:')\n",
    "\n",
    "# Increase the size of the descprition box of the slider and other styles\n",
    "timestep_slider.style.description_width = '65px'\n",
    "timestep_slider.style.handle_color = 'orange'\n",
    "    \n",
    "def print_timestep(dt):\n",
    "    date = int_to_datetime(dt)\n",
    "    print('Selected date: ', date.strftime('%d %b %Y %H:%M'))\n",
    "    \n",
    "# Link the timestep selection slider to the horizon slider\n",
    "def update_snapshot_slider(_):\n",
    "    start, end = temporal_horizon_slider.value\n",
    "    timestep_slider.value = datetime_to_int(start.to_pydatetime())\n",
    "    timestep_slider.min = datetime_to_int(start.to_pydatetime())\n",
    "    timestep_slider.max = datetime_to_int(end.to_pydatetime())\n",
    "temporal_horizon_slider.observe(update_snapshot_slider, names='value')\n",
    "\n",
    "# Print widget with selected date displayed\n",
    "timestep_slider\n",
    "widgets.interact(\n",
    "    print_timestep,\n",
    "    dt=timestep_slider\n",
    ");"
   ]
  },
  {
   "cell_type": "code",
   "execution_count": 11,
   "id": "a97eba34-9f2e-493d-81eb-0edd13b901ae",
   "metadata": {
    "tags": []
   },
   "outputs": [
    {
     "data": {
      "application/vnd.jupyter.widget-view+json": {
       "model_id": "de8af66701fa423bad41331c680d09aa",
       "version_major": 2,
       "version_minor": 0
      },
      "text/plain": [
       "Map(center=[21.900000000000002, 131.8], controls=(ZoomControl(options=['position', 'zoom_in_text', 'zoom_in_ti…"
      ]
     },
     "execution_count": 11,
     "metadata": {},
     "output_type": "execute_result"
    }
   ],
   "source": [
    "## INTERACTIVE MAP FOR TROPICAL CYCLONE TRACK ##\n",
    "# Create the basemap for plotting\n",
    "initial_lat_lon = (locations[0][0], locations[0][1])\n",
    "tc_track_map = ipyleaflet.Map(\n",
    "    center=initial_lat_lon,\n",
    "    basemap=ipyleaflet.basemaps.OpenStreetMap.France,\n",
    "    zoom = 3.5,\n",
    ")\n",
    "\n",
    "# Add a custom zoom slider\n",
    "# zoom_slider = widgets.IntSlider(description=\"Zoom level:\", min=1, max=17, value=4)\n",
    "# widgets.jslink((zoom_slider, \"value\"), (tc_track_map, \"zoom\"))\n",
    "# widget_control1 = ipyleaflet.WidgetControl(widget=zoom_slider, position=\"topright\")\n",
    "# tc_track_map.add_control(widget_control1)\n",
    "\n",
    "# Add tropical cyclone track to the map\n",
    "track = ipyleaflet.Polyline(\n",
    "    locations=locations,\n",
    "    color=\"blue\" ,\n",
    "    fill=False,\n",
    "    name='Track',\n",
    ")\n",
    "\n",
    "# Link the cyclone track to the ensemble number and the temporal horizon \n",
    "def update_track(_):\n",
    "    df_tracks = create_cycl_df()\n",
    "    df_cycl = df_tracks[df_tracks.stormIdentifier == cyclone.value]\n",
    "    locations, track_dates = create_track_df(df_cycl, start_date_forecast, member.value)\n",
    "    start, end = temporal_horizon_slider.value\n",
    "    start_index = datetime_to_int(start.to_pydatetime())\n",
    "    end_index = datetime_to_int(end.to_pydatetime())\n",
    "    track.locations = locations[start_index:end_index+1]\n",
    "\n",
    "cyclone.observe(update_track, names='value')\n",
    "member.observe(update_track, names='value')\n",
    "temporal_horizon_slider.observe(update_track, names='value')\n",
    "\n",
    "tc_track_map.add_layer(track)\n",
    "\n",
    "# Add a marker to the map, for the snapshot selected\n",
    "marker = ipyleaflet.CircleMarker(location=locations[timestep_slider.value],\n",
    "                                 draggable=False,\n",
    "                                 name = 'Timestep',\n",
    "                                 color = \"orange\",\n",
    "                                 fill_color = \"orange\",\n",
    "                                 radius = 2,\n",
    "                                )\n",
    "\n",
    "# Link the marker to the snapshot selections slider\n",
    "def update_marker_location(_):\n",
    "    df_tracks = create_cycl_df()\n",
    "    df_cycl = df_tracks[df_tracks.stormIdentifier == cyclone.value]\n",
    "    locations, track_dates = create_track_df(df_cycl, start_date_forecast, member.value)\n",
    "    marker.location = locations[timestep_slider.value]\n",
    "\n",
    "cyclone.observe(update_marker_location, names='value') \n",
    "member.observe(update_marker_location, names='value')\n",
    "timestep_slider.observe(update_marker_location, names='value')\n",
    "\n",
    "tc_track_map.add_layer(marker)\n",
    "\n",
    "# Add layers widget to the map\n",
    "tc_track_map.add_control(ipyleaflet.LayersControl());\n",
    "\n",
    "# Print map\n",
    "tc_track_map"
   ]
  },
  {
   "cell_type": "code",
   "execution_count": null,
   "id": "89f8af73-a5d9-42cf-bb44-d9977853f6ef",
   "metadata": {},
   "outputs": [],
   "source": []
  }
 ],
 "metadata": {
  "kernelspec": {
   "display_name": "Python 3 (ipykernel)",
   "language": "python",
   "name": "python3"
  },
  "language_info": {
   "codemirror_mode": {
    "name": "ipython",
    "version": 3
   },
   "file_extension": ".py",
   "mimetype": "text/x-python",
   "name": "python",
   "nbconvert_exporter": "python",
   "pygments_lexer": "ipython3",
   "version": "3.11.4"
  }
 },
 "nbformat": 4,
 "nbformat_minor": 5
}
