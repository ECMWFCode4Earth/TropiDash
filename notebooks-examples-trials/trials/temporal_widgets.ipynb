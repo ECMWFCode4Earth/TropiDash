{
 "cells": [
  {
   "cell_type": "code",
   "execution_count": 1,
   "metadata": {},
   "outputs": [],
   "source": [
    "from ipyleaflet import Map, WMSLayer, basemaps\n",
    "\n",
    "from ipywidgets import interact\n",
    "import ipywidgets as widgets\n",
    "\n",
    "from datetime import datetime, timedelta\n",
    "import pandas as pd"
   ]
  },
  {
   "cell_type": "code",
   "execution_count": 2,
   "metadata": {},
   "outputs": [
    {
     "data": {
      "application/vnd.jupyter.widget-view+json": {
       "model_id": "f39d2e0c777c4048979b5f99967b1492",
       "version_major": 2,
       "version_minor": 0
      },
      "text/plain": [
       "interactive(children=(SelectionRangeSlider(description='Temporal Horizon:', index=(0, 72), layout=Layout(width…"
      ]
     },
     "metadata": {},
     "output_type": "display_data"
    },
    {
     "data": {
      "text/plain": [
       "<function __main__.print_date_range(date_range)>"
      ]
     },
     "execution_count": 2,
     "metadata": {},
     "output_type": "execute_result"
    }
   ],
   "source": [
    "## TEMPORAL HORIZON RANGE SLIDEBAR WITH DATES ##\n",
    "start_dte = datetime(2023, 6, 1)\n",
    "end_dte = datetime(2023, 6, 10)\n",
    "step = timedelta(hours=3)\n",
    "\n",
    "time_steps = pd.date_range(start_dte, end_dte, freq=step)\n",
    "\n",
    "options = [(time_step.strftime('%d %b %Y %H:%M'), time_step) for time_step in time_steps]\n",
    "index = (0, len(options)-1)\n",
    "\n",
    "temporal_horizon_slider = widgets.SelectionRangeSlider(\n",
    "    options=options,\n",
    "    index=index,\n",
    "    description='Temporal Horizon:',\n",
    "    orientation='horizontal',\n",
    "    layout={'width': '500px'},\n",
    "    disabled=False\n",
    ")\n",
    "\n",
    "def print_date_range(date_range):\n",
    "    print(date_range)\n",
    "\n",
    "widgets.interact(\n",
    "    print_date_range,\n",
    "    date_range=temporal_horizon_slider\n",
    ")"
   ]
  },
  {
   "cell_type": "code",
   "execution_count": 3,
   "metadata": {},
   "outputs": [
    {
     "data": {
      "application/vnd.jupyter.widget-view+json": {
       "model_id": "f71e278cf7b1474894a5269c951098a5",
       "version_major": 2,
       "version_minor": 0
      },
      "text/plain": [
       "VBox(children=(SelectionRangeSlider(description='Temporal Horizon:', index=(0, 72), layout=Layout(width='500px…"
      ]
     },
     "execution_count": 3,
     "metadata": {},
     "output_type": "execute_result"
    }
   ],
   "source": [
    "## TEMPORAL SLIDEBAR TO SELECT SNAPSHOT##\n",
    "\n",
    "# Function to convert datetime to integer\n",
    "def datetime_to_int(dt):\n",
    "    return int((dt - start_dte).total_seconds() // step.total_seconds())\n",
    "\n",
    "# Function to convert interger to datetime\n",
    "def int_to_datetime(ts):\n",
    "    return start_dte + ts * step\n",
    "\n",
    "timestep_slider=widgets.IntSlider(min=0, max=datetime_to_int(end_dte), step=1, value=0, description='Timestep:')\n",
    "\n",
    "def selecte_timestep(timestep_slider):\n",
    "    selected_datetime = int_to_datetime(timestep_slider)\n",
    "    print('Selected time: ', selected_datetime )\n",
    "\n",
    "def update_snapshot_slider(change):\n",
    "    start, end = temporal_horizon_slider.value\n",
    "    timestep_slider.value = datetime_to_int(start.to_pydatetime())\n",
    "    timestep_slider.min = datetime_to_int(start.to_pydatetime())\n",
    "    timestep_slider.max = datetime_to_int(end.to_pydatetime())\n",
    "\n",
    "temporal_horizon_slider.observe(update_snapshot_slider, names='value')\n",
    "\n",
    "widgets.VBox([temporal_horizon_slider, timestep_slider])"
   ]
  },
  {
   "cell_type": "code",
   "execution_count": 4,
   "metadata": {},
   "outputs": [
    {
     "data": {
      "application/vnd.jupyter.widget-view+json": {
       "model_id": "999f83fd43ad433c996963585a85a557",
       "version_major": 2,
       "version_minor": 0
      },
      "text/plain": [
       "VBox(children=(SelectionRangeSlider(description='Range:', index=(25, 75), options=(0, 1, 2, 3, 4, 5, 6, 7, 8, …"
      ]
     },
     "execution_count": 4,
     "metadata": {},
     "output_type": "execute_result"
    }
   ],
   "source": [
    "import ipywidgets as widgets\n",
    "\n",
    "# Define the SelectionRangeSlider for the range of values\n",
    "range_slider = widgets.SelectionRangeSlider(\n",
    "    options=list(range(0, 101)),  # Example range from 0 to 100\n",
    "    index=(25, 75),               # Initial selected range\n",
    "    description='Range:',\n",
    "    orientation='horizontal'\n",
    ")\n",
    "\n",
    "# Define the IntSlider that will be updated based on the SelectionRangeSlider\n",
    "int_slider = widgets.IntSlider(\n",
    "    min=0, \n",
    "    max=100, \n",
    "    step=1,\n",
    "    value=25,  # Initial value (start of the range)\n",
    "    description='Value:'\n",
    ")\n",
    "\n",
    "# Function to update the IntSlider based on the SelectionRangeSlider\n",
    "def update_int_slider(change):\n",
    "    start, end = range_slider.value\n",
    "    int_slider.value = start\n",
    "    int_slider.min = start\n",
    "    int_slider.max = end\n",
    "\n",
    "# Observe changes in the SelectionRangeSlider and update the IntSlider accordingly\n",
    "range_slider.observe(update_int_slider, names='value')\n",
    "\n",
    "# Display the widgets\n",
    "widgets.VBox([range_slider, int_slider])"
   ]
  },
  {
   "cell_type": "code",
   "execution_count": null,
   "metadata": {},
   "outputs": [],
   "source": []
  }
 ],
 "metadata": {
  "kernelspec": {
   "display_name": "Python 3 (ipykernel)",
   "language": "python",
   "name": "python3"
  },
  "language_info": {
   "codemirror_mode": {
    "name": "ipython",
    "version": 3
   },
   "file_extension": ".py",
   "mimetype": "text/x-python",
   "name": "python",
   "nbconvert_exporter": "python",
   "pygments_lexer": "ipython3",
   "version": "3.11.4"
  }
 },
 "nbformat": 4,
 "nbformat_minor": 2
}
