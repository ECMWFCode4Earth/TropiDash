{
 "cells": [
  {
   "cell_type": "code",
   "execution_count": 7,
   "metadata": {},
   "outputs": [],
   "source": [
    "from ipyleaflet import Map, WMSLayer, basemaps\n",
    "\n",
    "from ipywidgets import interact\n",
    "import ipywidgets as widgets\n",
    "\n",
    "from datetime import datetime, timedelta\n",
    "import pandas as pd"
   ]
  },
  {
   "cell_type": "code",
   "execution_count": 8,
   "metadata": {
    "tags": []
   },
   "outputs": [
    {
     "data": {
      "application/vnd.jupyter.widget-view+json": {
       "model_id": "8d9404c712e74269aa2de593f97d8978",
       "version_major": 2,
       "version_minor": 0
      },
      "text/plain": [
       "VBox(children=(FloatSlider(value=7.5, description='Input:', max=10.0, min=5.0), HTML(value='56.25', descriptio…"
      ]
     },
     "execution_count": 8,
     "metadata": {},
     "output_type": "execute_result"
    }
   ],
   "source": [
    "# The observe command makes you link widgets with a function/variable\n",
    "slider = widgets.FloatSlider(\n",
    "    value=7.5,\n",
    "    min=5.0,\n",
    "    max=10.0,\n",
    "    step=0.1,\n",
    "    description='Input:',\n",
    ")\n",
    "# Create non-editable text area to display square of value\n",
    "square_display = widgets.HTML(description=\"Square: \", value='{}'.format(slider.value**2))\n",
    "\n",
    "# Create function to update square_display's value when slider changes\n",
    "def update_square_display(change):\n",
    "    square_display.value = '{}'.format(change.new**2)\n",
    "    \n",
    "slider.observe(update_square_display, names='value')\n",
    "\n",
    "# Put them in a vertical box\n",
    "widgets.VBox([slider, square_display])"
   ]
  },
  {
   "cell_type": "code",
   "execution_count": 77,
   "metadata": {},
   "outputs": [
    {
     "data": {
      "application/vnd.jupyter.widget-view+json": {
       "model_id": "06e7e9be897f48ac9b415e6f07c67e49",
       "version_major": 2,
       "version_minor": 0
      },
      "text/plain": [
       "interactive(children=(SelectionRangeSlider(description='Temporal Horizon:', index=(0, 72), layout=Layout(width…"
      ]
     },
     "metadata": {},
     "output_type": "display_data"
    }
   ],
   "source": [
    "## TEMPORAL HORIZON RANGE SLIDEBAR WITH DATES ##\n",
    "start_dte = datetime(2023, 6, 1)\n",
    "end_dte = datetime(2023, 6, 10)\n",
    "step = timedelta(hours=3)\n",
    "\n",
    "time_steps = pd.date_range(start_dte, end_dte, freq=step)\n",
    "\n",
    "options = [(time_step.strftime('%d/%m %H'), time_step) for time_step in time_steps]\n",
    "index = (0, len(options)-1)\n",
    "\n",
    "temporal_horizon_slider = widgets.SelectionRangeSlider(\n",
    "    options=options,\n",
    "    index=index,\n",
    "    description='Temporal Horizon:',\n",
    "    orientation='horizontal',\n",
    "    layout={'width': '500px'},\n",
    "    disabled=False,\n",
    ")\n",
    "\n",
    "# Increase the size of the descprition box of the slider and other styles\n",
    "temporal_horizon_slider.style.description_width = '115px'\n",
    "temporal_horizon_slider.style.handle_color = 'orange'\n",
    "\n",
    "def print_date_range(date_range):\n",
    "    start, end = date_range\n",
    "    s = start.strftime('%d %b %Y %H:%M')\n",
    "    e = end.strftime('%d %b %Y %H:%M')\n",
    "    print(f'{s} - {e}')\n",
    "\n",
    "widgets.interact(\n",
    "    print_date_range,\n",
    "    date_range=temporal_horizon_slider\n",
    ");"
   ]
  },
  {
   "cell_type": "code",
   "execution_count": 71,
   "metadata": {
    "tags": []
   },
   "outputs": [
    {
     "name": "stdout",
     "output_type": "stream",
     "text": [
      "('01 Jun 2023 00:00', Timestamp('2023-06-01 00:00:00', freq='3H'))\n"
     ]
    }
   ],
   "source": [
    "print(options[0])"
   ]
  },
  {
   "cell_type": "code",
   "execution_count": 70,
   "metadata": {
    "tags": []
   },
   "outputs": [
    {
     "name": "stdout",
     "output_type": "stream",
     "text": [
      "['_model_module', '_model_module_version', '_model_name', '_view_count', '_view_module', '_view_module_version', '_view_name', 'description_width', 'handle_color']\n"
     ]
    }
   ],
   "source": [
    "print(temporal_horizon_slider.style.keys)"
   ]
  },
  {
   "cell_type": "code",
   "execution_count": 36,
   "metadata": {},
   "outputs": [
    {
     "data": {
      "application/vnd.jupyter.widget-view+json": {
       "model_id": "5804905c0a1b486aa6a4da1593b863d5",
       "version_major": 2,
       "version_minor": 0
      },
      "text/plain": [
       "VBox(children=(SelectionRangeSlider(description='Temporal Horizon:', index=(18, 54), layout=Layout(width='500p…"
      ]
     },
     "execution_count": 36,
     "metadata": {},
     "output_type": "execute_result"
    }
   ],
   "source": [
    "## TEMPORAL SLIDEBAR TO SELECT SNAPSHOT##\n",
    "\n",
    "# Function to convert datetime to integer\n",
    "def datetime_to_int(dt):\n",
    "    return int((dt - start_dte).total_seconds() // step.total_seconds())\n",
    "\n",
    "# Function to convert interger to datetime\n",
    "def int_to_datetime(ts):\n",
    "    return start_dte + ts * step\n",
    "\n",
    "timestep_slider=widgets.IntSlider(min=0, max=datetime_to_int(end_dte), step=1, value=0, description='Timestep:')\n",
    "\n",
    "def selecte_timestep(timestep_slider):\n",
    "    selected_datetime = int_to_datetime(timestep_slider)\n",
    "    print('Selected time: ', selected_datetime )\n",
    "\n",
    "def update_snapshot_slider(change):\n",
    "    start, end = temporal_horizon_slider.value\n",
    "    timestep_slider.value = datetime_to_int(start.to_pydatetime())\n",
    "    timestep_slider.min = datetime_to_int(start.to_pydatetime())\n",
    "    timestep_slider.max = datetime_to_int(end.to_pydatetime())\n",
    "\n",
    "temporal_horizon_slider.observe(update_snapshot_slider, names='value')\n",
    "\n",
    "widgets.VBox([temporal_horizon_slider, timestep_slider])"
   ]
  },
  {
   "cell_type": "code",
   "execution_count": 4,
   "metadata": {},
   "outputs": [
    {
     "data": {
      "application/vnd.jupyter.widget-view+json": {
       "model_id": "d2b99ebb14a14013a3002a7b6cb942cd",
       "version_major": 2,
       "version_minor": 0
      },
      "text/plain": [
       "VBox(children=(SelectionRangeSlider(description='Range:', index=(25, 75), options=(0, 1, 2, 3, 4, 5, 6, 7, 8, …"
      ]
     },
     "execution_count": 4,
     "metadata": {},
     "output_type": "execute_result"
    }
   ],
   "source": [
    "import ipywidgets as widgets\n",
    "\n",
    "# Define the SelectionRangeSlider for the range of values\n",
    "range_slider = widgets.SelectionRangeSlider(\n",
    "    options=list(range(0, 101)),  # Example range from 0 to 100\n",
    "    index=(25, 75),               # Initial selected range\n",
    "    description='Range:',\n",
    "    orientation='horizontal'\n",
    ")\n",
    "\n",
    "# Define the IntSlider that will be updated based on the SelectionRangeSlider\n",
    "int_slider = widgets.IntSlider(\n",
    "    min=0, \n",
    "    max=100, \n",
    "    step=1,\n",
    "    value=25,  # Initial value (start of the range)\n",
    "    description='Value:'\n",
    ")\n",
    "\n",
    "# Function to update the IntSlider based on the SelectionRangeSlider\n",
    "def update_int_slider(change):\n",
    "    start, end = range_slider.value\n",
    "    int_slider.value = start\n",
    "    int_slider.min = start\n",
    "    int_slider.max = end\n",
    "\n",
    "# Observe changes in the SelectionRangeSlider and update the IntSlider accordingly\n",
    "range_slider.observe(update_int_slider, names='value')\n",
    "\n",
    "# Display the widgets\n",
    "widgets.VBox([range_slider, int_slider])"
   ]
  },
  {
   "cell_type": "code",
   "execution_count": null,
   "metadata": {},
   "outputs": [],
   "source": []
  }
 ],
 "metadata": {
  "kernelspec": {
   "display_name": "Python 3 (ipykernel)",
   "language": "python",
   "name": "python3"
  },
  "language_info": {
   "codemirror_mode": {
    "name": "ipython",
    "version": 3
   },
   "file_extension": ".py",
   "mimetype": "text/x-python",
   "name": "python",
   "nbconvert_exporter": "python",
   "pygments_lexer": "ipython3",
   "version": "3.11.4"
  }
 },
 "nbformat": 4,
 "nbformat_minor": 4
}
