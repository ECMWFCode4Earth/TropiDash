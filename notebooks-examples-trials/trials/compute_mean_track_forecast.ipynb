{
 "cells": [
  {
   "cell_type": "markdown",
   "id": "fbc842bf-effb-4ae0-8444-244b459a60e4",
   "metadata": {},
   "source": [
    "Below you will find the routine to compute the ensemble mean position. It is in FORTRAN but I think you can understand the algorithm (let me know if you still have troubles to translate). Basically the inputs are knpf (dimensions of the vector of rlatpf and rlonpf), rlatpf & rlonpf the vectors containing the latitudes and longitudes of the ensemble for one time  step ( this routine is called for each forecast time step!). The output are the pair rlatmean and rlonmean (average position for that time step). Let me know if you have any other questions!"
   ]
  },
  {
   "cell_type": "markdown",
   "id": "013b63aa-19d9-44b1-9048-9cdeeb81a408",
   "metadata": {},
   "source": [
    "knps -> dimensions of the vector of rlatpf and rlonpf \\\n",
    "rlatpf, rlonpf -> vectors containing the latitudes and longitudes of the ensemble for one time step \\\n",
    "rlatmean, rlonmean -> output average position for that time step"
   ]
  },
  {
   "cell_type": "code",
   "execution_count": 59,
   "id": "66221532-cc73-4a9d-8109-473bd1c7808c",
   "metadata": {
    "tags": []
   },
   "outputs": [],
   "source": [
    "import pdbufr\n",
    "import math\n",
    "import pandas as pd\n",
    "import warnings\n",
    "warnings.filterwarnings(\"ignore\")"
   ]
  },
  {
   "cell_type": "code",
   "execution_count": 60,
   "id": "dd808e5b-63d9-47ee-bdd7-9475d6548451",
   "metadata": {
    "tags": []
   },
   "outputs": [],
   "source": [
    "def meanposit(knpf, rlatpf, rlonpf):\n",
    "    rpi = math.acos(0.0)\n",
    "    rnomin = 0.0\n",
    "    rdenom = 0.0\n",
    "    rphisum = 0.0\n",
    "    \n",
    "    for k in range(knpf):\n",
    "        rlat = rlatpf[k] * rpi / 180.0\n",
    "        rlon = rlonpf[k] * rpi / 180.0\n",
    "        rcosphi = math.cos(rlat)\n",
    "        rnomin += rcosphi * rlon\n",
    "        rdenom += rcosphi\n",
    "        rphisum += rlat\n",
    "    \n",
    "    rlabda = rnomin / rdenom\n",
    "    rlonmean = rlabda * 180.0 / rpi\n",
    "    \n",
    "    rnomin = 0.0\n",
    "    repsilon = 0.0\n",
    "    \n",
    "    for k in range(knpf):\n",
    "        rlat = rlatpf[k] * rpi / 180.0\n",
    "        rlon = rlonpf[k] * rpi / 180.0\n",
    "        rcosphi = math.cos(rlat)\n",
    "        rnomin += rcosphi * (rlabda - rlon) ** 2\n",
    "    \n",
    "    repsilon = rnomin / (2.0 * knpf)\n",
    "    rphimean = rphisum / float(knpf)\n",
    "    rphi = rphimean + repsilon * math.sin(rphimean)\n",
    "    rlatmean = rphi * 180.0 / rpi\n",
    "    \n",
    "    return rlatmean, rlonmean"
   ]
  },
  {
   "cell_type": "code",
   "execution_count": 62,
   "id": "e1d0e608-5091-470e-810b-0ad40533ef0f",
   "metadata": {
    "tags": []
   },
   "outputs": [
    {
     "data": {
      "text/html": [
       "<div>\n",
       "<style scoped>\n",
       "    .dataframe tbody tr th:only-of-type {\n",
       "        vertical-align: middle;\n",
       "    }\n",
       "\n",
       "    .dataframe tbody tr th {\n",
       "        vertical-align: top;\n",
       "    }\n",
       "\n",
       "    .dataframe thead th {\n",
       "        text-align: right;\n",
       "    }\n",
       "</style>\n",
       "<table border=\"1\" class=\"dataframe\">\n",
       "  <thead>\n",
       "    <tr style=\"text-align: right;\">\n",
       "      <th></th>\n",
       "      <th>stormIdentifier</th>\n",
       "      <th>ensembleMemberNumber</th>\n",
       "      <th>latitude</th>\n",
       "      <th>longitude</th>\n",
       "      <th>pressureReducedToMeanSeaLevel</th>\n",
       "      <th>windSpeedAt10M</th>\n",
       "    </tr>\n",
       "  </thead>\n",
       "  <tbody>\n",
       "    <tr>\n",
       "      <th>0</th>\n",
       "      <td>07E</td>\n",
       "      <td>1</td>\n",
       "      <td>16.6</td>\n",
       "      <td>-128.9</td>\n",
       "      <td>99900.0</td>\n",
       "      <td>18.5</td>\n",
       "    </tr>\n",
       "    <tr>\n",
       "      <th>1</th>\n",
       "      <td>07E</td>\n",
       "      <td>1</td>\n",
       "      <td>16.3</td>\n",
       "      <td>-130.1</td>\n",
       "      <td>100200.0</td>\n",
       "      <td>18.0</td>\n",
       "    </tr>\n",
       "    <tr>\n",
       "      <th>2</th>\n",
       "      <td>07E</td>\n",
       "      <td>1</td>\n",
       "      <td>16.4</td>\n",
       "      <td>-131.3</td>\n",
       "      <td>100200.0</td>\n",
       "      <td>17.0</td>\n",
       "    </tr>\n",
       "    <tr>\n",
       "      <th>3</th>\n",
       "      <td>07E</td>\n",
       "      <td>1</td>\n",
       "      <td>16.3</td>\n",
       "      <td>-132.4</td>\n",
       "      <td>100500.0</td>\n",
       "      <td>16.0</td>\n",
       "    </tr>\n",
       "    <tr>\n",
       "      <th>4</th>\n",
       "      <td>07E</td>\n",
       "      <td>1</td>\n",
       "      <td>16.4</td>\n",
       "      <td>-133.2</td>\n",
       "      <td>100300.0</td>\n",
       "      <td>14.4</td>\n",
       "    </tr>\n",
       "  </tbody>\n",
       "</table>\n",
       "</div>"
      ],
      "text/plain": [
       "  stormIdentifier  ensembleMemberNumber  latitude  longitude  \\\n",
       "0             07E                     1      16.6     -128.9   \n",
       "1             07E                     1      16.3     -130.1   \n",
       "2             07E                     1      16.4     -131.3   \n",
       "3             07E                     1      16.3     -132.4   \n",
       "4             07E                     1      16.4     -133.2   \n",
       "\n",
       "   pressureReducedToMeanSeaLevel  windSpeedAt10M  \n",
       "0                        99900.0            18.5  \n",
       "1                       100200.0            18.0  \n",
       "2                       100200.0            17.0  \n",
       "3                       100500.0            16.0  \n",
       "4                       100300.0            14.4  "
      ]
     },
     "execution_count": 62,
     "metadata": {},
     "output_type": "execute_result"
    }
   ],
   "source": [
    "def create_storms_df():\n",
    "    # Load cyclone dataframe with Mean sea level pressure value\n",
    "    df_storms = pdbufr.read_bufr('track_data/tc_test_track_data.bufr',\n",
    "        columns=(\"stormIdentifier\", \"ensembleMemberNumber\", \"latitude\", \"longitude\",\n",
    "                 \"pressureReducedToMeanSeaLevel\"))\n",
    "    # Load cyclone dataframe with Wind speed at 10m value\n",
    "    df1 = pdbufr.read_bufr('track_data/tc_test_track_data.bufr',\n",
    "        columns=(\"stormIdentifier\", \"ensembleMemberNumber\", \"latitude\", \"longitude\",\n",
    "                 \"windSpeedAt10M\"))\n",
    "    # Add the Wind speed at 10m column to the storms dataframe \n",
    "    df_storms[\"windSpeedAt10M\"] = df1.windSpeedAt10M\n",
    "    # Storms with number higher than 10 are not real storms (according to what Fernando said)\n",
    "    drop_condition = df_storms.stormIdentifier < '11'\n",
    "    df_storms = df_storms[drop_condition]\n",
    "    return df_storms\n",
    "\n",
    "df_storms = create_storms_df()\n",
    "df_storms.head()"
   ]
  },
  {
   "cell_type": "code",
   "execution_count": 65,
   "id": "727ff8f1-251e-4a63-b4f4-587c11fefca7",
   "metadata": {
    "tags": []
   },
   "outputs": [
    {
     "data": {
      "text/plain": [
       "[(13.778862793638012, -105.24039801421178),\n",
       " (14.284700117288995, -106.09040320697372),\n",
       " (14.790465797031512, -107.20001175658544),\n",
       " (15.253922915272895, -108.4672708568927),\n",
       " (15.81933826055671, -109.46534509877222),\n",
       " (16.404032804202934, -110.38267754487515),\n",
       " (17.0675532692854, -111.22891098128844),\n",
       " (17.834894049607122, -112.03085336249225),\n",
       " (18.71960150928682, -112.79243598714463),\n",
       " (19.506168992879537, -113.44256577010347),\n",
       " (20.358190525390302, -113.94258128373616),\n",
       " (21.33329842335623, -114.3158572592538),\n",
       " (22.52568972687106, -114.60456555881302),\n",
       " (23.741215156006824, -114.79141318984392),\n",
       " (25.204877692820034, -115.07631880642934),\n",
       " (26.739614525860066, -115.51511161449696),\n",
       " (28.39940316872781, -116.04372256055159),\n",
       " (30.23458307851418, -116.73695256693138),\n",
       " (31.73315387926842, -117.5121565671089),\n",
       " (32.21804648331987, -118.20180888082443),\n",
       " (31.90201607647228, -119.56959364001948),\n",
       " (32.064959829146176, -120.32476971974668),\n",
       " (31.56754584329959, -121.43386990477526),\n",
       " (31.720663588925618, -122.29818257346648),\n",
       " (32.60082846714974, -122.7487327012479),\n",
       " (32.87882443216224, -123.2210049086791),\n",
       " (33.81759297118427, -123.98124722618687),\n",
       " (34.529688312375384, -124.49673357838591),\n",
       " (35.48732868308668, -124.83759402671592),\n",
       " (35.726263069091765, -124.54701746647984),\n",
       " (37.0, -126.4)]"
      ]
     },
     "execution_count": 65,
     "metadata": {},
     "output_type": "execute_result"
    }
   ],
   "source": [
    "# Function that returns the list of coordinates for the mean forecast track\n",
    "def mean_forecast_track(df_storm):\n",
    "    \n",
    "    # Create 2 dataframe with latitude and logitude coordinates for each ensemble as columns\n",
    "    members = df_storm.ensembleMemberNumber.unique()\n",
    "    df_lat_tracks = pd.DataFrame()\n",
    "    df_lon_tracks = pd.DataFrame()\n",
    "    for member in members:\n",
    "        df_track = df_storm[df_storm.ensembleMemberNumber == member]\n",
    "        df_track.reset_index(inplace=True)\n",
    "        df_lat_tracks[f'latitude{member}'] = df_track.latitude\n",
    "        df_lon_tracks[f'longitude{member}'] = df_track.longitude\n",
    "    \n",
    "    # Cycle through the rows of df_lat_track and df_lon_tracks to compute the average track lat,lon\n",
    "    mean_track_coord = []\n",
    "    for t in range(len(df_lat_tracks)):\n",
    "        lat = df_lat_tracks.iloc[t].dropna().to_numpy()\n",
    "        lon = df_lon_tracks.iloc[t].dropna().to_numpy()\n",
    "        mean_lat_lon = meanposit(len(lat), lat, lon)\n",
    "        mean_track_coord.append(mean_lat_lon)\n",
    "        \n",
    "    return mean_track_coord\n",
    "\n",
    "df_storm = df_storms[df_storms.stormIdentifier == '09E']\n",
    "mean_forecast_track(df_storm)"
   ]
  },
  {
   "cell_type": "code",
   "execution_count": null,
   "id": "b183ea80-841f-4f68-a8cb-3e8bf01435e4",
   "metadata": {},
   "outputs": [],
   "source": []
  }
 ],
 "metadata": {
  "kernelspec": {
   "display_name": "Python 3 (ipykernel)",
   "language": "python",
   "name": "python3"
  },
  "language_info": {
   "codemirror_mode": {
    "name": "ipython",
    "version": 3
   },
   "file_extension": ".py",
   "mimetype": "text/x-python",
   "name": "python",
   "nbconvert_exporter": "python",
   "pygments_lexer": "ipython3",
   "version": "3.11.4"
  }
 },
 "nbformat": 4,
 "nbformat_minor": 5
}
