{
 "cells": [
  {
   "cell_type": "code",
   "execution_count": 22,
   "id": "82fb29a9-d039-4e0f-b38d-3230b3ccc051",
   "metadata": {
    "tags": []
   },
   "outputs": [],
   "source": [
    "from ecmwf.opendata import Client\n",
    "\n",
    "import pdbufr"
   ]
  },
  {
   "cell_type": "code",
   "execution_count": 23,
   "id": "8494ca41-88c8-433c-9d34-4268eb3121bb",
   "metadata": {
    "tags": []
   },
   "outputs": [
    {
     "data": {
      "application/vnd.jupyter.widget-view+json": {
       "model_id": "",
       "version_major": 2,
       "version_minor": 0
      },
      "text/plain": [
       "20230727000000-240h-oper-tf.bufr:   0%|          | 0.00/2.13k [00:00<?, ?B/s]"
      ]
     },
     "metadata": {},
     "output_type": "display_data"
    }
   ],
   "source": [
    "# Download the tropical cyclone trcks from ECMWF's 00UTC HRES forecast\n",
    "client = Client(source=\"ecmwf\")\n",
    "\n",
    "client.retrieve(\n",
    "    time=0,\n",
    "    stream=\"oper\",\n",
    "    type=\"tf\",\n",
    "    step=240,\n",
    "    target=\"track_data/track.bufr\",\n",
    ");"
   ]
  },
  {
   "cell_type": "code",
   "execution_count": 24,
   "id": "37b83de3-5ec5-4edf-99a7-d26af8869c43",
   "metadata": {
    "tags": []
   },
   "outputs": [],
   "source": [
    "# Import bufr file of the TC track\n",
    "df = pdbufr.read_bufr(\"track_data/track.bufr\",\n",
    "    columns=(\"stormIdentifier\", \"ensembleMemberNumber\", \"latitude\", \"longitude\",\n",
    "             \"pressureReducedToMeanSeaLevel\",))"
   ]
  },
  {
   "cell_type": "code",
   "execution_count": 25,
   "id": "61010f26-b3d1-4b59-9f4e-c992fec1fcda",
   "metadata": {
    "tags": []
   },
   "outputs": [
    {
     "data": {
      "application/vnd.jupyter.widget-view+json": {
       "model_id": "",
       "version_major": 2,
       "version_minor": 0
      },
      "text/plain": [
       "20230727000000-240h-enfo-tf.bufr:   0%|          | 0.00/535k [00:00<?, ?B/s]"
      ]
     },
     "metadata": {},
     "output_type": "display_data"
    },
    {
     "data": {
      "text/plain": [
       "<ecmwf.opendata.client.Result at 0x157a5ec50>"
      ]
     },
     "execution_count": 25,
     "metadata": {},
     "output_type": "execute_result"
    }
   ],
   "source": [
    "# Download the Tropical Cyclone tracks from ECMWF's 00UTC ENS forecast\n",
    "client.retrieve(\n",
    "    time=0,\n",
    "    stream=\"enfo\",\n",
    "    type=\"tf\",\n",
    "    step=240,\n",
    "    target=\"track_data/ens_tracks.bufr\",\n",
    ")"
   ]
  },
  {
   "cell_type": "code",
   "execution_count": 27,
   "id": "51788101-b54d-4f38-bfa1-5bc7d58dfdb0",
   "metadata": {
    "tags": []
   },
   "outputs": [],
   "source": [
    "# Import bufr file of the TC tracks\n",
    "df_tracks = pdbufr.read_bufr(\"track_data/ens_tracks.bufr\",\n",
    "    columns=(\"stormIdentifier\", \"ensembleMemberNumber\", \"latitude\", \"longitude\",\n",
    "             \"pressureReducedToMeanSeaLevel\",))\n",
    "storms = df_tracks.stormIdentifier.unique()"
   ]
  },
  {
   "cell_type": "code",
   "execution_count": 28,
   "id": "9b08e76c-dfc5-4592-b59d-8c70ef911ddb",
   "metadata": {
    "tags": []
   },
   "outputs": [
    {
     "data": {
      "text/plain": [
       "array(['07W', '08W', '70W', '71W', '72W', '73W', '74W', '75W', '76W',\n",
       "       '77W', '78W', '70E', '71E', '72E', '73E', '74E', '75E', '70L',\n",
       "       '71L', '72L', '74L', '75L', '76L', '77L', '78L', '70C', '71C',\n",
       "       '72C', '73C', '70A', '71A', '70B', '71B', '72B', '70S', '71S',\n",
       "       '70U', '71U', '70P', '71P', '72P'], dtype=object)"
      ]
     },
     "execution_count": 28,
     "metadata": {},
     "output_type": "execute_result"
    }
   ],
   "source": []
  },
  {
   "cell_type": "code",
   "execution_count": null,
   "id": "bee03336-b992-40cb-96e0-64f2038d051f",
   "metadata": {},
   "outputs": [],
   "source": []
  }
 ],
 "metadata": {
  "kernelspec": {
   "display_name": "Python 3 (ipykernel)",
   "language": "python",
   "name": "python3"
  },
  "language_info": {
   "codemirror_mode": {
    "name": "ipython",
    "version": 3
   },
   "file_extension": ".py",
   "mimetype": "text/x-python",
   "name": "python",
   "nbconvert_exporter": "python",
   "pygments_lexer": "ipython3",
   "version": "3.11.4"
  }
 },
 "nbformat": 4,
 "nbformat_minor": 5
}
