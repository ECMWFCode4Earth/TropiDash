{
 "cells": [
  {
   "cell_type": "code",
   "execution_count": 39,
   "id": "c44474bd-54c7-45e3-9849-3ade02a02056",
   "metadata": {
    "tags": []
   },
   "outputs": [],
   "source": [
    "import argparse\n",
    "import pickle\n",
    "import re\n",
    "from contextlib import ExitStack, nullcontext\n",
    "from datetime import datetime, timedelta\n",
    "from importlib import resources\n",
    "from itertools import chain, tee\n",
    "from os import environ, makedirs, path\n",
    "\n",
    " \n",
    "\n",
    "import eccodes\n",
    "import pdbufr\n",
    "import numpy as np\n",
    "import pandas as pd\n",
    "from scipy.optimize import root_scalar\n",
    "from scipy.spatial import KDTree\n",
    "\n",
    "import warnings\n",
    "warnings.filterwarnings(\"ignore\")"
   ]
  },
  {
   "cell_type": "code",
   "execution_count": 85,
   "id": "7a805ec2-e8dc-41b5-b3ed-8660d6788d83",
   "metadata": {
    "tags": []
   },
   "outputs": [],
   "source": [
    "# Function to import forecast storms file and load it in a dataframe\n",
    "def create_storms_df():\n",
    "    # Load cyclone dataframe with Mean sea level pressure value\n",
    "    df_storms = pdbufr.read_bufr('track_data/tc_test_track_data.bufr',\n",
    "        columns=(\"stormIdentifier\", \"ensembleMemberNumber\", \"year\", \"month\", \"day\", \"hour\", \"latitude\", \"longitude\",\n",
    "                 \"pressureReducedToMeanSeaLevel\"))\n",
    "    # Load cyclone dataframe with Wind speed at 10m value\n",
    "    df1 = pdbufr.read_bufr('track_data/tc_test_track_data.bufr',\n",
    "        columns=(\"stormIdentifier\", \"ensembleMemberNumber\", \"latitude\", \"longitude\",\n",
    "                 \"windSpeedAt10M\"))\n",
    "    # Load cyclone dataframe with timeperiod column\n",
    "    df2 = pdbufr.read_bufr('track_data/tc_test_track_data.bufr',\n",
    "        columns=(\"stormIdentifier\", \"ensembleMemberNumber\", \"latitude\", \"longitude\",\n",
    "                 \"timePeriod\"))\n",
    "    # Add the Wind speed at 10m column to the storms dataframe \n",
    "    df_storms[\"windSpeedAt10M\"] = df1.windSpeedAt10M\n",
    "    df_storms[\"timePeriod\"] = df2.timePeriod\n",
    "    # Storms with number higher than 10 are not real storms (according to what Fernando said)\n",
    "    drop_condition = df_storms.stormIdentifier < '11'\n",
    "    df_storms = df_storms[drop_condition]\n",
    "    return df_storms\n",
    "\n",
    "df_storms = create_storms_df()"
   ]
  },
  {
   "cell_type": "code",
   "execution_count": 99,
   "id": "95081125-affc-4165-a198-fb92b05b0377",
   "metadata": {
    "tags": []
   },
   "outputs": [
    {
     "name": "stdout",
     "output_type": "stream",
     "text": [
      "['07E' '08E' '09E' '09W']\n"
     ]
    }
   ],
   "source": [
    "print(df_storms.stormIdentifier.unique())\n",
    "df_storm = df_storms[df_storms.stormIdentifier == '07E']\n",
    "df_storm.reset_index(drop=True, inplace=True)"
   ]
  },
  {
   "cell_type": "code",
   "execution_count": 102,
   "id": "d6488f68-bbfb-4b06-b64d-69758235829d",
   "metadata": {
    "tags": []
   },
   "outputs": [
    {
     "data": {
      "text/html": [
       "<div>\n",
       "<style scoped>\n",
       "    .dataframe tbody tr th:only-of-type {\n",
       "        vertical-align: middle;\n",
       "    }\n",
       "\n",
       "    .dataframe tbody tr th {\n",
       "        vertical-align: top;\n",
       "    }\n",
       "\n",
       "    .dataframe thead th {\n",
       "        text-align: right;\n",
       "    }\n",
       "</style>\n",
       "<table border=\"1\" class=\"dataframe\">\n",
       "  <thead>\n",
       "    <tr style=\"text-align: right;\">\n",
       "      <th></th>\n",
       "      <th>lat</th>\n",
       "      <th>lon</th>\n",
       "      <th>number</th>\n",
       "      <th>date</th>\n",
       "      <th>hours</th>\n",
       "      <th>wind</th>\n",
       "      <th>msl</th>\n",
       "    </tr>\n",
       "  </thead>\n",
       "  <tbody>\n",
       "    <tr>\n",
       "      <th>0</th>\n",
       "      <td>16.6</td>\n",
       "      <td>-128.9</td>\n",
       "      <td>1</td>\n",
       "      <td>20230817</td>\n",
       "      <td>600</td>\n",
       "      <td>18.5</td>\n",
       "      <td>9.99</td>\n",
       "    </tr>\n",
       "    <tr>\n",
       "      <th>1</th>\n",
       "      <td>16.3</td>\n",
       "      <td>-130.1</td>\n",
       "      <td>1</td>\n",
       "      <td>20230817</td>\n",
       "      <td>1200</td>\n",
       "      <td>18.0</td>\n",
       "      <td>10.02</td>\n",
       "    </tr>\n",
       "    <tr>\n",
       "      <th>2</th>\n",
       "      <td>16.4</td>\n",
       "      <td>-131.3</td>\n",
       "      <td>1</td>\n",
       "      <td>20230817</td>\n",
       "      <td>1800</td>\n",
       "      <td>17.0</td>\n",
       "      <td>10.02</td>\n",
       "    </tr>\n",
       "    <tr>\n",
       "      <th>3</th>\n",
       "      <td>16.3</td>\n",
       "      <td>-132.4</td>\n",
       "      <td>1</td>\n",
       "      <td>20230818</td>\n",
       "      <td>0</td>\n",
       "      <td>16.0</td>\n",
       "      <td>10.05</td>\n",
       "    </tr>\n",
       "    <tr>\n",
       "      <th>4</th>\n",
       "      <td>16.4</td>\n",
       "      <td>-133.2</td>\n",
       "      <td>1</td>\n",
       "      <td>20230818</td>\n",
       "      <td>600</td>\n",
       "      <td>14.4</td>\n",
       "      <td>10.03</td>\n",
       "    </tr>\n",
       "  </tbody>\n",
       "</table>\n",
       "</div>"
      ],
      "text/plain": [
       "    lat    lon  number      date  hours  wind    msl\n",
       "0  16.6 -128.9       1  20230817    600  18.5   9.99\n",
       "1  16.3 -130.1       1  20230817   1200  18.0  10.02\n",
       "2  16.4 -131.3       1  20230817   1800  17.0  10.02\n",
       "3  16.3 -132.4       1  20230818      0  16.0  10.05\n",
       "4  16.4 -133.2       1  20230818    600  14.4  10.03"
      ]
     },
     "execution_count": 102,
     "metadata": {},
     "output_type": "execute_result"
    }
   ],
   "source": [
    "# Function to reorganize storm dataframe as input for strike probability map calculation\n",
    "\n",
    "def storm_df_reorganization(df):\n",
    "    df.rename(columns={\"ensembleMemberNumber\":\"number\", \"latitude\":\"lat\", \"longitude\":\"lon\", \"pressureReducedToMeanSeaLevel\":\"msl\", \"windSpeedAt10M\":\"wind\"}, inplace=True)\n",
    "    df.drop(columns=['stormIdentifier'])\n",
    "    df['msl'] = df_storm['msl'] / 100\n",
    "    dates = datetime(df.year[0], df.month[0], df.day[0], df.hour[0]) + timedelta(hours=1) * df.timePeriod\n",
    "    df[\"date\"] = dates.dt.strftime(\"%Y%m%d\")\n",
    "    df[\"hours\"] = dates.dt.strftime(\"%H\").astype(\"int\") * 100\n",
    "    df.drop(columns=['year','month','day','hour'])\n",
    "    df = df.reindex(['lat','lon','number','date','hours','wind','msl'], axis=1)\n",
    "    return df\n",
    "\n",
    "df_storm_re = storm_df_reorganization(df_storm)\n",
    "df_storm_re.head()"
   ]
  },
  {
   "cell_type": "code",
   "execution_count": 52,
   "id": "f76472dd-6fdd-4549-b14b-f6a4876f7385",
   "metadata": {
    "tags": []
   },
   "outputs": [
    {
     "data": {
      "text/plain": [
       "'060'"
      ]
     },
     "execution_count": 52,
     "metadata": {},
     "output_type": "execute_result"
    }
   ],
   "source": [
    "\"%.03s\" % dates[0].strftime(\"%H%M%M\")"
   ]
  },
  {
   "cell_type": "code",
   "execution_count": 60,
   "id": "32c2d4b0-d2d5-4fef-881a-0d3baa1e862e",
   "metadata": {
    "tags": []
   },
   "outputs": [
    {
     "data": {
      "text/plain": [
       "0        600\n",
       "1       1200\n",
       "2       1800\n",
       "3          0\n",
       "4        600\n",
       "        ... \n",
       "1503     600\n",
       "1504    1200\n",
       "1505    1800\n",
       "1506       0\n",
       "1507     600\n",
       "Name: timePeriod, Length: 1508, dtype: int64"
      ]
     },
     "execution_count": 60,
     "metadata": {},
     "output_type": "execute_result"
    }
   ],
   "source": [
    "hours = dates.dt.strftime(\"%H\").astype(\"int\") * 100\n",
    "hours"
   ]
  },
  {
   "cell_type": "code",
   "execution_count": null,
   "id": "ff4e7be7-dcec-4afe-8ab5-3933b8d9fb06",
   "metadata": {},
   "outputs": [],
   "source": []
  }
 ],
 "metadata": {
  "kernelspec": {
   "display_name": "Python 3 (ipykernel)",
   "language": "python",
   "name": "python3"
  },
  "language_info": {
   "codemirror_mode": {
    "name": "ipython",
    "version": 3
   },
   "file_extension": ".py",
   "mimetype": "text/x-python",
   "name": "python",
   "nbconvert_exporter": "python",
   "pygments_lexer": "ipython3",
   "version": "3.11.4"
  }
 },
 "nbformat": 4,
 "nbformat_minor": 5
}
