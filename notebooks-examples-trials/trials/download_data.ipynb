{
 "cells": [
  {
   "cell_type": "code",
   "execution_count": 23,
   "id": "52eddcd5",
   "metadata": {},
   "outputs": [],
   "source": [
    "from ecmwf.opendata import Client"
   ]
  },
  {
   "cell_type": "code",
   "execution_count": 28,
   "id": "57c25ed7",
   "metadata": {},
   "outputs": [
    {
     "data": {
      "application/vnd.jupyter.widget-view+json": {
       "model_id": "",
       "version_major": 2,
       "version_minor": 0
      },
      "text/plain": [
       "20230724000000-12h-oper-fc.grib2:   0%|          | 0.00/228k [00:00<?, ?B/s]"
      ]
     },
     "metadata": {},
     "output_type": "display_data"
    }
   ],
   "source": [
    "client = Client(\"https://data.ecmwf.int/forecasts\", beta=True) # ecwf: last five days\n",
    "client.retrieve(\n",
    "    date=0,\n",
    "    time=0,\n",
    "    step=12,\n",
    "    stream=\"oper\",\n",
    "    type=\"fc\",\n",
    "    levtype=\"sfc\",\n",
    "    param='msl',\n",
    "    target='test.grib'\n",
    ")\n",
    "\n"
   ]
  },
  {
   "cell_type": "code",
   "execution_count": null,
   "id": "978f9415",
   "metadata": {},
   "outputs": [],
   "source": []
  },
  {
   "cell_type": "code",
   "execution_count": 29,
   "id": "94d9c3c1",
   "metadata": {},
   "outputs": [
    {
     "data": {
      "application/vnd.jupyter.widget-view+json": {
       "model_id": "",
       "version_major": 2,
       "version_minor": 0
      },
      "text/plain": [
       "20230724000000-240h-oper-tf.bufr:   0%|          | 0.00/4.27k [00:00<?, ?B/s]"
      ]
     },
     "metadata": {},
     "output_type": "display_data"
    }
   ],
   "source": [
    "client.retrieve(\n",
    "    time=0,\n",
    "    stream=\"oper\",\n",
    "    type=\"tf\",\n",
    "    step=240,\n",
    "    target=\"data.bufr\",\n",
    ")"
   ]
  },
  {
   "cell_type": "code",
   "execution_count": 38,
   "id": "862c386d",
   "metadata": {},
   "outputs": [
    {
     "data": {
      "application/vnd.jupyter.widget-view+json": {
       "model_id": "",
       "version_major": 2,
       "version_minor": 0
      },
      "text/plain": [
       "20220605000000-240h-oper-tf.bufr:   0%|          | 0.00/1.32k [00:00<?, ?B/s]"
      ]
     },
     "metadata": {},
     "output_type": "display_data"
    }
   ],
   "source": [
    "client = Client(\"https://ai4edataeuwest.blob.core.windows.net/ecmwf\", beta=True) # azure: data from jan-2021 until now\n",
    "client.retrieve(\n",
    "    time=0,  # time start of the forecast or 12\n",
    "    date = 20220605, #date start of the forecast\n",
    "    stream=\"oper\",\n",
    "    type=\"tf\",\n",
    "    step=240, #step of the forecast\n",
    "    target=\"nom_fitxer2.bufr\",\n",
    ")\n"
   ]
  }
 ],
 "metadata": {
  "kernelspec": {
   "display_name": "Python 3 (ipykernel)",
   "language": "python",
   "name": "python3"
  },
  "language_info": {
   "codemirror_mode": {
    "name": "ipython",
    "version": 3
   },
   "file_extension": ".py",
   "mimetype": "text/x-python",
   "name": "python",
   "nbconvert_exporter": "python",
   "pygments_lexer": "ipython3",
   "version": "3.11.4"
  }
 },
 "nbformat": 4,
 "nbformat_minor": 5
}
