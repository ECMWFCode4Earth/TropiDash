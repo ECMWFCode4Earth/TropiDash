{
 "cells": [
  {
   "cell_type": "code",
   "execution_count": null,
   "id": "a5a9b77b",
   "metadata": {},
   "outputs": [],
   "source": [
    "# https://github.com/ecmwf/ecmwf-opendata"
   ]
  },
  {
   "cell_type": "markdown",
   "id": "cc304094",
   "metadata": {},
   "source": [
    "# INSTALING DEPENDENCIES"
   ]
  },
  {
   "cell_type": "code",
   "execution_count": null,
   "id": "8c2a8795",
   "metadata": {},
   "outputs": [],
   "source": [
    "#!pip3 install ipyleaflet\n",
    "#!pip3 install ipywidgets"
   ]
  },
  {
   "cell_type": "markdown",
   "id": "8d607c96",
   "metadata": {},
   "source": [
    "# IMPORT LIBRARIES"
   ]
  },
  {
   "cell_type": "code",
   "execution_count": 1,
   "id": "edee2429",
   "metadata": {},
   "outputs": [],
   "source": [
    "# WIDGETS\n",
    "from ipywidgets import interact\n",
    "import ipywidgets as widgets\n",
    "\n",
    "# DATA\n",
    "from ecmwf.opendata import Client\n",
    "from eccodes import *\n",
    "import numpy as np\n",
    "import xarray as xr\n",
    "\n",
    "# manage data\n",
    "import pdbufr # manage bufr data\n",
    "from datetime import datetime, timedelta # date functions\n",
    "import pandas as pd # manage dataframes\n",
    "from Magics.macro import * # load grib data\n",
    "\n",
    "# plot mapa\n",
    "import ipyleaflet\n",
    "\n"
   ]
  },
  {
   "cell_type": "code",
   "execution_count": null,
   "id": "e12a7729",
   "metadata": {},
   "outputs": [],
   "source": []
  },
  {
   "cell_type": "markdown",
   "id": "a7b8a4bf",
   "metadata": {},
   "source": [
    "# FUNCTIONS"
   ]
  },
  {
   "cell_type": "code",
   "execution_count": 2,
   "id": "caa712d6",
   "metadata": {},
   "outputs": [],
   "source": [
    "def print_date_range(date_range):\n",
    "    start, end = date_range\n",
    "    s = start.strftime('%d %b %Y %H:%M')\n",
    "    e = end.strftime('%d %b %Y %H:%M')\n",
    "    print(f'Temporal horizon: {s} - {e}')\n",
    "    \n",
    "def update_horizon_ens(change):\n",
    "    options = [(timestep.strftime('%d/%m %H'), timestep) for timestep in tracks_date[change.new - 1]]\n",
    "    temporal_horizon_slider.options = options\n",
    "    temporal_horizon_slider.index = (0, len(options)-1)\n",
    "# Function to convert datetime to integer\n",
    "def datetime_to_int(dt):\n",
    "    return int((dt - start_dte).total_seconds() // step.total_seconds())\n",
    "\n",
    "# Function to convert interger to datetime\n",
    "def int_to_datetime(ts):\n",
    "    return start_dte + ts * step\n",
    "\n",
    "def print_timestep(dt):\n",
    "    date = int_to_datetime(dt)\n",
    "    print('Selected date: ', date.strftime('%d %b %Y %H:%M'))\n",
    "    \n",
    "# Link the timestep selection slider to the horizon slider\n",
    "def update_snapshot_slider(change):\n",
    "    start, end = change.new\n",
    "    timestep_slider.value = datetime_to_int(start.to_pydatetime())\n",
    "    timestep_slider.min = datetime_to_int(start.to_pydatetime())\n",
    "    timestep_slider.max = datetime_to_int(end.to_pydatetime())\n",
    "# Link the cyclone track to the temporal horizon slider\n",
    "def update_track_location(change):\n",
    "    start, end = change.new\n",
    "    start_index = datetime_to_int(start.to_pydatetime())\n",
    "    end_index = datetime_to_int(end.to_pydatetime())\n",
    "    track.locations = locations[member.value - 1][start_index:end_index+1]\n",
    "def update_marker_location(change):\n",
    "    marker.location = locations[member.value - 1][change.new]\n"
   ]
  },
  {
   "cell_type": "markdown",
   "id": "6b5ed20a",
   "metadata": {},
   "source": [
    "# PARAMETERS (will be read from main widget)"
   ]
  },
  {
   "cell_type": "code",
   "execution_count": 96,
   "id": "28c3c6ed",
   "metadata": {},
   "outputs": [],
   "source": [
    "time = 0\n",
    "date = 20230806\n",
    "step = 12\n",
    "\n",
    "initial_lat_lon = (38, -90)\n",
    "\n",
    "#########################################\n",
    "#    date=0, # today\n",
    "#    date=-1, # yesterday\n",
    "#    date=-2, # the day before yesterday"
   ]
  },
  {
   "cell_type": "markdown",
   "id": "5a8e4de9",
   "metadata": {},
   "source": [
    "# other parameters"
   ]
  },
  {
   "cell_type": "code",
   "execution_count": 125,
   "id": "c62fcaca",
   "metadata": {},
   "outputs": [],
   "source": [
    "outfolder = ''\n"
   ]
  },
  {
   "cell_type": "markdown",
   "id": "d458567b",
   "metadata": {},
   "source": [
    "# variable initialization"
   ]
  },
  {
   "cell_type": "code",
   "execution_count": 126,
   "id": "2f616b42",
   "metadata": {},
   "outputs": [],
   "source": [
    "lat = initial_lat_lon[0]\n",
    "lon = initial_lat_lon[1]\n",
    "atm_variables = ['2t', 'msl']"
   ]
  },
  {
   "cell_type": "markdown",
   "id": "f5d01fd6",
   "metadata": {},
   "source": [
    "# DOWNLOAD DATA"
   ]
  },
  {
   "cell_type": "code",
   "execution_count": 102,
   "id": "1b47c807",
   "metadata": {},
   "outputs": [
    {
     "data": {
      "application/vnd.jupyter.widget-view+json": {
       "model_id": "",
       "version_major": 2,
       "version_minor": 0
      },
      "text/plain": [
       "20230806000000-240h-oper-fc.grib2:   0%|          | 0.00/281k [00:00<?, ?B/s]"
      ]
     },
     "metadata": {},
     "output_type": "display_data"
    },
    {
     "data": {
      "application/vnd.jupyter.widget-view+json": {
       "model_id": "",
       "version_major": 2,
       "version_minor": 0
      },
      "text/plain": [
       "20230806000000-240h-oper-fc.grib2:   0%|          | 0.00/234k [00:00<?, ?B/s]"
      ]
     },
     "metadata": {},
     "output_type": "display_data"
    }
   ],
   "source": [
    "for atm in atm_variables:\n",
    "    outname = outfolder + atm +  '.grib'\n",
    "    client = Client(\"https://data.ecmwf.int/forecasts\", beta=True) # ecwf: last five days\n",
    "    client.retrieve(\n",
    "        date = date, #date start of the forecast\n",
    "        time = time,  # time start of the forecast or 12\n",
    "        step = 240, #step of the forecast\n",
    "        stream = \"oper\",\n",
    "        type = \"fc\",\n",
    "        levtype = \"sfc\",\n",
    "        param = atm,\n",
    "        target = outname\n",
    ")"
   ]
  },
  {
   "cell_type": "markdown",
   "id": "bbcea282",
   "metadata": {},
   "source": [
    "# LOAD DATA INTO A DATAFRAME"
   ]
  },
  {
   "cell_type": "code",
   "execution_count": 103,
   "id": "dd02270d",
   "metadata": {},
   "outputs": [],
   "source": [
    "df = pd.DataFrame()\n",
    "flag = 1\n",
    "for atm in atm_variables:\n",
    "    with xr.open_dataset(outname, engine=\"cfgrib\") as data:\n",
    "        ds = data\n",
    "    if flag == 1:\n",
    "        df.assign(Latitude=ds.latitude.values, Longitude=ds.longitude.values)\n",
    "        flag = 0\n",
    "    locations = []\n",
    "    new_column = []\n",
    "    for ii in range(0,len(ds.latitude),1):\n",
    "        for jj in range(0,len(ds.longitude),1):\n",
    "            # here I don't know how to get the variabe value from an index instad than\n",
    "            # using the variable name so it  can be used for all the variables in the loop\n",
    "            new_value = ds.t2m.values[ii,jj]\n",
    "            new_column.append(new_value)\n",
    "            #locs = [ds.latitude.values[ii], ds.longitude.values[jj], new_value]\n",
    "            #locations.append(locs)\n",
    "    "
   ]
  },
  {
   "cell_type": "markdown",
   "id": "fb1d8fcd",
   "metadata": {},
   "source": [
    "# CREATE MAP WITHOUT LAYERS"
   ]
  },
  {
   "cell_type": "code",
   "execution_count": 134,
   "id": "39b730b9",
   "metadata": {},
   "outputs": [],
   "source": [
    "map_canvas = ipyleaflet.Map(\n",
    "    center= initial_lat_lon,\n",
    "    basemap=ipyleaflet.basemaps.OpenStreetMap.France,\n",
    "    zoom = 3.5,\n",
    ")\n"
   ]
  },
  {
   "cell_type": "markdown",
   "id": "bab39b0d",
   "metadata": {},
   "source": [
    "# SELECT VARIABLE TO PLOT"
   ]
  },
  {
   "cell_type": "code",
   "execution_count": null,
   "id": "c1565c62",
   "metadata": {},
   "outputs": [],
   "source": [
    "varid = widgets.Dropdown(\n",
    "    options = ['t2m'],\n",
    "    description = 'Atmospheric variable:',\n",
    "    disabled=False,\n",
    ")"
   ]
  },
  {
   "cell_type": "markdown",
   "id": "de18f939",
   "metadata": {},
   "source": [
    "# CREATE LAYER "
   ]
  },
  {
   "cell_type": "code",
   "execution_count": 97,
   "id": "9995b42a",
   "metadata": {},
   "outputs": [],
   "source": [
    "# test for a specific variable\n",
    "layer_mslp = Heatmap(\n",
    "    locations=locations_mslp,\n",
    "    radius=5\n",
    ")\n",
    "\n",
    "map_canvas.add_layer(layer_mslp)"
   ]
  },
  {
   "cell_type": "code",
   "execution_count": 139,
   "id": "37741230",
   "metadata": {},
   "outputs": [],
   "source": [
    "# test for a specific variable\n",
    "layer_t2m =  Heatmap(locations=locations, radius=10)\n",
    "map_canvas.add_layer(layer_t2m)"
   ]
  },
  {
   "cell_type": "code",
   "execution_count": 129,
   "id": "232d1e36",
   "metadata": {},
   "outputs": [
    {
     "ename": "KeyError",
     "evalue": "('Latitude', 'Longitude', 't2m')",
     "output_type": "error",
     "traceback": [
      "\u001b[0;31m---------------------------------------------------------------------------\u001b[0m",
      "\u001b[0;31mKeyError\u001b[0m                                  Traceback (most recent call last)",
      "File \u001b[0;32m~/.conda/envs/envconda/lib/python3.11/site-packages/pandas/core/indexes/base.py:3802\u001b[0m, in \u001b[0;36mIndex.get_loc\u001b[0;34m(self, key, method, tolerance)\u001b[0m\n\u001b[1;32m   3801\u001b[0m \u001b[38;5;28;01mtry\u001b[39;00m:\n\u001b[0;32m-> 3802\u001b[0m     \u001b[38;5;28;01mreturn\u001b[39;00m \u001b[38;5;28;43mself\u001b[39;49m\u001b[38;5;241;43m.\u001b[39;49m\u001b[43m_engine\u001b[49m\u001b[38;5;241;43m.\u001b[39;49m\u001b[43mget_loc\u001b[49m\u001b[43m(\u001b[49m\u001b[43mcasted_key\u001b[49m\u001b[43m)\u001b[49m\n\u001b[1;32m   3803\u001b[0m \u001b[38;5;28;01mexcept\u001b[39;00m \u001b[38;5;167;01mKeyError\u001b[39;00m \u001b[38;5;28;01mas\u001b[39;00m err:\n",
      "File \u001b[0;32m~/.conda/envs/envconda/lib/python3.11/site-packages/pandas/_libs/index.pyx:138\u001b[0m, in \u001b[0;36mpandas._libs.index.IndexEngine.get_loc\u001b[0;34m()\u001b[0m\n",
      "File \u001b[0;32m~/.conda/envs/envconda/lib/python3.11/site-packages/pandas/_libs/index.pyx:165\u001b[0m, in \u001b[0;36mpandas._libs.index.IndexEngine.get_loc\u001b[0;34m()\u001b[0m\n",
      "File \u001b[0;32mpandas/_libs/hashtable_class_helper.pxi:5745\u001b[0m, in \u001b[0;36mpandas._libs.hashtable.PyObjectHashTable.get_item\u001b[0;34m()\u001b[0m\n",
      "File \u001b[0;32mpandas/_libs/hashtable_class_helper.pxi:5753\u001b[0m, in \u001b[0;36mpandas._libs.hashtable.PyObjectHashTable.get_item\u001b[0;34m()\u001b[0m\n",
      "\u001b[0;31mKeyError\u001b[0m: ('Latitude', 'Longitude', 't2m')",
      "\nThe above exception was the direct cause of the following exception:\n",
      "\u001b[0;31mKeyError\u001b[0m                                  Traceback (most recent call last)",
      "Cell \u001b[0;32mIn[129], line 2\u001b[0m\n\u001b[1;32m      1\u001b[0m \u001b[38;5;66;03m# here the variable name (varid.value) will be read from the widget\u001b[39;00m\n\u001b[0;32m----> 2\u001b[0m locations \u001b[38;5;241m=\u001b[39m \u001b[43mdf\u001b[49m\u001b[43m[\u001b[49m\u001b[38;5;124;43m'\u001b[39;49m\u001b[38;5;124;43mLatitude\u001b[39;49m\u001b[38;5;124;43m'\u001b[39;49m\u001b[43m,\u001b[49m\u001b[43m \u001b[49m\u001b[38;5;124;43m'\u001b[39;49m\u001b[38;5;124;43mLongitude\u001b[39;49m\u001b[38;5;124;43m'\u001b[39;49m\u001b[43m,\u001b[49m\u001b[43m \u001b[49m\u001b[43mvarid\u001b[49m\u001b[38;5;241;43m.\u001b[39;49m\u001b[43mvalue\u001b[49m\u001b[43m]\u001b[49m\n\u001b[1;32m      3\u001b[0m new_layer  \u001b[38;5;241m=\u001b[39m  Heatmap(locations\u001b[38;5;241m=\u001b[39mlocations, radius\u001b[38;5;241m=\u001b[39m\u001b[38;5;241m5\u001b[39m, blur\u001b[38;5;241m=\u001b[39m\u001b[38;5;241m10\u001b[39m)\n\u001b[1;32m      4\u001b[0m map_canvas\u001b[38;5;241m.\u001b[39madd_layer(new_layer)\n",
      "File \u001b[0;32m~/.conda/envs/envconda/lib/python3.11/site-packages/pandas/core/frame.py:3807\u001b[0m, in \u001b[0;36mDataFrame.__getitem__\u001b[0;34m(self, key)\u001b[0m\n\u001b[1;32m   3805\u001b[0m \u001b[38;5;28;01mif\u001b[39;00m \u001b[38;5;28mself\u001b[39m\u001b[38;5;241m.\u001b[39mcolumns\u001b[38;5;241m.\u001b[39mnlevels \u001b[38;5;241m>\u001b[39m \u001b[38;5;241m1\u001b[39m:\n\u001b[1;32m   3806\u001b[0m     \u001b[38;5;28;01mreturn\u001b[39;00m \u001b[38;5;28mself\u001b[39m\u001b[38;5;241m.\u001b[39m_getitem_multilevel(key)\n\u001b[0;32m-> 3807\u001b[0m indexer \u001b[38;5;241m=\u001b[39m \u001b[38;5;28;43mself\u001b[39;49m\u001b[38;5;241;43m.\u001b[39;49m\u001b[43mcolumns\u001b[49m\u001b[38;5;241;43m.\u001b[39;49m\u001b[43mget_loc\u001b[49m\u001b[43m(\u001b[49m\u001b[43mkey\u001b[49m\u001b[43m)\u001b[49m\n\u001b[1;32m   3808\u001b[0m \u001b[38;5;28;01mif\u001b[39;00m is_integer(indexer):\n\u001b[1;32m   3809\u001b[0m     indexer \u001b[38;5;241m=\u001b[39m [indexer]\n",
      "File \u001b[0;32m~/.conda/envs/envconda/lib/python3.11/site-packages/pandas/core/indexes/base.py:3804\u001b[0m, in \u001b[0;36mIndex.get_loc\u001b[0;34m(self, key, method, tolerance)\u001b[0m\n\u001b[1;32m   3802\u001b[0m     \u001b[38;5;28;01mreturn\u001b[39;00m \u001b[38;5;28mself\u001b[39m\u001b[38;5;241m.\u001b[39m_engine\u001b[38;5;241m.\u001b[39mget_loc(casted_key)\n\u001b[1;32m   3803\u001b[0m \u001b[38;5;28;01mexcept\u001b[39;00m \u001b[38;5;167;01mKeyError\u001b[39;00m \u001b[38;5;28;01mas\u001b[39;00m err:\n\u001b[0;32m-> 3804\u001b[0m     \u001b[38;5;28;01mraise\u001b[39;00m \u001b[38;5;167;01mKeyError\u001b[39;00m(key) \u001b[38;5;28;01mfrom\u001b[39;00m \u001b[38;5;21;01merr\u001b[39;00m\n\u001b[1;32m   3805\u001b[0m \u001b[38;5;28;01mexcept\u001b[39;00m \u001b[38;5;167;01mTypeError\u001b[39;00m:\n\u001b[1;32m   3806\u001b[0m     \u001b[38;5;66;03m# If we have a listlike key, _check_indexing_error will raise\u001b[39;00m\n\u001b[1;32m   3807\u001b[0m     \u001b[38;5;66;03m#  InvalidIndexError. Otherwise we fall through and re-raise\u001b[39;00m\n\u001b[1;32m   3808\u001b[0m     \u001b[38;5;66;03m#  the TypeError.\u001b[39;00m\n\u001b[1;32m   3809\u001b[0m     \u001b[38;5;28mself\u001b[39m\u001b[38;5;241m.\u001b[39m_check_indexing_error(key)\n",
      "\u001b[0;31mKeyError\u001b[0m: ('Latitude', 'Longitude', 't2m')"
     ]
    }
   ],
   "source": [
    "# here the variable name (varid.value) will be read from the widget\n",
    "locations = df['Latitude', 'Longitude', varid.value]\n",
    "new_layer  =  Heatmap(locations=locations, radius=7, blur=10)\n",
    "map_canvas.add_layer(new_layer)"
   ]
  },
  {
   "cell_type": "code",
   "execution_count": 138,
   "id": "77693a03",
   "metadata": {},
   "outputs": [
    {
     "data": {
      "application/vnd.jupyter.widget-view+json": {
       "model_id": "cae2591c3add45d298c8e0d0d5237225",
       "version_major": 2,
       "version_minor": 0
      },
      "text/plain": [
       "Map(bottom=1780.0, center=[38, -90], controls=(ZoomControl(options=['position', 'zoom_in_text', 'zoom_in_title…"
      ]
     },
     "execution_count": 138,
     "metadata": {},
     "output_type": "execute_result"
    }
   ],
   "source": [
    "map_canvas"
   ]
  },
  {
   "cell_type": "code",
   "execution_count": null,
   "id": "b38084a8",
   "metadata": {},
   "outputs": [],
   "source": []
  }
 ],
 "metadata": {
  "kernelspec": {
   "display_name": "Python 3 (ipykernel)",
   "language": "python",
   "name": "python3"
  },
  "language_info": {
   "codemirror_mode": {
    "name": "ipython",
    "version": 3
   },
   "file_extension": ".py",
   "mimetype": "text/x-python",
   "name": "python",
   "nbconvert_exporter": "python",
   "pygments_lexer": "ipython3",
   "version": "3.11.4"
  }
 },
 "nbformat": 4,
 "nbformat_minor": 5
}
