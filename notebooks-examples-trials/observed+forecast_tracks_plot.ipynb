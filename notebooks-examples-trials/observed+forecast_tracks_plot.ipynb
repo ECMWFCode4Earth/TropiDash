{
 "cells": [
  {
   "cell_type": "code",
   "execution_count": 1,
   "id": "d3581e63-addf-42ed-9bb8-5b1161963262",
   "metadata": {
    "tags": []
   },
   "outputs": [],
   "source": [
    "import pdbufr\n",
    "import sys\n",
    "import traceback\n",
    " \n",
    "from math import isnan\n",
    "\n",
    "from eccodes import *\n",
    "from ecmwf.opendata import Client\n",
    "from math import isnan\n",
    "\n",
    "from ipywidgets import interact\n",
    "import os\n",
    "import birdy\n",
    "import geopandas as gpd\n",
    "import pandas as pd\n",
    "from datetime import datetime, timedelta\n",
    "import ipyleaflet\n",
    "import ipywidgets as widgets\n",
    "\n",
    "from Magics import macro as magics\n",
    "from IPython.display import display\n",
    "from Magics.macro import *\n",
    "\n",
    "import numpy as np\n",
    "import xarray as xr\n",
    "\n",
    "import haversine as hs\n",
    "\n",
    "import warnings\n",
    "warnings.filterwarnings(\"ignore\")\n",
    "\n",
    "from utils import *"
   ]
  },
  {
   "cell_type": "code",
   "execution_count": 2,
   "id": "3668f485-34b9-4072-8213-272e518f682a",
   "metadata": {
    "tags": []
   },
   "outputs": [],
   "source": [
    "## CODE TRIALS WITH FORECAST OF THE 17th AUGUST ##\n",
    "\n",
    "start_date_forecast = datetime(2023, 8, 17, 0)"
   ]
  },
  {
   "cell_type": "code",
   "execution_count": 3,
   "id": "9dbe2f28-b487-403e-ad71-82948b7cb79d",
   "metadata": {
    "tags": []
   },
   "outputs": [
    {
     "data": {
      "application/vnd.jupyter.widget-view+json": {
       "model_id": "",
       "version_major": 2,
       "version_minor": 0
      },
      "text/plain": [
       "20230817000000-240h-enfo-tf.bufr:   0%|          | 0.00/752k [00:00<?, ?B/s]"
      ]
     },
     "metadata": {},
     "output_type": "display_data"
    }
   ],
   "source": [
    "## DOWNLOAD DATA FORECAST ##\n",
    "# If too early in the morning the forecast of the current day cannot be donwloaded, need to fix this -> If raiseError: download forecast of the previous day\n",
    "client = Client(source=\"azure\")\n",
    "\n",
    "start_date = start_date_forecast.strftime(\"%Y%m%d\")\n",
    "\n",
    "client.retrieve(\n",
    "    date=int(start_date),\n",
    "    time=0,\n",
    "    stream=\"enfo\",\n",
    "    type=\"tf\",\n",
    "    step=240,\n",
    "    target=f\"data/tc_test_track_data.bufr\",\n",
    ");"
   ]
  },
  {
   "cell_type": "code",
   "execution_count": 4,
   "id": "e71847be-11fd-445f-82c3-0b6955298682",
   "metadata": {},
   "outputs": [
    {
     "name": "stdout",
     "output_type": "stream",
     "text": [
      "Observed tracks:  ['KHANUN', 'DORA', 'LAN', 'FERNANDA', 'GREG', 'HILARY']\n",
      "Forecasted tracks:  ['07E' '08E' '09E' '09W']\n"
     ]
    }
   ],
   "source": [
    "## LOAD TRACKS FORECAST DATA IN A DATAFRAME ##\n",
    "df_storms_forecast = create_storms_df()\n",
    "\n",
    "## LOAD OBSERVED TRACKS IN A DATAFRAME\n",
    "df_storms_observed = pd.read_csv('data/ibtracs.ACTIVE.list.v04r00.csv', header=[0,1])\n",
    "\n",
    "print('Observed tracks: ', df_storms_observed.NAME.squeeze().unique().tolist())\n",
    "print('Forecasted tracks: ', df_storms_forecast.stormIdentifier.unique())"
   ]
  },
  {
   "cell_type": "code",
   "execution_count": 5,
   "id": "594f3a21-d78f-42ac-a23c-c658f40d526e",
   "metadata": {
    "tags": []
   },
   "outputs": [
    {
     "name": "stdout",
     "output_type": "stream",
     "text": [
      "['07E-FERNANDA', '08E-GREG', '09E-HILARY', '09W-LAN']\n"
     ]
    }
   ],
   "source": [
    "## FIND THE CORRESPONDENT OBSERVED STORMS TO THOSE PRESENT IN THE FORECAST ##\n",
    "storms_pair = storms_pair(df_storms_forecast, df_storms_observed)\n",
    "print(storms_pair)"
   ]
  },
  {
   "cell_type": "code",
   "execution_count": 6,
   "id": "b736d7f9-671b-4570-8414-9c4a9ae77be9",
   "metadata": {
    "tags": []
   },
   "outputs": [],
   "source": [
    "## WIDGETS FOR INTERACTIVE MAPS PLOT ##\n",
    "\n",
    "# Cyclone dropdown selection\n",
    "cyclone = widgets.Dropdown(\n",
    "    options = storms_pair,\n",
    "    description = 'Active Storms:',\n",
    "    disabled=False,\n",
    ")\n",
    "cyclone.style.description_width = '90px'\n",
    "\n",
    "# Longitude slider\n",
    "longitude = np.arange(-180,185,5)\n",
    "longitude_slider = widgets.SelectionRangeSlider(\n",
    "    options=longitude,\n",
    "    index=(0, len(longitude)-1),\n",
    "    description='Longitude:',\n",
    "    orientation='horizontal',\n",
    "    layout={'width': '400px'},\n",
    "    disabled=False,\n",
    ")\n",
    "\n",
    "longitude_slider.style.description_width = '68px'\n",
    "longitude_slider.style.handle_color = 'lightgreen'\n",
    "\n",
    "# Latitude slider\n",
    "latitude = np.arange(-90,95,5)\n",
    "latitude_slider = widgets.SelectionRangeSlider(\n",
    "    options=latitude,\n",
    "    index=(0, len(latitude)-1),\n",
    "    description='Latitude:',\n",
    "    orientation='horizontal',\n",
    "    layout={'width': '400px'},\n",
    "    disabled=False,\n",
    ")\n",
    "\n",
    "latitude_slider.style.description_width = '58px'\n",
    "latitude_slider.style.handle_color = 'lightgreen'"
   ]
  },
  {
   "cell_type": "code",
   "execution_count": 7,
   "id": "dd8260fc-bc50-43df-815c-586fcd398bfc",
   "metadata": {
    "tags": []
   },
   "outputs": [],
   "source": [
    "# widgets.interactive(plot_cyclone_tracks_magics, cyclone=cyclone, lat_boundaries=latitude_slider, lon_boundaries=longitude_slider)"
   ]
  },
  {
   "cell_type": "code",
   "execution_count": 8,
   "id": "bbc408e2-ac37-47c0-8751-88e5f830966c",
   "metadata": {
    "tags": []
   },
   "outputs": [
    {
     "data": {
      "application/vnd.jupyter.widget-view+json": {
       "model_id": "b0e192d7e4fe483eb8b1c77ee993e3e3",
       "version_major": 2,
       "version_minor": 0
      },
      "text/plain": [
       "interactive(children=(Dropdown(description='Active Storms:', options=('07E-FERNANDA', '08E-GREG', '09E-HILARY'…"
      ]
     },
     "execution_count": 8,
     "metadata": {},
     "output_type": "execute_result"
    }
   ],
   "source": [
    "widgets.interactive(plot_cyclone_tracks_ipyleaflet, cyclone=cyclone)"
   ]
  },
  {
   "cell_type": "code",
   "execution_count": null,
   "id": "52f93031-5776-4c8e-8f6f-60177dbc7918",
   "metadata": {},
   "outputs": [],
   "source": []
  }
 ],
 "metadata": {
  "kernelspec": {
   "display_name": "Python 3 (ipykernel)",
   "language": "python",
   "name": "python3"
  },
  "language_info": {
   "codemirror_mode": {
    "name": "ipython",
    "version": 3
   },
   "file_extension": ".py",
   "mimetype": "text/x-python",
   "name": "python",
   "nbconvert_exporter": "python",
   "pygments_lexer": "ipython3",
   "version": "3.11.4"
  }
 },
 "nbformat": 4,
 "nbformat_minor": 5
}
