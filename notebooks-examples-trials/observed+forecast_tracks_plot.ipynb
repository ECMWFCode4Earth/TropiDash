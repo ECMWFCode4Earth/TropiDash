{
 "cells": [
  {
   "cell_type": "code",
   "execution_count": 15,
   "id": "d3581e63-addf-42ed-9bb8-5b1161963262",
   "metadata": {
    "tags": []
   },
   "outputs": [],
   "source": [
    "import pdbufr\n",
    "import sys\n",
    "import traceback\n",
    " \n",
    "from math import isnan\n",
    "\n",
    "from eccodes import *\n",
    "from ecmwf.opendata import Client\n",
    "from math import isnan\n",
    "\n",
    "from ipywidgets import interact\n",
    "import os\n",
    "import birdy\n",
    "import geopandas as gpd\n",
    "import pandas as pd\n",
    "from datetime import datetime, timedelta\n",
    "import ipyleaflet\n",
    "import ipywidgets as widgets\n",
    "\n",
    "from Magics import macro as magics\n",
    "from IPython.display import display\n",
    "from Magics.macro import *\n",
    "\n",
    "import numpy as np\n",
    "import xarray as xr\n",
    "\n",
    "import haversine as hs\n",
    "\n",
    "import warnings\n",
    "warnings.filterwarnings(\"ignore\")"
   ]
  },
  {
   "cell_type": "code",
   "execution_count": 16,
   "id": "3668f485-34b9-4072-8213-272e518f682a",
   "metadata": {
    "tags": []
   },
   "outputs": [],
   "source": [
    "## CODE TRIALS WITH FORECAST OF THE 17th AUGUST ##\n",
    "\n",
    "start_date_forecast = datetime(2023, 8, 17, 0)"
   ]
  },
  {
   "cell_type": "code",
   "execution_count": 17,
   "id": "9dbe2f28-b487-403e-ad71-82948b7cb79d",
   "metadata": {
    "tags": []
   },
   "outputs": [
    {
     "data": {
      "application/vnd.jupyter.widget-view+json": {
       "model_id": "",
       "version_major": 2,
       "version_minor": 0
      },
      "text/plain": [
       "20230817000000-240h-enfo-tf.bufr:   0%|          | 0.00/752k [00:00<?, ?B/s]"
      ]
     },
     "metadata": {},
     "output_type": "display_data"
    }
   ],
   "source": [
    "## DOWNLOAD DATA FORECAST ##\n",
    "# If too early in the morning the forecast of the current day cannot be donwloaded, need to fix this -> If raiseError: download forecast of the previous day\n",
    "client = Client(source=\"azure\")\n",
    "\n",
    "start_date = start_date_forecast.strftime(\"%Y%m%d\")\n",
    "\n",
    "client.retrieve(\n",
    "    date=int(start_date),\n",
    "    time=0,\n",
    "    stream=\"enfo\",\n",
    "    type=\"tf\",\n",
    "    step=240,\n",
    "    target=f\"data/tc_test_{start_date}.bufr\",\n",
    ");"
   ]
  },
  {
   "cell_type": "code",
   "execution_count": 18,
   "id": "e71847be-11fd-445f-82c3-0b6955298682",
   "metadata": {},
   "outputs": [
    {
     "name": "stdout",
     "output_type": "stream",
     "text": [
      "Observed tracks:  ['KHANUN', 'DORA', 'LAN', 'FERNANDA', 'GREG', 'HILARY']\n",
      "Forecasted tracks:  ['07E' '08E' '09E' '09W']\n"
     ]
    }
   ],
   "source": [
    "## LOAD TRACKS FORECAST DATA IN A DATAFRAME ##\n",
    "# Function to import forecast storms file and load it in a dataframe\n",
    "def create_storms_df():\n",
    "    # Load cyclone dataframe with Mean sea level pressure value\n",
    "    df_storms = pdbufr.read_bufr(f\"data/tc_test_{start_date}.bufr\",\n",
    "        columns=(\"stormIdentifier\", \"ensembleMemberNumber\", \"latitude\", \"longitude\",\n",
    "                 \"pressureReducedToMeanSeaLevel\"))\n",
    "    # Load cyclone dataframe with Wind speed at 10m value\n",
    "    df1 = pdbufr.read_bufr(f\"data/tc_test_{start_date}.bufr\",\n",
    "        columns=(\"stormIdentifier\", \"ensembleMemberNumber\", \"latitude\", \"longitude\",\n",
    "                 \"windSpeedAt10M\"))\n",
    "    # Add the Wind speed at 10m column to the storms dataframe \n",
    "    df_storms[\"windSpeedAt10M\"] = df1.windSpeedAt10M\n",
    "    # Storms with number higher than 10 are not real storms (according to what Fernando said)\n",
    "    drop_condition = df_storms.stormIdentifier < '11'\n",
    "    df_storms = df_storms[drop_condition]\n",
    "    return df_storms\n",
    "\n",
    "df_storms_forecast = create_storms_df()\n",
    "\n",
    "## LOAD OBSERVED TRACKS IN A DATAFRAME\n",
    "df_storms_observed = pd.read_csv('data/ibtracs.ACTIVE.list.v04r00.csv', header=[0,1])\n",
    "\n",
    "print('Observed tracks: ', df_storms_observed.NAME.squeeze().unique().tolist())\n",
    "print('Forecasted tracks: ', df_storms_forecast.stormIdentifier.unique())"
   ]
  },
  {
   "cell_type": "code",
   "execution_count": 19,
   "id": "5eebd9f5-8192-4090-a31c-88202bfa19fd",
   "metadata": {
    "tags": []
   },
   "outputs": [
    {
     "name": "stdout",
     "output_type": "stream",
     "text": [
      "['07E-FERNANDA', '08E-GREG', '09E-HILARY', '09W-LAN']\n"
     ]
    }
   ],
   "source": [
    "## FIND THE CORRESPONDENT OBSERVED STORMS TO THOSE PRESENT IN THE FORECAST ##\n",
    "for_storms = df_storms_forecast.stormIdentifier.unique()\n",
    "obs_storms = df_storms_observed.NAME.squeeze().unique().tolist()\n",
    "\n",
    "storms_pair = []\n",
    "\n",
    "for f_storm in for_storms:\n",
    "    dff = df_storms_forecast[df_storms_forecast.stormIdentifier == f_storm]\n",
    "    loc_f = (dff.iloc[0].latitude, dff.iloc[0].longitude)\n",
    "    max_dist = 40075 # kms of the equator\n",
    "    for o_storm in obs_storms:\n",
    "        dfo = df_storms_observed[df_storms_observed.NAME.squeeze() == o_storm]\n",
    "        loc_o = (dfo.iloc[-1].LAT.squeeze(), dfo.iloc[-1].LON.squeeze())\n",
    "        # Compute the distance between two point on earth with the haversine distance (output in km)\n",
    "        hs_dist = hs.haversine(loc_f, loc_o)\n",
    "        if hs_dist < max_dist:\n",
    "            pair = f\"{f_storm}-{o_storm}\"\n",
    "            max_dist = hs_dist\n",
    "    storms_pair.append(pair)\n",
    "    \n",
    "print(storms_pair)"
   ]
  },
  {
   "cell_type": "code",
   "execution_count": 20,
   "id": "b736d7f9-671b-4570-8414-9c4a9ae77be9",
   "metadata": {
    "tags": []
   },
   "outputs": [],
   "source": [
    "## WIDGETS FOR INTERACTIVE MAPS PLOT ##\n",
    "\n",
    "# Cyclone dropdown selection\n",
    "cyclone = widgets.Dropdown(\n",
    "    options = storms_pair,\n",
    "    description = 'Active Storms:',\n",
    "    disabled=False,\n",
    ")\n",
    "cyclone.style.description_width = '90px'\n",
    "\n",
    "# Longitude slider\n",
    "longitude = np.arange(-180,185,5)\n",
    "longitude_slider = widgets.SelectionRangeSlider(\n",
    "    options=longitude,\n",
    "    index=(0, len(longitude)-1),\n",
    "    description='Longitude:',\n",
    "    orientation='horizontal',\n",
    "    layout={'width': '400px'},\n",
    "    disabled=False,\n",
    ")\n",
    "\n",
    "longitude_slider.style.description_width = '68px'\n",
    "longitude_slider.style.handle_color = 'lightgreen'\n",
    "\n",
    "# Latitude slider\n",
    "latitude = np.arange(-90,95,5)\n",
    "latitude_slider = widgets.SelectionRangeSlider(\n",
    "    options=latitude,\n",
    "    index=(0, len(latitude)-1),\n",
    "    description='Latitude:',\n",
    "    orientation='horizontal',\n",
    "    layout={'width': '400px'},\n",
    "    disabled=False,\n",
    ")\n",
    "\n",
    "latitude_slider.style.description_width = '58px'\n",
    "latitude_slider.style.handle_color = 'lightgreen'"
   ]
  },
  {
   "cell_type": "code",
   "execution_count": 24,
   "id": "e81f050a-7867-41e7-ad50-c454641006c5",
   "metadata": {
    "tags": []
   },
   "outputs": [],
   "source": [
    "## INTERACTIVE MAP FOR TROPICAL CYCLONE TRACK ##\n",
    "\n",
    "def plot_cyclone_tracks(cyclone, lat_boundaries, lon_boundaries):\n",
    "    toplot = []\n",
    "    \n",
    "    # storm data preparation for plotting\n",
    "    df_storms_forecast = create_storms_df()\n",
    "    df_storms_observed = pd.read_csv('data/ibtracs.ACTIVE.list.v04r00.csv', header=[0,1])\n",
    "    code, name = cyclone.split('-') \n",
    "    df_f = df_storms_forecast[df_storms_forecast.stormIdentifier == code]\n",
    "    members = df_f.ensembleMemberNumber.unique()\n",
    "    df_o = df_storms_observed[df_storms_observed.NAME.squeeze() == name]\n",
    "    lat_o = df_o.LAT.squeeze().to_numpy(dtype='float')\n",
    "    lon_o = df_o.LON.squeeze().to_numpy(dtype='float')\n",
    "    \n",
    "    # settings of the geographical area\n",
    "    bottom, up = lat_boundaries\n",
    "    left, right = lon_boundaries\n",
    "    area = mmap(\n",
    "        subpage_map_projection=\"cylindrical\",\n",
    "        subpage_lower_left_longitude=int(left),\n",
    "        subpage_lower_left_latitude=int(bottom),\n",
    "        subpage_upper_right_longitude=int(right),\n",
    "        subpage_upper_right_latitude=int(up),\n",
    "    )\n",
    "    toplot.append(area)\n",
    "    \n",
    "    # settings of the coastline\n",
    "    coast = mcoast(\n",
    "        map_coastline_land_shade = \"on\",\n",
    "        map_coastline_land_shade_colour = \"cream\",\n",
    "        map_coastline_sea_shade = \"on\",\n",
    "        map_coastline_sea_shade_colour = \"#70CEE2\",\n",
    "        # map_cities = \"on\",\n",
    "        map_grid_line_style = \"dash\",\n",
    "        map_grid_colour = \"black\",\n",
    "        map_label = \"on\",\n",
    "        map_label_colour = \"brown\",\n",
    "        map_coastline_colour = \"brown\",\n",
    "    )\n",
    "    toplot.append(coast)\n",
    "    \n",
    "    # settings of the tracks colour\n",
    "    colours = [\"red\", \"blue\", \"green\", \"yellow\", \"purple\", \"orange\", \"cyan\", \"brown\"]\n",
    "    colour = 0\n",
    "    \n",
    "    # Plot the ensemble tracks of the forecast\n",
    "    for member in members:\n",
    "\n",
    "        df_track = df_f[df_f.ensembleMemberNumber == member]\n",
    "        df_track.dropna(subset = ['latitude', 'longitude'], inplace=True)\n",
    "        lon = df_track.longitude.to_numpy()\n",
    "        lat = df_track.latitude.to_numpy()\n",
    "\n",
    "        data = minput(\n",
    "            input_type = 'geographical',\n",
    "            input_x_values = lon,\n",
    "            input_y_values = lat,\n",
    "        )\n",
    "\n",
    "        line=msymb(\n",
    "            symbol_type='marker',\n",
    "            symbol_marker_index = 28,\n",
    "            symbol_colour = colours[colour],\n",
    "            symbol_height = 0.20,\n",
    "            symbol_text_font_colour = \"black\",       \n",
    "            symbol_connect_line ='on'\n",
    "        )\n",
    "\n",
    "        colour += 1\n",
    "        if colour == len(colours):\n",
    "            colour = 0\n",
    "\n",
    "        toplot.append(data)\n",
    "        toplot.append(line)\n",
    "    \n",
    "    # Plot the observed track of the cyclone\n",
    "    data_obs = minput(\n",
    "        input_type = 'geographical',\n",
    "        input_x_values = lon_o,\n",
    "        input_y_values = lat_o,\n",
    "    )\n",
    "    toplot.append(data_obs)\n",
    "\n",
    "    line_obs = msymb(\n",
    "        symbol_type='marker',\n",
    "        symbol_marker_index = 28,\n",
    "        symbol_colour = \"black\",\n",
    "        symbol_height = 0.20,\n",
    "        symbol_text_font_colour = \"black\",       \n",
    "        symbol_connect_line ='on'\n",
    "    )\n",
    "    toplot.append(line_obs)\n",
    "    \n",
    "    title = mtext(\n",
    "        text_lines= [f\"<font colour='navy'> <b> {cyclone} observed and forecasted trajectories </b> </font>\",\n",
    "                    # f\"{start.strftime('%d %b %Y %H:%M')} - {end.strftime('%d %b %Y %H:%M')}\"\n",
    "                    ],\n",
    "        text_justification= 'centre',\n",
    "        text_font_size= 0.7,\n",
    "        # text_font_style= 'bold',\n",
    "        text_mode='title',\n",
    "    )\n",
    "    toplot.append(title)\n",
    "    \n",
    "    display(plot(toplot))"
   ]
  },
  {
   "cell_type": "code",
   "execution_count": 14,
   "id": "dd8260fc-bc50-43df-815c-586fcd398bfc",
   "metadata": {
    "tags": []
   },
   "outputs": [
    {
     "data": {
      "application/vnd.jupyter.widget-view+json": {
       "model_id": "7e225b310ab7490c9c192eb67a66e8ed",
       "version_major": 2,
       "version_minor": 0
      },
      "text/plain": [
       "interactive(children=(Dropdown(description='Active Storms:', index=3, options=('07E-FERNANDA', '08E-GREG', '09…"
      ]
     },
     "execution_count": 14,
     "metadata": {},
     "output_type": "execute_result"
    }
   ],
   "source": [
    "widgets.interactive(plot_cyclone_tracks, cyclone=cyclone, lat_boundaries=latitude_slider, lon_boundaries=longitude_slider)"
   ]
  },
  {
   "cell_type": "code",
   "execution_count": 86,
   "id": "758ee914-bbb5-45a8-a71e-b77c6b72450d",
   "metadata": {
    "tags": []
   },
   "outputs": [],
   "source": [
    "code, name = storms_pair[2].split('-')\n",
    "\n",
    "df_f = df_storms_forecast[df_storms_forecast.stormIdentifier == code]\n",
    "df_o = df_storms_observed[df_storms_observed.NAME.squeeze() == name]\n",
    "initial_lat_lon = (df_f.latitude.iloc[0], df_f.longitude.iloc[0])\n",
    "\n",
    "def forecast_tracks_locations(df_storm_forecast):\n",
    "    members = df_storm_forecast.ensembleMemberNumber.unique()\n",
    "    locations = []\n",
    "    for member in members:\n",
    "        df_track = df_f[df_f.ensembleMemberNumber == member]\n",
    "        df_track.dropna(subset = ['latitude', 'longitude'], inplace=True)\n",
    "        latitude = df_track.latitude.tolist()\n",
    "        longitude = df_track.longitude.tolist()\n",
    "        locs = []\n",
    "        for i in range(len(latitude)):\n",
    "            loc = (latitude[i], longitude[i])\n",
    "            locs.append(loc)\n",
    "        locations.append(locs)\n",
    "    return locations\n",
    "\n",
    "def observed_track_locations(df_storm_observed):\n",
    "    latitude = df_storm_observed.LAT.squeeze().tolist()\n",
    "    longitude = df_storm_observed.LON.squeeze().tolist()\n",
    "    locations = []\n",
    "    for i in range(len(latitude)):\n",
    "        loc = (latitude[i], longitude[i])\n",
    "        locations.append(loc)\n",
    "    return locations\n",
    "        \n",
    "locations_f = forecast_tracks_locations(df_f)\n",
    "locations_o = observed_track_locations(df_o)"
   ]
  },
  {
   "cell_type": "code",
   "execution_count": 97,
   "id": "6c0e7d4d-dd9f-483e-9d38-b66951164325",
   "metadata": {
    "tags": []
   },
   "outputs": [
    {
     "data": {
      "application/vnd.jupyter.widget-view+json": {
       "model_id": "89c8df665dfc40b4874ca5daf2396bea",
       "version_major": 2,
       "version_minor": 0
      },
      "text/plain": [
       "Map(center=[13.6, -105.3], controls=(ZoomControl(options=['position', 'zoom_in_text', 'zoom_in_title', 'zoom_o…"
      ]
     },
     "execution_count": 97,
     "metadata": {},
     "output_type": "execute_result"
    }
   ],
   "source": [
    "## INTERACTIVE MAP FOR TROPICAL CYCLONE TRACK ##\n",
    "# Create the basemap for plotting\n",
    "tc_track_map = ipyleaflet.Map(\n",
    "    center=initial_lat_lon,\n",
    "    basemap=ipyleaflet.basemaps.OpenStreetMap.France,\n",
    "    zoom = 3.0,\n",
    "    scroll_wheel_zoom=True,\n",
    ")\n",
    "\n",
    "# Define observed tracks polyline element for the map\n",
    "track_o = ipyleaflet.Polyline(\n",
    "        locations=locations_o,\n",
    "        color= \"black\",\n",
    "        fill=False,\n",
    "        weight=2,\n",
    "    )\n",
    "\n",
    "# Define forecasted tracks polyline element for the map\n",
    "colours = [\"red\", \"blue\", \"green\", \"yellow\", \"purple\", \"orange\", \"cyan\", \"brown\"]\n",
    "tracks_layer = []\n",
    "markers_layer = []\n",
    "colour = 0\n",
    "for locs in locations_f:\n",
    "    \n",
    "    track = ipyleaflet.Polyline(\n",
    "        locations=locs,\n",
    "        color= colours[colour],\n",
    "        fill=False,\n",
    "        weight=2,\n",
    "        # name='Track %.02d' % i,\n",
    "    )\n",
    "    \n",
    "    markers = [ipyleaflet.CircleMarker(location=loc, radius=1, color=colours[colour]) for loc in locs]\n",
    "    \n",
    "    colour += 1\n",
    "    if colour == len(colours):\n",
    "        colour = 0\n",
    "    \n",
    "    marker_layer = ipyleaflet.LayerGroup(layers=markers)\n",
    "    \n",
    "    tracks_layer.append(track)\n",
    "    markers_layer.append(marker_layer)\n",
    "\n",
    "# Add observed track to the map\n",
    "marker_o = [ipyleaflet.CircleMarker(location=loc, radius=1, color=\"black\") for loc in locations_o]\n",
    "markers_layer_o = ipyleaflet.LayerGroup(layers=marker_o)\n",
    "layer_group_o = ipyleaflet.LayerGroup(layers=[track_o, markers_layer_o], name='Observed Track')\n",
    "\n",
    "tc_track_map.add_layer(layer_group_o)\n",
    "\n",
    "# Add forecasted ensemble tracks to the map\n",
    "tracks_layer_group = ipyleaflet.LayerGroup(layers=tracks_layer)\n",
    "markers_layer_group = ipyleaflet.LayerGroup(layers=markers_layer)\n",
    "layer_group_f = ipyleaflet.LayerGroup(layers=[tracks_layer_group, markers_layer_group], name='Forecasted Ensemble Tracks')\n",
    "\n",
    "tc_track_map.add_layer(layer_group_f)\n",
    "\n",
    "# Add layers widget to the map\n",
    "layers_control = ipyleaflet.LayersControl()\n",
    "tc_track_map.add_control(layers_control);\n",
    "\n",
    "# Print map\n",
    "tc_track_map"
   ]
  },
  {
   "cell_type": "code",
   "execution_count": null,
   "id": "52f93031-5776-4c8e-8f6f-60177dbc7918",
   "metadata": {},
   "outputs": [],
   "source": []
  }
 ],
 "metadata": {
  "kernelspec": {
   "display_name": "Python 3 (ipykernel)",
   "language": "python",
   "name": "python3"
  },
  "language_info": {
   "codemirror_mode": {
    "name": "ipython",
    "version": 3
   },
   "file_extension": ".py",
   "mimetype": "text/x-python",
   "name": "python",
   "nbconvert_exporter": "python",
   "pygments_lexer": "ipython3",
   "version": "3.11.4"
  }
 },
 "nbformat": 4,
 "nbformat_minor": 5
}
