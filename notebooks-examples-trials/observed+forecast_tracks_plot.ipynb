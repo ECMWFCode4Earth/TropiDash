{
 "cells": [
  {
   "cell_type": "code",
   "execution_count": 1,
   "id": "d3581e63-addf-42ed-9bb8-5b1161963262",
   "metadata": {
    "tags": []
   },
   "outputs": [],
   "source": [
    "import pdbufr\n",
    "import sys\n",
    "import traceback\n",
    " \n",
    "from math import isnan\n",
    "\n",
    "from eccodes import *\n",
    "from ecmwf.opendata import Client\n",
    "from math import isnan\n",
    "from datetime import datetime, timedelta\n",
    "\n",
    "import os\n",
    "import birdy\n",
    "import geopandas as gpd\n",
    "import pandas as pd\n",
    "import numpy as np\n",
    "import xarray as xr\n",
    "import requests\n",
    "\n",
    "from ipywidgets import interact\n",
    "import ipyleaflet\n",
    "import ipywidgets as widgets\n",
    "\n",
    "from Magics import macro as magics\n",
    "from IPython.display import display\n",
    "from Magics.macro import *\n",
    "\n",
    "import warnings\n",
    "warnings.filterwarnings(\"ignore\")\n",
    "\n",
    "from utils import *"
   ]
  },
  {
   "cell_type": "code",
   "execution_count": 2,
   "id": "3668f485-34b9-4072-8213-272e518f682a",
   "metadata": {
    "tags": []
   },
   "outputs": [],
   "source": [
    "## CODE TRIALS WITH FORECAST OF THE 20th AUGUST ##\n",
    "\n",
    "start_date_forecast = datetime(datetime.now().year, datetime.now().month, datetime.now().day, hour=0)"
   ]
  },
  {
   "cell_type": "code",
   "execution_count": 3,
   "id": "9dbe2f28-b487-403e-ad71-82948b7cb79d",
   "metadata": {
    "tags": []
   },
   "outputs": [
    {
     "data": {
      "application/vnd.jupyter.widget-view+json": {
       "model_id": "",
       "version_major": 2,
       "version_minor": 0
      },
      "text/plain": [
       "20230823000000-240h-enfo-tf.bufr:   0%|          | 0.00/913k [00:00<?, ?B/s]"
      ]
     },
     "metadata": {},
     "output_type": "display_data"
    }
   ],
   "source": [
    "## DOWNLOAD DATA FORECAST ##\n",
    "# If too early in the morning the forecast of the current day cannot be donwloaded, need to fix this -> If raiseError: download forecast of the previous day\n",
    "client = Client(source=\"azure\")\n",
    "\n",
    "start_date = start_date_forecast.strftime(\"%Y%m%d\")\n",
    "\n",
    "client.retrieve(\n",
    "    date=int(start_date),\n",
    "    time=0,\n",
    "    stream=\"enfo\",\n",
    "    type=\"tf\",\n",
    "    step=240,\n",
    "    target=f\"data/tc_test_track_data.bufr\",\n",
    ");"
   ]
  },
  {
   "cell_type": "code",
   "execution_count": 4,
   "id": "536eb53f-f90b-4ca5-8894-f8ef867c34a2",
   "metadata": {},
   "outputs": [],
   "source": [
    "## DOWNLOAD OBSERVED DATA FROM IBTrACS ## \n",
    "url = 'https://www.ncei.noaa.gov/data/international-best-track-archive-for-climate-stewardship-ibtracs/v04r00/access/csv/ibtracs.ACTIVE.list.v04r00.csv'\n",
    "r = requests.get(url, allow_redirects=True)\n",
    "save_file = 'data/ibtracs.ACTIVE.list.v04r00.csv'\n",
    "with open(save_file, 'wb') as f:\n",
    "    f.write(r.content)"
   ]
  },
  {
   "cell_type": "code",
   "execution_count": 5,
   "id": "e71847be-11fd-445f-82c3-0b6955298682",
   "metadata": {},
   "outputs": [
    {
     "name": "stdout",
     "output_type": "stream",
     "text": [
      "Observed tracks:  ['DORA', 'LAN', 'FERNANDA', 'GREG', 'HILARY', 'GERT', 'EMILY', 'FRANKLIN', 'NOT_NAMED']\n",
      "Forecasted tracks:  ['06L' '07L' '08L' '08W' '09L']\n"
     ]
    }
   ],
   "source": [
    "## LOAD TRACKS FORECAST DATA IN A DATAFRAME ##\n",
    "# create_storms_df loads a file called tc_test_track_data.bufr\n",
    "df_storms_forecast = create_storms_df()\n",
    "\n",
    "## LOAD OBSERVED TRACKS IN A DATAFRAME\n",
    "df_storms_observed = pd.read_csv('data/ibtracs.ACTIVE.list.v04r00.csv', header=[0,1])\n",
    "\n",
    "print('Observed tracks: ', df_storms_observed.NAME.squeeze().unique().tolist())\n",
    "print('Forecasted tracks: ', df_storms_forecast.stormIdentifier.unique())"
   ]
  },
  {
   "cell_type": "code",
   "execution_count": 6,
   "id": "594f3a21-d78f-42ac-a23c-c658f40d526e",
   "metadata": {
    "tags": []
   },
   "outputs": [
    {
     "name": "stdout",
     "output_type": "stream",
     "text": [
      "['07L-EMILY', '08L-FRANKLIN', '08W-DORA', '09L-NOT_NAMED']\n"
     ]
    }
   ],
   "source": [
    "## FIND THE CORRESPONDENT OBSERVED STORMS TO THOSE PRESENT IN THE FORECAST ##\n",
    "storms_pair = storms_pairing(df_storms_forecast, df_storms_observed)\n",
    "print(storms_pair)"
   ]
  },
  {
   "cell_type": "code",
   "execution_count": 7,
   "id": "b736d7f9-671b-4570-8414-9c4a9ae77be9",
   "metadata": {
    "tags": []
   },
   "outputs": [],
   "source": [
    "## WIDGETS FOR INTERACTIVE MAPS PLOT ##\n",
    "\n",
    "# Cyclone dropdown selection\n",
    "cyclone = widgets.Dropdown(\n",
    "    options = storms_pair,\n",
    "    description = 'Active Storms:',\n",
    "    disabled=False,\n",
    ")\n",
    "cyclone.style.description_width = '90px'\n",
    "\n",
    "# Longitude slider\n",
    "longitude = np.arange(-180,185,5)\n",
    "longitude_slider = widgets.SelectionRangeSlider(\n",
    "    options=longitude,\n",
    "    index=(0, len(longitude)-1),\n",
    "    description='Longitude:',\n",
    "    orientation='horizontal',\n",
    "    layout={'width': '400px'},\n",
    "    disabled=False,\n",
    ")\n",
    "\n",
    "longitude_slider.style.description_width = '68px'\n",
    "longitude_slider.style.handle_color = 'lightgreen'\n",
    "\n",
    "# Latitude slider\n",
    "latitude = np.arange(-90,95,5)\n",
    "latitude_slider = widgets.SelectionRangeSlider(\n",
    "    options=latitude,\n",
    "    index=(0, len(latitude)-1),\n",
    "    description='Latitude:',\n",
    "    orientation='horizontal',\n",
    "    layout={'width': '400px'},\n",
    "    disabled=False,\n",
    ")\n",
    "\n",
    "latitude_slider.style.description_width = '58px'\n",
    "latitude_slider.style.handle_color = 'lightgreen'"
   ]
  },
  {
   "cell_type": "code",
   "execution_count": 8,
   "id": "dd8260fc-bc50-43df-815c-586fcd398bfc",
   "metadata": {
    "tags": []
   },
   "outputs": [],
   "source": [
    "# widgets.interactive(plot_cyclone_tracks_magics, cyclone=cyclone, lat_boundaries=latitude_slider, lon_boundaries=longitude_slider)"
   ]
  },
  {
   "cell_type": "code",
   "execution_count": 9,
   "id": "f75af449-2813-4430-a789-d91aaee442e2",
   "metadata": {
    "tags": []
   },
   "outputs": [],
   "source": [
    "# plot_cyclone_tracks_ipyleaflet('08L-FRANKLIN')"
   ]
  },
  {
   "cell_type": "code",
   "execution_count": 45,
   "id": "5e3c51fc-9094-4e43-aecb-65b53cdd1a0a",
   "metadata": {
    "tags": []
   },
   "outputs": [],
   "source": [
    "df_storm = df_storms_forecast[df_storms_forecast.stormIdentifier == '09L']\n",
    "df_track = df_storm[df_storm.ensembleMemberNumber == 3]\n",
    "initial_lat_lon = (df_storm.latitude.iloc[0], df_storm.longitude.iloc[0])\n",
    "locations_f = forecast_tracks_locations(df_storm)"
   ]
  },
  {
   "cell_type": "code",
   "execution_count": 46,
   "id": "8e7bfb83-d025-42b3-ae18-35277a5bae3d",
   "metadata": {
    "tags": []
   },
   "outputs": [
    {
     "data": {
      "application/vnd.jupyter.widget-view+json": {
       "model_id": "a8037655cd3c4d7995f32e76fad320bd",
       "version_major": 2,
       "version_minor": 0
      },
      "text/plain": [
       "Map(center=[27.5, -99.8], controls=(ZoomControl(options=['position', 'zoom_in_text', 'zoom_in_title', 'zoom_ou…"
      ]
     },
     "metadata": {},
     "output_type": "display_data"
    }
   ],
   "source": [
    "tc_track_map = ipyleaflet.Map(\n",
    "        center=initial_lat_lon,\n",
    "        basemap=ipyleaflet.basemaps.OpenStreetMap.France,\n",
    "        zoom = 3.0,\n",
    "        # scroll_wheel_zoom=True,\n",
    "    )\n",
    "\n",
    "colours = [\"red\", \"blue\", \"green\", \"yellow\", \"purple\", \"orange\", \"cyan\", \"brown\"]\n",
    "tracks_layer_group = ipyleaflet.LayerGroup()\n",
    "markers_layer_group = ipyleaflet.LayerGroup()\n",
    "colour = 0\n",
    "\n",
    "for locs in locations_f:\n",
    "    if len(locs) > 0:\n",
    "        track = ipyleaflet.Polyline(\n",
    "            locations=locs,\n",
    "            color= colours[colour],\n",
    "            fill=False,\n",
    "            weight=2,\n",
    "            # name='Track %.02d' % i,\n",
    "        )\n",
    "\n",
    "        markers = [ipyleaflet.CircleMarker(location=loc, radius=1, color=colours[colour]) for loc in locs]\n",
    "\n",
    "        colour += 1\n",
    "        if colour == len(colours):\n",
    "            colour = 0\n",
    "\n",
    "        marker_layer = ipyleaflet.LayerGroup(layers=markers)\n",
    "\n",
    "        tracks_layer_group.add_layer(track)\n",
    "        markers_layer_group.add_layer(marker_layer)\n",
    "\n",
    "layer_group_f = ipyleaflet.LayerGroup(layers=[tracks_layer_group, markers_layer_group], name='Forecasted Ensemble Tracks')\n",
    "\n",
    "tc_track_map.add_layer(layer_group_f)\n",
    "\n",
    "display(tc_track_map)"
   ]
  },
  {
   "cell_type": "code",
   "execution_count": 12,
   "id": "bbc408e2-ac37-47c0-8751-88e5f830966c",
   "metadata": {
    "tags": []
   },
   "outputs": [],
   "source": [
    "# widgets.interactive(plot_cyclone_tracks_ipyleaflet, cyclone=cyclone)"
   ]
  },
  {
   "cell_type": "code",
   "execution_count": 51,
   "id": "de6b3ad6-b09a-4c55-97fd-7a9b389784d4",
   "metadata": {
    "tags": []
   },
   "outputs": [
    {
     "name": "stdout",
     "output_type": "stream",
     "text": [
      "paolo mangia \n",
      " merda\n"
     ]
    }
   ],
   "source": [
    "print('paolo mangia \\n merda')"
   ]
  },
  {
   "cell_type": "code",
   "execution_count": null,
   "id": "a1b07dac-2181-4bca-8f1b-d0fbd493dbc5",
   "metadata": {},
   "outputs": [],
   "source": []
  }
 ],
 "metadata": {
  "kernelspec": {
   "display_name": "Python 3 (ipykernel)",
   "language": "python",
   "name": "python3"
  },
  "language_info": {
   "codemirror_mode": {
    "name": "ipython",
    "version": 3
   },
   "file_extension": ".py",
   "mimetype": "text/x-python",
   "name": "python",
   "nbconvert_exporter": "python",
   "pygments_lexer": "ipython3",
   "version": "3.11.4"
  }
 },
 "nbformat": 4,
 "nbformat_minor": 5
}
