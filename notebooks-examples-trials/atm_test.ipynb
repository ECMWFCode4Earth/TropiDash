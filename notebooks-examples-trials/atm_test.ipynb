{
 "cells": [
  {
   "cell_type": "code",
   "execution_count": 1,
   "metadata": {},
   "outputs": [],
   "source": [
    "from eccodes import *\n",
    "from datetime import datetime, timedelta\n",
    "\n",
    "import requests\n",
    "import pandas as pd\n",
    "import numpy as np\n",
    "import ipywidgets as widgets\n",
    "\n",
    "from IPython.display import Javascript, display, clear_output\n",
    "\n",
    "import warnings\n",
    "warnings.filterwarnings(\"ignore\")\n",
    "\n",
    "from tracks_utils import *\n",
    "from atm_utils import * \n",
    "from impacts_utils import *\n",
    "from utils_TemporalEvolution import *"
   ]
  },
  {
   "cell_type": "code",
   "execution_count": 2,
   "metadata": {},
   "outputs": [],
   "source": [
    "import datetime"
   ]
  },
  {
   "cell_type": "code",
   "execution_count": 3,
   "metadata": {},
   "outputs": [],
   "source": [
    "def savestep(step):\n",
    "    return step"
   ]
  },
  {
   "cell_type": "code",
   "execution_count": 5,
   "metadata": {},
   "outputs": [
    {
     "ename": "AttributeError",
     "evalue": "type object 'datetime.datetime' has no attribute 'datetime'",
     "output_type": "error",
     "traceback": [
      "\u001b[1;31m---------------------------------------------------------------------------\u001b[0m",
      "\u001b[1;31mAttributeError\u001b[0m                            Traceback (most recent call last)",
      "\u001b[1;32mc:\\repos\\TropiDash\\notebooks-examples-trials\\atm_test.ipynb Cell 4\u001b[0m line \u001b[0;36m7\n\u001b[0;32m      <a href='vscode-notebook-cell:/c%3A/repos/TropiDash/notebooks-examples-trials/atm_test.ipynb#X26sZmlsZQ%3D%3D?line=1'>2</a>\u001b[0m variables \u001b[39m=\u001b[39m [\u001b[39m'\u001b[39m\u001b[39mmsl\u001b[39m\u001b[39m'\u001b[39m, \u001b[39m'\u001b[39m\u001b[39m2t\u001b[39m\u001b[39m'\u001b[39m, \u001b[39m'\u001b[39m\u001b[39mtp\u001b[39m\u001b[39m'\u001b[39m, \u001b[39m'\u001b[39m\u001b[39mwind\u001b[39m\u001b[39m'\u001b[39m]\n\u001b[0;32m      <a href='vscode-notebook-cell:/c%3A/repos/TropiDash/notebooks-examples-trials/atm_test.ipynb#X26sZmlsZQ%3D%3D?line=2'>3</a>\u001b[0m stepsdict \u001b[39m=\u001b[39m {\n\u001b[0;32m      <a href='vscode-notebook-cell:/c%3A/repos/TropiDash/notebooks-examples-trials/atm_test.ipynb#X26sZmlsZQ%3D%3D?line=3'>4</a>\u001b[0m \u001b[39m\"\u001b[39m\u001b[39mbase\u001b[39m\u001b[39m\"\u001b[39m: [\u001b[39m24\u001b[39m, \u001b[39m48\u001b[39m, \u001b[39m120\u001b[39m, \u001b[39m240\u001b[39m],\n\u001b[0;32m      <a href='vscode-notebook-cell:/c%3A/repos/TropiDash/notebooks-examples-trials/atm_test.ipynb#X26sZmlsZQ%3D%3D?line=4'>5</a>\u001b[0m \u001b[39m\"\u001b[39m\u001b[39m10fgg15\u001b[39m\u001b[39m\"\u001b[39m: [\u001b[39m\"\u001b[39m\u001b[39m0-24\u001b[39m\u001b[39m\"\u001b[39m, \u001b[39m\"\u001b[39m\u001b[39m24-48\u001b[39m\u001b[39m\"\u001b[39m, \u001b[39m\"\u001b[39m\u001b[39m96-120\u001b[39m\u001b[39m\"\u001b[39m, \u001b[39m\"\u001b[39m\u001b[39m216-240\u001b[39m\u001b[39m\"\u001b[39m]\n\u001b[0;32m      <a href='vscode-notebook-cell:/c%3A/repos/TropiDash/notebooks-examples-trials/atm_test.ipynb#X26sZmlsZQ%3D%3D?line=5'>6</a>\u001b[0m }\n\u001b[1;32m----> <a href='vscode-notebook-cell:/c%3A/repos/TropiDash/notebooks-examples-trials/atm_test.ipynb#X26sZmlsZQ%3D%3D?line=6'>7</a>\u001b[0m fnames \u001b[39m=\u001b[39m dwnl_atmdata_step(variables, stepsdict, datetime\u001b[39m.\u001b[39;49mdatetime(\u001b[39m2023\u001b[39m, \u001b[39m9\u001b[39m, \u001b[39m14\u001b[39m, \u001b[39m0\u001b[39m, \u001b[39m0\u001b[39m))\n\u001b[0;32m      <a href='vscode-notebook-cell:/c%3A/repos/TropiDash/notebooks-examples-trials/atm_test.ipynb#X26sZmlsZQ%3D%3D?line=7'>8</a>\u001b[0m vardict \u001b[39m=\u001b[39m load_atmdata(variables, fnames)\n\u001b[0;32m      <a href='vscode-notebook-cell:/c%3A/repos/TropiDash/notebooks-examples-trials/atm_test.ipynb#X26sZmlsZQ%3D%3D?line=8'>9</a>\u001b[0m coord \u001b[39m=\u001b[39m (\u001b[39m0\u001b[39m,\u001b[39m0\u001b[39m)\n",
      "\u001b[1;31mAttributeError\u001b[0m: type object 'datetime.datetime' has no attribute 'datetime'"
     ]
    }
   ],
   "source": [
    "# display(create_section_title(\"Section 2 - Atmospherical Variables\"))\n",
    "variables = ['msl', '2t', 'tp', 'wind']\n",
    "stepsdict = {\n",
    "\"base\": [24, 48, 120, 240],\n",
    "\"10fgg15\": [\"0-24\", \"24-48\", \"96-120\", \"216-240\"]\n",
    "}\n",
    "fnames = dwnl_atmdata_step(variables, stepsdict, datetime.datetime(2023, 9, 14, 0, 0))\n",
    "vardict = load_atmdata(variables, fnames)\n",
    "coord = (0,0)\n",
    "\n",
    "# start_date_forecast.value.strftime('%d-%m-%Y')\n",
    "vec_forecast = [f\"{x}h from selected date\" for x in stepsdict[\"base\"]]\n",
    "widget_sel_forecast = widgets.Dropdown(options = vec_forecast, description = 'Forecast')\n",
    "\n",
    "# s = widgets.interact(sel_forecast, sel = widget_sel_forecast)\n",
    "# display(s)\n",
    "# display(widgets.interactive(savestep, step = widget_sel_forecast))\n",
    "\n",
    "# display(print(widget_sel_forecast.value))\n",
    "# atm = widgets.interactive(atm_widget(date = start_date_forecast.value.strftime(\"%d-%m-%Y\"),vardict= vardict, coord = coord,stepsdict = stepsdict), select_forecast = widget_sel_forecast)\n",
    "widgets.interactive(plot_atmdata_step, step = widget_sel_forecast, vardict = widgets.fixed(vardict), coord =  widgets.fixed(coord), stepsdict =  widgets.fixed(stepsdict))\n",
    "# display(atm)"
   ]
  },
  {
   "cell_type": "code",
   "execution_count": 10,
   "metadata": {},
   "outputs": [],
   "source": [
    "widgets.interactive(plot_atmdata_step, step = widget_sel_forecast, vardict = widgets.fixed(vardict), coord =  widgets.fixed(coord), stepsdict =  widgets.fixed(stepsdict))"
   ]
  },
  {
   "cell_type": "code",
   "execution_count": 12,
   "metadata": {},
   "outputs": [
    {
     "data": {
      "text/plain": [
       "(Dropdown(description='Forecast', options=('24h from selected date', '48h from selected date', '120h from selected date', '240h from selected date'), value='24h from selected date'),\n",
       " Output())"
      ]
     },
     "execution_count": 12,
     "metadata": {},
     "output_type": "execute_result"
    }
   ],
   "source": [
    "atm.children"
   ]
  },
  {
   "cell_type": "code",
   "execution_count": 2,
   "metadata": {},
   "outputs": [],
   "source": [
    "vec_rp_coh = [\"5yr\", \"10yr\", \"50yr\", \"100yr\", \"250yr\", \"500yr\", \"1000yr\"]\n",
    "widget_sel_rp_coh = widgets.Dropdown(options = vec_rp_coh, description = 'Return Period Coastal Hazard')\n",
    "widget_sel_rp_coh.style.description_width = \"180px\"\n",
    "\n",
    "vec_rp_cyh = [\"50yr\", \"100yr\", \"250yr\", \"500yr\", \"1000yr\"]\n",
    "widget_sel_rp_cyh = widgets.Dropdown(options = vec_rp_cyh, description = 'Return Period Cyclone Hazard')\n",
    "widget_sel_rp_cyh.style.description_width = \"180px\""
   ]
  },
  {
   "cell_type": "code",
   "execution_count": 3,
   "metadata": {},
   "outputs": [],
   "source": [
    "from impacts_utils import *"
   ]
  },
  {
   "cell_type": "code",
   "execution_count": 4,
   "metadata": {},
   "outputs": [],
   "source": [
    "coord = (0,0)"
   ]
  },
  {
   "cell_type": "code",
   "execution_count": 5,
   "metadata": {},
   "outputs": [
    {
     "data": {
      "application/vnd.jupyter.widget-view+json": {
       "model_id": "cd1f779281d447b3855dbf1a4d5d5f32",
       "version_major": 2,
       "version_minor": 0
      },
      "text/plain": [
       "interactive(children=(Dropdown(description='Return Period Coastal Hazard', options=('5yr', '10yr', '50yr', '10…"
      ]
     },
     "execution_count": 5,
     "metadata": {},
     "output_type": "execute_result"
    }
   ],
   "source": [
    "widgets.interactive(impacts_plot, rp_coh = widget_sel_rp_coh, rp_cyh = widget_sel_rp_cyh, coord = widgets.fixed(coord))"
   ]
  },
  {
   "cell_type": "code",
   "execution_count": null,
   "metadata": {},
   "outputs": [],
   "source": []
  }
 ],
 "metadata": {
  "kernelspec": {
   "display_name": "Python 3 (ipykernel)",
   "language": "python",
   "name": "python3"
  },
  "language_info": {
   "codemirror_mode": {
    "name": "ipython",
    "version": 3
   },
   "file_extension": ".py",
   "mimetype": "text/x-python",
   "name": "python",
   "nbconvert_exporter": "python",
   "pygments_lexer": "ipython3",
   "version": "3.11.4"
  }
 },
 "nbformat": 4,
 "nbformat_minor": 4
}
